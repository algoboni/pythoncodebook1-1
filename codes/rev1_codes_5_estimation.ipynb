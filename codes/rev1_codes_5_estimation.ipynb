{
 "cells": [
  {
   "cell_type": "markdown",
   "id": "applicable-hostel",
   "metadata": {
    "id": "suspected-immunology"
   },
   "source": [
    "# **핵심만 요약한 통계와 머신러닝 파이썬 코드북 개정1판**\n",
    "- ⓒ2023 AlgoBoni all rights reserved.\n",
    "- 본 컨텐츠의 저작권은 알고보니에 있습니다. 저작권법에 의해 보호를 받는 저작물이므로 무단 전재와 무단 복제를 금합니다.\n",
    "- 본 컨텐츠의 종이책은 [교보문고](https://product.kyobobook.co.kr/detail/S000209591909), [예스24](https://www.yes24.com/Product/Goods/122661688), [알라딘](https://www.aladin.co.kr/shop/wproduct.aspx?ISBN=K262935029&start=pnaver_02)에서 구매할 수 있습니다. 종이책에서는 아래 개념 및 코드에 대한 설명과 연습문제를 제공합니다."
   ]
  },
  {
   "cell_type": "markdown",
   "id": "accepting-recognition",
   "metadata": {
    "id": "laughing-activity"
   },
   "source": [
    "# 5. 추정과 가설 검정"
   ]
  },
  {
   "cell_type": "markdown",
   "id": "framed-explosion",
   "metadata": {
    "id": "dominant-bailey"
   },
   "source": [
    "## 5-1. 일표본 (one-sample)\n",
    "### - 모평균의 추정과 가설검정: Z분포, t분포"
   ]
  },
  {
   "cell_type": "code",
   "execution_count": 450,
   "id": "promising-tender",
   "metadata": {
    "id": "sound-fifty",
    "outputId": "0f9a94c7-de63-4439-827d-ec844eec48e9"
   },
   "outputs": [
    {
     "name": "stdout",
     "output_type": "stream",
     "text": [
      "[추정]\n",
      " 점 추정량: 31100.000\n",
      " 구간 추정량: 29630.027~32569.973\n",
      " 오차의 한계: 1469.973\n"
     ]
    }
   ],
   "source": [
    "import numpy as np\n",
    "### 모표준편차를 아는 경우의 추정\n",
    "# 모평균의 추정 \n",
    "x = 31100 #표본평균\n",
    "n = 36 #표본크기\n",
    "sigma = 4500 #모표준편차\n",
    "conf_a = 0.05 #신뢰수준(confidence level) 95% 기준\n",
    "\n",
    "from scipy.stats import norm #표준정규분포 Z를 사용\n",
    "SE = sigma / np.sqrt(n) #표준오차(standard error)\n",
    "conf_z = norm.ppf(1-conf_a/2) #신뢰계수(confidence coefficient)\n",
    "ME = conf_z * SE #오차의 한계 = 허용오차(ME: margin of error)\n",
    "\n",
    "print(\"[추정]\")\n",
    "print(\" 점 추정량: {:.3f}\".format(x))\n",
    "print(\" 구간 추정량: {:.3f}~{:.3f}\".format(x-ME, x+ME))\n",
    "print(\" 오차의 한계: {:.3f}\".format(ME))"
   ]
  },
  {
   "cell_type": "code",
   "execution_count": 451,
   "id": "average-notice",
   "metadata": {
    "id": "oriental-petite",
    "outputId": "435a75b4-c1a4-4915-a314-14beaa445939"
   },
   "outputs": [
    {
     "name": "stdout",
     "output_type": "stream",
     "text": [
      "[표본 규모]\n",
      " 유의수준 0.05에서 오차의 한계를 500 이하로 하려면: 표본 규모 311.2 이상\n"
     ]
    }
   ],
   "source": [
    "# 오차의 한계에 따른 표본 규모\n",
    "# (위의 조건에 이어서) 오차의 한계가 500 이하일 확률이 0.95가 되도록 모집단 평균의 추정치를 원하는 경우, 표본 규모는 얼마가 되어야 하는가?\n",
    "ME = 500\n",
    "conf_a = 1-0.95 #신뢰수준(confidence level) 95% 기준\n",
    "conf_z = norm.ppf(conf_a/2) #혹은 norm.ppf(1-conf_a/2)\n",
    "ssize = conf_z**2 * sigma**2 / ME**2\n",
    "print(\"[표본 규모]\")\n",
    "print(\" 유의수준 {:.2f}에서 오차의 한계를 {} 이하로 하려면: 표본 규모 {:.1f} 이상\".format(conf_a, ME, ssize))"
   ]
  },
  {
   "cell_type": "code",
   "execution_count": 452,
   "id": "terminal-myanmar",
   "metadata": {
    "id": "norwegian-recording",
    "outputId": "582d0203-839d-44e2-fa2b-bcdb2c45f895"
   },
   "outputs": [
    {
     "name": "stdout",
     "output_type": "stream",
     "text": [
      "[검정]\n",
      " 임계값: +/-1.960, 검정통계량: 1.467\n",
      " 유의수준: 0.050, 유의확률: 0.142\n"
     ]
    }
   ],
   "source": [
    "# 모평균의 가설 검정\n",
    "# H0: mu = mu0, # H1: mu != mu0\n",
    "x = 31100 #표본평균\n",
    "n = 36 #표본크기\n",
    "sigma = 4500 #모표준편차\n",
    "mu0 = 30000 #귀무가설의 모평균\n",
    "test_a = 0.05 #가설검정을 위한 유의수준\n",
    "\n",
    "SE = sigma / np.sqrt(n) #standard error\n",
    "zstat = (x - mu0)/SE #검정통계량\n",
    "\n",
    "#단측(one)/양측(two)검정에 따른 유의확률과 임계값\n",
    "ways = 'two' #'two', 'one-right', 'one-left' #대립가설기준\n",
    "if ways == 'two': \n",
    "    sp = (1-norm.cdf(np.abs(zstat)))*2 #significance probability\n",
    "    cv = norm.ppf(1-test_a/2) #critical value\n",
    "    cv = \"+/-{:.3f}\".format(cv)\n",
    "elif ways == 'one-right':\n",
    "    sp = 1-norm.cdf(zstat)\n",
    "    cv = norm.ppf(1-test_a)\n",
    "    cv = \"{:.3f}\".format(cv)\n",
    "elif ways == 'one-left':\n",
    "    sp = norm.cdf(zstat)\n",
    "    cv = norm.ppf(test_a)\n",
    "    cv = \"{:.3f}\".format(cv)\n",
    "\n",
    "print(\"[검정]\") # 귀무가설을 기각할 수 없음!\n",
    "print(\" 임계값: {}, 검정통계량: {:.3f}\".format(cv, zstat))\n",
    "print(\" 유의수준: {:.3f}, 유의확률: {:.3f}\".format(test_a, sp))"
   ]
  },
  {
   "cell_type": "code",
   "execution_count": 453,
   "id": "threatened-mainland",
   "metadata": {
    "id": "built-anxiety",
    "outputId": "daeb9f8f-0904-47f4-a99c-2c8eaec9e10f"
   },
   "outputs": [
    {
     "name": "stdout",
     "output_type": "stream",
     "text": [
      "[추정]\n",
      " 점 추정량: 650.000\n",
      " 구간 추정량: 620.693~679.307\n",
      " 오차의 한계: 29.307\n"
     ]
    }
   ],
   "source": [
    "### 모표준편차를 모르는 경우\n",
    "# 모평균의 추정\n",
    "x = 650 #표본평균\n",
    "n = 16 #표본크기\n",
    "s = 55 #표본표준편차\n",
    "conf_a = 0.05 #신뢰수준(confidence level) 95% 기준\n",
    "df = n-1\n",
    "\n",
    "from scipy.stats import t\n",
    "SE = s / np.sqrt(n)\n",
    "conf_t = t.ppf(1-conf_a/2, df)\n",
    "ME = conf_t * SE \n",
    "\n",
    "print(\"[추정]\")\n",
    "print(\" 점 추정량: {:.3f}\".format(x))\n",
    "print(\" 구간 추정량: {:.3f}~{:.3f}\".format(x-ME, x+ME))\n",
    "print(\" 오차의 한계: {:.3f}\".format(ME))"
   ]
  },
  {
   "cell_type": "code",
   "execution_count": 454,
   "id": "passive-classics",
   "metadata": {
    "id": "confirmed-independence",
    "outputId": "4bb7256b-fcac-4f94-c43d-8a2ece0cedaf"
   },
   "outputs": [
    {
     "name": "stdout",
     "output_type": "stream",
     "text": [
      "[표본 규모]\n",
      " 유의수준 0.05에서 오차의 한계를 20.00 이하로 하려면: 표본 크기 34.4 이상\n"
     ]
    }
   ],
   "source": [
    "# 오차의 한계에 따른 표본 규모\n",
    "# (위의 조건에 이어서) 오차의 한계가 20 이하일 확률이 0.95가 되도록 모집단 평균의 추정치를 원하는 경우, 표본 규모는 얼마가 되어야 하는가?\n",
    "ME2 = 20\n",
    "conf_a2 = 1-0.95 #신뢰수준(confidence level) 95% 기준\n",
    "conf_t2 = t.ppf(conf_a2/2, df)\n",
    "ssize = conf_t2**2 * s**2 / ME2**2\n",
    "print(\"[표본 규모]\")\n",
    "print(\" 유의수준 {:.2f}에서 오차의 한계를 {:.2f} 이하로 하려면: 표본 크기 {:.1f} 이상\".format(conf_a2, ME2, ssize))"
   ]
  },
  {
   "cell_type": "code",
   "execution_count": 455,
   "id": "played-companion",
   "metadata": {
    "id": "municipal-heritage",
    "outputId": "0603a0a5-3fc1-4f55-832e-033e286eea4d"
   },
   "outputs": [
    {
     "name": "stdout",
     "output_type": "stream",
     "text": [
      "[검정]\n",
      " 임계값: 1.753, 검정통계량: 3.636\n",
      " 유의수준: 0.050, 유의확률: 0.001\n"
     ]
    }
   ],
   "source": [
    "# 모평균의 가설 검정 (= one-sample t-test)\n",
    "# H0: mu = mu0, # H1: mu > mu0\n",
    "mu0 = 600 #귀무가설의 모평균\n",
    "test_a = 0.05 #가설검정을 위한 유의수준\n",
    "x = 650 #표본평균\n",
    "n = 16 #표본크기\n",
    "s = 55 #표본표준편차\n",
    "df = n-1 #자유도\n",
    "\n",
    "SE = s / np.sqrt(n) \n",
    "tstat = (x - mu0)/SE \n",
    "\n",
    "#단측(one)/양측(two)검정에 따른 유의확률과 임계값\n",
    "ways = 'one-right' #'two', 'one-right(mu>mu0)', 'one-left(mu<mu0)'\n",
    "if ways == 'two': \n",
    "    sp = (1-t.cdf(np.abs(tstat), df))*2\n",
    "    cv = t.ppf(1-test_a/2, df)\n",
    "    cv = \"+/-{:.3f}\".format(cv)\n",
    "elif ways == 'one-right':\n",
    "    sp = 1-t.cdf(tstat, df)\n",
    "    cv = t.ppf(1-test_a, df)\n",
    "    cv = \"{:.3f}\".format(cv)\n",
    "elif ways == 'one-left':\n",
    "    sp = t.cdf(tstat, df)\n",
    "    cv = t.ppf(test_a, df)\n",
    "    cv = \"{:.3f}\".format(cv)\n",
    "\n",
    "print(\"[검정]\") # 귀무가설을 기각!\n",
    "print(\" 임계값: {}, 검정통계량: {:.3f}\".format(cv, tstat))\n",
    "print(\" 유의수준: {:.3f}, 유의확률: {:.3f}\".format(test_a, sp))"
   ]
  },
  {
   "cell_type": "markdown",
   "id": "satisfactory-wellington",
   "metadata": {
    "id": "broad-actress"
   },
   "source": [
    "### - 모비율의 추정과 가설검정: Z분포"
   ]
  },
  {
   "cell_type": "code",
   "execution_count": 459,
   "id": "occupied-cannon",
   "metadata": {
    "id": "formed-blink",
    "outputId": "f64ed125-8bce-4b20-b7a9-c13e8825a13b"
   },
   "outputs": [
    {
     "name": "stdout",
     "output_type": "stream",
     "text": [
      "[추정]\n",
      " 점 추정량: 0.440\n",
      " 구간 추정량: 0.396~0.484\n",
      " 오차의 한계: 0.044\n"
     ]
    }
   ],
   "source": [
    "# 모비율의 추정\n",
    "n = 500 #표본 크기\n",
    "p = 220/500 #표본 비율\n",
    "conf_a = 0.05\n",
    "from scipy.stats import norm\n",
    "SE = np.sqrt(p*(1-p)/n) #표본비율로 SE 계산\n",
    "conf_z = norm.ppf(1-conf_a/2)\n",
    "ME = conf_z * SE\n",
    "print(\"[추정]\")\n",
    "print(\" 점 추정량: {:.3f}\".format(p))\n",
    "print(\" 구간 추정량: {:.3f}~{:.3f}\".format(p-ME, p+ME))\n",
    "print(\" 오차의 한계: {:.3f}\".format(ME))"
   ]
  },
  {
   "cell_type": "code",
   "execution_count": 460,
   "id": "trying-radical",
   "metadata": {
    "id": "illegal-coaching",
    "outputId": "c2a934bf-6896-48ff-dcd3-2fc60671b17b"
   },
   "outputs": [
    {
     "name": "stdout",
     "output_type": "stream",
     "text": [
      "[표본 규모]\n",
      " 유의수준 0.01에서 오차의 한계를 0.03 이하로 하려면: 표본 크기 1816.5 이상\n"
     ]
    }
   ],
   "source": [
    "# 표본규모 계산: 모비율 P를 아는 경우에는 P를 사용, 아니면 표본비율 p로 계산, 두 정보 모두 없다면 p=0.5로 계산 \n",
    "# (위의 조건에 이어서) 오차의 한계가 0.03 이하일 확률이 0.99가 되도록 모집단 비율의 추정치를 원하는 경우, 표본 규모는 얼마가 되어야 하는가?\n",
    "ME2 = 0.03\n",
    "conf_a2 = 1-0.99 #신뢰수준 99%\n",
    "conf_z2 = norm.ppf(1-conf_a2/2)\n",
    "ssize = conf_z2**2 * p * (1-p) / ME2**2\n",
    "print(\"[표본 규모]\")\n",
    "print(\" 유의수준 {:.2f}에서 오차의 한계를 {:.2f} 이하로 하려면: 표본 크기 {:.1f} 이상\".format(conf_a2, ME2, ssize))"
   ]
  },
  {
   "cell_type": "code",
   "execution_count": 461,
   "id": "bulgarian-nightmare",
   "metadata": {
    "id": "revolutionary-remark",
    "outputId": "4b4f47f6-159c-4532-f334-c7a878ffa404"
   },
   "outputs": [
    {
     "name": "stdout",
     "output_type": "stream",
     "text": [
      "[검정]\n",
      " 임계값: +/- 1.960, 검정통계량: -2.683\n",
      " 유의수준: 0.050, 유의확률: 0.007\n"
     ]
    }
   ],
   "source": [
    "# 모비율의 가설검정\n",
    "# H0: P = P0, H1: P != P0\n",
    "n = 500 #표본 크기\n",
    "p = 220/500 #표본 비율\n",
    "P0 = 0.5 #귀무가설의 모비율\n",
    "test_a = 0.05\n",
    "SE = np.sqrt(P0*(1-P0)/n) #귀무가설의 모비율로 SE 계산\n",
    "zstat = (p - P0)/SE\n",
    "\n",
    "#단측(one)/양측(two)검정에 따른 유의확률과 임계값\n",
    "ways = 'two' #'two', 'one-right(P>P0)', 'one-left(P<P0)' #대립가설기준\n",
    "if ways == 'two': \n",
    "    sp = (1-norm.cdf(np.abs(zstat)))*2\n",
    "    cv = norm.ppf(1-test_a/2)\n",
    "    cv = \"+/- {:.3f}\".format(cv)\n",
    "elif ways == 'one-right':\n",
    "    sp = 1-norm.cdf(zstat)\n",
    "    cv = norm.ppf(1-test_a)\n",
    "    cv = \"{:.3f}\".format(cv)\n",
    "elif ways == 'one-left':\n",
    "    sp = norm.cdf(zstat)\n",
    "    cv = norm.ppf(test_a)\n",
    "    cv = \"{:.3f}\".format(cv)\n",
    "print(\"[검정]\") # 귀무가설 기각!\n",
    "print(\" 임계값: {}, 검정통계량: {:.3f}\".format(cv, zstat))\n",
    "print(\" 유의수준: {:.3f}, 유의확률: {:.3f}\".format(test_a, sp))"
   ]
  },
  {
   "cell_type": "markdown",
   "id": "phantom-grass",
   "metadata": {
    "id": "complete-means"
   },
   "source": [
    "### - 모분산의 추정과 가설검정: 카이제곱분포"
   ]
  },
  {
   "cell_type": "code",
   "execution_count": 464,
   "id": "covered-stable",
   "metadata": {
    "id": "acknowledged-excuse",
    "outputId": "84d2c13f-c922-4f6f-f395-4b12a1a855de"
   },
   "outputs": [
    {
     "name": "stdout",
     "output_type": "stream",
     "text": [
      "[추정]\n",
      " 점 추정량: 3.400\n",
      " 구간 추정량: 1.609~11.332\n"
     ]
    }
   ],
   "source": [
    "### 모평균을 모르는 경우\n",
    "# 모분산의 추정\n",
    "n = 10 #표본 크기\n",
    "v = 3.4 #표본 분산\n",
    "df = n-1 # 자유도 (degree of freedom)\n",
    "conf_a = 0.05 #신뢰수준 95%\n",
    "\n",
    "from scipy.stats import chi2\n",
    "conf_c1 = chi2.ppf(1-conf_a/2, df)\n",
    "conf_c2 = chi2.ppf(conf_a/2, df)\n",
    "CR1 = df * v / conf_c1 #confidence range\n",
    "CR2 = df * v / conf_c2 #confidence range\n",
    "\n",
    "print(\"[추정]\")\n",
    "print(\" 점 추정량: {:.3f}\".format(v))\n",
    "print(\" 구간 추정량: {:.3f}~{:.3f}\".format(CR1, CR2))"
   ]
  },
  {
   "cell_type": "code",
   "execution_count": 465,
   "id": "supposed-plaza",
   "metadata": {
    "id": "flying-julian",
    "outputId": "31db9e2d-67c0-4e1b-c767-9556b2bba810"
   },
   "outputs": [
    {
     "name": "stdout",
     "output_type": "stream",
     "text": [
      "[검정]\n",
      " 임계값: 3.325, 검정통계량: 8.500\n",
      " 유의수준: 0.050, 유의확률: 0.515\n"
     ]
    }
   ],
   "source": [
    "# 가설검정 (왼쪽 검정)\n",
    "# H0: sigma^2 = v0, H1: sigma^2 < v0\n",
    "n = 10 #표본 크기\n",
    "v = 3.4 #표본 분산\n",
    "df = n-1 # 자유도 (degree of freedom)\n",
    "v0 = 3.6 #귀무가설의 모분산\n",
    "test_a = 0.05\n",
    "\n",
    "cstat = df * v / v0 #카이제곱통계량\n",
    "\n",
    "# 단측(one)/양측(two)검정에 따른 유의확률과 임계값\n",
    "ways = 'one-left' #'two', 'one-right(sigma^2>v0)', 'one-left(sigma^2<v0)'\n",
    "if ways == 'two':\n",
    "    if chi2.cdf(cstat, df) < 0.5:\n",
    "        sp = (chi2.cdf(cstat, df))*2\n",
    "    else:\n",
    "        sp = (1-chi2.cdf(cstat, df))*2\n",
    "    cv1 = chi2.ppf(test_a/2, df)\n",
    "    cv2 = chi2.ppf(1-test_a/2, df)\n",
    "    cv = \"{:.3f}와 {:.3f}\".format(cv1, cv2)\n",
    "elif ways == 'one-right':\n",
    "    sp = 1-chi2.cdf(cstat, df)\n",
    "    cv = chi2.ppf(1-test_a, df)\n",
    "    cv = \"{:.3f}\".format(cv)\n",
    "elif ways == 'one-left':\n",
    "    sp = chi2.cdf(cstat, df)\n",
    "    cv = chi2.ppf(test_a, df)\n",
    "    cv = \"{:.3f}\".format(cv)\n",
    "\n",
    "print(\"[검정]\") # 귀무가설을 기각할 수 없음!\n",
    "print(\" 임계값: {}, 검정통계량: {:.3f}\".format(cv, cstat))\n",
    "print(\" 유의수준: {:.3f}, 유의확률: {:.3f}\".format(test_a, sp))"
   ]
  },
  {
   "cell_type": "markdown",
   "id": "sized-signature",
   "metadata": {
    "id": "after-charleston"
   },
   "source": [
    "## 5-2. 이표본 (two-sample)"
   ]
  },
  {
   "cell_type": "markdown",
   "id": "sweet-functionality",
   "metadata": {
    "id": "seventh-cedar"
   },
   "source": [
    "### - 독립표본 모평균 차이의 추정과 가설검정: Z분포, t분포"
   ]
  },
  {
   "cell_type": "code",
   "execution_count": 466,
   "id": "adapted-garage",
   "metadata": {
    "id": "aboriginal-words",
    "outputId": "439725d8-9229-4ff4-8ffe-40a09e727b2f"
   },
   "outputs": [
    {
     "name": "stdout",
     "output_type": "stream",
     "text": [
      "[추정]\n",
      " 점 추정량: 8.000\n",
      " 구간 추정량: 5.353~10.647\n",
      " 오차의 한계: 2.647\n"
     ]
    }
   ],
   "source": [
    "### 표본의 크기가 30이상이고 모집단의 분산을 아는 경우\n",
    "# 독립표본 모평균 차이의 추정 \n",
    "from scipy.stats import norm\n",
    "import numpy as np\n",
    "x1 = 78 #1번 모집단의 표본평균\n",
    "x2 = 70 #2번 모집단의 표본평균\n",
    "sigma1 = 4.8 #1번 모표준편차\n",
    "sigma2 = 3.1 #2번 모표준편차\n",
    "n1 = 16 #1번 표본 크기\n",
    "n2 = 25 #2번 표본 크기\n",
    "conf_a = 0.05 # 신뢰수준 95%\n",
    "\n",
    "d = x1 - x2 # 두 모평균의 차이에 대한 점추정 값\n",
    "SE = np.sqrt(sigma1**2/n1 + sigma2**2/n2)\n",
    "conf_z = norm.ppf(1-conf_a/2)\n",
    "ME = conf_z * SE\n",
    "\n",
    "print(\"[추정]\")\n",
    "print(\" 점 추정량: {:.3f}\".format(d))\n",
    "print(\" 구간 추정량: {:.3f}~{:.3f}\".format(d-ME, d+ME))\n",
    "print(\" 오차의 한계: {:.3f}\".format(ME))"
   ]
  },
  {
   "cell_type": "code",
   "execution_count": 467,
   "id": "alike-defendant",
   "metadata": {
    "id": "statewide-walker",
    "outputId": "475d956f-be91-4701-d38c-3b7bc443106b"
   },
   "outputs": [
    {
     "name": "stdout",
     "output_type": "stream",
     "text": [
      "[검정]\n",
      " 임계값: +/- 1.960, 검정통계량: 5.923\n",
      " 유의수준: 0.050, 유의확률: 0.000\n"
     ]
    }
   ],
   "source": [
    "# 독립표본 모평균 차이의 가설검정\n",
    "# H0: 모평균의 차 = D0, H1: 모평균의 차 != D0\n",
    "test_a = 0.05\n",
    "d0=0\n",
    "d = x1 - x2\n",
    "df = n1+n2-2\n",
    "SE = np.sqrt(sigma1**2/n1 + sigma2**2/n2)\n",
    "zstat = (x1-x2-d0)/SE\n",
    "\n",
    "#단측(one)/양측(two)검정에 따른 유의확률과 임계값\n",
    "ways = 'two' #'two', 'one-right(H1: 모평균의 차>D0)', 'one-left(H1: 모평균의 차<D0)'\n",
    "if ways == 'two': \n",
    "    sp = (1-norm.cdf(np.abs(zstat)))*2\n",
    "    cv = norm.ppf(1-test_a/2)\n",
    "    cv = \"+/- {:.3f}\".format(cv)\n",
    "elif ways == 'one-right':\n",
    "    sp = 1-norm.cdf(zstat)\n",
    "    cv = norm.ppf(1-test_a)\n",
    "    cv = \"{:.3f}\".format(cv)\n",
    "elif ways == 'one-left':\n",
    "    sp = norm.cdf(zstat)\n",
    "    cv = norm.ppf(test_a)\n",
    "    cv = \"{:.3f}\".format(cv)\n",
    "\n",
    "print(\"[검정]\") # 귀무가설 기각할 수 있음\n",
    "print(\" 임계값: {}, 검정통계량: {:.3f}\".format(cv, zstat))\n",
    "print(\" 유의수준: {:.3f}, 유의확률: {:.3f}\".format(test_a, sp))"
   ]
  },
  {
   "cell_type": "code",
   "execution_count": 468,
   "id": "important-baker",
   "metadata": {
    "id": "finnish-point",
    "outputId": "f858d905-cde2-428a-ac4b-603b846d2fef"
   },
   "outputs": [
    {
     "name": "stdout",
     "output_type": "stream",
     "text": [
      "[추정]\n",
      " 점 추정량: 4.000\n",
      " 구간 추정량: 0.001~7.999\n",
      " 오차의 한계: 3.999\n",
      " 합동분산: 20.05\n"
     ]
    }
   ],
   "source": [
    "### 표본의 크기가 30 미만이고 모집단의 분산을 모르지만 같다는 것을 알고 있을 경우\n",
    "# 독립표본 모평균 차이의 추정\n",
    "from scipy.stats import t\n",
    "x1 = 85 #1번 모집단의 표본평균\n",
    "x2 = 81 #2번 모집단의 표본평균\n",
    "s1 = 4 #1번 표본표준편차\n",
    "s2 = 5 #2번 표본표준편차\n",
    "n1 = 12 #1번 표본 크기\n",
    "n2 = 10 #2번 표본 크기\n",
    "conf_a = 0.05 # 신뢰수준 95%\n",
    "\n",
    "d = x1 - x2\n",
    "df = n1+n2-2 #자유도\n",
    "pv = (s1**2*(n1-1) + s2**2*(n2-1)) / df #합동 분산 (pooled variance)\n",
    "SE = np.sqrt(pv) * np.sqrt(1/n1 + 1/n2)\n",
    "conf_t = t.ppf(1-conf_a/2, df) # t분포 활용\n",
    "ME = conf_t * SE\n",
    "\n",
    "print(\"[추정]\")\n",
    "print(\" 점 추정량: {:.3f}\".format(d))\n",
    "print(\" 구간 추정량: {:.3f}~{:.3f}\".format(d-ME, d+ME))\n",
    "print(\" 오차의 한계: {:.3f}\".format(ME))\n",
    "print(\" 합동분산: {:.2f}\".format(pv))"
   ]
  },
  {
   "cell_type": "code",
   "execution_count": 469,
   "id": "australian-winning",
   "metadata": {
    "id": "complex-template",
    "outputId": "f2fe715d-70b6-4c7b-ad8b-9e45f5845eb4"
   },
   "outputs": [
    {
     "name": "stdout",
     "output_type": "stream",
     "text": [
      "[검정]\n",
      " 임계값: +/- 2.086, 검정통계량: 2.086\n",
      " 유의수준: 0.050, 유의확률: 0.050\n"
     ]
    }
   ],
   "source": [
    "# 독립표본 모평균 차이의 가설검정\n",
    "# H0: 모평균의 차 = D0, H1: 모평균의 차 != D0\n",
    "test_a = 0.05\n",
    "d0 = 0\n",
    "d = x1 - x2\n",
    "df = n1+n2-2\n",
    "pv = (s1**2*(n1-1) + s2**2*(n2-1)) / df\n",
    "SE = np.sqrt(pv) * np.sqrt(1/n1 + 1/n2)\n",
    "tstat = (x1-x2-d0)/SE\n",
    "\n",
    "#단측(one)/양측(two)검정에 따른 유의확률과 임계값\n",
    "ways = 'two' #'two', 'one-right(H1: 모평균의 차>D0)', 'one-left(H1: 모평균의 차<D0)'\n",
    "if ways == 'two': \n",
    "    sp = (1-t.cdf(np.abs(tstat), df))*2\n",
    "    cv = t.ppf(1-test_a/2, df)\n",
    "    cv = \"+/- {:.3f}\".format(cv)\n",
    "elif ways == 'one-right':\n",
    "    sp = 1-t.cdf(tstat, df)\n",
    "    cv = t.ppf(1-test_a, df)\n",
    "    cv = \"{:.3f}\".format(cv)\n",
    "elif ways == 'one-left':\n",
    "    sp = t.cdf(tstat, df)\n",
    "    cv = t.ppf(test_a, df)\n",
    "    cv = \"{:.3f}\".format(cv)\n",
    "    \n",
    "print(\"[검정]\") # 귀무가설 기각할 수 있음\n",
    "print(\" 임계값: {}, 검정통계량: {:.3f}\".format(cv, tstat))\n",
    "print(\" 유의수준: {:.3f}, 유의확률: {:.3f}\".format(test_a, sp))"
   ]
  },
  {
   "cell_type": "code",
   "execution_count": 470,
   "id": "finished-withdrawal",
   "metadata": {
    "id": "noted-pound",
    "outputId": "8b1577fd-26ac-4ec2-9cc6-46b2a0f009c6",
    "tags": []
   },
   "outputs": [
    {
     "name": "stdout",
     "output_type": "stream",
     "text": [
      "[추정]\n",
      " 점 추정량: 4.000\n",
      " 구간 추정량: -0.128~8.128\n",
      " 오차의 한계: 4.128\n",
      " 자유도: 17.17\n"
     ]
    }
   ],
   "source": [
    "### 표본의 크기가 30 미만이고 모집단의 분산을 모르지만 다르다고 알고 있을 경우\n",
    "# 독립표본 모평균 차이의 추정\n",
    "from scipy.stats import t\n",
    "x1 = 85 #1번 모집단의 표본평균\n",
    "x2 = 81 #2번 모집단의 표본평균\n",
    "s1 = 4 #1번 표본표준편차\n",
    "s2 = 5 #2번 표본표준편차\n",
    "n1 = 12 #1번 표본 크기\n",
    "n2 = 10 #2번 표본 크기\n",
    "conf_a = 0.05 # 신뢰수준 95%\n",
    "\n",
    "d = x1 - x2\n",
    "df = ((s1**2)/n1 + (s2**2)/n2)**2 / (1/(n1-1)*((s1**2)/n1)**2 + 1/(n2-1)*((s2**2)/n2)**2)\n",
    "SE = np.sqrt(s1**2/n1 + s2**2/n2)\n",
    "conf_t = t.ppf(1-conf_a/2, df)\n",
    "ME = conf_t * SE\n",
    "\n",
    "print(\"[추정]\")\n",
    "print(\" 점 추정량: {:.3f}\".format(d))\n",
    "print(\" 구간 추정량: {:.3f}~{:.3f}\".format(d-ME, d+ME))\n",
    "print(\" 오차의 한계: {:.3f}\".format(ME))\n",
    "print(\" 자유도: {:.2f}\".format(df))"
   ]
  },
  {
   "cell_type": "code",
   "execution_count": 471,
   "id": "illegal-repeat",
   "metadata": {
    "id": "raising-decision",
    "outputId": "0c951fda-9c0c-4cc0-dec6-8ff4edcd7663"
   },
   "outputs": [
    {
     "name": "stdout",
     "output_type": "stream",
     "text": [
      "[검정]\n",
      " 임계값: +/- 2.108, 검정통계량: 2.043\n",
      " 유의수준: 0.050, 유의확률: 0.057\n"
     ]
    }
   ],
   "source": [
    "# 독립표본 모평균 차이의 가설검정\n",
    "# H0: 모평균의 차 = D0, H1: 모평균의 차 != D0\n",
    "test_a = 0.05\n",
    "d0 = 0\n",
    "d = x1 - x2\n",
    "df = ((s1**2)/n1 + (s2**2)/n2)**2 / (1/(n1-1)*((s1**2)/n1)**2 + 1/(n2-1)*((s2**2)/n2)**2)\n",
    "SE = np.sqrt(s1**2/n1 + s2**2/n2)\n",
    "tstat = (x1-x2-d0)/SE\n",
    "\n",
    "#단측(one)/양측(two)검정에 따른 유의확률과 임계값\n",
    "ways = 'two' #'two', 'one-right(H1: 모평균 차>D0)', 'one-left(H1: 모평균 차<D0)'\n",
    "if ways == 'two': \n",
    "    sp = (1-t.cdf(np.abs(tstat), df))*2\n",
    "    cv = t.ppf(1-test_a/2, df)\n",
    "    cv = \"+/- {:.3f}\".format(cv)\n",
    "elif ways == 'one-right':\n",
    "    sp = 1-t.cdf(tstat, df)\n",
    "    cv = t.ppf(1-test_a, df)\n",
    "    cv = \"{:.3f}\".format(cv)\n",
    "elif ways == 'one-left':\n",
    "    sp = t.cdf(tstat, df)\n",
    "    cv = t.ppf(test_a, df)\n",
    "    cv = \"{:.3f}\".format(cv)\n",
    "print(\"[검정]\") # 귀무가설을 기각할 수 없음!\n",
    "print(\" 임계값: {}, 검정통계량: {:.3f}\".format(cv, tstat))\n",
    "print(\" 유의수준: {:.3f}, 유의확률: {:.3f}\".format(test_a, sp))"
   ]
  },
  {
   "cell_type": "code",
   "execution_count": 474,
   "id": "thick-calibration",
   "metadata": {
    "id": "alpha-crazy",
    "outputId": "62debe32-d495-4913-970a-752bbb546127"
   },
   "outputs": [
    {
     "name": "stdout",
     "output_type": "stream",
     "text": [
      "[라이브러리 검정] equal_var = True, alternative='two-sided'\n",
      " 검정통계량: -3.564, 유의확률: 0.009\n",
      "\n",
      "[라이브러리 검정] equal_var = False, alternative='two-sided'\n",
      " 검정통계량: -3.656, 유의확률: 0.008\n"
     ]
    }
   ],
   "source": [
    "# 라이브러리를 통한 독립표본 t-test\n",
    "from scipy.stats import ttest_ind\n",
    "X1 = [1,3,5,7,9]\n",
    "X2 = [9,11,13,15]\n",
    "\n",
    "# equal_var: 모집단의 분산이 동일한지 여부\n",
    "# alternative: 대립가설의 형태 'two-sided', 'less', 'greater'\n",
    "tstat, p = ttest_ind(X1, X2, equal_var = True, alternative='two-sided') \n",
    "print(\"[라이브러리 검정] equal_var = True, alternative='two-sided'\")\n",
    "print(\" 검정통계량: {:.3f}, 유의확률: {:.3f}\\n\".format(tstat, p))\n",
    "\n",
    "tstat, p = ttest_ind(X1, X2, equal_var = False, alternative='two-sided')\n",
    "print(\"[라이브러리 검정] equal_var = False, alternative='two-sided'\")\n",
    "print(\" 검정통계량: {:.3f}, 유의확률: {:.3f}\".format(tstat, p))\n",
    "# 두 경우 모두 귀무가설을 기각 할 수 있다."
   ]
  },
  {
   "cell_type": "markdown",
   "id": "congressional-liberia",
   "metadata": {
    "id": "seventh-participation"
   },
   "source": [
    "### - 대응표본 모평균 차이의 추정과 가설 검정: Z분포, t분포"
   ]
  },
  {
   "cell_type": "code",
   "execution_count": 475,
   "id": "comparative-delaware",
   "metadata": {
    "id": "organized-seventh",
    "outputId": "6944d59c-2155-4d94-fb8d-70373c3517ae"
   },
   "outputs": [
    {
     "name": "stdout",
     "output_type": "stream",
     "text": [
      "[추정]\n",
      " 점 추정량: -1.000\n",
      " 구간 추정량: -3.893~1.893\n",
      " 오차의 한계: 2.893\n"
     ]
    }
   ],
   "source": [
    "### 표본의 크기가 30미만인 경우\n",
    "# 대응표본 모평균 차이의 추정\n",
    "from scipy.stats import t\n",
    "import numpy as np\n",
    "x1 = np.array([75, 83, 96, 77, 81, 90, 82, 67, 94, 85, 78, 82, 96, 80, 87, 81])\n",
    "x2 = np.array([80, 90, 92, 75, 86, 90, 81, 70, 89, 88, 82, 79, 91, 90, 78, 89])\n",
    "n = len(x1)\n",
    "df = n-1\n",
    "conf_a = 0.05\n",
    "\n",
    "d = x1 - x2 #두 데이터의 차이\n",
    "d_mean = np.mean(d) #두 데이터 차이의 평균\n",
    "d_std = np.sqrt(1/df * sum((d-d_mean)**2)) #두 데이터 차이의 표준편차\n",
    "SE = d_std / np.sqrt(n)\n",
    "conf_t = t.ppf(1-conf_a/2, df)\n",
    "ME = conf_t * SE\n",
    "\n",
    "print(\"[추정]\")\n",
    "print(\" 점 추정량: {:.3f}\".format(d_mean))\n",
    "print(\" 구간 추정량: {:.3f}~{:.3f}\".format(d_mean-ME, d_mean+ME))\n",
    "print(\" 오차의 한계: {:.3f}\".format(ME))"
   ]
  },
  {
   "cell_type": "code",
   "execution_count": 476,
   "id": "described-canberra",
   "metadata": {
    "id": "fourth-grocery",
    "outputId": "5ca0a3c4-8aaf-49ba-ae9a-215813cbe013"
   },
   "outputs": [
    {
     "name": "stdout",
     "output_type": "stream",
     "text": [
      "[검정]\n",
      " 임계값: +/- 2.131, 검정통계량: -0.737\n",
      " 유의수준: 0.050, 유의확률: 0.473\n"
     ]
    }
   ],
   "source": [
    "# 대응표본 모평균 차이의 가설검정\n",
    "# H0: 모평균의 차 = D0, H1: 모평균의 차 != D0\n",
    "test_a = 0.05\n",
    "d0 = 0\n",
    "d = x1 - x2\n",
    "d_mean = np.mean(d)\n",
    "d_std = np.sqrt(1/df * sum((d-d_mean)**2))\n",
    "SE = d_std / np.sqrt(n)\n",
    "tstat = (d_mean - d0) / SE\n",
    "\n",
    "#단측(one)/양측(two)검정에 따른 유의확률과 임계값\n",
    "ways = 'two' #'two', 'one-right(H1: 모평균의 차>D0)', 'one-left(H1: 모평균의 차<D0)'\n",
    "if ways == 'two': \n",
    "    sp = (1-t.cdf(np.abs(tstat), df))*2\n",
    "    cv = t.ppf(1-test_a/2, df)\n",
    "    cv = \"+/- {:.3f}\".format(cv)\n",
    "elif ways == 'one-right':\n",
    "    sp = 1-t.cdf(tstat, df)\n",
    "    cv = t.ppf(1-test_a, df)\n",
    "    cv = \"{:.3f}\".format(cv)\n",
    "elif ways == 'one-left':\n",
    "    sp = t.cdf(tstat, df)\n",
    "    cv = t.ppf(test_a, df)\n",
    "    cv = \"{:.3f}\".format(cv)\n",
    "    \n",
    "print(\"[검정]\") # 귀무가설을 기각할 수 없음!\n",
    "print(\" 임계값: {}, 검정통계량: {:.3f}\".format(cv, tstat))\n",
    "print(\" 유의수준: {:.3f}, 유의확률: {:.3f}\".format(test_a, sp))"
   ]
  },
  {
   "cell_type": "code",
   "execution_count": 477,
   "id": "impressive-jones",
   "metadata": {
    "id": "virgin-federal",
    "outputId": "081cbe16-33d5-4d0c-e42c-076c9dd69140"
   },
   "outputs": [
    {
     "name": "stdout",
     "output_type": "stream",
     "text": [
      "[라이브러리 검정]\n",
      " 검정통계량: -0.737, 유의확률: 0.473\n"
     ]
    }
   ],
   "source": [
    "from scipy.stats import ttest_rel\n",
    "tstat, p = ttest_rel(x1, x2, alternative='two-sided')\n",
    "print(\"[라이브러리 검정]\")\n",
    "print(\" 검정통계량: {:.3f}, 유의확률: {:.3f}\".format(tstat, p))"
   ]
  },
  {
   "cell_type": "code",
   "execution_count": 478,
   "id": "fifteen-charge",
   "metadata": {
    "id": "described-compact",
    "outputId": "db09580f-a313-44f9-e52e-f851674d783a"
   },
   "outputs": [
    {
     "name": "stdout",
     "output_type": "stream",
     "text": [
      "[추정]\n",
      " 점 추정량: 2.275\n",
      " 구간 추정량: -0.506~5.056\n",
      " 오차의 한계: 2.781\n"
     ]
    }
   ],
   "source": [
    "### 표본의 크기가 30이상인 경우\n",
    "# 대응표본 모평균 차이의 추정\n",
    "from scipy.stats import norm\n",
    "import numpy as np\n",
    "np.random.seed(0) # 랜덤 시드 고정\n",
    "x1 = np.random.randint(80, 100, 40) # 80~100 사이의 숫자를 랜덤으로 40개 추출\n",
    "x2 = np.random.randint(80, 100, 40) # 80~100 사이의 숫자를 랜덤으로 40개 추출\n",
    "n = len(x1)\n",
    "df = n-1\n",
    "conf_a = 0.05\n",
    "\n",
    "d = x1 - x2 #두 데이터의 차이\n",
    "d_mean = np.mean(d) #두 데이터 차이의 평균\n",
    "d_std = np.sqrt(1/df * sum((d-d_mean)**2)) #두 데이터 차이의 표준편차\n",
    "SE = d_std / np.sqrt(n)\n",
    "conf_z = norm.ppf(1-conf_a/2)\n",
    "ME = conf_z * SE\n",
    "\n",
    "print(\"[추정]\")\n",
    "print(\" 점 추정량: {:.3f}\".format(d_mean))\n",
    "print(\" 구간 추정량: {:.3f}~{:.3f}\".format(d_mean-ME, d_mean+ME))\n",
    "print(\" 오차의 한계: {:.3f}\".format(ME))"
   ]
  },
  {
   "cell_type": "code",
   "execution_count": 479,
   "id": "heavy-surgery",
   "metadata": {
    "id": "electric-surgeon",
    "outputId": "445fd21e-1de0-4449-92dd-c4e2e32db04e"
   },
   "outputs": [
    {
     "name": "stdout",
     "output_type": "stream",
     "text": [
      "[검정]\n",
      " 임계값: +/- 1.960, 검정통계량: 1.604\n",
      " 유의수준: 0.050, 유의확률: 0.109\n"
     ]
    }
   ],
   "source": [
    "# 대응표본 모평균 차이의 가설검정\n",
    "# H0: 모평균의 차 = D0, H1: 모평균의 차 != D0\n",
    "test_a = 0.05\n",
    "d0 = 0\n",
    "d = x1 - x2\n",
    "d_mean = np.mean(d)\n",
    "d_std = np.sqrt(1/df * sum((d-d_mean)**2))\n",
    "SE = d_std / np.sqrt(n)\n",
    "zstat = (d_mean - d0) / SE\n",
    "\n",
    "#단측(one)/양측(two)검정에 따른 유의확률과 임계값\n",
    "ways = 'two' #'two', 'one-right(H1: 모평균의 차>D0)', 'one-left(H1: 모평균의 차<D0)'\n",
    "if ways == 'two': \n",
    "    sp = (1-norm.cdf(np.abs(zstat)))*2\n",
    "    cv = norm.ppf(1-test_a/2)\n",
    "    cv = \"+/- {:.3f}\".format(cv)\n",
    "elif ways == 'one-right':\n",
    "    sp = 1-norm.cdf(zstat)\n",
    "    cv = norm.ppf(1-test_a)\n",
    "    cv = \"{:.3f}\".format(cv)\n",
    "elif ways == 'one-left':\n",
    "    sp = norm.cdf(zstat)\n",
    "    cv = norm.ppf(test_a)\n",
    "    cv = \"{:.3f}\".format(cv)\n",
    "    \n",
    "print(\"[검정]\") # 귀무가설을 기각할 수 없음!\n",
    "print(\" 임계값: {}, 검정통계량: {:.3f}\".format(cv, zstat))\n",
    "print(\" 유의수준: {:.3f}, 유의확률: {:.3f}\".format(test_a, sp))"
   ]
  },
  {
   "cell_type": "code",
   "execution_count": 480,
   "id": "smoking-society",
   "metadata": {
    "id": "recognized-austria",
    "outputId": "412d43de-b4b8-4a83-e75c-6e1f9fd3df61"
   },
   "outputs": [
    {
     "name": "stdout",
     "output_type": "stream",
     "text": [
      "[라이브러리 검정]\n",
      " 검정통계량: 1.604, 유의확률: 0.117\n"
     ]
    }
   ],
   "source": [
    "from scipy.stats import ttest_rel\n",
    "tstat, p = ttest_rel(x1, x2, alternative='two-sided')\n",
    "print(\"[라이브러리 검정]\")\n",
    "print(\" 검정통계량: {:.3f}, 유의확률: {:.3f}\".format(tstat, p)) \n",
    "\n",
    "## 표본의 크기가 30이상인 경우, t분포 대신 z분포를 사용할 수 있다. 윗 블럭의 [검정]은 z분포를 사용한 결과이고, [라이브러리 검정]은 t분포를 사용한 결과인데 검정통계량은 동일하고 유의확률은 약간의 차이를 보이는 것을 알 수 있다."
   ]
  },
  {
   "cell_type": "markdown",
   "id": "sought-medicare",
   "metadata": {
    "id": "developmental-leonard"
   },
   "source": [
    "### - 모비율 차이의 추정과 가설검정: Z분포"
   ]
  },
  {
   "cell_type": "code",
   "execution_count": 481,
   "id": "stable-display",
   "metadata": {
    "id": "moderate-petersburg",
    "outputId": "d1f981b5-5ff5-496b-eb5b-a85780d24dc3"
   },
   "outputs": [
    {
     "name": "stdout",
     "output_type": "stream",
     "text": [
      "[추정]\n",
      " 점 추정량: 0.080\n",
      " 구간 추정량: -0.020~0.180\n",
      " 오차의 한계: 0.100\n"
     ]
    }
   ],
   "source": [
    "# 독립표본 모비율 차이의 추정\n",
    "n1 = 250 # 캠페인 후의 인지도 (관심 있는 대상)\n",
    "p1 = 120/250\n",
    "n2 = 150 # 캠페인 전의 인지도\n",
    "p2 = 60/150\n",
    "conf_a = 0.05\n",
    "\n",
    "from scipy.stats import norm\n",
    "d = p1 - p2\n",
    "conf_z = norm.ppf(1-conf_a/2)\n",
    "SE1 = np.sqrt( p1*(1-p1)/n1 + p2*(1-p2)/n2 )  #대표본 근사 분산을 사용한 SE\n",
    "ME1 = conf_z * SE1\n",
    "\n",
    "print(\"[추정]\")\n",
    "print(\" 점 추정량: {:.3f}\".format(d))\n",
    "print(\" 구간 추정량: {:.3f}~{:.3f}\".format(d-ME1, d+ME1))\n",
    "print(\" 오차의 한계: {:.3f}\".format(ME1))"
   ]
  },
  {
   "cell_type": "code",
   "execution_count": 482,
   "id": "exciting-independence",
   "metadata": {
    "id": "southwest-television",
    "outputId": "4d86533b-56b2-454a-90e1-e98e9cfdd91b"
   },
   "outputs": [
    {
     "name": "stdout",
     "output_type": "stream",
     "text": [
      "[검정]\n",
      " 임계값: 1.645, 검정통계량: 1.557\n",
      " 유의수준: 0.050, 유의확률: 0.060\n"
     ]
    }
   ],
   "source": [
    "# 독립표본 모비율 차이의 가설 검정\n",
    "# H0: 모비율의 차 = D0, H1: 모비율의 차 > D0  *캠페인 후의 인지도가 증가 여부를 검정\n",
    "test_a = 0.05\n",
    "d0 = 0\n",
    "\n",
    "pe = (n1*p1+n2*p2) / (n1+n2) #합동표본비율\n",
    "SE2 = np.sqrt( pe*(1-pe)*(1/n1+1/n2)) # 합동 분산을 사용한 SE\n",
    "zstat = (d-d0) / SE2 #검정통계량\n",
    "\n",
    "#단측(one)/양측(two)검정에 따른 유의확률과 임계값\n",
    "ways = 'one-right' #'two', 'one-right(H1:모비율 차>D0)', 'one-left(H1:모비율 차<D0)'\n",
    "if ways == 'two': \n",
    "    sp = (1-norm.cdf(np.abs(zstat)))*2\n",
    "    cv = norm.ppf(1-test_a/2)\n",
    "    cv = \"+/-{:.3f}\".format(cv)\n",
    "elif ways == 'one-right':\n",
    "    sp = 1-norm.cdf(zstat)\n",
    "    cv = norm.ppf(1-test_a)\n",
    "    cv = \"{:.3f}\".format(cv)\n",
    "elif ways == 'one-left':\n",
    "    sp = norm.cdf(zstat)\n",
    "    cv = norm.ppf(test_a)\n",
    "    cv = \"{:.3f}\".format(cv)\n",
    "\n",
    "print(\"[검정]\") # 귀무가설을 기각할 수 없음!\n",
    "print(\" 임계값: {}, 검정통계량: {:.3f}\".format(cv, zstat))\n",
    "print(\" 유의수준: {:.3f}, 유의확률: {:.3f}\".format(test_a, sp))"
   ]
  },
  {
   "cell_type": "markdown",
   "id": "driven-tomato",
   "metadata": {
    "id": "swiss-association"
   },
   "source": [
    "### - 모분산 비의 추정과 가설검정: F분포"
   ]
  },
  {
   "cell_type": "code",
   "execution_count": 510,
   "id": "fallen-ensemble",
   "metadata": {
    "id": "normal-brook",
    "outputId": "cf1afe53-886c-4aa3-bf22-e049c49a1463"
   },
   "outputs": [
    {
     "name": "stdout",
     "output_type": "stream",
     "text": [
      "[추정]\n",
      " 점 추정량: 0.764\n",
      " 구간 추정량: 0.190~3.075\n"
     ]
    }
   ],
   "source": [
    "# 모분산 비의 추정\n",
    "import numpy as np\n",
    "from scipy.stats import f\n",
    "sample1 = [272, 255, 278, 282, 296, 312, 356, 296, 302, 312]\n",
    "sample2 = [276, 280, 369, 285, 303, 317, 290, 250, 313, 307]\n",
    "n1 = len(sample1)\n",
    "n2 = len(sample2)\n",
    "df1 = n1-1 \n",
    "df2 = n2-1 \n",
    "v1 = np.std(sample1, ddof=1)**2 #표본분산1\n",
    "v2 = np.std(sample2, ddof=1)**2 #표본분산2\n",
    "conf_a = 0.05\n",
    "fstat = v1/v2\n",
    "f1 = f.ppf(conf_a/2, df2,df1)\n",
    "f2 = f.ppf(1-conf_a/2, df2,df1)\n",
    "CR1 = f1 * fstat\n",
    "CR2 = f2 * fstat\n",
    "print(\"[추정]\")\n",
    "print(\" 점 추정량: {:.3f}\".format(fstat))\n",
    "print(\" 구간 추정량: {:.3f}~{:.3f}\".format(CR1, CR2))"
   ]
  },
  {
   "cell_type": "code",
   "execution_count": 511,
   "id": "magnetic-attempt",
   "metadata": {
    "id": "retired-sandwich",
    "outputId": "0e5da738-715a-43c2-d094-0d700627f0d4"
   },
   "outputs": [
    {
     "name": "stdout",
     "output_type": "stream",
     "text": [
      "[검정]\n",
      " 임계값: 0.315, 검정통계량: 0.764\n",
      " 유의수준: 0.050, 유의확률: 0.347\n"
     ]
    }
   ],
   "source": [
    "# 모분산 비의 가설 검정\n",
    "v0 = 1\n",
    "test_a = 0.05\n",
    "# H0: 모분산1 = 모분산2, H1: 모분산1 < 모분산2\n",
    "#단측(one)/양측(two)검정에 따른 유의확률과 임계값\n",
    "ways = 'one-left' #'two', 'one-right(모분산1>모분산2)', 'one-left(모분산1<모분산2)' \n",
    "if ways == 'two':\n",
    "    if f.cdf(fstat, df1, df2) < 0.5:\n",
    "        sp = (f.cdf(fstat, df1, df2))*2\n",
    "    else:\n",
    "        sp = (1-f.cdf(fstat, df1, df2))*2\n",
    "    cv1 = f.ppf(test_a/2, df1, df2)\n",
    "    cv2 = f.ppf(1-test_a/2, df1, df2)\n",
    "    cv = \"{:.3f}와 {:.3f}\".format(cv1, cv2)\n",
    "elif ways == 'one-right':\n",
    "    sp = 1-f.cdf(fstat, df1, df2)\n",
    "    cv = f.ppf(1-test_a, df1, df2)\n",
    "    cv = \"{:.3f}\".format(cv)\n",
    "elif ways == 'one-left':\n",
    "    sp = f.cdf(fstat, df1, df2)\n",
    "    cv = f.ppf(test_a, df1, df2)\n",
    "    cv = \"{:.3f}\".format(cv)\n",
    "\n",
    "print(\"[검정]\") # 귀무가설을 기각할 수 없음!\n",
    "print(\" 임계값: {}, 검정통계량: {:.3f}\".format(cv, fstat))\n",
    "print(\" 유의수준: {:.3f}, 유의확률: {:.3f}\".format(test_a, sp))"
   ]
  },
  {
   "cell_type": "markdown",
   "id": "unique-chinese",
   "metadata": {
    "id": "colonial-winner"
   },
   "source": [
    "## 5-3. 분산분석의 가정"
   ]
  },
  {
   "cell_type": "markdown",
   "id": "bored-facing",
   "metadata": {
    "id": "national-cover"
   },
   "source": [
    "### - 정규성 검정"
   ]
  },
  {
   "cell_type": "code",
   "execution_count": null,
   "id": "vulnerable-chart",
   "metadata": {
    "id": "agricultural-drill",
    "outputId": "43d7206a-205e-4024-ba06-7da105994ccb"
   },
   "outputs": [
    {
     "name": "stdout",
     "output_type": "stream",
     "text": [
      "[1.76405235 0.40015721 0.97873798 2.2408932  1.86755799]\n"
     ]
    }
   ],
   "source": [
    "# 정규성 만족하는 데이터 생성하기\n",
    "from scipy.stats import norm\n",
    "data = norm.rvs(size=100, random_state=0) # 정규성을 만족하는 크기 100의 표본 생성\n",
    "print(data[:5])"
   ]
  },
  {
   "cell_type": "code",
   "execution_count": null,
   "id": "utility-grain",
   "metadata": {
    "id": "everyday-outreach",
    "outputId": "c55c9360-33cc-40e8-c69e-296991ee3517"
   },
   "outputs": [
    {
     "name": "stdout",
     "output_type": "stream",
     "text": [
      "shapiro: 0.993 (p 0.869)\n",
      "anderson: 0.181 (critical value 0.759, significant level 0.05)\n",
      "kstest_normal: 0.058 (p 0.867)\n",
      "jarque_bera: 0.597 (p 0.742)\n",
      "\n"
     ]
    },
    {
     "data": {
      "image/png": "[encoded data removed]",
      "text/plain": [
       "<Figure size 720x216 with 2 Axes>"
      ]
     },
     "metadata": {
      "needs_background": "light"
     },
     "output_type": "display_data"
    }
   ],
   "source": [
    "# 정규성 검정\n",
    "from scipy.stats import shapiro, anderson, jarque_bera, kstest, zscore, probplot\n",
    "# H0: 표본 모집단이 정규성을 만족한다, H1: 표본 모집단이 정규성을 만족하지 않는다.\n",
    "\n",
    "#shapiro: 검정통계량, p-value를 반환\n",
    "sstat, p = shapiro(data)\n",
    "print('shapiro: {:.3f} (p {:.3f})'.format(sstat, p)) \n",
    "\n",
    "#darling anderson: 검정통계량, 임계치, 유의수준을 반환\n",
    "dstat, cv, sl = anderson(data, dist='norm')\n",
    "print('anderson: {:.3f} (critical value {:.3f}, significant level {:.2f})'.format(dstat, cv[2], sl[2]*0.01))\n",
    "\n",
    "#kstest(콜모고로프 스미르노프): 검정통계량, p-value를 반환\n",
    "kstat, p = kstest(data, cdf = norm.cdf)\n",
    "print('kstest_normal: {:.3f} (p {:.3f})'.format(kstat, p)) \n",
    "\n",
    "#jarque_bera: 검정통계량, p-value, 왜도(skew), 첨도(kurtosis)를 반환\n",
    "jstat, p = jarque_bera(data)\n",
    "print('jarque_bera: {:.3f} (p {:.3f})\\n'.format(jstat, p)) \n",
    "\n",
    "#QQ Plot and histogram\n",
    "from matplotlib import pyplot as plt\n",
    "zdata = zscore(data)\n",
    "fig, ax = plt.subplots(1, 2, figsize=(10, 3))\n",
    "\n",
    "# QQ plot: 데이터들이 대각선에 붙어 있을 수록 정규성을 만족하는 것으로 본다.\n",
    "(osm, odr), (slope, intercept, r) = probplot(zdata, plot=ax[0])\n",
    "ax[0].set_title('QQ plot')\n",
    "\n",
    "# histogram\n",
    "ax[1].hist(data)\n",
    "ax[1].set_title('histogram')\n",
    "plt.show()\n",
    "\n",
    "## 모든 검정에서 정규성을 만족하는 것으로 나왔다."
   ]
  },
  {
   "cell_type": "markdown",
   "id": "trained-china",
   "metadata": {
    "id": "capital-congo"
   },
   "source": [
    "### - k표본 등분산 검정 (Levene)"
   ]
  },
  {
   "cell_type": "code",
   "execution_count": null,
   "id": "former-traveler",
   "metadata": {
    "id": "hired-browse",
    "outputId": "4f0ccae6-3380-40a5-cff2-01e2b2487cc2"
   },
   "outputs": [
    {
     "name": "stdout",
     "output_type": "stream",
     "text": [
      "[수기 검정]\n",
      " 오른쪽 검정의 임계값: 3.885, 검정통계량: 0.145\n",
      " 유의수준: 0.050, 유의확률: 0.867\n"
     ]
    }
   ],
   "source": [
    "# 표본 수가 동일한 Levene 검정\n",
    "from pandas import DataFrame\n",
    "data = DataFrame({\"fac1\":[48, 54, 57, 54, 62], 'fac2':[73,63,66,64,74], 'fac3':[51,63,61,54,56]})\n",
    "test_a = 0.05\n",
    "# H0: 모든 그룹들의 모분산은 동일하다, H1: 그룹들 중 적어도 한 그룹의 모분산이 동일하지 않다.\n",
    "\n",
    "# 수기 검정\n",
    "n1 = len(data['fac1'])\n",
    "n2 = len(data['fac2'])\n",
    "n3 = len(data['fac3'])\n",
    "N = n1+n2+n3 #총표본수\n",
    "k = data.shape[1]#시료 그룹의 수 (수준수)\n",
    "df1 = k-1 #모집단 자유도\n",
    "df2 = N-k #오차 자유도\n",
    "df3 = N-1 #전체 자유도\n",
    "\n",
    "means = np.array(data.mean(axis=0)) #모집단별 평균, 각 수준의 평균\n",
    "zij1 = np.abs(data['fac1']-means[0])\n",
    "zij2 = np.abs(data['fac2']-means[1])\n",
    "zij3 = np.abs(data['fac3']-means[2])\n",
    "zi1 = zij1.mean()\n",
    "zi2 = zij2.mean()\n",
    "zi3 = zij3.mean()\n",
    "z = (zij1.sum()+zij2.sum()+zij3.sum())/(len(zij1)+len(zij2)+len(zij3))\n",
    "#z = 전체 zij의 평균\n",
    "\n",
    "F = (N-k) / (k-1) * ( n1*(zi1-z)**2 + n2*(zi2-z)**2 + n3*(zi3-z)**2) / sum( (zij1-zi1)**2 + (zij2-zi2)**2 + (zij3-zi3)**2 )\n",
    "    \n",
    "from scipy.stats import f\n",
    "cv = f.ppf(1-test_a, df1, df2) #cv보다 크면 기각\n",
    "sp = 1-f.cdf(F, df1, df2)\n",
    "\n",
    "print(\"[수기 검정]\") #귀무가설을 기각할 수 없음!\n",
    "print(\" 오른쪽 검정의 임계값: {:.3f}, 검정통계량: {:.3f}\".format(cv, F))\n",
    "print(\" 유의수준: {:.3f}, 유의확률: {:.3f}\".format(test_a, sp))"
   ]
  },
  {
   "cell_type": "code",
   "execution_count": null,
   "id": "built-performance",
   "metadata": {
    "id": "incident-lingerie",
    "outputId": "ce42afb4-f8c4-44e1-dec4-e21608a02fcc"
   },
   "outputs": [
    {
     "name": "stdout",
     "output_type": "stream",
     "text": [
      "[라이브러리 검정]\n",
      " stat 0.145, p-value 0.867\n"
     ]
    }
   ],
   "source": [
    "# 라이브러리 검정: 표본 수가 같든지 다르든지 상관이 없다.\n",
    "from scipy.stats import levene\n",
    "lstat, p = levene(data['fac1'], data['fac2'], data['fac3'], center='mean')\n",
    "print(\"[라이브러리 검정]\") #귀무가설을 기각할 수 없음!\n",
    "print(\" stat {:.3f}, p-value {:.3f}\".format(lstat, p)) "
   ]
  },
  {
   "cell_type": "code",
   "execution_count": null,
   "id": "useful-stocks",
   "metadata": {
    "id": "accredited-corporation",
    "outputId": "d1c6a20e-4e8a-4360-af56-8b010563aa31"
   },
   "outputs": [
    {
     "name": "stdout",
     "output_type": "stream",
     "text": [
      "[수기 검정]\n",
      " 오른쪽 검정의 임계값: 3.982, 검정통계량: 0.096\n",
      " 유의수준: 0.050, 유의확률: 0.909\n"
     ]
    }
   ],
   "source": [
    "# 표본 수가 다른 Levene 검정\n",
    "from pandas import DataFrame\n",
    "data = [[36,41,42,49], [40,48,39,45,44], [35,37,42,34,32]]\n",
    "test_a = 0.05\n",
    "\n",
    "means = [] #모집단(수준)별 평균\n",
    "N = 0 #표본 전체 개수\n",
    "k_sample_n = [] #모집단(수준) 별 표본개수\n",
    "for d in data:\n",
    "    means.append(np.mean(d))\n",
    "    N += len(d)\n",
    "    k_sample_n.append(len(d))\n",
    "k_sample_n = np.array(k_sample_n)\n",
    "\n",
    "k = len(k_sample_n) #수준의 수\n",
    "n1 = k_sample_n[0]\n",
    "n2 = k_sample_n[1]\n",
    "n3 = k_sample_n[2]\n",
    "df3 = N-1 #전체 자유도\n",
    "df1 = k-1 #모집단 자유도\n",
    "df2 = N-k #오차 자유도\n",
    "zij1 = np.abs(data[0]-means[0])\n",
    "zij2 = np.abs(data[1]-means[1])\n",
    "zij3 = np.abs(data[2]-means[2])\n",
    "zi1 = zij1.mean()\n",
    "zi2 = zij2.mean()\n",
    "zi3 = zij3.mean()\n",
    "z = (zij1.sum()+zij2.sum()+zij3.sum())/(len(zij1)+len(zij2)+len(zij3))\n",
    "#z = 전체 zij의 평균\n",
    "\n",
    "F = (N-k) / (k-1) * ( n1*(zi1-z)**2 + n2*(zi2-z)**2 + n3*(zi3-z)**2) / ( sum((zij1-zi1)**2) + sum((zij2-zi2)**2) + sum((zij3-zi3)**2) )\n",
    "    \n",
    "from scipy.stats import f\n",
    "cv = f.ppf(1-test_a, df1, df2) #cv보다 크면 기각\n",
    "sp = 1-f.cdf(F, df1, df2)\n",
    "\n",
    "print(\"[수기 검정]\") #귀무가설을 기각할 수 없음!\n",
    "print(\" 오른쪽 검정의 임계값: {:.3f}, 검정통계량: {:.3f}\".format(cv, F))\n",
    "print(\" 유의수준: {:.3f}, 유의확률: {:.3f}\".format(test_a, sp))"
   ]
  },
  {
   "cell_type": "code",
   "execution_count": null,
   "id": "minimal-veteran",
   "metadata": {
    "id": "destroyed-debate",
    "outputId": "ef75d274-5922-4c4e-c90c-e9be870b61c3"
   },
   "outputs": [
    {
     "name": "stdout",
     "output_type": "stream",
     "text": [
      "[라이브러리 검정]\n",
      " stat 0.096, p-value 0.909\n"
     ]
    }
   ],
   "source": [
    "# 라이브러리 검정\n",
    "from scipy.stats import levene\n",
    "lstat, p = levene(data[0], data[1], data[2], center='mean')\n",
    "print(\"[라이브러리 검정]\") #귀무가설을 기각할 수 없음!\n",
    "print(\" stat {:.3f}, p-value {:.3f}\".format(lstat, p))"
   ]
  },
  {
   "cell_type": "markdown",
   "id": "injured-honduras",
   "metadata": {
    "id": "empty-amount"
   },
   "source": [
    "### - k표본 등분산 검정 (Bartlett)"
   ]
  },
  {
   "cell_type": "code",
   "execution_count": null,
   "id": "prescription-strike",
   "metadata": {
    "id": "damaged-duration",
    "outputId": "934919b4-cfc3-4c61-8970-3c9ac5f8140d"
   },
   "outputs": [
    {
     "name": "stdout",
     "output_type": "stream",
     "text": [
      "[라이브러리 검정]\n",
      " stat 1.082, p-value 0.582\n"
     ]
    }
   ],
   "source": [
    "from scipy.stats import bartlett\n",
    "# 정규성 샘플 생성\n",
    "data1 = norm.rvs(size=50, random_state=0)\n",
    "data2 = norm.rvs(size=50, random_state=1)\n",
    "data3 = norm.rvs(size=50, random_state=2)\n",
    "\n",
    "bstat, p = bartlett(data1, data2, data3)\n",
    "print(\"[라이브러리 검정]\")\n",
    "print(\" stat {:.3f}, p-value {:.3f}\".format(bstat, p))"
   ]
  },
  {
   "cell_type": "markdown",
   "id": "romance-cherry",
   "metadata": {
    "id": "liquid-graduation"
   },
   "source": [
    "## 5-4. 분산분석: F분포"
   ]
  },
  {
   "cell_type": "markdown",
   "id": "iraqi-newton",
   "metadata": {
    "id": "pressed-cheat"
   },
   "source": [
    "### - 등분산인 one-way ANOVA"
   ]
  },
  {
   "cell_type": "code",
   "execution_count": null,
   "id": "sustained-flight",
   "metadata": {
    "id": "still-possible",
    "outputId": "4167fd50-90f9-4632-8e7c-cf9129aed3c4",
    "tags": []
   },
   "outputs": [
    {
     "name": "stdout",
     "output_type": "stream",
     "text": [
      "[데이터 확인]\n",
      "    A0  A1  A2  A3\n",
      "0  76  82  79  81\n",
      "1  80  75  87  74\n",
      "2  78  83  88  76\n",
      "3  79  78  86  78\n",
      "4  83  85  84  73\n",
      "5  74  80  82  70\n"
     ]
    }
   ],
   "source": [
    "# one-way ANOVA (수준 별 샘플 사이즈가 동일한 완전확률화계획법)\n",
    "## 각 수준의 모집단이 정규분포를 따르고 분산이 동일하다고 가정한다.\n",
    "data = DataFrame({\"A0\":[76,80,78,79,83,74], \n",
    "                  'A1':[82,75,83,78,85,80], \n",
    "                  'A2':[79,87,88,86,84,82], \n",
    "                  'A3':[81,74,76,78,73,70]})\n",
    "\n",
    "print(\"[데이터 확인]\\n\", data)"
   ]
  },
  {
   "cell_type": "code",
   "execution_count": null,
   "id": "controlled-thomas",
   "metadata": {
    "id": "spanish-birmingham",
    "outputId": "93454d29-5988-4b2f-a824-b086521104de"
   },
   "outputs": [
    {
     "name": "stdout",
     "output_type": "stream",
     "text": [
      "[수기 검정]\n",
      " 수준별 평균\n",
      " [78.33333333 80.5        84.33333333 75.33333333]\n",
      " 수준별 표본의 분산\n",
      " [ 9.86666667 13.1        11.46666667 15.06666667]\n",
      " 자유도 3, 20\n"
     ]
    }
   ],
   "source": [
    "#H0: 모든 모집단의 평균이 동일하다\n",
    "#H1: 모든 모집단 평균이 동일한 것은 아니다\n",
    "test_a = 0.05\n",
    "means = np.array(data.mean(axis=0)) #모집단(수준)별 평균\n",
    "mu = np.mean(data.values) #전체 평균\n",
    "Vs = np.array(data.std(axis=0, ddof=1)**2) #모집단(수준)별 분산\n",
    "n = len(data.values.flatten()) #표본 전체 개수\n",
    "k = data.shape[0] #모집단 별 표본개수\n",
    "level = data.shape[1] #모집단(수준)의 개수\n",
    "dfr = level-1 #모집단(수준) 자유도\n",
    "dfe = n - dfr -1 #오차 자유도\n",
    "\n",
    "print(\"[수기 검정]\")\n",
    "print(\" 수준별 평균\\n\", means)\n",
    "print(\" 수준별 표본의 분산\\n\", Vs)\n",
    "print(\" 자유도 {}, {}\".format(dfr, dfe))"
   ]
  },
  {
   "cell_type": "code",
   "execution_count": null,
   "id": "finnish-bundle",
   "metadata": {
    "id": "pediatric-campaign",
    "outputId": "dea78bcb-6668-42d4-df67-9d047a55ea79"
   },
   "outputs": [
    {
     "name": "stdout",
     "output_type": "stream",
     "text": [
      " SSTR: 258.125, SSE: 247.500, SST: 505.625\n",
      " MSR: 86.042, MSE: 12.375, F: 6.953\n"
     ]
    }
   ],
   "source": [
    "SSTR = (k * (means - mu)**2).sum() #처리제곱: 처리 평균들과 전체 평균의 제곱합 \n",
    "SSE = ((k-1) * Vs).sum() #오차제곱: 처리분산들과 오차 자유도를 곱한 합\n",
    "SST = ((data.values - mu)**2).sum() #SSTR + SSE\n",
    "MSR = SSTR/dfr\n",
    "MSE = SSE/dfe\n",
    "F = MSR / MSE\n",
    "print(\" SSTR: {:.3f}, SSE: {:.3f}, SST: {:.3f}\".format(SSTR, SSE, SST))\n",
    "print(\" MSR: {:.3f}, MSE: {:.3f}, F: {:.3f}\".format(MSR, MSE, F))"
   ]
  },
  {
   "cell_type": "code",
   "execution_count": null,
   "id": "decimal-first",
   "metadata": {
    "id": "worthy-cabin",
    "outputId": "89190acc-a9fc-4e7b-fe8b-c59930174c8e"
   },
   "outputs": [
    {
     "name": "stdout",
     "output_type": "stream",
     "text": [
      " 오른쪽 검정의 임계값: 3.098, 검정통계량: 6.953\n",
      " 유의수준: 0.050, 유의확률: 0.002\n"
     ]
    }
   ],
   "source": [
    "from scipy.stats import f\n",
    "cv = f.ppf(1-test_a, dfr, dfe)\n",
    "sp = 1-f.cdf(F, dfr, dfe)\n",
    "print(\" 오른쪽 검정의 임계값: {:.3f}, 검정통계량: {:.3f}\".format(cv, F))\n",
    "print(\" 유의수준: {:.3f}, 유의확률: {:.3f}\".format(test_a, sp))"
   ]
  },
  {
   "cell_type": "code",
   "execution_count": null,
   "id": "composite-equilibrium",
   "metadata": {
    "id": "growing-orbit",
    "outputId": "6042c76a-bc1c-4e03-9c29-110f94cfa8b7"
   },
   "outputs": [
    {
     "name": "stdout",
     "output_type": "stream",
     "text": [
      "[라이브러리 검정]\n",
      " stat: 6.953, p-value: 0.002\n"
     ]
    }
   ],
   "source": [
    "print(\"[라이브러리 검정]\")\n",
    "from statsmodels.stats.oneway import anova_oneway\n",
    "oa = anova_oneway(data=data.melt()['value'], \n",
    "                   groups=data.melt()['variable'],\n",
    "                  use_var = 'equal')\n",
    "print(\" stat: {:.3f}, p-value: {:.3f}\".format(oa.statistic, oa.pvalue))"
   ]
  },
  {
   "cell_type": "code",
   "execution_count": null,
   "id": "functioning-bathroom",
   "metadata": {
    "id": "revolutionary-avatar",
    "outputId": "08954f52-0827-4987-f9d7-1954f3e6511c"
   },
   "outputs": [
    {
     "name": "stdout",
     "output_type": "stream",
     "text": [
      "[라이브러리 검정]\n",
      "data.melt: \n",
      "   variable  value\n",
      "0       A0     76\n",
      "1       A0     80\n",
      "2       A0     78\n"
     ]
    }
   ],
   "source": [
    "# 사후 검정 (정규성 O, 등분산 O, 샘플 사이즈 동일 O - Tukey HSD)\n",
    "print(\"[라이브러리 검정]\")\n",
    "from statsmodels.sandbox.stats.multicomp import MultiComparison\n",
    "from scipy.stats import ttest_ind\n",
    "org_data = data.melt()\n",
    "print('data.melt: \\n', org_data.head(3))"
   ]
  },
  {
   "cell_type": "code",
   "execution_count": null,
   "id": "outside-quest",
   "metadata": {
    "id": "moving-genome",
    "outputId": "551ba094-b82b-4110-93f5-32cc30344188"
   },
   "outputs": [
    {
     "name": "stdout",
     "output_type": "stream",
     "text": [
      " Multiple Comparison of Means - Tukey HSD, FWER=0.05 \n",
      "=====================================================\n",
      "group1 group2 meandiff p-adj   lower    upper  reject\n",
      "-----------------------------------------------------\n",
      "    A0     A1   2.1667 0.6946  -3.5183  7.8516  False\n",
      "    A0     A2      6.0 0.0363   0.3151 11.6849   True\n",
      "    A0     A3     -3.0   0.47  -8.6849  2.6849  False\n",
      "    A1     A2   3.8333 0.2648  -1.8516  9.5183  False\n",
      "    A1     A3  -5.1667 0.0832 -10.8516  0.5183  False\n",
      "    A2     A3     -9.0 0.0014 -14.6849 -3.3151   True\n",
      "-----------------------------------------------------\n"
     ]
    },
    {
     "data": {
      "image/png": "[encoded data removed]",
      "text/plain": [
       "<Figure size 720x432 with 1 Axes>"
      ]
     },
     "metadata": {
      "needs_background": "light"
     },
     "output_type": "display_data"
    }
   ],
   "source": [
    "mc = MultiComparison(data = org_data['value'], \n",
    "                     groups = org_data['variable']).tukeyhsd(alpha=0.05)\n",
    "print(mc)\n",
    "\n",
    "mc.plot_simultaneous()\n",
    "plt.show()\n",
    "## 사후 검정 결과, A0-A2, A2-A3 간의 모평균의 차이가 있는 것으로 확인하였다.\n",
    "## meandiff는 각 그룹간 모평균 차의 점추정량이고, lower~uppwer는 모평균 차의 신뢰구간을 나타낸다.\n",
    "## p-adj는 조정된 p-value로서 유의수준 0.05보다 적은 경우 reject True로 판명되어 귀무가설을 기각하게 된다."
   ]
  },
  {
   "cell_type": "code",
   "execution_count": null,
   "id": "exterior-laptop",
   "metadata": {
    "id": "involved-center",
    "outputId": "1255822e-3e88-4395-8e45-1c17123100f8"
   },
   "outputs": [
    {
     "name": "stdout",
     "output_type": "stream",
     "text": [
      "[데이터 확인]\n",
      "      A0    A1    A2    A3\n",
      "0  81.0  65.0  72.0  89.0\n",
      "1  75.0  80.0  67.0  94.0\n",
      "2  69.0  73.0  62.0  79.0\n",
      "3  90.0  79.0  76.0  88.0\n",
      "4  72.0  81.0  80.0   NaN\n",
      "5  83.0  69.0   NaN   NaN\n"
     ]
    }
   ],
   "source": [
    "# one-way ANOVA (수준 별 샘플 사이즈가 다른 완전확률화계획법)\n",
    "## 각 수준의 모집단이 정규분포를 따르고 분산이 동일하다고 가정한다.\n",
    "data = [[81,75,69,90,72,83],[65,80,73,79,81,69],[72,67,62,76,80],[89,94,79,88]]\n",
    "data_df = DataFrame(data, index=['A%d' %i for i in range(len(data))]).T\n",
    "data_1d = sum(data, []) # 1d list로 정렬\n",
    "test_a = 0.05\n",
    "print(\"[데이터 확인]\\n\", data_df)"
   ]
  },
  {
   "cell_type": "code",
   "execution_count": null,
   "id": "passive-farming",
   "metadata": {
    "id": "cultural-reference",
    "outputId": "915b2fef-69a1-4aa0-bf10-a49caa0b84d1"
   },
   "outputs": [
    {
     "name": "stdout",
     "output_type": "stream",
     "text": [
      "[수기 검정]\n",
      " 수준 별 평균\n",
      " [78.33333333333333, 74.5, 71.4, 87.5]\n",
      " 수준 별 표본의 분산\n",
      " [60.66666667 43.1        50.8        39.        ]\n",
      " 자유도 3, 17\n"
     ]
    }
   ],
   "source": [
    "#H0: 모든 모집단의 평균이 동일하다\n",
    "#H1: 모든 모집단 평균이 동일한 것은 아니다\n",
    "means = [] #모집단(수준)별 평균\n",
    "Vs = [] #모집단(수준)별 분산\n",
    "n = 0 #표본 전체 개수\n",
    "k = [] #모집단(수준) 별 표본개수\n",
    "for d in data:\n",
    "    means.append(np.mean(d))\n",
    "    Vs.append(np.std(d, ddof=1)**2)\n",
    "    n += len(d)\n",
    "    k.append(len(d))\n",
    "mu = np.mean(data_1d) #전체 평균\n",
    "Vs = np.array(Vs)\n",
    "k = np.array(k)\n",
    "dfr = len(k)-1 #모집단 자유도\n",
    "dfe = n - 1 - dfr #오차 자유도\n",
    "print(\"[수기 검정]\")\n",
    "print(\" 수준 별 평균\\n\", means)\n",
    "print(\" 수준 별 표본의 분산\\n\", Vs)\n",
    "print(\" 자유도 {}, {}\".format(dfr, dfe))"
   ]
  },
  {
   "cell_type": "code",
   "execution_count": null,
   "id": "closing-bones",
   "metadata": {
    "id": "empirical-multiple",
    "outputId": "9a8d6f48-1ffc-4c1d-b6da-c31950d44c02"
   },
   "outputs": [
    {
     "name": "stdout",
     "output_type": "stream",
     "text": [
      " SSTR: 643.633, SSE: 839.033, SST: 1482.667\n",
      " MSR: 214.544, MSE: 49.355, F: 4.347\n"
     ]
    }
   ],
   "source": [
    "SSTR = (k * (means - mu)**2).sum() #처리제곱: 처리 평균들과 전체 평균의 오차제곱합 \n",
    "SSE = ((k-1) * Vs).sum() #오차제곱: 처리분산들과 오차 자유도를 곱한 합\n",
    "SST = ((data_1d - mu)**2).sum() #SSTR + SSE\n",
    "MSR = SSTR/dfr\n",
    "MSE = SSE/dfe\n",
    "F = MSR / MSE\n",
    "print(\" SSTR: {:.3f}, SSE: {:.3f}, SST: {:.3f}\".format(SSTR, SSE, SST))\n",
    "print(\" MSR: {:.3f}, MSE: {:.3f}, F: {:.3f}\".format(MSR, MSE, F))"
   ]
  },
  {
   "cell_type": "code",
   "execution_count": null,
   "id": "organic-eight",
   "metadata": {
    "id": "contained-ontario",
    "outputId": "8c6c9bfd-2917-4b35-bb92-43255981a249"
   },
   "outputs": [
    {
     "name": "stdout",
     "output_type": "stream",
     "text": [
      " 오른쪽 검정의 임계값: 3.197, 검정통계량: 4.347\n",
      " 유의수준: 0.050, 유의확률: 0.019\n"
     ]
    }
   ],
   "source": [
    "from scipy.stats import f\n",
    "cv = f.ppf(1-test_a, dfr, dfe)\n",
    "sp = 1-f.cdf(F, dfr, dfe)\n",
    "\n",
    "print(\" 오른쪽 검정의 임계값: {:.3f}, 검정통계량: {:.3f}\".format(cv, F))\n",
    "print(\" 유의수준: {:.3f}, 유의확률: {:.3f}\".format(test_a, sp))"
   ]
  },
  {
   "cell_type": "code",
   "execution_count": null,
   "id": "assumed-ranch",
   "metadata": {
    "id": "immune-activation",
    "outputId": "3e3eee8b-985c-4d5c-a9b7-be282042acd9"
   },
   "outputs": [
    {
     "name": "stdout",
     "output_type": "stream",
     "text": [
      "[라이브러리 검정]\n",
      " stat: 4.347, p-value: 0.019\n"
     ]
    }
   ],
   "source": [
    "print(\"[라이브러리 검정]\")\n",
    "from scipy.stats import f_oneway\n",
    "oa = f_oneway(*data) # *는 리스트 바깥 괄호를 없앤다. 리스트 압축 해제 기능!\n",
    "# 위와 동일: oa = f_oneway(data[0], data[1], data[2], data[3]) \n",
    "print(\" stat: {:.3f}, p-value: {:.3f}\".format(oa.statistic, oa.pvalue))"
   ]
  },
  {
   "cell_type": "code",
   "execution_count": null,
   "id": "dirty-belle",
   "metadata": {
    "id": "placed-diana",
    "outputId": "c94c4ba6-5ee8-4473-9bfd-b84dd22cb5fa"
   },
   "outputs": [
    {
     "name": "stdout",
     "output_type": "stream",
     "text": [
      "[라이브러리 검정]\n",
      "data_df.melt: \n",
      "   variable  value\n",
      "0       A0   81.0\n",
      "1       A0   75.0\n",
      "2       A0   69.0\n"
     ]
    }
   ],
   "source": [
    "# 사후 검정 (정규성 O, 등분산 O, 샘플 사이즈 동일 X - Bonferroni)\n",
    "print(\"[라이브러리 검정]\")\n",
    "from statsmodels.sandbox.stats.multicomp import MultiComparison\n",
    "from scipy.stats import ttest_ind\n",
    "org_data = data_df.melt().dropna()\n",
    "print('data_df.melt: \\n', org_data.head(3))"
   ]
  },
  {
   "cell_type": "code",
   "execution_count": null,
   "id": "hearing-newman",
   "metadata": {
    "id": "valuable-coordination",
    "outputId": "2eb5e9f8-e3c0-4604-8c14-10166bf79a8b"
   },
   "outputs": [
    {
     "name": "stdout",
     "output_type": "stream",
     "text": [
      "Test Multiple Comparison ttest_ind \n",
      "FWER=0.05 method=bonf\n",
      "alphacSidak=0.01, alphacBonf=0.008\n",
      "=============================================\n",
      "group1 group2   stat   pval  pval_corr reject\n",
      "---------------------------------------------\n",
      "    A0     A1  0.9218 0.3783       1.0  False\n",
      "    A0     A2  1.5262 0.1613    0.9678  False\n",
      "    A0     A3 -1.9591 0.0858    0.5146  False\n",
      "    A1     A2  0.7506 0.4721       1.0  False\n",
      "    A1     A3 -3.1239 0.0141    0.0849  False\n",
      "    A2     A3 -3.5486 0.0094    0.0562  False\n",
      "---------------------------------------------\n"
     ]
    }
   ],
   "source": [
    "mc = MultiComparison(data = org_data['value'], \n",
    "                     groups = org_data['variable']\n",
    "                    ).allpairtest(testfunc = ttest_ind, method='bonf')\n",
    "print(mc[0])\n",
    "## 사후 검정 결과, 모든 집단의 모평균 차이가 없는 것으로 나타났다."
   ]
  },
  {
   "cell_type": "markdown",
   "id": "buried-triumph",
   "metadata": {
    "id": "alternative-intake"
   },
   "source": [
    "### - 이분산인 one-way ANOVA"
   ]
  },
  {
   "cell_type": "code",
   "execution_count": null,
   "id": "binary-filling",
   "metadata": {
    "id": "proof-murray",
    "outputId": "73d65baf-2ea6-4a01-b3df-9eaccbd72f59"
   },
   "outputs": [
    {
     "name": "stdout",
     "output_type": "stream",
     "text": [
      "[데이터 확인]\n",
      "    A1  A2  A3  A4\n",
      "0  76  82  79  81\n",
      "1  80  75  87  74\n",
      "2  78  83  88  76\n",
      "3  79  78  86  78\n",
      "4  83  85  84  73\n",
      "5  74  80  82  70\n"
     ]
    }
   ],
   "source": [
    "# 파라미터 use_var를 다르게 설정함으로써 다양한 분산분석이 가능하다.\n",
    "#'equal':standard anova, 'unequal': Welch anova, 'bf':Brown-Forsythe\n",
    "data = DataFrame({\"A1\":[76,80,78,79,83,74], 'A2':[82,75,83,78,85,80], 'A3':[79,87,88,86,84,82], 'A4':[81,74,76,78,73,70]})\n",
    "print(\"[데이터 확인]\\n\", data)"
   ]
  },
  {
   "cell_type": "code",
   "execution_count": null,
   "id": "compound-airline",
   "metadata": {
    "id": "turkish-ocean",
    "outputId": "8dd26236-dc15-43f2-b774-d8ed6bbe9e18"
   },
   "outputs": [
    {
     "name": "stdout",
     "output_type": "stream",
     "text": [
      " [Welch's one-way ANOVA]\n",
      " stat: 6.019, p: 0.011\n"
     ]
    }
   ],
   "source": [
    "# Welch's one-way ANOVA\n",
    "from statsmodels.stats.oneway import anova_oneway\n",
    "print(\" [Welch's one-way ANOVA]\")\n",
    "welch = anova_oneway(data=data.melt()['value'], groups=data.melt()['variable'],\n",
    "                  use_var = 'unequal')\n",
    "print(\" stat: {:.3f}, p: {:.3f}\".format(welch.statistic, welch.pvalue))#대립가설 채택"
   ]
  },
  {
   "cell_type": "code",
   "execution_count": null,
   "id": "fifth-anniversary",
   "metadata": {
    "id": "quiet-gather",
    "outputId": "69ad2edb-64d2-404d-9356-3f19dd68f2df"
   },
   "outputs": [
    {
     "name": "stdout",
     "output_type": "stream",
     "text": [
      " [Brown-Forsythe one-way ANOVA]\n",
      " stat: 6.953, p: 0.002\n"
     ]
    }
   ],
   "source": [
    "# Brown-Forsythe one-way ANOVA\n",
    "print(\" [Brown-Forsythe one-way ANOVA]\")\n",
    "bf = anova_oneway(data=data.melt()['value'], \n",
    "                   groups=data.melt()['variable'], use_var = 'bf')\n",
    "print(\" stat: {:.3f}, p: {:.3f}\".format(bf.statistic, bf.pvalue))#대립가설 채택"
   ]
  },
  {
   "cell_type": "code",
   "execution_count": null,
   "id": "superior-clothing",
   "metadata": {
    "id": "portable-shepherd",
    "outputId": "c1f992c4-ed06-4370-87b7-dfb479ebc81d"
   },
   "outputs": [
    {
     "name": "stdout",
     "output_type": "stream",
     "text": [
      "    A   B    mean(A)    mean(B)      diff        se         T        df  \\\n",
      "0  A1  A2  78.333333  80.500000 -2.166667  1.956471 -1.107436  9.805651   \n",
      "1  A1  A3  78.333333  84.333333 -6.000000  1.885618 -3.181981  9.944065   \n",
      "2  A1  A4  78.333333  75.333333  3.000000  2.038518  1.471657  9.583173   \n",
      "3  A2  A3  80.500000  84.333333 -3.833333  2.023473 -1.894432  9.955991   \n",
      "4  A2  A4  80.500000  75.333333  5.166667  2.166667  2.384615  9.951485   \n",
      "5  A3  A4  84.333333  75.333333  9.000000  2.102908  4.279788  9.819241   \n",
      "\n",
      "       pval    hedges  \n",
      "0  0.679936 -0.590196  \n",
      "1  0.041383 -1.695801  \n",
      "2  0.489353  0.784303  \n",
      "3  0.289890 -1.009616  \n",
      "4  0.143514  1.270854  \n",
      "5  0.007625  2.280865  \n"
     ]
    }
   ],
   "source": [
    "# 사후 검정 (정규성 O, 등분산 X - GamesHowell)\n",
    "from pingouin import pairwise_gameshowell\n",
    "org_data = data.melt()\n",
    "gw = pairwise_gameshowell(dv='value', between='variable', data=org_data)\n",
    "print(gw) ## 사후 검정 결과, A1-A3, A3-A4 간의 모평균의 차이가 있는 것으로 확인함"
   ]
  },
  {
   "cell_type": "markdown",
   "id": "greek-wesley",
   "metadata": {
    "id": "numerous-pressure"
   },
   "source": [
    "### - 등분산인 two-way ANOVA (모수인자-모수인자)"
   ]
  },
  {
   "cell_type": "code",
   "execution_count": null,
   "id": "completed-mouse",
   "metadata": {
    "id": "mexican-bailey",
    "outputId": "c63b8ede-5be8-40e5-e559-ad209da4174b"
   },
   "outputs": [
    {
     "name": "stdout",
     "output_type": "stream",
     "text": [
      "[데이터 확인]\n",
      " B    1    2    3     4\n",
      "A                     \n",
      "1  [4]  [5]  [7]   [8]\n",
      "2  [3]  [7]  [8]  [10]\n",
      "3  [5]  [6]  [9]  [12]\n"
     ]
    }
   ],
   "source": [
    "# 반복이 없는 이원배치 분산분석: 반복이 없으므로 교호작용 효과는 검출할 수 없다.\n",
    "## A, B 모두 모수인자\n",
    "from pandas import DataFrame, crosstab\n",
    "data = DataFrame({\"A\":[1,2,3,1,2,3,1,2,3,1,2,3],\n",
    "                 \"B\":[1,1,1,2,2,2,3,3,3,4,4,4],\n",
    "                 \"Y\": [4,3,5,5,7,6,7,8,9,8,10,12]})\n",
    "print(\"[데이터 확인]\\n\", crosstab(data['A'], data['B'], values=data['Y'], aggfunc=list))"
   ]
  },
  {
   "cell_type": "code",
   "execution_count": null,
   "id": "proof-warehouse",
   "metadata": {
    "id": "sitting-yesterday",
    "outputId": "eb1280db-9610-4810-ef5a-58525de906dd"
   },
   "outputs": [
    {
     "name": "stdout",
     "output_type": "stream",
     "text": [
      "[수기 검정]\n",
      "ANOVA Table:\n",
      "   요인  DF    SS    MS     F        PV\n",
      "0  A   2   8.0   4.0   4.0  0.078717\n",
      "1  B   3  60.0  20.0  20.0  0.001586\n",
      "2  E   6   6.0   1.0    없음        없음\n"
     ]
    }
   ],
   "source": [
    "n = len(data['Y'])\n",
    "a = len(data['A'].value_counts()) #인자 A의 수준 개수\n",
    "b = len(data['B'].value_counts()) #인자 B의 수준 개수\n",
    "dfa = a-1\n",
    "dfb = b-1\n",
    "dfe = dfa*dfb\n",
    "y_mean = data['Y'].mean() #전체 데이터의 평균\n",
    "yi_mean = data.groupby('A').mean()['Y'].values #열평균, 인자 A별 평균\n",
    "yj_mean = data.groupby('B').mean()['Y'].values #행평균, 인자 B별 평균\n",
    "SST = sum((data['Y'] - y_mean)**2)\n",
    "SSA = sum((yi_mean - y_mean)**2) * b\n",
    "SSB = sum((yj_mean - y_mean)**2) * a\n",
    "SSE = 0#오차 제곱합\n",
    "yij_data= data['Y'].values.reshape(-1,a) #재배열한 raw data\n",
    "for i in range(a): #인자A\n",
    "    for j in range(b): #인자B\n",
    "        SSE += (yij_data[j,i] - yi_mean[i] - yj_mean[j] + y_mean)**2\n",
    "MSA = SSA / dfa\n",
    "MSB = SSB / dfb\n",
    "MSE = SSE / dfe\n",
    "\n",
    "from pandas import DataFrame\n",
    "from scipy.stats import f\n",
    "atable1 = DataFrame({\"요인\":['A', 'B', 'E'], \"DF\":[dfa, dfb, dfe], \"SS\":[SSA, SSB, SSE], \"MS\":[MSA, MSB, MSE], \"F\":[MSA/MSE, MSB/MSE, '없음'], 'PV':[1-f.cdf(MSA/MSE, dfa, dfe), 1-f.cdf(MSB/MSE, dfb, dfe), '없음']})\n",
    "print(\"[수기 검정]\")\n",
    "print(\"ANOVA Table:\\n\", atable1) ## A의 주효과 없음, B의 주효과 유의함"
   ]
  },
  {
   "cell_type": "code",
   "execution_count": null,
   "id": "republican-elizabeth",
   "metadata": {
    "id": "associate-prague",
    "outputId": "1d6e722c-76a4-432f-e681-584fb1a3fdba"
   },
   "outputs": [
    {
     "name": "stdout",
     "output_type": "stream",
     "text": [
      "[라이브러리 검정]\n",
      "           df  sum_sq  mean_sq     F    PR(>F)\n",
      "C(A)      2.0     8.0      4.0   4.0  0.078717\n",
      "C(B)      3.0    60.0     20.0  20.0  0.001586\n",
      "Residual  6.0     6.0      1.0   NaN       NaN\n"
     ]
    }
   ],
   "source": [
    "print(\"[라이브러리 검정]\")\n",
    "from statsmodels.formula.api import ols\n",
    "from statsmodels.stats.anova import anova_lm\n",
    "model = ols(\"Y~C(A)+C(B)\", data = data).fit()\n",
    "atable2 = anova_lm(model)\n",
    "print(atable2)\n",
    "## A 그룹간의 차이는 없고, B 그룹간의 차이가 있는 것으로 나타났다."
   ]
  },
  {
   "cell_type": "code",
   "execution_count": null,
   "id": "initial-athens",
   "metadata": {
    "id": "studied-boulder",
    "outputId": "d13be200-4d28-4d39-d3d2-c1dfbc2482f4"
   },
   "outputs": [
    {
     "name": "stdout",
     "output_type": "stream",
     "text": [
      "[데이터 확인]\n",
      " B             1             2             3             4\n",
      "A                                                        \n",
      "1  [64, 66, 70]  [65, 63, 58]  [59, 68, 65]  [58, 50, 49]\n",
      "2  [72, 81, 64]  [57, 43, 52]  [66, 71, 59]  [57, 61, 53]\n",
      "3  [74, 51, 65]  [47, 58, 67]  [58, 45, 42]  [53, 59, 38]\n"
     ]
    }
   ],
   "source": [
    "# 반복이 있는 이원배치 분산분석\n",
    "## A, B 모두 모수인자\n",
    "from pandas import DataFrame, crosstab\n",
    "data = DataFrame(\n",
    "    {\"A\":[1,1,1,2,2,2,3,3,3, 1,1,1,2,2,2,3,3,3, 1,1,1,2,2,2,3,3,3, 1,1,1,2,2,2,3,3,3],#열수준\n",
    "     \"B\":[1,1,1,1,1,1,1,1,1, 2,2,2,2,2,2,2,2,2, 3,3,3,3,3,3,3,3,3, 4,4,4,4,4,4,4,4,4],#행수준\n",
    "  \"Y\":[64,66,70,72,81,64,74,51,65, 65,63,58,57,43,52,47,58,67, 59,68,65,66,71,59,58,45,42, 58,50,49,57,61,53,53,59,38]})\n",
    "\n",
    "print(\"[데이터 확인]\\n\", crosstab(data['A'], data['B'], values = data['Y'], aggfunc=list))"
   ]
  },
  {
   "cell_type": "code",
   "execution_count": null,
   "id": "satisfied-contemporary",
   "metadata": {
    "id": "indonesian-walter",
    "outputId": "7dd6d2c5-529f-41be-92c0-f885f06f6fca"
   },
   "outputs": [
    {
     "name": "stdout",
     "output_type": "stream",
     "text": [
      "[수기 검정]\n",
      "ANOVA Table:\n",
      "     요인  DF           SS          MS         F        PV\n",
      "0    A   2   342.388889  171.194444    3.0815  0.064393\n",
      "1    B   3  1002.888889  334.296296  6.017333  0.003307\n",
      "2  AxB   6   588.944444   98.157407  1.766833  0.148795\n",
      "3    E  24  1333.333333   55.555556        없음        없음\n"
     ]
    }
   ],
   "source": [
    "n = len(data['Y'])\n",
    "a = len(data['A'].value_counts()) #인자 A의 수준 개수\n",
    "b = len(data['B'].value_counts()) #인자 B의 수준 개수\n",
    "r = data.groupby(['A', 'B']).count().iloc[0,0] #동일한 인자 A,B 조건 하 반복 실험횟수\n",
    "dfa = a-1\n",
    "dfb = b-1\n",
    "dfab = dfa*dfb\n",
    "dfe = n - a*b\n",
    "\n",
    "y_mean = data['Y'].mean() #전체 데이터의 평균\n",
    "yi_mean = data.groupby('A').mean()['Y'].values #열평균, 인자 A별 평균\n",
    "yj_mean = data.groupby('B').mean()['Y'].values #행평균, 인자 B별 평균\n",
    "yij_mean = data.groupby(['B', 'A']).mean().values.flatten().reshape(-1,a) #인자A-B 조합별 데이터 평균\n",
    "\n",
    "SST = sum((data['Y'] - y_mean)**2) #전체 제곱합\n",
    "SSA = sum((yi_mean-y_mean)**2) * b * r #A 처리제곱합\n",
    "SSB = sum((yj_mean-y_mean)**2) * a * r #B 처리제곱합\n",
    "ssab = 0 #아직 미완성\n",
    "for i in range(a): #인자A(열)\n",
    "    for j in range(b): #인자B(행)\n",
    "        ssab += (yij_mean[j, i] - yi_mean[i] - yj_mean[j] + y_mean)**2\n",
    "SSAB = ssab * r # 교호작용 제곱합\n",
    "SSE = 0#오차 제곱합\n",
    "yij_data= data['Y'].values.reshape(-1,a,r) #재배열한 raw data\n",
    "for i in range(a): #인자A\n",
    "    for j in range(b): #인자B\n",
    "        SSE += sum((yij_data[j,i] - yij_mean[j, i])**2)\n",
    "\n",
    "MSA = SSA / dfa\n",
    "MSB = SSB / dfb\n",
    "MSAB = SSAB / dfab\n",
    "MSE = SSE / dfe\n",
    "\n",
    "from pandas import DataFrame\n",
    "from scipy.stats import f\n",
    "atable1 = DataFrame({\"요인\":['A', 'B', 'AxB', 'E'], \"DF\":[dfa, dfb, dfab, dfe], \"SS\":[SSA, SSB, SSAB, SSE], \"MS\":[MSA, MSB, MSAB, MSE], \"F\":[MSA/MSE, MSB/MSE, MSAB/MSE, '없음'], 'PV':[1-f.cdf(MSA/MSE, dfa, dfe), 1-f.cdf(MSB/MSE, dfb, dfe), 1-f.cdf(MSAB/MSE, dfab, dfe), '없음']})\n",
    "\n",
    "print(\"[수기 검정]\")\n",
    "print(\"ANOVA Table:\\n\", atable1)\n",
    "# 교호작용이 유의하지 않으므로 이를 E에 풀링하고 A, B의 주효과를 확인해야 한다."
   ]
  },
  {
   "cell_type": "code",
   "execution_count": null,
   "id": "useful-triple",
   "metadata": {
    "id": "collectible-potato",
    "outputId": "cc0ff18d-3721-4ace-db36-ccf6341cfc30"
   },
   "outputs": [
    {
     "name": "stdout",
     "output_type": "stream",
     "text": [
      "pooling 후, ANOVA Table:\n",
      "   요인  DF           SS          MS         F        PV\n",
      "0  A   2   342.388889  171.194444  2.671744  0.085542\n",
      "1  B   3  1002.888889  334.296296   5.21719  0.005102\n",
      "2  E  30  1922.277778   64.075926        없음        없음\n"
     ]
    }
   ],
   "source": [
    "pooled_SSE = SSAB+SSE\n",
    "pooled_dfe = dfab+dfe\n",
    "pooled_MSE = pooled_SSE / pooled_dfe\n",
    "\n",
    "atable2 = DataFrame({\"요인\":['A', 'B', 'E'], \"DF\":[dfa, dfb, pooled_dfe], \"SS\":[SSA, SSB, pooled_SSE], \"MS\":[MSA, MSB, pooled_MSE], \"F\":[MSA/pooled_MSE, MSB/pooled_MSE, '없음'], 'PV':[1-f.cdf(MSA/pooled_MSE, dfa, pooled_dfe), 1-f.cdf(MSB/pooled_MSE, dfb, pooled_dfe), '없음']})\n",
    "print(\"pooling 후, ANOVA Table:\\n\", atable2)\n",
    "## 유의수준 0.05 기준으로 A의 수준별 모평균 차이는 통계적으로 유의하지 않지만, B의 수준별 모평균 차이는 통계적으로 유의한 것으로 나타났다. 이에 B의 수준별 사후검정을 할 필요가 있다. "
   ]
  },
  {
   "cell_type": "code",
   "execution_count": null,
   "id": "robust-tolerance",
   "metadata": {
    "id": "adjacent-westminster",
    "outputId": "c0c5718b-a804-4efc-da19-4b3fed16c549"
   },
   "outputs": [
    {
     "name": "stdout",
     "output_type": "stream",
     "text": [
      "[라이브러리 검정]\n",
      "             df       sum_sq     mean_sq         F    PR(>F)\n",
      "C(A)        2.0   342.388889  171.194444  3.081500  0.064393\n",
      "C(B)        3.0  1002.888889  334.296296  6.017333  0.003307\n",
      "C(A):C(B)   6.0   588.944444   98.157407  1.766833  0.148795\n",
      "Residual   24.0  1333.333333   55.555556       NaN       NaN\n"
     ]
    }
   ],
   "source": [
    "print(\"[라이브러리 검정]\")\n",
    "from statsmodels.formula.api import ols\n",
    "from statsmodels.stats.anova import anova_lm\n",
    "model = ols(\"Y~C(A)+C(B)+C(A):C(B)\", data = data).fit()\n",
    "atable3 = anova_lm(model)\n",
    "print(atable3) #유의수준 0.05 기준으로 A와 B의 교호작용이 유의하지 않은 것으로 확인함"
   ]
  },
  {
   "cell_type": "code",
   "execution_count": null,
   "id": "experienced-canvas",
   "metadata": {
    "id": "fifth-producer",
    "outputId": "26ace201-a4b6-423d-e17b-b5fb24769b75"
   },
   "outputs": [
    {
     "name": "stdout",
     "output_type": "stream",
     "text": [
      "            df       sum_sq     mean_sq         F    PR(>F)\n",
      "C(A)       2.0   342.388889  171.194444  2.671744  0.085542\n",
      "C(B)       3.0  1002.888889  334.296296  5.217190  0.005102\n",
      "Residual  30.0  1922.277778   64.075926       NaN       NaN\n"
     ]
    }
   ],
   "source": [
    "model = ols(\"Y~C(A)+C(B)\", data = data).fit()\n",
    "atable4 = anova_lm(model)\n",
    "print(atable4) #풀링 후 주효과 확인\n",
    "## 유의수준 0.05 기준으로 B는 주효과가 있는 것으로 확인함"
   ]
  },
  {
   "cell_type": "markdown",
   "id": "urban-aside",
   "metadata": {
    "id": "conceptual-commonwealth"
   },
   "source": [
    "### - 등분산인 two-way ANOVA (모수인자-변량인자)"
   ]
  },
  {
   "cell_type": "code",
   "execution_count": null,
   "id": "regulation-restaurant",
   "metadata": {
    "id": "caroline-thursday",
    "outputId": "5b3d4e39-cb3e-4a15-acc6-01ef05e44953"
   },
   "outputs": [
    {
     "name": "stdout",
     "output_type": "stream",
     "text": [
      "[데이터 확인]\n",
      " B    1    2    3     4\n",
      "A                     \n",
      "1  [4]  [5]  [7]   [8]\n",
      "2  [3]  [7]  [8]  [10]\n",
      "3  [5]  [6]  [9]  [12]\n"
     ]
    }
   ],
   "source": [
    "# 반복이 없는 경우: 난괴법 혹은 확률화블럭계획법(RBD, randomized block design)\n",
    "## A가 모수인자, B가 변량인자\n",
    "# '반복이 없는 이원배치 분산분석'과 동일한 방법으로 진행한다.\n",
    "from pandas import DataFrame, crosstab\n",
    "data = DataFrame({\"A\":[1,2,3,1,2,3,1,2,3,1,2,3],\n",
    "                 \"B\":[1,1,1,2,2,2,3,3,3,4,4,4],\n",
    "                 \"Y\": [4,3,5,5,7,6,7,8,9,8,10,12]})\n",
    "\n",
    "print(\"[데이터 확인]\\n\", crosstab(data['A'], data['B'], values = data['Y'], aggfunc=list))"
   ]
  },
  {
   "cell_type": "code",
   "execution_count": null,
   "id": "devoted-wallpaper",
   "metadata": {
    "id": "later-trust",
    "outputId": "5460e35b-89c2-4c21-c7bd-46e17db9a6bf"
   },
   "outputs": [
    {
     "name": "stdout",
     "output_type": "stream",
     "text": [
      "[수기 검정]\n",
      "ANOVA Table:\n",
      "   요인  DF    SS    MS     F        PV\n",
      "0  A   2   8.0   4.0   4.0  0.078717\n",
      "1  B   3  60.0  20.0  20.0  0.001586\n",
      "2  E   6   6.0   1.0    없음        없음\n",
      " B 변량의 분산 추정치: 6.333\n"
     ]
    }
   ],
   "source": [
    "n = len(data['Y'])\n",
    "a = len(data['A'].value_counts()) #모수인자 A의 수준 개수\n",
    "b = len(data['B'].value_counts()) #변량인자 B(=Block)의 수준 개수\n",
    "dfa = a-1\n",
    "dfb = b-1\n",
    "dfe = dfa*dfb\n",
    "y_mean = data['Y'].mean() #전체 데이터의 평균\n",
    "yi_mean = data.groupby('A').mean()['Y'].values #열평균, 인자 A별 평균\n",
    "yj_mean = data.groupby('B').mean()['Y'].values #행평균, 인자 B별 평균\n",
    "SST = sum((data['Y'] - y_mean)**2)\n",
    "SSA = sum((yi_mean - y_mean)**2) * b\n",
    "SSB = sum((yj_mean - y_mean)**2) * a\n",
    "SSE = 0 #오차 제곱합\n",
    "yij_data= data['Y'].values.reshape(-1,a) #재배열한 raw data\n",
    "for i in range(a): #인자A\n",
    "    for j in range(b): #인자B\n",
    "        SSE += (yij_data[j,i] - yi_mean[i] - yj_mean[j] + y_mean)**2\n",
    "MSA = SSA / dfa\n",
    "MSB = SSB / dfb\n",
    "MSE = SSE / dfe\n",
    "\n",
    "from pandas import DataFrame\n",
    "from scipy.stats import f\n",
    "atable1 = DataFrame({\"요인\":['A', 'B', 'E'], \"DF\":[dfa, dfb, dfe], \"SS\":[SSA, SSB, SSE], \"MS\":[MSA, MSB, MSE], \"F\":[MSA/MSE, MSB/MSE, '없음'], \"PV\": [1-f.cdf(MSA/MSE, dfa, dfe), 1-f.cdf(MSB/MSE, dfb, dfe), '없음']})\n",
    "\n",
    "print(\"[수기 검정]\")\n",
    "print(\"ANOVA Table:\\n\", atable1)\n",
    "print(\" B 변량의 분산 추정치: {:.3f}\".format((MSB-MSE)/a))"
   ]
  },
  {
   "cell_type": "code",
   "execution_count": null,
   "id": "inappropriate-eating",
   "metadata": {
    "id": "pending-reality",
    "outputId": "875b88c6-82aa-4315-978e-1bb1bf7ac0c3"
   },
   "outputs": [
    {
     "name": "stdout",
     "output_type": "stream",
     "text": [
      "[라이브러리 검정]\n",
      "           df  sum_sq  mean_sq     F    PR(>F)\n",
      "C(A)      2.0     8.0      4.0   4.0  0.078717\n",
      "C(B)      3.0    60.0     20.0  20.0  0.001586\n",
      "Residual  6.0     6.0      1.0   NaN       NaN\n"
     ]
    }
   ],
   "source": [
    "print(\"[라이브러리 검정]\")\n",
    "from statsmodels.formula.api import ols\n",
    "from statsmodels.stats.anova import anova_lm\n",
    "model = ols(\"Y~C(A)+C(B)\", data = data).fit()\n",
    "atable2 = anova_lm(model)\n",
    "print(atable2)\n",
    "## 모수인자 A는 주효과 검정 결과 유의하지 않고, \n",
    "## 변량인자 B는 주효과 검정 대신 모분산을 추정한다."
   ]
  },
  {
   "cell_type": "code",
   "execution_count": null,
   "id": "remarkable-poland",
   "metadata": {
    "id": "frozen-order",
    "outputId": "aa2b9682-ef9d-4b84-f678-0551a7dbc430",
    "tags": []
   },
   "outputs": [
    {
     "name": "stdout",
     "output_type": "stream",
     "text": [
      "[데이터 확인]\n",
      " B             1             2             3             4\n",
      "A                                                        \n",
      "1  [64, 66, 70]  [65, 63, 58]  [59, 68, 65]  [58, 50, 49]\n",
      "2  [72, 81, 64]  [57, 43, 52]  [66, 71, 59]  [57, 61, 53]\n",
      "3  [74, 51, 65]  [47, 58, 67]  [58, 45, 42]  [53, 59, 38]\n"
     ]
    }
   ],
   "source": [
    "# 반복이 있는 경우: 이원배치 혼합모형(mixed model)\n",
    "## A가 모수인자, B가 변량인자\n",
    "from pandas import DataFrame, crosstab\n",
    "data = DataFrame(\n",
    "    {\"A\":[1,1,1,2,2,2,3,3,3, 1,1,1,2,2,2,3,3,3, 1,1,1,2,2,2,3,3,3, 1,1,1,2,2,2,3,3,3],#열수준\n",
    "     \"B\":[1,1,1,1,1,1,1,1,1, 2,2,2,2,2,2,2,2,2, 3,3,3,3,3,3,3,3,3, 4,4,4,4,4,4,4,4,4],#행수준\n",
    "  \"Y\":[64,66,70,72,81,64,74,51,65, 65,63,58,57,43,52,47,58,67, 59,68,65,66,71,59,58,45,42, 58,50,49,57,61,53,53,59,38]})\n",
    "\n",
    "print(\"[데이터 확인]\\n\", crosstab(data['A'], data['B'], values = data['Y'], aggfunc=list))"
   ]
  },
  {
   "cell_type": "code",
   "execution_count": null,
   "id": "offensive-network",
   "metadata": {
    "id": "correct-leather",
    "outputId": "e7289642-86a6-49f7-a2ae-215de5174474"
   },
   "outputs": [
    {
     "name": "stdout",
     "output_type": "stream",
     "text": [
      "[수기 검정]\n",
      "ANOVA Table:\n",
      "     요인  DF      SS     MS         F\n",
      "0    A   2   342.4  171.2  1.744081\n",
      "1    B   3  1002.9  334.3  6.017333\n",
      "2  AxB   6   588.9   98.2  1.766833\n",
      "3    E  24  1333.3   55.6        없음\n",
      " A-B 교호작용 검정: 1.767, p-value 0.149\n",
      " B 변량의 분산 추정: 30.971\n"
     ]
    }
   ],
   "source": [
    "n = len(data['Y'])\n",
    "a = len(data['A'].value_counts()) #인자 A의 수준 개수\n",
    "b = len(data['B'].value_counts()) #인자 B의 수준 개수\n",
    "r = data.groupby(['A', 'B']).count().iloc[0,0] #동일한 인자 A,B 조건 하 반복 실험횟수\n",
    "dfa = a-1\n",
    "dfb = b-1\n",
    "dfab = dfa*dfb\n",
    "dfe = n - a*b\n",
    "\n",
    "y_mean = data['Y'].mean() #전체 데이터의 평균\n",
    "yi_mean = data.groupby('A').mean()['Y'].values #열평균, 인자 A별 평균\n",
    "yj_mean = data.groupby('B').mean()['Y'].values #행평균, 인자 B별 평균\n",
    "yij_mean = data.groupby(['B', 'A']).mean().values.flatten().reshape(-1,a) #인자A-B 조합별 데이터 평균\n",
    "\n",
    "SST = sum((data['Y'] - y_mean)**2) #전체 제곱합\n",
    "SSA = sum((yi_mean-y_mean)**2) * b * r #A 처리제곱합\n",
    "SSB = sum((yj_mean-y_mean)**2) * a * r #B 처리제곱합\n",
    "ssab = 0 #아직 미완성\n",
    "for i in range(a): #인자A(열)\n",
    "    for j in range(b): #인자B(행)\n",
    "        ssab += (yij_mean[j, i] - yi_mean[i] - yj_mean[j] + y_mean)**2\n",
    "SSAB = ssab * r # 교호작용 제곱합\n",
    "SSE = 0#오차 제곱합\n",
    "yij_data= data['Y'].values.reshape(-1,a,r) #재배열한 raw data\n",
    "for i in range(a): #인자A\n",
    "    for j in range(b): #인자B\n",
    "        SSE += sum((yij_data[j,i] - yij_mean[j, i])**2)\n",
    "MSA = SSA / dfa\n",
    "MSB = SSB / dfb\n",
    "MSAB = SSAB / dfab\n",
    "MSE = SSE / dfe\n",
    "\n",
    "from pandas import DataFrame\n",
    "# 모수인자 A의 통계량을 계산할 때 MSA/MSAB를 사용한다.\n",
    "atable1 = DataFrame({\"요인\":['A', 'B', 'AxB', 'E'], \"DF\":[dfa, dfb, dfab, dfe], \"SS\":[SSA, SSB, SSAB, SSE], \"MS\":[MSA, MSB, MSAB, MSE], \"F\":[MSA/MSAB, MSB/MSE, MSAB/MSE, '없음']})\n",
    "\n",
    "from scipy.stats import f\n",
    "print(\"[수기 검정]\")\n",
    "print(\"ANOVA Table:\\n\", atable1.round(1))\n",
    "print(\" A-B 교호작용 검정: {:.3f}, p-value {:.3f}\".format(MSAB/MSE, 1-f.cdf(MSAB/MSE, dfab, dfe)))\n",
    "print(\" B 변량의 분산 추정: {:.3f}\".format((MSB-MSE)/(a*r)))"
   ]
  },
  {
   "cell_type": "code",
   "execution_count": null,
   "id": "employed-satisfaction",
   "metadata": {
    "id": "experienced-approach",
    "outputId": "8034e0c4-6d79-44b0-e02f-137e7e1ffc50"
   },
   "outputs": [
    {
     "name": "stdout",
     "output_type": "stream",
     "text": [
      "pooling 후, ANOVA Table:\n",
      "   요인  DF      SS     MS         F\n",
      "0  A   2   342.4  171.2  2.671744\n",
      "1  B   3  1002.9  334.3   5.21719\n",
      "2  E  30  1922.3   64.1        없음\n",
      " A 주효과 검정: 2.672, p-value 0.086\n"
     ]
    }
   ],
   "source": [
    "pooled_SSE = SSAB+SSE\n",
    "pooled_dfe = dfab+dfe\n",
    "pooled_MSE = pooled_SSE / pooled_dfe\n",
    "\n",
    "atable2 = DataFrame({\"요인\":['A', 'B', 'E'], \"DF\":[dfa, dfb, pooled_dfe], \"SS\":[SSA, SSB, pooled_SSE], \"MS\":[MSA, MSB, pooled_MSE], \"F\":[MSA/pooled_MSE, MSB/pooled_MSE, '없음']})\n",
    "print(\"pooling 후, ANOVA Table:\\n\", atable2.round(1))\n",
    "print(\" A 주효과 검정: {:.3f}, p-value {:.3f}\".format(MSA/pooled_MSE, 1-f.cdf(MSA/pooled_MSE, dfa, pooled_dfe)))"
   ]
  },
  {
   "cell_type": "markdown",
   "id": "geological-rebecca",
   "metadata": {},
   "source": [
    "# 연습문제"
   ]
  },
  {
   "cell_type": "markdown",
   "id": "latter-anniversary",
   "metadata": {},
   "source": [
    "### - 1번 문제 풀이"
   ]
  },
  {
   "cell_type": "code",
   "execution_count": 520,
   "id": "twenty-scotland",
   "metadata": {},
   "outputs": [
    {
     "data": {
      "text/plain": [
       "(11.185, 17.386)"
      ]
     },
     "execution_count": 520,
     "metadata": {},
     "output_type": "execute_result"
    }
   ],
   "source": [
    "data = [10, 19, 15, 11, 13, 14, 18]\n",
    "x = np.mean(data)\n",
    "s = np.std(data, ddof=1)\n",
    "n = len(data)\n",
    "df = n-1\n",
    "conf_a = 1-0.95\n",
    "\n",
    "## 모분산을 모르는 경우 T통계량\n",
    "from scipy.stats import t\n",
    "SE = s/np.sqrt(n) # standard error\n",
    "conf_t = t.ppf(1-conf_a/2, df)\n",
    "ME = conf_t * SE # margin of error\n",
    "round(x-ME, 3), round(x+ME, 3)"
   ]
  },
  {
   "cell_type": "code",
   "execution_count": 521,
   "id": "given-infection",
   "metadata": {},
   "outputs": [
    {
     "data": {
      "text/plain": [
       "(12.063, 16.508)"
      ]
     },
     "execution_count": 521,
     "metadata": {},
     "output_type": "execute_result"
    }
   ],
   "source": [
    "## 모분산을 아는 경우 Z통계량\n",
    "from scipy.stats import norm\n",
    "sigma = 3\n",
    "\n",
    "SE = sigma/np.sqrt(n) # standard error\n",
    "conf_z = 1.96 #conf_z = norm.ppf(1-conf_a/2)\n",
    "ME = conf_z * SE # margin of error\n",
    "round(x-ME, 3), round(x+ME, 3)"
   ]
  },
  {
   "cell_type": "markdown",
   "id": "municipal-korea",
   "metadata": {},
   "source": [
    "### - 2번 문제 풀이"
   ]
  },
  {
   "cell_type": "code",
   "execution_count": 522,
   "id": "sharp-college",
   "metadata": {},
   "outputs": [
    {
     "data": {
      "text/plain": [
       "202.74"
      ]
     },
     "execution_count": 522,
     "metadata": {},
     "output_type": "execute_result"
    }
   ],
   "source": [
    "P = 0.05\n",
    "ME = 0.03\n",
    "conf_a = 1-0.95\n",
    "\n",
    "from scipy.stats import norm\n",
    "conf_z = norm.ppf(1-conf_a/2)\n",
    "size = conf_z**2 * P*(1-P) / ME**2\n",
    "round(size, 2)\n",
    "# 표본비율에 대한 최소표본규모 문제이다. 표본규모 계산 시 모비율 P를 사용하거나 표본비율 p로 계산하거나 두 정보 모두 없다면 p=0.5로 계산한다. 여기서는 모비율 P를 사용하였다. 정답은 203개이다."
   ]
  },
  {
   "cell_type": "markdown",
   "id": "centered-stanley",
   "metadata": {},
   "source": [
    "### - 3번 문제 풀이"
   ]
  },
  {
   "cell_type": "code",
   "execution_count": 523,
   "id": "brilliant-moment",
   "metadata": {},
   "outputs": [
    {
     "data": {
      "text/plain": [
       "(31.71, 90.36)"
      ]
     },
     "execution_count": 523,
     "metadata": {},
     "output_type": "execute_result"
    }
   ],
   "source": [
    "n = 30\n",
    "df = n-1\n",
    "v = 50\n",
    "conf_a = 1-0.95\n",
    "\n",
    "from scipy.stats import chi2\n",
    "conf_c1 = chi2.ppf(1-conf_a/2, df)\n",
    "conf_c2 = chi2.ppf(conf_a/2, df)\n",
    "CR1 = df * v / conf_c1\n",
    "CR2 = df * v / conf_c2\n",
    "round(CR1, 2), round(CR2, 2)\n",
    "# 모평균을 모르는 경우 표본 정보로 모분산의 신뢰구간을 구하는 문제이다."
   ]
  },
  {
   "cell_type": "markdown",
   "id": "specialized-electricity",
   "metadata": {},
   "source": [
    "### - 4번 문제 풀이"
   ]
  },
  {
   "cell_type": "code",
   "execution_count": 524,
   "id": "plain-exhibition",
   "metadata": {},
   "outputs": [
    {
     "data": {
      "text/plain": [
       "(0.06, 0.44)"
      ]
     },
     "execution_count": 524,
     "metadata": {},
     "output_type": "execute_result"
    }
   ],
   "source": [
    "# 표본비율로 모비율의 신뢰구간을 구하는 문제이다.\n",
    "p = 5/20\n",
    "n = 20\n",
    "\n",
    "from scipy.stats import norm\n",
    "SE = np.sqrt(p*(1-p)/n)\n",
    "conf_a = 1-0.95\n",
    "conf_z = norm.ppf(1-conf_a/2)\n",
    "ME = conf_z * SE\n",
    "round(p-ME, 3), round(p+ME, 3)"
   ]
  },
  {
   "cell_type": "markdown",
   "id": "defensive-clearance",
   "metadata": {},
   "source": [
    "### - 5번 문제 풀이"
   ]
  },
  {
   "cell_type": "code",
   "execution_count": 526,
   "id": "paperback-restriction",
   "metadata": {},
   "outputs": [
    {
     "name": "stdout",
     "output_type": "stream",
     "text": [
      "1. 유의수준 0.050와 유의확률 0.013를 비교\n",
      "2. 임곗값 1.645와 검정통계량 2.224를 비교\n"
     ]
    }
   ],
   "source": [
    "# 모비율의 가설검정 문제\n",
    "p0 = 0.35\n",
    "n = 450\n",
    "x = 180\n",
    "p = x / n\n",
    "test_a = 0.05\n",
    "# 귀무가설: 성인 남성의 흡연율은 35%와 차이가 없다.\n",
    "# 대립가설: 성인 남성의 흡연율은 35%보다 높다.\n",
    "from scipy.stats import norm\n",
    "SE = np.sqrt(p0*(1-p0) / n) #귀무가설의 모비율로 SE 계산\n",
    "zstat = (p-p0)/SE\n",
    "sp = 1-norm.cdf(zstat) #one-right\n",
    "cv = norm.ppf(1-test_a) #one-right\n",
    "print(\"1. 유의수준 {:.3f}와 유의확률 {:.3f}를 비교\".format(test_a, sp))\n",
    "print(\"2. 임곗값 {:.3f}와 검정통계량 {:.3f}를 비교\".format(cv, zstat))\n",
    "# 검정통계량의 유의확률이 유의수준인 0.05보다 작기 때문에 귀무가설을 기각할 수 있다.\n",
    "# 즉, 성인 남성의 흡연율은 35%보다 높다."
   ]
  },
  {
   "cell_type": "markdown",
   "id": "chinese-property",
   "metadata": {},
   "source": [
    "### - 6번 문제 풀이"
   ]
  },
  {
   "cell_type": "code",
   "execution_count": 527,
   "id": "surprised-finnish",
   "metadata": {},
   "outputs": [
    {
     "name": "stdout",
     "output_type": "stream",
     "text": [
      "1. 유의수준 0.050와 유의확률 0.581를 비교\n",
      "2. 임곗값 31.555, 70.222와 검정통계량 43.120를 비교\n"
     ]
    }
   ],
   "source": [
    "# 모분산의 가설검정 문제\n",
    "n = 50\n",
    "df = n-1\n",
    "v = 8.8\n",
    "v0 = 10\n",
    "test_a = 0.05\n",
    "# 귀무가설: 모분산은 10과 차이가 없다.\n",
    "# 대립가설: 모분산은 10과 차이가 있다.\n",
    "cstat = df *v / v0\n",
    "if chi2.cdf(cstat, df) < 0.5:\n",
    "    sp = (chi2.cdf(cstat, df))*2\n",
    "else:\n",
    "    sp = (1-chi2.cdf(cstat, df))*2\n",
    "cv1 = chi2.ppf(test_a/2, df)\n",
    "cv2 = chi2.ppf(1-test_a/2, df)\n",
    "print(\"1. 유의수준 {:.3f}와 유의확률 {:.3f}를 비교\".format(test_a, sp))\n",
    "print(\"2. 임곗값 {:.3f}, {:.3f}와 검정통계량 {:.3f}를 비교\".format(cv1,cv2, cstat))\n",
    "# 검정통계량의 유의확률이 유의수준인 0.05보다 크기 때문에 귀무가설을 기각할 수 없다.\n",
    "# 즉, 모분산은 10과 차이가 없다."
   ]
  },
  {
   "cell_type": "markdown",
   "id": "framed-graph",
   "metadata": {},
   "source": [
    "### - 7번 문제 풀이"
   ]
  },
  {
   "cell_type": "code",
   "execution_count": 531,
   "id": "descending-throw",
   "metadata": {},
   "outputs": [
    {
     "name": "stdout",
     "output_type": "stream",
     "text": [
      "1. 유의수준 0.050와 유의확률 0.000를 비교\n",
      "2. 임곗값 +/- 2.010와 검정통계량 26.517를 비교\n"
     ]
    }
   ],
   "source": [
    "# 대응표본 t검정 문제\n",
    "n = 50\n",
    "df = n-1\n",
    "d_mean = 15\n",
    "s = 4\n",
    "test_a = 0.05\n",
    "# 귀무가설: 혈압약 투약 전후의 평균 혈압 차이가 없다.\n",
    "# 대립가설: 혈압약 투약 전후의 평균 혈압 차이가 있다.\n",
    "from scipy.stats import t\n",
    "import numpy as np\n",
    "d0 = 0\n",
    "SE = s / np.sqrt(n)\n",
    "tstat = (d_mean - d0) / SE\n",
    "sp = (1-t.cdf(np.abs(tstat), df))*2 # two-way\n",
    "cv = t.ppf(1-test_a/2, df)\n",
    "cv = \"+/- {:.3f}\".format(cv)\n",
    "print(\"1. 유의수준 {:.3f}와 유의확률 {:.3f}를 비교\".format(test_a, sp))\n",
    "print(\"2. 임곗값 {}와 검정통계량 {:.3f}를 비교\".format(cv, tstat))\n",
    "# 검정통계량의 유의확률이 유의수준인 0.05보다 작기 때문에 귀무가설을 기각할 수 있다.\n",
    "# 즉, 혈압약 투약 전후의 평균 혈압 차이가 있다."
   ]
  },
  {
   "cell_type": "markdown",
   "id": "naked-cookie",
   "metadata": {},
   "source": [
    "### - 8번 문제 풀이"
   ]
  },
  {
   "cell_type": "code",
   "execution_count": 532,
   "id": "exact-currency",
   "metadata": {},
   "outputs": [
    {
     "name": "stdout",
     "output_type": "stream",
     "text": [
      "검정통계량 -0.851, 유의확률 0.395\n"
     ]
    }
   ],
   "source": [
    "# 모비율 차이의 가설검정 문제\n",
    "n1 = 100\n",
    "p1 = 0.3\n",
    "n2 = 180\n",
    "p2 = 0.35\n",
    "d = p1 - p2\n",
    "test_a = 0.05\n",
    "# 귀무가설: 남녀 지지율은 차이가 없다, 대립가설: 남녀 지지율은 차이가 있다\n",
    "from scipy.stats import norm\n",
    "d0 = 0\n",
    "pe = (n1*p1 + n2*p2) / (n1+n2) #pooled estimate (합동비율)\n",
    "SE = np.sqrt(pe*(1-pe)*(1/n1 + 1/n2))\n",
    "zstat = d / SE\n",
    "sp = (1-norm.cdf(np.abs(zstat)))*2\n",
    "print(\"검정통계량 {:.3f}, 유의확률 {:.3f}\".format(zstat, sp))\n",
    "# 검정통계량의 유의확률이 유의수준인 0.05보다 크기 때문에 귀무가설을 기각할 수 없다.\n",
    "# 즉, 남녀 지지율은 차이가 없다."
   ]
  },
  {
   "cell_type": "markdown",
   "id": "minus-poultry",
   "metadata": {},
   "source": [
    "### - 9번 문제 풀이"
   ]
  },
  {
   "cell_type": "code",
   "execution_count": 533,
   "id": "minor-midwest",
   "metadata": {},
   "outputs": [
    {
     "name": "stdout",
     "output_type": "stream",
     "text": [
      "검정통계량 -4.571, 유의확률 0.000\n"
     ]
    }
   ],
   "source": [
    "# 모분산이 다른 독립표본 t검정 문제\n",
    "x1 = 100\n",
    "s1 = 5\n",
    "x2 = 110\n",
    "s2 = 6\n",
    "n1 = 14\n",
    "n2 = 12\n",
    "test_a = 0.05\n",
    "\n",
    "# 귀무가설: 두 제품의 평균은 차이가 없다, 대립가설: 두 제품의 평균은 차이가 있다.\n",
    "from scipy.stats import t\n",
    "d0 = 0\n",
    "d = x1 - x2\n",
    "df = ((s1**2)/n1 + (s2**2)/n2)**2 / (1/(n1-1)*((s1**2)/n1)**2 + 1/(n2-1)*((s2**2/n2)**2))\n",
    "SE = np.sqrt(s1**2/n1 + s2**2/n2)\n",
    "tstat = (x1-x2-d0)/SE\n",
    "sp = (1-t.cdf(np.abs(tstat), df))*2 # two-way\n",
    "print(\"검정통계량 {:.3f}, 유의확률 {:.3f}\".format(tstat, sp))\n",
    "# 검정통계량의 유의확률이 유의수준인 0.05보다 작기 때문에 귀무가설을 기각할 수 있다.\n",
    "# 즉, 두 제품의 평균은 차이가 있다."
   ]
  },
  {
   "cell_type": "markdown",
   "id": "typical-table",
   "metadata": {},
   "source": [
    "### - 10번 문제 풀이"
   ]
  },
  {
   "cell_type": "code",
   "execution_count": 545,
   "id": "bottom-acrobat",
   "metadata": {
    "tags": []
   },
   "outputs": [
    {
     "name": "stdout",
     "output_type": "stream",
     "text": [
      "   sepallength  sepalwidth  petallength  petalwidth  target\n",
      "0          5.1         3.5          1.4         0.2  setosa\n",
      "1          4.9         3.0          1.4         0.2  setosa\n",
      "2          4.7         3.2          1.3         0.2  setosa\n"
     ]
    }
   ],
   "source": [
    "from sklearn.datasets import load_iris\n",
    "from pandas import DataFrame\n",
    "import numpy as np\n",
    "load = load_iris()\n",
    "feature_names = list(map(lambda x: x.replace(\"(cm)\", \"\").replace(' ', ''), load['feature_names']))\n",
    "data = DataFrame(np.c_[load['data'], load['target']], columns = feature_names+['target'])\n",
    "data['target'] = data['target'].map({0:load['target_names'][0], 1:load['target_names'][1], 2:load['target_names'][2]})\n",
    "print(data.head(3))"
   ]
  },
  {
   "cell_type": "code",
   "execution_count": 546,
   "id": "latin-cooperation",
   "metadata": {},
   "outputs": [
    {
     "name": "stdout",
     "output_type": "stream",
     "text": [
      "검정통계량 119.265, 유의확률 0.000\n",
      "ANOVA table:\n",
      "              df  sum_sq  mean_sq        F  PR(>F)\n",
      "C(target)    2.0  63.212   31.606  119.265     0.0\n",
      "Residual   147.0  38.956    0.265      NaN     NaN\n"
     ]
    }
   ],
   "source": [
    "# 귀무가설: target 수준들 간 데이터의 sepal length는 차이가 없다\n",
    "# 대립가설: 적어도 한쌍의 수준들 간 데이터의 sepal length 평균은 차이가 있다. \n",
    "from statsmodels.stats.oneway import anova_oneway\n",
    "oa = anova_oneway(data=data['sepallength'], groups = data['target'], use_var='equal')\n",
    "print(\"검정통계량 {:.3f}, 유의확률 {:.3f}\".format(oa.statistic, oa.pvalue))\n",
    "\n",
    "from statsmodels.formula.api import ols\n",
    "from statsmodels.stats.anova import anova_lm\n",
    "model = ols('sepallength ~ C(target)', data=data).fit()\n",
    "print(\"ANOVA table:\")\n",
    "print(anova_lm(model).round(3))\n",
    "# 검정통계량의 유의확률이 유의수준인 0.05보다 크작기 때문에 귀무가설을 기각할 수 있다.\n",
    "# 즉, 적어도 한쌍의 수준들 간 데이터의 sepal length 평균은 차이가 있다."
   ]
  },
  {
   "cell_type": "code",
   "execution_count": 548,
   "id": "personalized-repeat",
   "metadata": {},
   "outputs": [
    {
     "name": "stdout",
     "output_type": "stream",
     "text": [
      "   Multiple Comparison of Means - Tukey HSD, FWER=0.05   \n",
      "=========================================================\n",
      "  group1     group2   meandiff p-adj lower  upper  reject\n",
      "---------------------------------------------------------\n",
      "    setosa versicolor     0.93 0.001 0.6862 1.1738   True\n",
      "    setosa  virginica    1.582 0.001 1.3382 1.8258   True\n",
      "versicolor  virginica    0.652 0.001 0.4082 0.8958   True\n",
      "---------------------------------------------------------\n"
     ]
    },
    {
     "data": {
      "image/png": "[encoded data removed]",
      "text/plain": [
       "<Figure size 720x432 with 1 Axes>"
      ]
     },
     "metadata": {
      "needs_background": "light"
     },
     "output_type": "display_data"
    }
   ],
   "source": [
    "# 사후검정- Tukey HSD\n",
    "from statsmodels.sandbox.stats.multicomp import MultiComparison\n",
    "mc = MultiComparison(data = data['sepallength'], groups = data['target']).tukeyhsd(alpha=0.05)\n",
    "print(mc)\n",
    "\n",
    "from matplotlib import pyplot as plt\n",
    "mc.plot_simultaneous()\n",
    "plt.show()\n",
    "## 모든 수준 쌍들의 평균 간에 차이가 있는 것으로 확인하였다."
   ]
  }
 ],
 "metadata": {
  "colab": {
   "provenance": []
  },
  "kernelspec": {
   "display_name": "Python 3",
   "language": "python",
   "name": "python3"
  },
  "language_info": {
   "codemirror_mode": {
    "name": "ipython",
    "version": 3
   },
   "file_extension": ".py",
   "mimetype": "text/x-python",
   "name": "python",
   "nbconvert_exporter": "python",
   "pygments_lexer": "ipython3",
   "version": "3.8.8"
  },
  "toc-showtags": true
 },
 "nbformat": 4,
 "nbformat_minor": 5
}
