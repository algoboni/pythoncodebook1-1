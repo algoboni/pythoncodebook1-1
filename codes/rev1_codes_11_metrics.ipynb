{
 "cells": [
  {
   "cell_type": "markdown",
   "id": "first-display",
   "metadata": {},
   "source": [
    "# **핵심만 요약한 통계와 머신러닝 파이썬 코드북 개정1판**\n",
    "- ⓒ2023 AlgoBoni all rights reserved.\n",
    "- 본 컨텐츠의 저작권은 알고보니에 있습니다. 저작권법에 의해 보호를 받는 저작물이므로 무단 전재와 무단 복제를 금합니다.\n",
    "- 본 컨텐츠의 종이책은 [교보문고](https://product.kyobobook.co.kr/detail/S000209591909), [예스24](https://www.yes24.com/Product/Goods/122661688), [알라딘](https://www.aladin.co.kr/shop/wproduct.aspx?ISBN=K262935029&start=pnaver_02)에서 구매할 수 있습니다. 종이책에서는 아래 개념 및 코드에 대한 설명과 연습문제를 제공합니다."
   ]
  },
  {
   "cell_type": "markdown",
   "id": "dated-final",
   "metadata": {
    "id": "based-namibia"
   },
   "source": [
    "# 11. 모델 평가 지표와 거리 지표"
   ]
  },
  {
   "cell_type": "markdown",
   "id": "superb-switzerland",
   "metadata": {
    "id": "determined-polymer"
   },
   "source": [
    "## 11-1. 회귀모델 평가지표"
   ]
  },
  {
   "cell_type": "code",
   "execution_count": 1055,
   "id": "unlike-switzerland",
   "metadata": {},
   "outputs": [],
   "source": [
    "from sklearn.linear_model import LinearRegression\n",
    "from sklearn.svm import SVR\n",
    "from sklearn.datasets import load_diabetes\n",
    "from pandas import DataFrame\n",
    "from sklearn.model_selection import train_test_split\n",
    "import numpy as np\n",
    "from sklearn.preprocessing import StandardScaler\n",
    "\n",
    "# 데이터 불러오기\n",
    "X, y = load_diabetes()['data'], load_diabetes()['target']\n",
    "\n",
    "# 데이터 표준화 및 분할\n",
    "ss = StandardScaler()\n",
    "X = ss.fit_transform(X)\n",
    "X_train, X_test, y_train, y_test = train_test_split(X, y)\n",
    "\n",
    "# 선형 회귀 적합 및 예측\n",
    "lr = LinearRegression().fit(X_train, y_train)\n",
    "pred1 = lr.predict(X_test)\n",
    "\n",
    "# SVM 회귀 적합 및 예측\n",
    "svr = SVR().fit(X_train, y_train)\n",
    "pred2 = svr.predict(X_test)"
   ]
  },
  {
   "cell_type": "code",
   "execution_count": 1058,
   "id": "oriented-firewall",
   "metadata": {
    "id": "female-exception",
    "outputId": "0019ef68-5dd6-4554-921d-c27e33e334d2"
   },
   "outputs": [
    {
     "name": "stdout",
     "output_type": "stream",
     "text": [
      ">> Linear regression vs SVM\n",
      " MAE: 45.02 vs 58.54\n",
      " MAPE: 45.20 vs 57.32\n",
      " MSE: 2921.17 vs 4865.25\n",
      " RMSE: 54.05 vs 69.75\n",
      " R2: 0.52 vs 0.20\n",
      " MSLE: 0.20 vs 0.29\n",
      " RMSLE: 0.45 vs 0.54\n"
     ]
    }
   ],
   "source": [
    "# 2개의 회귀모델 평가 및 비교\n",
    "from sklearn.metrics import mean_absolute_error, mean_squared_error, mean_squared_log_error, r2_score\n",
    "from statsmodels.tools.eval_measures import rmse, rmspe\n",
    "def MAPE(y_true, y_pred):\n",
    "    mape = np.mean(np.abs((y_true - y_pred)/y_true))*100\n",
    "    return mape\n",
    "def RMSLE(y_true, y_pred):\n",
    "    rmsle = np.sqrt(mean_squared_log_error(y_true, y_pred))\n",
    "    return rmsle\n",
    "\n",
    "titles = ['MAE', 'MAPE', 'MSE', 'RMSE', 'R2', 'MSLE', 'RMSLE']\n",
    "functions = [mean_absolute_error, MAPE, mean_squared_error, rmse, r2_score, mean_squared_log_error, RMSLE]\n",
    "print(\">> Linear regression vs SVM\")\n",
    "for title, function in zip(titles, functions):\n",
    "    score1 = function(y_test, pred1)\n",
    "    score2 = function(y_test, pred2)\n",
    "    print(\" {}: {:.2f} vs {:.2f}\".format(title, score1, score2))\n",
    "## R2는 높고, 나머지 지표들은 더 적은 값을 얻은 Linear regression의 회귀모델 성능이 SVM보다 더 좋은 것으로 평가 된다."
   ]
  },
  {
   "cell_type": "markdown",
   "id": "worth-classroom",
   "metadata": {
    "id": "phantom-geology"
   },
   "source": [
    "## 11-2. 분류모델 평가지표"
   ]
  },
  {
   "cell_type": "code",
   "execution_count": 1062,
   "id": "raised-check",
   "metadata": {
    "id": "emerging-hurricane",
    "outputId": "d0f5c4d1-dccf-4acc-bc18-70a566446802"
   },
   "outputs": [],
   "source": [
    "from sklearn.linear_model import LogisticRegression\n",
    "from sklearn.svm import SVC\n",
    "from sklearn.datasets import load_breast_cancer\n",
    "from pandas import DataFrame\n",
    "from sklearn.model_selection import train_test_split\n",
    "import numpy as np\n",
    "from sklearn.preprocessing import StandardScaler\n",
    "from sklearn.metrics import classification_report\n",
    "\n",
    "# 데이터 불러오기\n",
    "X, y = load_breast_cancer()['data'], load_breast_cancer()['target']\n",
    "\n",
    "# 데이터 표준화 및 분할\n",
    "ss = StandardScaler()\n",
    "X = ss.fit_transform(X)\n",
    "X_train, X_test, y_train, y_test = train_test_split(X, y, stratify=y, random_state=10)"
   ]
  },
  {
   "cell_type": "code",
   "execution_count": 1064,
   "id": "inner-watts",
   "metadata": {},
   "outputs": [
    {
     "name": "stdout",
     "output_type": "stream",
     "text": [
      ">> Logistic regression vs SVM\n",
      " accuracy: 0.97 vs 0.97\n",
      " precision: 0.98 vs 0.96\n",
      " recall: 0.98 vs 0.99\n",
      " f1_score: 0.98 vs 0.97\n",
      " log_loss: 0.97 vs 1.21\n",
      " MCC: 0.94 vs 0.93\n",
      " cohen: 0.94 vs 0.92\n"
     ]
    }
   ],
   "source": [
    "# 로지스틱 회귀 적합 및 예측\n",
    "lr = LogisticRegression().fit(X_train, y_train)\n",
    "pred1 = lr.predict(X_test)\n",
    "\n",
    "# SVM 분류 적합 및 예측\n",
    "svc = SVC().fit(X_train, y_train)\n",
    "pred2 = svc.predict(X_test)\n",
    "\n",
    "# 2개의 분류모델 평가 및 비교\n",
    "from sklearn.metrics import accuracy_score, precision_score, recall_score, f1_score, log_loss, matthews_corrcoef, cohen_kappa_score, confusion_matrix\n",
    "titles = ['accuracy', 'precision', 'recall', 'f1_score', 'log_loss', 'MCC', 'cohen']\n",
    "functions = [accuracy_score, precision_score, recall_score, f1_score, log_loss, matthews_corrcoef, cohen_kappa_score]\n",
    "print(\">> Logistic regression vs SVM\")\n",
    "for title, function in zip(titles, functions):\n",
    "    score1 = function(y_test, pred1)\n",
    "    score2 = function(y_test, pred2)\n",
    "    print(\" {}: {:.2f} vs {:.2f}\".format(title, score1, score2))"
   ]
  },
  {
   "cell_type": "code",
   "execution_count": 1065,
   "id": "binding-polish",
   "metadata": {},
   "outputs": [
    {
     "name": "stdout",
     "output_type": "stream",
     "text": [
      ">> Logistic regression confusion matrix:\n",
      "         예측값(N)  예측값(P)\n",
      "실제값(N)      51       2\n",
      "실제값(P)       2      88\n",
      "\n",
      ">> SVM confusion matrix:\n",
      "         예측값(N)  예측값(P)\n",
      "실제값(N)      49       4\n",
      "실제값(P)       1      89\n",
      "\n",
      ">> Logistic regression report:\n",
      "               precision    recall  f1-score   support\n",
      "\n",
      "           0       0.96      0.96      0.96        53\n",
      "           1       0.98      0.98      0.98        90\n",
      "\n",
      "    accuracy                           0.97       143\n",
      "   macro avg       0.97      0.97      0.97       143\n",
      "weighted avg       0.97      0.97      0.97       143\n",
      "\n",
      ">> SVM report:\n",
      "               precision    recall  f1-score   support\n",
      "\n",
      "           0       0.98      0.92      0.95        53\n",
      "           1       0.96      0.99      0.97        90\n",
      "\n",
      "    accuracy                           0.97       143\n",
      "   macro avg       0.97      0.96      0.96       143\n",
      "weighted avg       0.97      0.97      0.96       143\n",
      "\n"
     ]
    }
   ],
   "source": [
    "# confusion matrix와 classification report 비교\n",
    "lr_cm = DataFrame(confusion_matrix(y_test, pred1), index=['실제값(N)', '실제값(P)'], columns=['예측값(N)', '예측값(P)'])\n",
    "svm_cm = DataFrame(confusion_matrix(y_test, pred2), index=['실제값(N)', '실제값(P)'], columns=['예측값(N)', '예측값(P)'])\n",
    "print(\">> Logistic regression confusion matrix:\\n\", lr_cm)\n",
    "print(\"\\n>> SVM confusion matrix:\\n\", svm_cm)\n",
    "\n",
    "lr_report = classification_report(y_test, pred1)\n",
    "svm_report = classification_report(y_test, pred2)\n",
    "print(\"\\n>> Logistic regression report:\\n\", lr_report)\n",
    "print(\">> SVM report:\\n\", svm_report)"
   ]
  },
  {
   "cell_type": "code",
   "execution_count": 1066,
   "id": "wanted-engine",
   "metadata": {
    "id": "confirmed-signature",
    "outputId": "c8f3ea34-1e71-4ecd-d514-d53f5307c09c"
   },
   "outputs": [
    {
     "data": {
      "image/png": "[encoded data removed]",
      "text/plain": [
       "<Figure size 864x432 with 2 Axes>"
      ]
     },
     "metadata": {
      "needs_background": "light"
     },
     "output_type": "display_data"
    }
   ],
   "source": [
    "# 분류모델의 성능 시각화 (1)\n",
    "from sklearn.metrics import precision_recall_curve, roc_curve, roc_auc_score\n",
    "from matplotlib import pyplot as plt\n",
    "# 앞서 적합한 로지스틱 회귀 모델로 예측값, 예측확률값 가져오기\n",
    "pred = lr.predict(X_test) \n",
    "prob = lr.predict_proba(X_test)[:, 1] # 1이 될 probability thresholds\n",
    "\n",
    "## 1) precision-recall의 차이가 최소가 되는 지점 찾기\n",
    "# Precision-recall trade-off\n",
    "precision, recall, thresholds = precision_recall_curve(y_test, prob)\n",
    "thresholds = list(thresholds)+[1]\n",
    "idx = np.argmin(np.abs(precision - recall))\n",
    "best_threshold = thresholds[idx]\n",
    "\n",
    "fig, ax = plt.subplots(1,2, figsize=(12,6))\n",
    "ax[0].set_title(\"Precision-recall trade-off\")\n",
    "ax[0].plot(thresholds, precision, label='precision')\n",
    "ax[0].plot(thresholds, recall, label='recall', linestyle='dashed')\n",
    "ax[0].plot(best_threshold, recall[idx], marker='o', color='red', label=\"best_threshold\")\n",
    "ax[0].text(0.6, 0.9, \"best threshold: {:.3f}\".format(best_threshold), color='red')\n",
    "ax[0].legend()\n",
    "ax[0].set_xlabel('probability thresholds')\n",
    "ax[0].set_ylabel('precision & recall')\n",
    "\n",
    "## 2) TPR - FPR을 최대화하는 확률임곗값 찾기\n",
    "# ROC curve & best threshold\n",
    "fpr, tpr, thresholds = roc_curve(y_test, prob)\n",
    "auc = roc_auc_score(y_test, prob)\n",
    "\n",
    "## best thresholds(=cut-off value) 찾기\n",
    "## Youden Index (Youden's J statistic): recall - (1-specificity)의 최대 지점\n",
    "import numpy as np\n",
    "J = tpr - fpr\n",
    "idx= np.argmax(J)\n",
    "best_threshold = thresholds[idx]\n",
    "best_tpr = tpr[idx]\n",
    "best_fpr = fpr[idx]\n",
    "\n",
    "ax[1].set_title(\"ROC curve & best threshold\")\n",
    "ax[1].plot(fpr, tpr, label=\"AUC\")\n",
    "ax[1].plot([0,1], [0,1], linestyle='dashed')\n",
    "ax[1].plot(best_fpr, best_tpr, marker='o', color='red', label=\"best_threshold\")\n",
    "ax[1].text(0.1, 0.9, \"best thresholds: {:.3f}\".format(best_threshold), color='red')\n",
    "ax[1].text(0.1, 0.8, \"AUC: {:.3f}\".format(auc), color='red')\n",
    "ax[1].legend()\n",
    "ax[1].set_xlabel('FPR')\n",
    "ax[1].set_ylabel('TPR')\n",
    "plt.show()\n",
    "\n",
    "## Precision-recall trade-off plot을 통해 Precision과 recall의 차이가 최소가 되는 cut-off value(0.519)를 확인할 수 있다.\n",
    "## ROC curve plot을 통해 AUC와 TPR - FPR이 최대가 되는 cut-off value(0.426)를 확인할 수 있다."
   ]
  },
  {
   "cell_type": "code",
   "execution_count": 1069,
   "id": "listed-career",
   "metadata": {
    "id": "everyday-canon",
    "outputId": "169a8475-a423-44ec-ae6c-d1ad7d25f420"
   },
   "outputs": [
    {
     "name": "stdout",
     "output_type": "stream",
     "text": [
      "baseline_lift: 0.629\n",
      "lift chart:\n",
      "         pred_prob  y_true  captured_R         R      lift\n",
      "Decile                                                   \n",
      "1       13.999467      14    0.155556  0.979021  1.555556\n",
      "2       13.996522      14    0.155556  0.979021  1.555556\n",
      "3       13.988619      14    0.155556  0.979021  1.555556\n",
      "4       13.966385      14    0.155556  0.979021  1.555556\n",
      "5       13.812808      14    0.155556  0.979021  1.555556\n",
      "6       13.112845      13    0.144444  0.909091  1.444444\n",
      "7        6.829995       7    0.077778  0.489510  0.777778\n",
      "8        0.269139       0    0.000000  0.000000  0.000000\n",
      "9        0.004845       0    0.000000  0.000000  0.000000\n",
      "10       0.000003       0    0.000000  0.000000  0.000000 \n",
      "\n"
     ]
    },
    {
     "name": "stderr",
     "output_type": "stream",
     "text": [
      "<ipython-input-1069-3d1c68bbe64b>:13: SettingWithCopyWarning: \n",
      "A value is trying to be set on a copy of a slice from a DataFrame\n",
      "\n",
      "See the caveats in the documentation: https://pandas.pydata.org/pandas-docs/stable/user_guide/indexing.html#returning-a-view-versus-a-copy\n",
      "  rank['Decile'][i] = decile\n"
     ]
    },
    {
     "data": {
      "image/png": "[encoded data removed]",
      "text/plain": [
       "<Figure size 360x360 with 1 Axes>"
      ]
     },
     "metadata": {
      "needs_background": "light"
     },
     "output_type": "display_data"
    }
   ],
   "source": [
    "# 분류모델의 성능 시각화 (2) - Lift chart\n",
    "# 예측된 확률과 실제 클래스를 확률 내림차순으로 정렬\n",
    "rank = DataFrame({\"pred_prob\": prob, 'y_true': y_test}).sort_values(by='pred_prob', ascending=False).reset_index(drop=True)\n",
    "\n",
    "# 10개 구간으로 나눔\n",
    "rank['Decile'] = 10 #임시로 입력\n",
    "start=0\n",
    "end = len(rank)//10\n",
    "end_start=end-start\n",
    "decile = 1\n",
    "while end < len(rank):\n",
    "    for i in range(start, end):\n",
    "        rank['Decile'][i] = decile\n",
    "    decile += 1\n",
    "    start = end\n",
    "    end += len(rank)//10\n",
    "\n",
    "# baseline lift 계산 및 실구매자수 집계\n",
    "total = len(y_test) #전체 데이터 수\n",
    "count = y_test.sum() #1(True)의 개수\n",
    "baseline_lift = count/total\n",
    "print(\"baseline_lift: {:.3f}\".format(baseline_lift))\n",
    "liftchart = rank.groupby('Decile').sum()\n",
    "\n",
    "# liftchart에 captured response, response, lift 추가\n",
    "liftchart['captured_R'] = liftchart['y_true']/count\n",
    "liftchart['R'] = liftchart['y_true']/(total/10) #10=등급수\n",
    "liftchart['lift'] = liftchart['R']/baseline_lift\n",
    "print('lift chart:\\n', liftchart, \"\\n\")\n",
    "\n",
    "plt.rcParams['figure.figsize'] = (5,5)\n",
    "plt.title(\"Lift chart\")\n",
    "plt.bar(liftchart.index, liftchart['lift'])\n",
    "plt.ylabel(\"Lift\")\n",
    "plt.xlabel('Decile')\n",
    "plt.show()"
   ]
  },
  {
   "cell_type": "code",
   "execution_count": 1079,
   "id": "least-student",
   "metadata": {
    "id": "iraqi-universal",
    "outputId": "5546c7fe-a390-4d2c-ead2-a7643dd0cef8",
    "tags": []
   },
   "outputs": [
    {
     "name": "stdout",
     "output_type": "stream",
     "text": [
      " accuracy: 0.82\n",
      " precision: [0.82 0.81 0.86]\n",
      " recall: [0.93 0.94 0.5 ]\n",
      " f1_score: [0.87 0.87 0.63]\n",
      "\n",
      ">>> classification_report:\n",
      "               precision    recall  f1-score   support\n",
      "\n",
      "           0       0.82      0.93      0.87        15\n",
      "           1       0.81      0.94      0.87        18\n",
      "           2       0.86      0.50      0.63        12\n",
      "\n",
      "    accuracy                           0.82        45\n",
      "   macro avg       0.83      0.79      0.79        45\n",
      "weighted avg       0.83      0.82      0.81        45\n",
      "\n",
      ">>> confusion_matrix:\n",
      "         예측값(0)  예측값(1)  예측값(2)\n",
      "실제값(0)      14       0       1\n",
      "실제값(1)       1      17       0\n",
      "실제값(2)       2       4       6\n"
     ]
    }
   ],
   "source": [
    "# Multi-class 분류 모델의 평가\n",
    "from sklearn.svm import SVC\n",
    "from sklearn.model_selection import train_test_split\n",
    "from sklearn.datasets import load_wine\n",
    "# 데이터 불러오기\n",
    "load = load_wine()\n",
    "X = load['data'][:, :5]\n",
    "y = load['target']\n",
    "X_train, X_test, y_train, y_test = train_test_split(X, y, stratify=y, random_state=10)\n",
    "\n",
    "# 모델 적합\n",
    "svm = SVC(C=1, kernel='rbf', gamma='auto', probability=True)\n",
    "svm.fit(X_train, y_train)\n",
    "pred = svm.predict(X_test)\n",
    "prob = svm.predict_proba(X_test)[:, 1]\n",
    "\n",
    "# 모델 평가\n",
    "titles = ['accuracy', 'precision', 'recall',  'f1_score']\n",
    "functions = [accuracy_score, precision_score, recall_score, f1_score]\n",
    "for title, function in zip(titles, functions):\n",
    "    if function in [precision_score, recall_score, f1_score]:\n",
    "        params = {'average':None} #각 클래스 별 점수 반환을 위한 설정\n",
    "        score = function(y_test, pred, **params)\n",
    "    else:\n",
    "        score = function(y_test, pred)\n",
    "    print(\" {}: {}\".format(title, score.round(2)))\n",
    "    \n",
    "print(\"\\n>>> classification_report:\\n\", classification_report(y_test, pred))\n",
    "print(\">>> confusion_matrix:\\n\", DataFrame(confusion_matrix(y_test, pred), index=['실제값(0)', '실제값(1)', '실제값(2)'], columns=['예측값(0)', '예측값(1)', '예측값(2)']))"
   ]
  },
  {
   "cell_type": "code",
   "execution_count": 1082,
   "id": "collaborative-peeing",
   "metadata": {
    "id": "indirect-alpha",
    "outputId": "218969ef-f251-4051-c3c7-4faf35f1a59e"
   },
   "outputs": [
    {
     "data": {
      "image/png": "[encoded data removed]",
      "text/plain": [
       "<Figure size 864x288 with 3 Axes>"
      ]
     },
     "metadata": {
      "needs_background": "light"
     },
     "output_type": "display_data"
    }
   ],
   "source": [
    "# Multi-class 분류모델의 성능 시각화\n",
    "from sklearn.preprocessing import label_binarize\n",
    "from sklearn.multiclass import OneVsRestClassifier\n",
    "y_train2 = label_binarize(y_train, classes=np.unique(y_train))\n",
    "y_test2 = label_binarize(y_test, classes=np.unique(y_test))\n",
    "ovr_clf = OneVsRestClassifier(svm) # 앞서 적합한 모델 입력\n",
    "ovr_clf.fit(X_train, y_train2)\n",
    "prob3 = ovr_clf.predict_proba(X_test)\n",
    "\n",
    "fprs, tprs, aucs, best_thresholds, best_idx = [], [], [], [], []\n",
    "for i in range(len(np.unique(y_train))):\n",
    "    fpr, tpr, thresholds = roc_curve(y_test2[:,i], prob3[:, i])\n",
    "    idx = np.argmax(tpr - fpr) #최적의 threshold idx\n",
    "    best_threshold = thresholds[idx] #최적의 threshold값\n",
    "    auc = roc_auc_score(y_test2[:,i], prob3[:, i])\n",
    "    fprs.append(fpr) #해당 클래스의 최적값들을 리스트에 추가\n",
    "    tprs.append(tpr)\n",
    "    aucs.append(auc)\n",
    "    best_thresholds.append(best_threshold)\n",
    "    best_idx.append(idx)\n",
    "\n",
    "fig, axes = plt.subplots(1,3, figsize=(12,4))\n",
    "for i, ax in enumerate(axes):\n",
    "    ax.plot(fprs[i], tprs[i], label='ROC curve')\n",
    "    ax.set_title(\"class{} (AUC: {:.3f})\".format(i, aucs[i]))\n",
    "    ax.plot(fprs[i][best_idx[i]], tprs[i][best_idx[i]], marker=\"o\", color='red')\n",
    "plt.show()"
   ]
  },
  {
   "cell_type": "markdown",
   "id": "armed-recovery",
   "metadata": {
    "id": "surprised-desert"
   },
   "source": [
    "## 11-3. 군집모델 평가지표"
   ]
  },
  {
   "cell_type": "code",
   "execution_count": 1089,
   "id": "bronze-question",
   "metadata": {
    "id": "involved-focus",
    "outputId": "dc103d95-ec64-4f56-ca8b-23181bd54421"
   },
   "outputs": [],
   "source": [
    "# 데이터 불러오기\n",
    "from sklearn.datasets import load_iris\n",
    "X, target = load_iris()['data'], load_iris()['target']\n",
    "\n",
    "# Kmeans clustering 적합\n",
    "from sklearn.cluster import KMeans\n",
    "kmeans = KMeans(n_clusters=3).fit(X)\n",
    "cluster = kmeans.predict(X) # 예측 군집"
   ]
  },
  {
   "cell_type": "code",
   "execution_count": 1090,
   "id": "available-confusion",
   "metadata": {},
   "outputs": [
    {
     "name": "stdout",
     "output_type": "stream",
     "text": [
      " silhouette: 0.553\n",
      " calinski: 561.628\n",
      " davies: 0.662\n"
     ]
    }
   ],
   "source": [
    "# 실제 군집값이 없는 경우\n",
    "from sklearn.metrics import silhouette_score, calinski_harabasz_score, davies_bouldin_score\n",
    "functions = [silhouette_score, calinski_harabasz_score, davies_bouldin_score]\n",
    "titles = ['silhouette', 'calinski', 'davies']\n",
    "for f , t in zip(functions, titles):\n",
    "    score = f(X, cluster)\n",
    "    print(\" {}: {:.3f}\".format(t, score))"
   ]
  },
  {
   "cell_type": "code",
   "execution_count": 1091,
   "id": "associate-effect",
   "metadata": {},
   "outputs": [
    {
     "name": "stdout",
     "output_type": "stream",
     "text": [
      " ARI: 0.730\n",
      " NMI: 0.758\n",
      " completeness: 0.765\n",
      " homogeneity: 0.751\n",
      " v-measure: 0.758\n",
      " rand: 0.880\n",
      " MI: 0.826\n"
     ]
    }
   ],
   "source": [
    "# 실제 군집값이 있는 경우\n",
    "from sklearn.metrics import adjusted_rand_score, normalized_mutual_info_score, completeness_score, homogeneity_score, v_measure_score, rand_score, mutual_info_score\n",
    "functions = [adjusted_rand_score, normalized_mutual_info_score, completeness_score, homogeneity_score, v_measure_score, rand_score, mutual_info_score]\n",
    "titles = ['ARI', 'NMI', 'completeness', 'homogeneity', 'v-measure', 'rand', 'MI']\n",
    "for f , t in zip(functions, titles):\n",
    "    score = f(target, cluster)\n",
    "    print(\" {}: {:.3f}\".format(t, score))"
   ]
  },
  {
   "cell_type": "markdown",
   "id": "south-diameter",
   "metadata": {
    "id": "clean-harvard"
   },
   "source": [
    "## 11-4. 거리 지표"
   ]
  },
  {
   "cell_type": "markdown",
   "id": "broad-thanks",
   "metadata": {},
   "source": [
    "### - 연속형 변수의 거리들"
   ]
  },
  {
   "cell_type": "code",
   "execution_count": 1093,
   "id": "processed-financing",
   "metadata": {
    "id": "latin-tractor",
    "outputId": "0cc02383-8ca0-435c-a879-aea6f80fab46"
   },
   "outputs": [
    {
     "name": "stdout",
     "output_type": "stream",
     "text": [
      "euclidean distance: 4.359 = 4.359\n"
     ]
    }
   ],
   "source": [
    "# 연속형 변수의 거리들\n",
    "from scipy.spatial.distance import euclidean, seuclidean, cityblock, minkowski, mahalanobis\n",
    "import numpy as np\n",
    "\n",
    "NV1 = np.array([1, 5, 7, 9])\n",
    "NV2 = np.array([2, 4, 8, 13])\n",
    "V = np.array([0.1, 1, 10, 5]) #V = component variances (분산)\n",
    "IV = np.array([[1, 0.5, 0.5, 0.1], [0.1, 2, 1, 0.5], [0.5, 0.5, 1, 0.2], [1,1,1,1]]) \n",
    "#IV = The inverse of the covariance matrix (역공분산)\n",
    "\n",
    "#유클리드 거리\n",
    "eu1 = euclidean(NV1, NV2)\n",
    "eu2 = np.sqrt(((NV1 - NV2)**2).sum())\n",
    "print(\"euclidean distance: {:.3f} = {:.3f}\".format(eu1, eu2))"
   ]
  },
  {
   "cell_type": "code",
   "execution_count": 1094,
   "id": "extraordinary-server",
   "metadata": {},
   "outputs": [
    {
     "name": "stdout",
     "output_type": "stream",
     "text": [
      "seuclidean distance: 3.782 = 3.782\n"
     ]
    }
   ],
   "source": [
    "#표준화 거리\n",
    "seu1 = seuclidean(NV1, NV2, V)\n",
    "seu2 =np.sqrt(((NV1 - NV2)**2/V).sum())\n",
    "print(\"seuclidean distance: {:.3f} = {:.3f}\".format(seu1, seu2))"
   ]
  },
  {
   "cell_type": "code",
   "execution_count": 1095,
   "id": "middle-alert",
   "metadata": {},
   "outputs": [
    {
     "name": "stdout",
     "output_type": "stream",
     "text": [
      "Manhattan distance: 7.000 = 7.000\n"
     ]
    }
   ],
   "source": [
    "#맨해튼 거리\n",
    "man1 = cityblock(NV1, NV2)\n",
    "man2 = np.abs(NV1 - NV2).sum()\n",
    "print(\"Manhattan distance: {:.3f} = {:.3f}\".format(man1, man2))"
   ]
  },
  {
   "cell_type": "code",
   "execution_count": 1096,
   "id": "collected-cycle",
   "metadata": {},
   "outputs": [
    {
     "name": "stdout",
     "output_type": "stream",
     "text": [
      "minkowski distance(p=1): 7.000 = 7.000\n",
      "minkowski distance(p=2): 4.359 = 4.359\n"
     ]
    }
   ],
   "source": [
    "#민코프스키 거리\n",
    "p = 1\n",
    "min1 = minkowski(NV1, NV2, p=1)\n",
    "min2 = ((np.abs(NV1 - NV2)**p).sum())**1/p\n",
    "p = 2\n",
    "min3 = minkowski(NV1, NV2, p=2)\n",
    "min4 = np.sqrt(((np.abs(NV1 - NV2))**p).sum())\n",
    "print(\"minkowski distance(p=1): {:.3f} = {:.3f}\".format(min1, min2))\n",
    "print(\"minkowski distance(p=2): {:.3f} = {:.3f}\".format(min3, min4))"
   ]
  },
  {
   "cell_type": "code",
   "execution_count": 1097,
   "id": "happy-rainbow",
   "metadata": {},
   "outputs": [
    {
     "name": "stdout",
     "output_type": "stream",
     "text": [
      "mahalanobis distance: 4.701 = 4.701\n"
     ]
    }
   ],
   "source": [
    "#마할라노비스 거리\n",
    "mah1 = mahalanobis(NV1, NV2, IV)\n",
    "\n",
    "mn = len(NV1)\n",
    "reshaped_mat1 = (NV1-NV2).reshape(-1,mn) #형태 변환 (1*4)\n",
    "result1 = np.dot(reshaped_mat1, IV) # np.dot을 통해 행렬곱을 진행\n",
    "reshaped_mat2 = (NV1-NV2).reshape(-mn, 1) #형태 변환 (4*1)\n",
    "result2 = np.dot(result1, reshaped_mat2)\n",
    "mah2 = float(np.sqrt(result2))\n",
    "print(\"mahalanobis distance: {:.3f} = {:.3f}\".format(mah1, mah2))"
   ]
  },
  {
   "cell_type": "markdown",
   "id": "boxed-chess",
   "metadata": {
    "id": "random-hudson"
   },
   "source": [
    "### - 범주형 변수의 거리들"
   ]
  },
  {
   "cell_type": "code",
   "execution_count": 1098,
   "id": "pacific-cotton",
   "metadata": {
    "id": "furnished-chaos",
    "outputId": "db0462e1-5134-442e-df67-60c7239fecb4"
   },
   "outputs": [
    {
     "name": "stdout",
     "output_type": "stream",
     "text": [
      "[Boolean data]\n",
      "       Life  Life2  Life3  Life4  Love  Love2  Love3  Love4  Love5  Love6  \\\n",
      "doc_1     1      0      0      0     0      0      0      0      0      0   \n",
      "doc_2     1      1      1      1     1      1      1      1      1      1   \n",
      "\n",
      "       Love7  Learn  Learn2  Learn3  Learn4  Learn5  \n",
      "doc_1      0      1       1       1       1       1  \n",
      "doc_2      1      1       1       1       0       0  \n"
     ]
    }
   ],
   "source": [
    "# 범주형 변수의 거리들\n",
    "from scipy.spatial.distance import jaccard, cosine\n",
    "from sklearn.metrics import pairwise_distances\n",
    "\n",
    "# Boolean data 생성\n",
    "print(\"[Boolean data]\")\n",
    "bdf = DataFrame({'Life':[1, 1], 'Life2':[0,1], 'Life3':[0,1], 'Life4':[0,1], 'Love':[0,1], 'Love2':[0,1], 'Love3':[0,1], 'Love4':[0,1], 'Love5':[0,1], 'Love6':[0,1], 'Love7':[0,1], 'Learn':[1,1], 'Learn2':[1,1], 'Learn3':[1,1], 'Learn4':[1,0], 'Learn5':[1,0] }, index=['doc_1', 'doc_2'])\n",
    "doc_1 = np.array(bdf.loc['doc_1', :])\n",
    "doc_2 = np.array(bdf.loc['doc_2', :])\n",
    "print(bdf)"
   ]
  },
  {
   "cell_type": "code",
   "execution_count": 1107,
   "id": "cooked-natural",
   "metadata": {},
   "outputs": [
    {
     "name": "stdout",
     "output_type": "stream",
     "text": [
      " - Jaccard distance: 0.750 = 0.750 = 0.750\n",
      " - Jaccard similarity: 0.250 = 0.250 = 0.250\n"
     ]
    }
   ],
   "source": [
    "# 자카드 거리와 자카드 유사도 계산\n",
    "jac1 = jaccard(doc_1, doc_2) # scipy\n",
    "jac2 = pairwise_distances(bdf.values, metric='jaccard')[0][1] #sklearn\n",
    "\n",
    "check = DataFrame(bdf.sum(), columns=['check'])\n",
    "union = len(check[check['check'] != 0])\n",
    "intersec = len(check[check['check'] == 2])\n",
    "jac3 = 1 - intersec/union\n",
    "print(\" - Jaccard distance: {:.3f} = {:.3f} = {:.3f}\".format(jac1, jac2, jac3))\n",
    "print(\" - Jaccard similarity: {:.3f} = {:.3f} = {:.3f}\".format(1-jac1, 1-jac2, 1-jac3))"
   ]
  },
  {
   "cell_type": "code",
   "execution_count": 1103,
   "id": "recorded-obligation",
   "metadata": {},
   "outputs": [
    {
     "name": "stdout",
     "output_type": "stream",
     "text": [
      "[Frequency data]\n",
      "      Life  Love  Learn\n",
      "doc1     1     0      5\n",
      "doc2     4     7      3\n"
     ]
    }
   ],
   "source": [
    "# Frequancy data 생성\n",
    "print(\"[Frequency data]\")\n",
    "fdf = DataFrame({\"Life\":[1,4], 'Love':[0,7], 'Learn':[5,3]}, index=['doc1', 'doc2'])\n",
    "doc1 = np.array(fdf.loc['doc1', :])\n",
    "doc2 = np.array(fdf.loc['doc2', :])\n",
    "print(fdf)"
   ]
  },
  {
   "cell_type": "code",
   "execution_count": 1106,
   "id": "standing-solid",
   "metadata": {},
   "outputs": [
    {
     "name": "stdout",
     "output_type": "stream",
     "text": [
      " - cosine distance: 0.564 = 0.567 = 0.567\n",
      " - cosine similarity: 0.436 = 0.433 = 0.433\n"
     ]
    }
   ],
   "source": [
    "# 코사인 거리와 코사인 유사도 계산\n",
    "cos1 = cosine(doc_1, doc_2) # scipy\n",
    "cos2 = pairwise_distances(fdf.values, metric='cosine')[0][1] #sklearn\n",
    "\n",
    "cossim = np.sum(doc1*doc2) / ((np.sqrt(np.sum((doc1)**2)))*np.sqrt(np.sum((doc2)**2)))\n",
    "cos3 = 1 - cossim\n",
    "print(\" - cosine distance: {:.3f} = {:.3f} = {:.3f}\".format(cos1, cos2, cos3))\n",
    "print(\" - cosine similarity: {:.3f} = {:.3f} = {:.3f}\".format(1-cos1, 1-cos2, 1-cos3))"
   ]
  },
  {
   "cell_type": "markdown",
   "id": "direct-least",
   "metadata": {},
   "source": [
    "# 연습문제"
   ]
  },
  {
   "cell_type": "markdown",
   "id": "current-liberty",
   "metadata": {},
   "source": [
    "### - 1번 문제 풀이"
   ]
  },
  {
   "cell_type": "code",
   "execution_count": 1116,
   "id": "confirmed-video",
   "metadata": {},
   "outputs": [
    {
     "name": "stdout",
     "output_type": "stream",
     "text": [
      "  area_type  availability  size  total_sqft  bath  balcony   price\n",
      "0     Super             0     3      1056.0     2        1   39.07\n",
      "1      Plot             1     6      2600.0     5        3  120.00\n",
      "2     Super             1     5      1521.0     3        1   95.00\n"
     ]
    }
   ],
   "source": [
    "from pandas import read_csv\n",
    "realestate = read_csv('https://raw.githubusercontent.com/algoboni/pythoncodebook1-1/main/practice8_BHP2.csv')\n",
    "print(realestate.head(3))"
   ]
  },
  {
   "cell_type": "markdown",
   "id": "classified-cargo",
   "metadata": {},
   "source": [
    "### - 2번 문제 풀이"
   ]
  },
  {
   "cell_type": "code",
   "execution_count": 1117,
   "id": "flexible-litigation",
   "metadata": {},
   "outputs": [
    {
     "name": "stdout",
     "output_type": "stream",
     "text": [
      "  CUST_ID      BALANCE  BALANCE_FREQUENCY  PURCHASES  PURCHASES_FREQUENCY  \\\n",
      "0  C10001    40.900749           0.818182      95.40             0.166667   \n",
      "1  C10002  3202.467416           0.909091       0.00             0.000000   \n",
      "2  C10003  2495.148862           1.000000     773.17             1.000000   \n",
      "\n",
      "   PURCHASES_TRX  \n",
      "0              2  \n",
      "1              0  \n",
      "2             12  \n"
     ]
    }
   ],
   "source": [
    "from pandas import read_csv\n",
    "df = read_csv('https://raw.githubusercontent.com/algoboni/pythoncodebook1-1/main/practice10_credit_card.csv')\n",
    "print(df.head(3))"
   ]
  },
  {
   "cell_type": "markdown",
   "id": "greenhouse-aspect",
   "metadata": {},
   "source": [
    "### - 3번 문제 풀이"
   ]
  },
  {
   "cell_type": "code",
   "execution_count": 1108,
   "id": "false-scanner",
   "metadata": {},
   "outputs": [
    {
     "name": "stdout",
     "output_type": "stream",
     "text": [
      "     a  hello  one  is  temperature  you  I  banana\n",
      "문서1  0      1    0   1            0    0  0       0\n",
      "문서2  1      1    0   1            0    0  1       1\n"
     ]
    }
   ],
   "source": [
    "from pandas import DataFrame\n",
    "table = DataFrame([[0,1,0,1,0,0,0,0], [1,1,0,1,0,0,1,1]], index=['문서1', '문서2'], columns=['a', 'hello', 'one', 'is', 'temperature', 'you', 'I', 'banana'])\n",
    "print(table)"
   ]
  }
 ],
 "metadata": {
  "colab": {
   "provenance": []
  },
  "kernelspec": {
   "display_name": "Python 3",
   "language": "python",
   "name": "python3"
  },
  "language_info": {
   "codemirror_mode": {
    "name": "ipython",
    "version": 3
   },
   "file_extension": ".py",
   "mimetype": "text/x-python",
   "name": "python",
   "nbconvert_exporter": "python",
   "pygments_lexer": "ipython3",
   "version": "3.8.8"
  },
  "toc-showtags": true
 },
 "nbformat": 4,
 "nbformat_minor": 5
}
