{
 "cells": [
  {
   "cell_type": "markdown",
   "id": "automotive-butter",
   "metadata": {
    "id": "suspected-immunology"
   },
   "source": [
    "# **핵심만 요약한 통계와 머신러닝 파이썬 코드북 개정1판**\n",
    "- ⓒ2023 AlgoBoni all rights reserved.\n",
    "- 본 컨텐츠의 저작권은 알고보니에 있습니다. 저작권법에 의해 보호를 받는 저작물이므로 무단 전재와 무단 복제를 금합니다.\n",
    "- 본 컨텐츠의 종이책은 [교보문고](https://product.kyobobook.co.kr/detail/S000209591909), [예스24](https://www.yes24.com/Product/Goods/122661688), [알라딘](https://www.aladin.co.kr/shop/wproduct.aspx?ISBN=K262935029&start=pnaver_02)에서 구매할 수 있습니다. 종이책에서는 아래 개념 및 코드에 대한 설명과 연습문제를 제공합니다."
   ]
  },
  {
   "cell_type": "markdown",
   "id": "convenient-travel",
   "metadata": {
    "id": "liberal-target"
   },
   "source": [
    "# 7. 공분산과 상관계수\n",
    "## 7-1. 공분산 "
   ]
  },
  {
   "cell_type": "code",
   "execution_count": null,
   "id": "annual-slave",
   "metadata": {
    "id": "eastern-sellers",
    "outputId": "810d175d-bce0-47ad-d09b-7386df96d428"
   },
   "outputs": [
    {
     "name": "stdout",
     "output_type": "stream",
     "text": [
      "[수기 계산]\n",
      " 16.80, 16.80\n"
     ]
    }
   ],
   "source": [
    "print(\"[수기 계산]\")\n",
    "import numpy as np\n",
    "X = np.array([4,6,6,8,8,9,9,10,12,12])\n",
    "Y = np.array([39,42,45,47,50,50,52,55,57,60])\n",
    "Xm = np.mean(X)\n",
    "Ym = np.mean(Y)\n",
    "n = len(X)\n",
    "\n",
    "# 공분산을 계산하는 두 가지 방법\n",
    "cov1 = (np.sum(X*Y) - n*Xm*Ym) / (n-1)\n",
    "cov2 = sum((X - Xm)*(Y - Ym)) / (n-1)\n",
    "print(\" {:.2f}, {:.2f}\".format(cov1, cov2))"
   ]
  },
  {
   "cell_type": "code",
   "execution_count": null,
   "id": "impressive-senator",
   "metadata": {
    "id": "comic-facility",
    "outputId": "95b4d41e-2003-49ea-d9bf-ee4cdc6a832a"
   },
   "outputs": [
    {
     "name": "stdout",
     "output_type": "stream",
     "text": [
      "[라이브러리 계산]\n",
      "           X          Y\n",
      "X   6.711111  16.800000\n",
      "Y  16.800000  44.011111\n",
      " X-Y의 공분산: 16.80\n"
     ]
    }
   ],
   "source": [
    "print(\"[라이브러리 계산]\")\n",
    "cov3 = np.cov(X, Y) # numpy는 공분산 행렬을 반환해줌\n",
    "print(DataFrame(cov3, columns=['X', 'Y'], index=['X', 'Y']))\n",
    "print(\" X-Y의 공분산: {:.2f}\".format(cov3[0][1]))"
   ]
  },
  {
   "cell_type": "markdown",
   "id": "numeric-howard",
   "metadata": {
    "id": "resistant-reynolds"
   },
   "source": [
    "## 7-2. 상관계수"
   ]
  },
  {
   "cell_type": "markdown",
   "id": "liquid-showcase",
   "metadata": {
    "id": "stylish-consensus"
   },
   "source": [
    "### - 피어슨 상관계수"
   ]
  },
  {
   "cell_type": "code",
   "execution_count": 124,
   "id": "informational-phoenix",
   "metadata": {
    "id": "musical-carpet",
    "outputId": "1089b5b0-a9c9-4fd6-e2c9-33d188216a3a"
   },
   "outputs": [
    {
     "name": "stdout",
     "output_type": "stream",
     "text": [
      "[수기 계산]\n",
      " 0.98, 0.98\n"
     ]
    }
   ],
   "source": [
    "# 피어슨 상관계수 (=표본상관계수)\n",
    "print(\"[수기 계산]\")\n",
    "X = np.array([4,6,6,8,8,9,9,10,12,12])\n",
    "Y = np.array([39,42,45,47,50,50,52,55,57,60])\n",
    "\n",
    "# 표본상관계수 계산하는 두 가지 방법\n",
    "Xm = np.mean(X)\n",
    "Ym = np.mean(Y)\n",
    "n = len(X)\n",
    "corr1 = (np.sum(X*Y) - n*Xm*Ym) / np.sqrt(sum((X-Xm)**2) * sum((Y-Ym)**2))\n",
    "\n",
    "Sx = np.sqrt(sum((X - Xm)**2) / (n-1)) # X표본표준편차\n",
    "Sy = np.sqrt(sum((Y - Ym)**2) / (n-1)) # Y표본표준편차\n",
    "cov1 = (np.sum(X*Y) - n*Xm*Ym) / (n-1) #X, Y의 공분산\n",
    "corr2 = cov1 / (Sx*Sy) # 공분산을 X, Y의 표본표준편차들로 나누어서 구한다.\n",
    "print(\" {:.2f}, {:.2f}\".format(corr1, corr2))"
   ]
  },
  {
   "cell_type": "code",
   "execution_count": 125,
   "id": "bulgarian-quilt",
   "metadata": {
    "id": "atomic-repeat",
    "outputId": "8f5cb711-f7d9-437f-9789-aa74cef7f47d"
   },
   "outputs": [
    {
     "name": "stdout",
     "output_type": "stream",
     "text": [
      "[라이브러리 계산]\n",
      " 0.98, 0.98 (p-value: 0.00)\n"
     ]
    }
   ],
   "source": [
    "print(\"[라이브러리 계산]\")\n",
    "from scipy.stats import pearsonr\n",
    "corr3 = np.corrcoef(X,Y)[0][1]\n",
    "corr4, pval = pearsonr(X, Y) # 피어슨 상관계수와 유의확률을 반환해줌\n",
    "print(\" {:.2f}, {:.2f} (p-value: {:.2f})\".format(corr3, corr4, pval))"
   ]
  },
  {
   "cell_type": "code",
   "execution_count": 126,
   "id": "social-prairie",
   "metadata": {
    "id": "surprised-simon",
    "outputId": "d395b7c0-439e-45ba-a842-a7d2430cfa62"
   },
   "outputs": [
    {
     "name": "stdout",
     "output_type": "stream",
     "text": [
      "[추정]\n",
      " 점 추정량: 0.978\n",
      " 구간 추정량: 0.905~0.995\n"
     ]
    }
   ],
   "source": [
    "# 모상관계수의 점추정량과 신뢰구간 계산: Z분포 사용\n",
    "conf_a = 0.05\n",
    "conf_z = norm.ppf(1-conf_a/2) #or 1.96\n",
    "r1 = corr1 #위에서 계산한 표본상관계수 corr1\n",
    "n = len(X) #표본의 개수\n",
    "a = 1/2 * np.log((1+r1)/(1-r1)) -conf_z/np.sqrt(n-3)\n",
    "b = 1/2 * np.log((1+r1)/(1-r1)) +conf_z/np.sqrt(n-3)\n",
    "conf1 = (np.exp(2*a)-1) / (np.exp(2*a)+1) # = np.tanh(a)\n",
    "conf2 = (np.exp(2*b)-1) / (np.exp(2*b)+1) # = np.tanh(b)\n",
    "\n",
    "print(\"[추정]\")\n",
    "print(\" 점 추정량: {:.3f}\".format(r1))\n",
    "print(\" 구간 추정량: {:.3f}~{:.3f}\".format(conf1, conf2))"
   ]
  },
  {
   "cell_type": "code",
   "execution_count": 127,
   "id": "demonstrated-approval",
   "metadata": {
    "id": "metropolitan-atlas",
    "outputId": "642aaa39-2520-46d3-9bfc-45dbc858d296"
   },
   "outputs": [
    {
     "name": "stdout",
     "output_type": "stream",
     "text": [
      "[검정]\n",
      " 임계값: +/- 2.306, 검정통계량: 13.117\n",
      " 유의수준: 0.050, 유의확률: 0.000\n"
     ]
    }
   ],
   "source": [
    "# 모상관계수의 가설 검정: t분포 사용, 표본이 충분히 큰 경우에는 Z분포 사용\n",
    "# H0: 모상관계수는 0이다, H1: 모상관계수는 0이 아니다. (통계적으로 유의하다)\n",
    "from scipy.stats import t, norm\n",
    "r0 = 0 #귀무가설의 모상관계수\n",
    "r1 = corr1 #위에서 계산한 표본상관계수 corr1\n",
    "n = len(X) #표본의 개수\n",
    "df = n-2 #자유도\n",
    "tstat = np.sqrt(df) * (r1-r0) / np.sqrt(1-r1**2) #검정통계량 t\n",
    "#zstat = 1/2 * np.log((1+r1)/(1-r1)) # 검정통계량 Z\n",
    "test_a = 0.05\n",
    "sp = (1-t.cdf(np.abs(tstat), df))*2 #양측검정\n",
    "cv = t.ppf(1-test_a/2, df)\n",
    "cv = \"+/- {:.3f}\".format(cv)\n",
    "\n",
    "print(\"[검정]\") # 귀무가설을 기각할 수 없음!\n",
    "print(\" 임계값: {}, 검정통계량: {:.3f}\".format(cv, tstat))\n",
    "print(\" 유의수준: {:.3f}, 유의확률: {:.3f}\".format(test_a, sp))"
   ]
  },
  {
   "cell_type": "code",
   "execution_count": null,
   "id": "preliminary-chicago",
   "metadata": {
    "id": "numerous-microwave",
    "outputId": "00c87efc-2bcf-4a28-b60e-763e3db45878"
   },
   "outputs": [
    {
     "name": "stdout",
     "output_type": "stream",
     "text": [
      "[라이브러리 검정]\n",
      " 상관계수: 0.978, p-value: 0.000\n"
     ]
    }
   ],
   "source": [
    "print(\"[라이브러리 검정]\")\n",
    "from scipy.stats import pearsonr\n",
    "corr, p = pearsonr(X, Y)\n",
    "print(\" 상관계수: {:.3f}, p-value: {:.3f}\".format(corr, p))\n",
    "## 검정 결과, 대립가설을 채택하여 모상관계수가 0이 아니기 때문에 구해진 상관계수는 통계적으로 유의하다는 결론을 얻었다."
   ]
  },
  {
   "cell_type": "markdown",
   "id": "tender-turner",
   "metadata": {
    "id": "hourly-newton"
   },
   "source": [
    "### - 스피어만 순위상관계수"
   ]
  },
  {
   "cell_type": "code",
   "execution_count": null,
   "id": "greater-patch",
   "metadata": {
    "id": "periodic-local",
    "outputId": "b4350ea4-ff27-4001-9946-ef29b50526be"
   },
   "outputs": [
    {
     "name": "stdout",
     "output_type": "stream",
     "text": [
      "[수기 계산]\n",
      " 표본 내 동일한 데이터가 없는 경우 0.661\n"
     ]
    }
   ],
   "source": [
    "## 표본 내 같은 순위가 없는 경우\n",
    "X = np.array([1,2,3,4,5,6,7,8,9,10])\n",
    "Y = np.array([4,3,5,2,6,1,10,7,8,9])\n",
    "\n",
    "print(\"[수기 계산]\")\n",
    "rtable = DataFrame({\"X\":X, 'Y':Y})\n",
    "rtable['Xr'] = rtable['X'].rank(ascending=False)\n",
    "rtable['Yr'] = rtable['Y'].rank(ascending=False)\n",
    "corr1 = 1 - 6 * sum((rtable['Xr']-rtable['Yr'])**2)/len(X)/(len(X)**2-1)\n",
    "print(\" 표본 내 동일한 데이터가 없는 경우 {:.3f}\".format(corr1))"
   ]
  },
  {
   "cell_type": "code",
   "execution_count": null,
   "id": "challenging-poison",
   "metadata": {
    "id": "following-therapy",
    "outputId": "b6ed1083-fdc8-41b3-94ff-d1740cd2d1e0"
   },
   "outputs": [
    {
     "name": "stdout",
     "output_type": "stream",
     "text": [
      "[라이브러리 계산]\n",
      " 표본 내 동일한 데이터가 없는 경우 0.661, p-value: 0.038\n"
     ]
    }
   ],
   "source": [
    "print(\"[라이브러리 계산]\")\n",
    "from scipy.stats import spearmanr\n",
    "corr2, p = spearmanr(X, Y)\n",
    "print(\" 표본 내 동일한 데이터가 없는 경우 {:.3f}, p-value: {:.3f}\".format(corr2, p))\n",
    "## p-value가 유의수준 0.05보다 작으므로 해당 상관계수는 통계적으로 유의!"
   ]
  },
  {
   "cell_type": "code",
   "execution_count": null,
   "id": "elect-morning",
   "metadata": {
    "id": "internal-patrol",
    "outputId": "111beff7-1240-4a0c-feea-7462d5510cfd"
   },
   "outputs": [
    {
     "name": "stdout",
     "output_type": "stream",
     "text": [
      "[수기 계산]\n",
      " 표본 내 동일한 데이터가 있는 경우 -0.318\n"
     ]
    }
   ],
   "source": [
    "## 표본 내 같은 순위가 있는 경우\n",
    "X2 = np.array([10,9,9,8,8,8])\n",
    "Y2 = np.array([6,7,8,8,7,6.5])\n",
    "\n",
    "print(\"[수기 계산]\")\n",
    "rtable = DataFrame({\"X2\":X2, 'Y2':Y2})\n",
    "rtable['X2r'] = rtable['X2'].rank(ascending=False)\n",
    "rtable['Y2r'] = rtable['Y2'].rank(ascending=False)\n",
    "\n",
    "#C: 같은 순위에 포함된 데이터 개수\n",
    "#Clist: C들이 포함된 리스트\n",
    "Cxlist = DataFrame(rtable['X2r'].value_counts()).query(\"X2r >= 2\").values.ravel()\n",
    "Cylist = DataFrame(rtable['Y2r'].value_counts()).query(\"Y2r >= 2\").values.ravel()\n",
    "\n",
    "#Cx와 Cy 구하기\n",
    "Cx = 0\n",
    "Cy = 0\n",
    "for cx, cy in zip(Cxlist, Cylist):\n",
    "    Cx += cx*(cx**2-1)\n",
    "    Cy += cy*(cy**2-1)\n",
    "\n",
    "#Tx와 Ty 구하기\n",
    "Tx = 1/12 * (len(X2)*(len(X2)**2-1) - Cx)\n",
    "Ty = 1/12 * (len(Y2)*(len(Y2)**2-1) - Cy)\n",
    "\n",
    "corr3 = (Tx+Ty-sum((rtable['X2r']-rtable['Y2r'])**2)) / (2* np.sqrt(Tx*Ty))\n",
    "print(\" 표본 내 동일한 데이터가 있는 경우 {:.3f}\".format(corr3))"
   ]
  },
  {
   "cell_type": "code",
   "execution_count": null,
   "id": "applied-advertiser",
   "metadata": {
    "id": "subject-poland",
    "outputId": "d6a34b7e-b7f8-4ae9-9f84-ab889dfe170b"
   },
   "outputs": [
    {
     "name": "stdout",
     "output_type": "stream",
     "text": [
      "[라이브러리 계산]\n",
      " 표본 내 동일한 데이터가 있는 경우 -0.318, p-value: 0.539\n"
     ]
    }
   ],
   "source": [
    "print(\"[라이브러리 계산]\")\n",
    "from scipy.stats import spearmanr\n",
    "corr4, p = spearmanr(X2, Y2)\n",
    "print(\" 표본 내 동일한 데이터가 있는 경우 {:.3f}, p-value: {:.3f}\".format(corr4, p))\n",
    "## 유의수준 0.05 기준으로 해당 상관계수는 통계적으로 유의하다고 보기 어렵다."
   ]
  },
  {
   "cell_type": "markdown",
   "id": "latin-denial",
   "metadata": {
    "id": "opening-cattle"
   },
   "source": [
    "### - 켄달의 타우"
   ]
  },
  {
   "cell_type": "code",
   "execution_count": null,
   "id": "chronic-judgment",
   "metadata": {
    "id": "independent-plain",
    "outputId": "2f4847ca-54c2-4143-c957-7d898b2bcc3c"
   },
   "outputs": [
    {
     "name": "stdout",
     "output_type": "stream",
     "text": [
      "[수기 계산]\n",
      " 표본 내 동일한 데이터가 없는 경우 0.722\n"
     ]
    }
   ],
   "source": [
    "## 표본 내 같은 순위가 없는 경우\n",
    "def combi(x, y):\n",
    "    from math import factorial as fact\n",
    "    return fact(x)/fact(x-y)/fact(y)\n",
    "\n",
    "X = np.array([80,70,60,50,95,85,77,55,65])\n",
    "Y = np.array([6,3,2,1,8,9,7,4,5])\n",
    "\n",
    "print(\"[수기 계산]\")\n",
    "One = 0\n",
    "mOne = 0\n",
    "for i in range(0, len(X)):\n",
    "    for j in range(i, len(X)):\n",
    "        if (X[i]-X[j])*(Y[i]-Y[j]) > 0:\n",
    "            One += 1\n",
    "        elif (X[i]-X[j])*(Y[i]-Y[j]) < 0:\n",
    "            mOne += 1\n",
    "\n",
    "corr1 = (1*One -1*mOne) / combi(len(X), 2)\n",
    "print(\" 표본 내 동일한 데이터가 없는 경우 {:.3f}\".format(corr1))"
   ]
  },
  {
   "cell_type": "code",
   "execution_count": null,
   "id": "detailed-effects",
   "metadata": {
    "id": "ideal-integrity",
    "outputId": "01800811-c594-4966-e11e-51276baa3283"
   },
   "outputs": [
    {
     "name": "stdout",
     "output_type": "stream",
     "text": [
      "[라이브러리 계산]\n",
      " 표본 내 동일한 데이터가 없는 경우 0.722, p-value: 0.006\n"
     ]
    }
   ],
   "source": [
    "from scipy.stats import kendalltau\n",
    "print(\"[라이브러리 계산]\")\n",
    "corr2, p = kendalltau(X, Y)\n",
    "print(\" 표본 내 동일한 데이터가 없는 경우 {:.3f}, p-value: {:.3f}\".format(corr2, p))"
   ]
  },
  {
   "cell_type": "code",
   "execution_count": null,
   "id": "forced-gibraltar",
   "metadata": {
    "id": "square-legislature",
    "outputId": "847f6383-c33b-4418-a594-8a98794429a1"
   },
   "outputs": [
    {
     "name": "stdout",
     "output_type": "stream",
     "text": [
      "[수기 계산]\n",
      " 표본 내 동일한 데이터가 있는 경우 -0.251\n"
     ]
    }
   ],
   "source": [
    "## 표본 내 같은 순위가 있는 경우\n",
    "def combi(x, y):\n",
    "    from math import factorial as fact\n",
    "    return fact(x)/fact(x-y)/fact(y)\n",
    "\n",
    "X2 = np.array([10,9,9,8,8,8])\n",
    "Y2 = np.array([6,7,8,8,7,6.5])\n",
    "\n",
    "print(\"[수기 계산]\")\n",
    "One = 0\n",
    "mOne = 0\n",
    "for i in range(0, len(X2)):\n",
    "    for j in range(i, len(X2)):\n",
    "        if (X2[i]-X2[j])*(Y2[i]-Y2[j]) > 0:\n",
    "            One += 1\n",
    "        elif (X2[i]-X2[j])*(Y2[i]-Y2[j]) < 0:\n",
    "            mOne += 1\n",
    "            \n",
    "#Cx, Cy:같은 순위에 포함된 데이터 개수\n",
    "rtable = DataFrame({\"X2\":X2, 'Y2':Y2})\n",
    "rtable['X2r'] = rtable['X2'].rank(ascending=False)\n",
    "rtable['Y2r'] = rtable['Y2'].rank(ascending=False)\n",
    "\n",
    "#Clist: C들이 포함된 리스트\n",
    "Cxlist = DataFrame(rtable['X2r'].value_counts()).query(\"X2r>=2\").values.ravel()\n",
    "Cylist = DataFrame(rtable['Y2r'].value_counts()).query(\"Y2r>=2\").values.ravel()\n",
    "\n",
    "#Cx와 Cy 구하기\n",
    "Cx = 0\n",
    "Cy = 0\n",
    "for cx, cy in zip(Cxlist, Cylist):\n",
    "    Cx += 1/2*cx*(cx-1)\n",
    "    Cy += 1/2*cy*(cy-1)\n",
    "\n",
    "#Tx와 Ty 구하기\n",
    "Tx = combi(len(X2), 2) - Cx\n",
    "Ty = combi(len(X2), 2) - Cy\n",
    "    \n",
    "corr3 = (1*One -1*mOne) / np.sqrt(Tx*Ty)\n",
    "print(\" 표본 내 동일한 데이터가 있는 경우 {:.3f}\".format(corr3))"
   ]
  },
  {
   "cell_type": "code",
   "execution_count": null,
   "id": "honey-poker",
   "metadata": {
    "id": "forbidden-belly",
    "outputId": "37b51aeb-71f7-461d-ab5d-d3bf8777808b"
   },
   "outputs": [
    {
     "name": "stdout",
     "output_type": "stream",
     "text": [
      "[라이브러리 계산]\n",
      " 표본 내 동일한 데이터가 있는 경우 -0.251, p-value: 0.524\n"
     ]
    }
   ],
   "source": [
    "print(\"[라이브러리 계산]\")\n",
    "from scipy.stats import kendalltau\n",
    "corr4, p = kendalltau(X2, Y2)\n",
    "print(\" 표본 내 동일한 데이터가 있는 경우 {:.3f}, p-value: {:.3f}\".format(corr4, p))"
   ]
  },
  {
   "cell_type": "markdown",
   "id": "affecting-binary",
   "metadata": {
    "id": "cheap-pressing"
   },
   "source": [
    "### - 크라메르의 연관계수"
   ]
  },
  {
   "cell_type": "code",
   "execution_count": null,
   "id": "compound-plaintiff",
   "metadata": {
    "colab": {
     "base_uri": "https://localhost:8080/"
    },
    "id": "blind-hammer",
    "outputId": "d6483bbf-d11b-4455-c1ff-2e08577eaa16"
   },
   "outputs": [
    {
     "name": "stdout",
     "output_type": "stream",
     "text": [
      "[수기 계산]\n",
      "데이터 확인:\n",
      "     안경O  안경X\n",
      "성별          \n",
      "남자   10   40\n",
      "여자   30   20\n"
     ]
    }
   ],
   "source": [
    "print(\"[수기 계산]\")\n",
    "from pandas import DataFrame\n",
    "import numpy as np\n",
    "table = DataFrame({\"성별\":['남자', '여자'], '안경O':[10,30], '안경X':[40, 20]}).set_index('성별')\n",
    "print(\"데이터 확인:\\n\", table)"
   ]
  },
  {
   "cell_type": "code",
   "execution_count": null,
   "id": "loose-dublin",
   "metadata": {
    "colab": {
     "base_uri": "https://localhost:8080/"
    },
    "id": "divine-welding",
    "outputId": "fe2a6f11-fa45-488c-bb1c-9807a73a2902"
   },
   "outputs": [
    {
     "name": "stdout",
     "output_type": "stream",
     "text": [
      " 연관계수: 0.408\n"
     ]
    }
   ],
   "source": [
    "n = table.sum().sum() #전체 데이터 개수\n",
    "exp = []\n",
    "r = table.sum(axis=1).values\n",
    "c = table.sum(axis=0).values\n",
    "\n",
    "for R in r:\n",
    "    for C in c:\n",
    "        exp.append(R*C/n)\n",
    "        \n",
    "obs = table.values.ravel()\n",
    "chistat = np.sum((obs - exp)**2 / exp)\n",
    "\n",
    "k, l = table.shape[0], table.shape[1] #각 변수의 범주의 개수\n",
    "V = np.sqrt(chistat/(np.minimum(k, l)-1)/n)\n",
    "\n",
    "print(\" 연관계수: {:.3f}\".format(V))"
   ]
  },
  {
   "cell_type": "code",
   "execution_count": null,
   "id": "smaller-chance",
   "metadata": {
    "colab": {
     "base_uri": "https://localhost:8080/"
    },
    "id": "hydraulic-doctrine",
    "outputId": "cc8cecca-7568-47b4-d7fa-ac3982040390"
   },
   "outputs": [
    {
     "name": "stdout",
     "output_type": "stream",
     "text": [
      "[라이브러리 계산]\n",
      " 연관계수: 0.408\n",
      "\n"
     ]
    }
   ],
   "source": [
    "print(\"[라이브러리 계산]\")\n",
    "from scipy.stats.contingency import association\n",
    "V2 = association(table.values, method='cramer')\n",
    "print(\" 연관계수: {:.3f}\".format(V2))"
   ]
  },
  {
   "cell_type": "markdown",
   "id": "offshore-think",
   "metadata": {},
   "source": [
    "# 연습문제"
   ]
  },
  {
   "cell_type": "markdown",
   "id": "explicit-margin",
   "metadata": {},
   "source": [
    "### - 1번 문제 풀이"
   ]
  },
  {
   "cell_type": "code",
   "execution_count": 129,
   "id": "consecutive-north",
   "metadata": {
    "tags": []
   },
   "outputs": [
    {
     "name": "stdout",
     "output_type": "stream",
     "text": [
      "피어슨 상관계수 0.75 (p-value 0.02)\n",
      "스피어만 상관계수 0.82 (p-value 0.01)\n"
     ]
    }
   ],
   "source": [
    "from scipy.stats import pearsonr, spearmanr\n",
    "math = [96, 93, 63, 89, 85, 84, 66, 62, 90]\n",
    "eng = [98, 90, 74, 84, 69, 69, 73, 61, 98]\n",
    "pr, p1 = pearsonr(math, eng)\n",
    "sr, p2 = spearmanr(math, eng)\n",
    "print(\"피어슨 상관계수 {:.2f} (p-value {:.2f})\".format(pr, p1))\n",
    "print(\"스피어만 상관계수 {:.2f} (p-value {:.2f})\".format(sr, p2))\n",
    "# 두 상관계수 모두 유의확률이 유의수준 0.05보다 작기 때문에 통계적으로 유의하다."
   ]
  },
  {
   "cell_type": "code",
   "execution_count": 130,
   "id": "pressing-continent",
   "metadata": {},
   "outputs": [
    {
     "name": "stdout",
     "output_type": "stream",
     "text": [
      " 구간 추정량: 0.283~0.927\n"
     ]
    }
   ],
   "source": [
    "# 피어슨 상관계수의 신뢰구간 계산\n",
    "from scipy.stats import norm\n",
    "import numpy as np\n",
    "conf_a = 0.1 # 신뢰수준 90%\n",
    "conf_z = norm.ppf(1-conf_a/2)\n",
    "\n",
    "r1 = pr #위에서 계산한 표본상관계수 pr을 사용\n",
    "n = 9 #표본의 개수\n",
    "a = 1/2 * np.log((1+r1)/(1-r1)) -conf_z/np.sqrt(n-3)\n",
    "b = 1/2 * np.log((1+r1)/(1-r1)) +conf_z/np.sqrt(n-3)\n",
    "conf1 = (np.exp(2*a)-1) / (np.exp(2*a)+1)\n",
    "conf2 = (np.exp(2*b)-1) / (np.exp(2*b)+1)\n",
    "print(\" 구간 추정량: {:.3f}~{:.3f}\".format(conf1, conf2))"
   ]
  },
  {
   "cell_type": "markdown",
   "id": "tough-storm",
   "metadata": {},
   "source": [
    "### - 2번 문제 풀이"
   ]
  },
  {
   "cell_type": "code",
   "execution_count": 121,
   "id": "experimental-logan",
   "metadata": {},
   "outputs": [
    {
     "data": {
      "text/plain": [
       "0.2"
      ]
     },
     "execution_count": 121,
     "metadata": {},
     "output_type": "execute_result"
    }
   ],
   "source": [
    "xs, ys = 4, 5\n",
    "cov = 4\n",
    "cov/(xs*ys)"
   ]
  }
 ],
 "metadata": {
  "colab": {
   "provenance": []
  },
  "kernelspec": {
   "display_name": "Python 3",
   "language": "python",
   "name": "python3"
  },
  "language_info": {
   "codemirror_mode": {
    "name": "ipython",
    "version": 3
   },
   "file_extension": ".py",
   "mimetype": "text/x-python",
   "name": "python",
   "nbconvert_exporter": "python",
   "pygments_lexer": "ipython3",
   "version": "3.8.8"
  },
  "toc-showtags": true
 },
 "nbformat": 4,
 "nbformat_minor": 5
}
