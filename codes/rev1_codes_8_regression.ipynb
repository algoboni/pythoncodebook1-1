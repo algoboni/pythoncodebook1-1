{
 "cells": [
  {
   "cell_type": "markdown",
   "id": "advised-malpractice",
   "metadata": {
    "id": "suspected-immunology"
   },
   "source": [
    "# **핵심만 요약한 통계와 머신러닝 파이썬 코드북 개정1판**\n",
    "- ⓒ2023 AlgoBoni all rights reserved.\n",
    "- 본 컨텐츠의 저작권은 알고보니에 있습니다. 저작권법에 의해 보호를 받는 저작물이므로 무단 전재와 무단 복제를 금합니다.\n",
    "- 본 컨텐츠의 종이책은 [교보문고](https://product.kyobobook.co.kr/detail/S000209591909), [예스24](https://www.yes24.com/Product/Goods/122661688), [알라딘](https://www.aladin.co.kr/shop/wproduct.aspx?ISBN=K262935029&start=pnaver_02)에서 구매할 수 있습니다. 종이책에서는 아래 개념 및 코드에 대한 설명과 연습문제를 제공합니다."
   ]
  },
  {
   "cell_type": "markdown",
   "id": "graduate-colorado",
   "metadata": {
    "id": "abandoned-paraguay"
   },
   "source": [
    "# 8. 회귀 분석"
   ]
  },
  {
   "cell_type": "markdown",
   "id": "lucky-civilization",
   "metadata": {
    "id": "desperate-combine"
   },
   "source": [
    "## 8-1. 선형 회귀"
   ]
  },
  {
   "cell_type": "markdown",
   "id": "preliminary-statement",
   "metadata": {
    "id": "swiss-hostel"
   },
   "source": [
    "### 8-1-1. 단순 선형 회귀"
   ]
  },
  {
   "cell_type": "code",
   "execution_count": 2,
   "id": "medium-spoke",
   "metadata": {
    "id": "hired-sender",
    "outputId": "9349b21f-9b0c-4f37-eae9-4cd6dc18ce54"
   },
   "outputs": [
    {
     "name": "stdout",
     "output_type": "stream",
     "text": [
      "데이터 확인:  [ 0.06169621 -0.05147406  0.04445121] [151.  75. 141.]\n"
     ]
    }
   ],
   "source": [
    "from sklearn.datasets import load_diabetes\n",
    "from pandas import DataFrame\n",
    "import numpy as np\n",
    "data = load_diabetes() # 데이터 불러오기\n",
    "Xa = data['data']\n",
    "ya = data['target']\n",
    "diabetes = DataFrame(np.c_[Xa, ya], columns = data['feature_names']+['target'])\n",
    "\n",
    "# 단순 선형 회귀 적합을 위해 전체 데이터에서 1개의 설명변수와 1개의 종속변수를 추출\n",
    "X = np.array(diabetes.filter(['bmi'])).ravel() #numpy로 계산하기 위해 데이터 형태 변환\n",
    "Y = np.array(diabetes.filter(['target'])).ravel()\n",
    "print(\"데이터 확인: \", X[:3], Y[:3])"
   ]
  },
  {
   "cell_type": "code",
   "execution_count": 3,
   "id": "right-recipe",
   "metadata": {
    "id": "acute-zealand",
    "outputId": "8730d97d-1987-46a8-c524-e21b22389562"
   },
   "outputs": [
    {
     "name": "stdout",
     "output_type": "stream",
     "text": [
      "[수기 적합]\n",
      " 기울기 점추정량: 949.435\n",
      " 절편 점추정량: 152.133\n",
      " 표본회귀식: Y = 152.133 + 949.435*X\n"
     ]
    }
   ],
   "source": [
    "print(\"[수기 적합]\")\n",
    "Xm = np.mean(X)\n",
    "Ym = np.mean(Y)\n",
    "w = sum((X-Xm)*(Y-Ym)) / sum((X-Xm)**2) #기울기\n",
    "b = Ym - w*Xm #절편\n",
    "print(\" 기울기 점추정량: {:.3f}\".format(w))\n",
    "print(\" 절편 점추정량: {:.3f}\".format(b))\n",
    "print(\" 표본회귀식: Y = {:.3f} + {:.3f}*X\".format(b, w))"
   ]
  },
  {
   "cell_type": "code",
   "execution_count": 4,
   "id": "exotic-aspect",
   "metadata": {
    "id": "distant-injury",
    "outputId": "89b7375c-3e05-4557-b021-d14006a0595d"
   },
   "outputs": [
    {
     "name": "stdout",
     "output_type": "stream",
     "text": [
      " 결정계수(= R2): 0.344(= 0.344)\n",
      " 상관계수(= R): 0.586(= 0.586)\n"
     ]
    }
   ],
   "source": [
    "Ypred = b + X*w #기울기, 절편 추정량으로 구한 예측값\n",
    "SSR = sum((Ym-Ypred)**2)\n",
    "SSE = sum((Y-Ypred)**2)\n",
    "SST = sum((Y-Ym)**2)\n",
    "R2 = SSR / SST\n",
    "R = np.corrcoef(X,Y)[0][1] #X, Y의 상관계수\n",
    "print(\" 결정계수(= R2): {:.3f}(= {:.3f})\".format(R2, R**2))\n",
    "print(\" 상관계수(= R): {:.3f}(= {:.3f})\".format(R, np.sqrt(R2)))\n",
    "## X, Y의 상관계수의 제곱은 X, Y로 적합한 단순 선형회귀 모델의 결정계수와 같다."
   ]
  },
  {
   "cell_type": "code",
   "execution_count": 9,
   "id": "united-disability",
   "metadata": {
    "id": "regulated-bernard",
    "outputId": "12e9c271-8be9-4c8b-e959-aaa6148c93e0"
   },
   "outputs": [
    {
     "name": "stdout",
     "output_type": "stream",
     "text": [
      " MSE: 3908.140, MSR: 901427.314, F통계량 230.654\n",
      " 가설검정: F(1, 440) p-value 0.000\n"
     ]
    }
   ],
   "source": [
    "# 회귀계수의 가설검정 (F검정, 유의수준 5%)\n",
    "# H0: 모든 회귀계수는 0이다. H1: 적어도 하나의 회귀계수는 0이 아니다.\n",
    "from scipy.stats import f, t\n",
    "treat_df = 1 #처리의 자유도 (설명변수의 개수)\n",
    "resid_df = len(X)-treat_df-1 #잔차의 자유도 (전체 데이터의 개수 - 설명변수의 개수 -1)\n",
    "MSR = SSR / treat_df\n",
    "MSE = SSE / resid_df\n",
    "fstat = MSR / MSE\n",
    "print(\" MSE: {:.3f}, MSR: {:.3f}, F통계량 {:.3f}\".format(MSE, MSR, fstat))\n",
    "print(\" 가설검정: F({}, {}) p-value {:.3f}\".format(treat_df, resid_df, 1-f.cdf(fstat, treat_df, resid_df)))"
   ]
  },
  {
   "cell_type": "code",
   "execution_count": 6,
   "id": "tested-discharge",
   "metadata": {
    "id": "supposed-melbourne",
    "outputId": "86bc33c5-acf6-4e73-da69-3f45d2c8f09b"
   },
   "outputs": [
    {
     "name": "stdout",
     "output_type": "stream",
     "text": [
      "[라이브러리 적합]\n",
      "                            OLS Regression Results                            \n",
      "==============================================================================\n",
      "Dep. Variable:                 target   R-squared:                       0.344\n",
      "Model:                            OLS   Adj. R-squared:                  0.342\n",
      "Method:                 Least Squares   F-statistic:                     230.7\n",
      "Date:                Mon, 11 Sep 2023   Prob (F-statistic):           3.47e-42\n",
      "Time:                        14:10:34   Log-Likelihood:                -2454.0\n",
      "No. Observations:                 442   AIC:                             4912.\n",
      "Df Residuals:                     440   BIC:                             4920.\n",
      "Df Model:                           1                                         \n",
      "Covariance Type:            nonrobust                                         \n",
      "==============================================================================\n",
      "                 coef    std err          t      P>|t|      [0.025      0.975]\n",
      "------------------------------------------------------------------------------\n",
      "const        152.1335      2.974     51.162      0.000     146.289     157.978\n",
      "bmi          949.4353     62.515     15.187      0.000     826.570    1072.301\n",
      "==============================================================================\n",
      "Omnibus:                       11.674   Durbin-Watson:                   1.848\n",
      "Prob(Omnibus):                  0.003   Jarque-Bera (JB):                7.310\n",
      "Skew:                           0.156   Prob(JB):                       0.0259\n",
      "Kurtosis:                       2.453   Cond. No.                         21.0\n",
      "==============================================================================\n",
      "\n",
      "Notes:\n",
      "[1] Standard Errors assume that the covariance matrix of the errors is correctly specified.\n"
     ]
    }
   ],
   "source": [
    "print(\"[라이브러리 적합]\")\n",
    "# statsmodel 방법\n",
    "import statsmodels.api as sm\n",
    "X = diabetes.filter(['bmi'])\n",
    "Y = diabetes.filter(['target'])\n",
    "\n",
    "Xc = sm.add_constant(X) #절편 추가\n",
    "model = sm.OLS(Y, Xc)\n",
    "fitted = model.fit()\n",
    "resid = fitted.resid #모델의 잔차 추출\n",
    "print(fitted.summary()) #모델 결과 요약"
   ]
  },
  {
   "cell_type": "code",
   "execution_count": null,
   "id": "measured-cooper",
   "metadata": {
    "id": "different-capability",
    "outputId": "37a04114-3f01-43b9-822c-13a36e57adbe"
   },
   "outputs": [
    {
     "name": "stdout",
     "output_type": "stream",
     "text": [
      "회귀계수:  [[949.43526038]]\n",
      "절편:  [152.13348416]\n",
      "결정계수: 0.344\n"
     ]
    }
   ],
   "source": [
    "# sklearn 방법\n",
    "from sklearn.linear_model import LinearRegression\n",
    "X = diabetes.filter(['bmi'])\n",
    "Y = diabetes.filter(['target'])\n",
    "\n",
    "LR = LinearRegression()\n",
    "LR.fit(X, Y)\n",
    "pred = LR.predict(X) # 회귀모델로 X값에 대한 예측값 생성\n",
    "\n",
    "print(\"회귀계수: \", LR.coef_) \n",
    "print(\"절편: \", LR.intercept_)\n",
    "print(\"결정계수: {:.3f}\".format(LR.score(X, Y)))"
   ]
  },
  {
   "cell_type": "code",
   "execution_count": 7,
   "id": "hungry-intersection",
   "metadata": {
    "id": "affiliated-minnesota",
    "outputId": "5535051b-7a99-416b-8d92-93d2dd2ef1c3"
   },
   "outputs": [
    {
     "name": "stdout",
     "output_type": "stream",
     "text": [
      "[추정과 검정]\n",
      "잔차 표준오차: 62.515(= 62.515)\n"
     ]
    }
   ],
   "source": [
    "## 기울기, 절편, Y의 평균값에 대한 추정과 검정\n",
    "print(\"[추정과 검정]\")\n",
    "X = np.array(diabetes.filter(['bmi'])).ravel() #numpy로 계산하기 위해 데이터 형태 변환\n",
    "Y = np.array(diabetes.filter(['target'])).ravel()\n",
    "\n",
    "## resid_std를 계산하여 세가지 추정과 검정에 사용\n",
    "resid_std = np.sqrt(MSE)\n",
    "resid_std2 = np.std(fitted.resid, ddof=2)\n",
    "print(\"잔차 표준오차: {:.3f}(= {:.3f})\".format(resid_std, resid_std2))"
   ]
  },
  {
   "cell_type": "code",
   "execution_count": 13,
   "id": "realistic-exposure",
   "metadata": {
    "id": "taken-journey",
    "outputId": "fc3acc76-1ac7-4e32-9a18-f2b59391bdb5"
   },
   "outputs": [
    {
     "name": "stdout",
     "output_type": "stream",
     "text": [
      " 1. 기울기: \n",
      "  점추정량: 949.435\n",
      "  점추정량의 표준오차: 62.515\n",
      "  신뢰구간: 826.570~1072.301\n",
      "  검정통계량 15.187, p-value 0.000\n"
     ]
    }
   ],
   "source": [
    "print(\" 1. 기울기: \")\n",
    "# 기울기의 추정\n",
    "print(\"  점추정량: {:.3f}\".format(w))\n",
    "SE = resid_std / np.sqrt(sum((X-Xm)**2)) # 잔차표준편차 / X편차의 제곱합\n",
    "print(\"  점추정량의 표준오차: {:.3f}\".format(SE))\n",
    "conf_a = 0.05\n",
    "start = w + t.ppf(conf_a/2, resid_df)*SE \n",
    "end = w + t.ppf(1-conf_a/2, resid_df)*SE\n",
    "print(\"  신뢰구간: {:.3f}~{:.3f}\".format(start, end))\n",
    "\n",
    "# 기울기의 가설검정 (t검정, 유의수준 5%)\n",
    "# H0: 기울기 w0는 0이다, H1: 기울기 w0는 0이 아니다.\n",
    "test_a = 0.05\n",
    "w0 = 0\n",
    "tstat = (w - w0) / SE\n",
    "print(\"  검정통계량 {:.3f}, p-value {:.3f}\".format(tstat, (1-t.cdf(tstat, resid_df))*2))"
   ]
  },
  {
   "cell_type": "code",
   "execution_count": 14,
   "id": "external-salvation",
   "metadata": {
    "id": "involved-hanging",
    "outputId": "fe9cbea0-c60a-43bf-d2c2-8a5b63e4e032"
   },
   "outputs": [
    {
     "name": "stdout",
     "output_type": "stream",
     "text": [
      " 2. 절편: \n",
      "  점추정량: 152.133\n",
      "  점추정량의 표준오차: 2.974\n",
      "  신뢰구간: 146.289~157.978\n",
      "  검정통계량 51.162, p-value 0.000\n"
     ]
    }
   ],
   "source": [
    "print(\" 2. 절편: \")\n",
    "# 절편의 추정 \n",
    "Xi = 0\n",
    "Y1 = b + w*Xi\n",
    "print(\"  점추정량: {:.3f}\".format(Y1)) #절편의 기댓값\n",
    "SE2 = resid_std * np.sqrt(1/len(X) + (Xi-Xm)**2/sum((X-Xm)**2))\n",
    "print(\"  점추정량의 표준오차: {:.3f}\".format(SE2))\n",
    "start2 = Y1 + t.ppf(conf_a/2, resid_df)*SE2 \n",
    "end2 = Y1 + t.ppf(1-conf_a/2, resid_df)*SE2\n",
    "print(\"  신뢰구간: {:.3f}~{:.3f}\".format(start2, end2))\n",
    "\n",
    "# 절편의 가설검정 (t검정, 유의수준 5%)\n",
    "# H0: 절편 b0는 0이다, H1: 절편 b0는 0이 아니다.\n",
    "test_a = 0.05\n",
    "b0 = 0\n",
    "tstat2 = (b-b0) / SE2\n",
    "print(\"  검정통계량 {:.3f}, p-value {:.3f}\".format(tstat2, (1-t.cdf(np.abs(tstat2), resid_df))*2))"
   ]
  },
  {
   "cell_type": "code",
   "execution_count": 16,
   "id": "fewer-merit",
   "metadata": {
    "id": "decent-smooth",
    "outputId": "78bb6d02-aa22-489f-d69c-cd5692dce316"
   },
   "outputs": [
    {
     "name": "stdout",
     "output_type": "stream",
     "text": [
      " 3. 특정한 X값 0.15일 때 Y의 평균값: \n",
      "  점추정량: 294.549\n",
      "  점추정량의 표준오차: 9.837\n",
      "  신뢰구간: 275.215~313.883\n",
      "  검정통계량 29.942, p-value 0.000\n"
     ]
    }
   ],
   "source": [
    "print(f\" 3. 특정한 X값 {Xi:.2f}일 때 Y의 평균값: \")\n",
    "# Y의 평균값의 추정\n",
    "Xi = 0.15 ### X값 입력\n",
    "Y2 = b + w*Xi\n",
    "print(\"  점추정량: {:.3f}\".format(Y2))\n",
    "SE3 = resid_std * np.sqrt(1/len(X) + (Xi-Xm)**2/sum((X-Xm)**2))\n",
    "print(\"  점추정량의 표준오차: {:.3f}\".format(SE3))\n",
    "\n",
    "start3 = Y2 + t.ppf(conf_a/2, resid_df)*SE3 \n",
    "end3 = Y2 + t.ppf(1-conf_a/2, resid_df)*SE3\n",
    "print(\"  신뢰구간: {:.3f}~{:.3f}\".format(start3, end3))\n",
    "\n",
    "# Y 평균값의 가설검정 (t검정, 유의수준 5%)\n",
    "# H0: Y2_0는 0이다, H1: Y2_0는 0이 아니다.\n",
    "test_a = 0.05\n",
    "Y2_0 = 0\n",
    "tstat3 = (Y2-Y2_0) / SE3\n",
    "print(\"  검정통계량 {:.3f}, p-value {:.3f}\".format(tstat3, (1-t.cdf(np.abs(tstat3), resid_df))*2))"
   ]
  },
  {
   "cell_type": "code",
   "execution_count": 19,
   "id": "found-engineering",
   "metadata": {
    "id": "human-kingdom",
    "outputId": "0666415d-c652-4181-ba41-9ef6653ce77b"
   },
   "outputs": [
    {
     "data": {
      "image/png": "[encoded data removed]",
      "text/plain": [
       "<Figure size 576x576 with 1 Axes>"
      ]
     },
     "metadata": {
      "needs_background": "light"
     },
     "output_type": "display_data"
    }
   ],
   "source": [
    "# 회귀직선의 신뢰대(각 X값에 대한 Y 평균값들의 신뢰구간) 시각화\n",
    "import seaborn as sns\n",
    "from matplotlib import pyplot as plt\n",
    "plt.rcParams['figure.figsize'] = (8,8)\n",
    "plt.rcParams['axes.unicode_minus'] = False\n",
    "plt.rcParams['font.family'] = 'D2Coding'\n",
    "\n",
    "fig, ax = plt.subplots(1,1)\n",
    "sns.regplot(x=X, y=Y, ax=ax)\n",
    "ax.vlines(x=0.15, ymin=start3, ymax=end3, color='red')\n",
    "ax.text(-0.01, 310, f\"X가 {Xi}일 때 y의 신뢰구간\", color='red', size=15)\n",
    "plt.show()"
   ]
  },
  {
   "cell_type": "markdown",
   "id": "sustainable-tunisia",
   "metadata": {
    "id": "daily-pixel"
   },
   "source": [
    "### 8-1-2. 다중 선형 회귀"
   ]
  },
  {
   "cell_type": "code",
   "execution_count": 20,
   "id": "liable-moment",
   "metadata": {
    "id": "vertical-picture",
    "outputId": "abf6fc06-e58c-46c1-887f-d7086b3ac527",
    "tags": []
   },
   "outputs": [
    {
     "name": "stdout",
     "output_type": "stream",
     "text": [
      "                            OLS Regression Results                            \n",
      "==============================================================================\n",
      "Dep. Variable:                 target   R-squared:                       0.400\n",
      "Model:                            OLS   Adj. R-squared:                  0.395\n",
      "Method:                 Least Squares   F-statistic:                     72.91\n",
      "Date:                Mon, 11 Sep 2023   Prob (F-statistic):           2.70e-47\n",
      "Time:                        14:30:19   Log-Likelihood:                -2434.2\n",
      "No. Observations:                 442   AIC:                             4878.\n",
      "Df Residuals:                     437   BIC:                             4899.\n",
      "Df Model:                           4                                         \n",
      "Covariance Type:            nonrobust                                         \n",
      "==============================================================================\n",
      "                 coef    std err          t      P>|t|      [0.025      0.975]\n",
      "------------------------------------------------------------------------------\n",
      "const        152.1335      2.853     53.329      0.000     146.527     157.740\n",
      "bmi          787.1793     65.424     12.032      0.000     658.594     915.764\n",
      "age           37.2412     64.117      0.581      0.562     -88.776     163.258\n",
      "sex         -106.5775     62.125     -1.716      0.087    -228.679      15.524\n",
      "bp           416.6738     69.495      5.996      0.000     280.088     553.259\n",
      "==============================================================================\n",
      "Omnibus:                        9.858   Durbin-Watson:                   1.933\n",
      "Prob(Omnibus):                  0.007   Jarque-Bera (JB):                6.464\n",
      "Skew:                           0.146   Prob(JB):                       0.0395\n",
      "Kurtosis:                       2.485   Cond. No.                         28.4\n",
      "==============================================================================\n",
      "\n",
      "Notes:\n",
      "[1] Standard Errors assume that the covariance matrix of the errors is correctly specified.\n"
     ]
    }
   ],
   "source": [
    "from sklearn.datasets import load_diabetes\n",
    "import statsmodels.api as sm\n",
    "import numpy as np\n",
    "from pandas import DataFrame\n",
    "data = load_diabetes() # 데이터 불러오기\n",
    "Xa = data['data']\n",
    "ya = data['target']\n",
    "diabetes = DataFrame(np.c_[Xa, ya], columns = data['feature_names']+['target'])\n",
    "\n",
    "# 다중 선형 회귀 적합을 위해 전체 데이터에서 4개의 설명변수와 1개의 종속변수를 추출\n",
    "X = diabetes.filter(['bmi', 'age', 'sex', 'bp'])\n",
    "y = diabetes.filter(['target'])\n",
    "\n",
    "# 회귀 분석 fitted객체, 요약결과 반환하는 함수 정의\n",
    "def multiR_fitted(X, y): #return fitted, summary\n",
    "    X_ = sm.add_constant(X)\n",
    "    model = sm.OLS(y, X_)\n",
    "    fitted = model.fit()\n",
    "    return fitted, fitted.summary()\n",
    "\n",
    "fitted, summary = multiR_fitted(X, y)\n",
    "print(summary)"
   ]
  },
  {
   "cell_type": "markdown",
   "id": "placed-asthma",
   "metadata": {
    "id": "technological-evidence"
   },
   "source": [
    "### - 영향치 판단"
   ]
  },
  {
   "cell_type": "code",
   "execution_count": 21,
   "id": "athletic-reputation",
   "metadata": {
    "id": "focused-joshua",
    "outputId": "3bc9b6de-f352-4799-f9dc-24e3f6559349"
   },
   "outputs": [
    {
     "name": "stdout",
     "output_type": "stream",
     "text": [
      "     cooks_distance   dfbetas    dffits  leverageH\n",
      "0          0.001516 -0.043867 -0.087061   0.008908\n",
      "1          0.000350 -0.024198 -0.041811   0.006743\n",
      "2          0.001478 -0.033422 -0.085965   0.014950\n",
      "3          0.003736  0.061662  0.136681   0.011133\n",
      "4          0.000003 -0.002047 -0.003823   0.007869\n",
      "..              ...       ...       ...        ...\n",
      "437        0.000049 -0.008507 -0.015638   0.007629\n",
      "438        0.000002 -0.001460 -0.003347   0.011865\n",
      "439        0.000045 -0.008745 -0.015040   0.006677\n",
      "440        0.000531  0.026808  0.051509   0.008339\n",
      "441        0.000031 -0.005440 -0.012411   0.011747\n",
      "\n",
      "[442 rows x 4 columns]\n"
     ]
    }
   ],
   "source": [
    "# 각 데이터의 영향치 판단값 계산\n",
    "def get_influence(fitted):\n",
    "    cook = fitted.get_influence().cooks_distance[0]\n",
    "    dfb = fitted.get_influence().dfbetas[:,0]\n",
    "    dff = fitted.get_influence().dffits_internal[0]\n",
    "    lev = fitted.get_influence().hat_matrix_diag\n",
    "    df = DataFrame({\"cooks_distance\":cook, \n",
    "                       'dfbetas':dfb, 'dffits':dff,\n",
    "                      'leverageH':lev})\n",
    "    return df\n",
    "\n",
    "influ_df = get_influence(fitted)  \n",
    "print(influ_df)"
   ]
  },
  {
   "cell_type": "code",
   "execution_count": null,
   "id": "controversial-costs",
   "metadata": {
    "id": "packed-gamma",
    "outputId": "7e94975e-06c8-41d6-d25e-7fab832f09dd"
   },
   "outputs": [
    {
     "name": "stdout",
     "output_type": "stream",
     "text": [
      "Cook's distance 기준 영향치:  [  9  78  92 102 117 141 147 152 204 211 256 289 328 336 343 380 417]\n"
     ]
    }
   ],
   "source": [
    "# 영향치로 판단되는 데이터 추출하기\n",
    "def find_idx_cooks(fitted):\n",
    "    cook = fitted.get_influence().cooks_distance[0]\n",
    "    P = fitted.get_influence().k_vars #변수의 개수\n",
    "    score = 4 / (len(y) - P - 1)\n",
    "    if score <= 1:\n",
    "        idx = np.where(cook > score)[0]\n",
    "    else:\n",
    "        idx = np.where(cook > 1)[0]\n",
    "    return idx\n",
    "\n",
    "idx = find_idx_cooks(fitted) #영향치의 인덱스\n",
    "print(\"Cook's distance 기준 영향치: \", idx)"
   ]
  },
  {
   "cell_type": "code",
   "execution_count": null,
   "id": "stuck-brief",
   "metadata": {
    "id": "empty-defense",
    "outputId": "e2e4fd02-3fde-4260-9ae0-c8fd42d5e629"
   },
   "outputs": [
    {
     "name": "stdout",
     "output_type": "stream",
     "text": [
      "DFBETAS 기준 영향치:  [  9  37  78 102 141 152 190 218 359 364]\n"
     ]
    }
   ],
   "source": [
    "def find_idx_dfbetas(fitted):\n",
    "    dfb = fitted.get_influence().dfbetas[:,0]\n",
    "    n = fitted.df_resid + fitted.df_model + 1\n",
    "    score = 2/np.sqrt(n)\n",
    "    if score <= 2:\n",
    "        idx = np.where(dfb > score)[0]\n",
    "    else:\n",
    "        idx = np.where(dfb > 2)[0]\n",
    "    return idx\n",
    "idx2 = find_idx_dfbetas(fitted)\n",
    "print(\"DFBETAS 기준 영향치: \", idx2)"
   ]
  },
  {
   "cell_type": "code",
   "execution_count": null,
   "id": "maritime-stream",
   "metadata": {
    "id": "inappropriate-endorsement",
    "outputId": "61c6731d-4e41-4da4-be3a-188c2278fd52"
   },
   "outputs": [
    {
     "name": "stdout",
     "output_type": "stream",
     "text": [
      "DFFITS 기준 영향치:  [  9 102 117 141 256]\n"
     ]
    }
   ],
   "source": [
    "def find_idx_dffits(fitted):\n",
    "    dff = fitted.get_influence().dffits_internal[0]\n",
    "    P = fitted.get_influence().k_vars\n",
    "    n = fitted.df_resid + fitted.df_model + 1\n",
    "    score = 2*np.sqrt((P+1)/n)\n",
    "    idx = np.where(dff > score)[0]\n",
    "    return idx\n",
    "idx3 = find_idx_dffits(fitted)\n",
    "print(\"DFFITS 기준 영향치: \", idx3)"
   ]
  },
  {
   "cell_type": "code",
   "execution_count": null,
   "id": "fifth-hamburg",
   "metadata": {
    "id": "spectacular-projection",
    "outputId": "a669a763-26a1-425a-c7c7-8f3f02b3a711"
   },
   "outputs": [
    {
     "name": "stdout",
     "output_type": "stream",
     "text": [
      "Leverage H 기준 영향치:  [130 145 256 261 340 366 367 408]\n"
     ]
    }
   ],
   "source": [
    "def find_idx_leverageH(fitted):\n",
    "    lh = fitted.get_influence().hat_matrix_diag\n",
    "    P = fitted.get_influence().k_vars\n",
    "    n = fitted.df_resid + fitted.df_model + 1\n",
    "    score = 2*(P+1)/n\n",
    "    idx = np.where(lh > score)[0]\n",
    "    return idx\n",
    "idx4 = find_idx_leverageH(fitted)\n",
    "print(\"Leverage H 기준 영향치: \", idx4)"
   ]
  },
  {
   "cell_type": "markdown",
   "id": "certified-spectrum",
   "metadata": {
    "id": "respiratory-belize"
   },
   "source": [
    "### - VIF 계산"
   ]
  },
  {
   "cell_type": "code",
   "execution_count": 22,
   "id": "piano-dietary",
   "metadata": {
    "id": "oriental-brooklyn",
    "outputId": "4afe1d79-5692-4352-e31d-6e9719aad4f5"
   },
   "outputs": [
    {
     "name": "stdout",
     "output_type": "stream",
     "text": [
      "  feature    VIF\n",
      "4      bp  1.343\n",
      "1     bmi   1.19\n",
      "2     age  1.143\n",
      "3     sex  1.073\n"
     ]
    }
   ],
   "source": [
    "from pandas import DataFrame\n",
    "import statsmodels.api as sm\n",
    "from statsmodels.stats.outliers_influence import variance_inflation_factor as VIF\n",
    "\n",
    "def check_vif(X, y):\n",
    "    X = sm.add_constant(X)\n",
    "    model = sm.OLS(y, X)\n",
    "    model.fit()\n",
    "    vif_df = DataFrame(columns=['feature', 'VIF'])\n",
    "    for i in range(1, len(model.exog_names)):\n",
    "        vif_df.loc[i, 'feature'] = model.exog_names[i]\n",
    "        vif_df.loc[i, 'VIF'] = round(VIF(model.exog, i), 3)\n",
    "    return vif_df.sort_values('VIF', ascending=False)\n",
    "\n",
    "print(check_vif(X, y))\n",
    "\n",
    "## 모든 feature들의 VIF가 10 미만이기 때문에 다중공선성이 없다고 볼 수 있다."
   ]
  },
  {
   "cell_type": "markdown",
   "id": "utility-pound",
   "metadata": {
    "id": "handed-rainbow"
   },
   "source": [
    "### - 변수 선택과 가능도 "
   ]
  },
  {
   "cell_type": "code",
   "execution_count": 26,
   "id": "utility-strategy",
   "metadata": {
    "id": "internal-worse",
    "outputId": "e7ec1ac7-fd0a-46cd-ea0c-f3a3ae80ce7d"
   },
   "outputs": [
    {
     "name": "stdout",
     "output_type": "stream",
     "text": [
      "full model = const, bp, bmi, age, sex\n",
      " 수정 결정계수: 0.395\n",
      " AIC: 4878.4(= 4878.4)\n",
      " BIC: 4898.8(= 4898.8)\n",
      " Cp 5.0 -> 변수+상수 개수의 합 5.0\n"
     ]
    }
   ],
   "source": [
    "# 모든 변수를 포함한 full model\n",
    "print(\"full model = const, bp, bmi, age, sex\")\n",
    "fitted, summary = multiR_fitted(X, y)\n",
    "R2 = fitted.rsquared\n",
    "n = fitted.nobs #number of observations\n",
    "p = fitted.df_model #설명변수의 개수\n",
    "constant = 'const' in fitted.params.keys() #절편 유무\n",
    "SSE = sum((fitted.resid)**2) #full model의 잔차제곱합\n",
    "MSE_full = SSE / (n-p-1) # fitted.mse_resid (MSE)\n",
    "adj_R2 = 1- (1-R2)*(n-1)/(n-p-1)\n",
    "print(\" 수정 결정계수: {:.3f}\".format(adj_R2))\n",
    "\n",
    "#수기계산 및 라이브러리 계산\n",
    "llf = -n/2*np.log(2*np.pi) - n/2*np.log(SSE / n) - n/2 #로그 가능도 값 (=fitted.llf)\n",
    "aic = -2*llf + 2*(p + constant) #fitted.aic와 동일\n",
    "bic = -2*llf + np.log(n)*(p + constant) #fitted.bic와 동일\n",
    "print(\" AIC: {:.1f}(= {:.1f})\".format(aic, fitted.aic))\n",
    "print(\" BIC: {:.1f}(= {:.1f})\".format(bic, fitted.bic))\n",
    "\n",
    "cp = SSE/MSE_full - n + 2*(p+1)\n",
    "print(\" Cp {:.1f} -> 변수+상수 개수의 합 {}\".format(cp, p+constant))"
   ]
  },
  {
   "cell_type": "code",
   "execution_count": 28,
   "id": "rising-vegetable",
   "metadata": {
    "id": "pregnant-correlation",
    "outputId": "bf5c231d-53dc-47df-c2e9-9400a09039bd"
   },
   "outputs": [
    {
     "name": "stdout",
     "output_type": "stream",
     "text": [
      "후보 model = const, bp, bmi\n",
      " 수정 결정계수: 0.398\n",
      " AIC: 4877.5(= 4877.5)\n",
      " BIC: 4889.8(= 4889.8)\n",
      " Cp 4.1 -> 변수+상수 개수의 합 3.0\n"
     ]
    }
   ],
   "source": [
    "# 일부 변수만 포함한 후보 model\n",
    "print(\"후보 model = const, bp, bmi\")\n",
    "fitted2, summary2 = multiR_fitted(X.filter(['bp', 'bmi']), y)\n",
    "n = fitted2.nobs #number of observations\n",
    "p = fitted2.df_model #설명변수의 개수\n",
    "constant = 'const' in fitted2.params.keys() #절편 유무\n",
    "SSE2 = sum((fitted2.resid)**2) #후보 model의 잔차제곱합\n",
    "adj_R2 = 1- (1-R2)*(n-1)/(n-p-1)\n",
    "print(\" 수정 결정계수: {:.3f}\".format(adj_R2))\n",
    "\n",
    "#수기계산 및 라이브러리 계산\n",
    "llf = -n/2*np.log(2*np.pi) - n/2*np.log(SSE2 / n) - n/2 #로그 가능도 값\n",
    "aic = -2*llf + 2*(p + constant)\n",
    "bic = -2*llf + np.log(n)*(p + constant)\n",
    "print(\" AIC: {:.1f}(= {:.1f})\".format(aic, fitted2.aic))\n",
    "print(\" BIC: {:.1f}(= {:.1f})\".format(bic, fitted2.bic))\n",
    "\n",
    "cp = SSE2/MSE_full - n + 2*(p+1) # 비교모델의 MSE가 아닌 위에서 구한 full모델의 MSE\n",
    "print(\" Cp {:.1f} -> 변수+상수 개수의 합 {}\".format(cp, p+constant))"
   ]
  },
  {
   "cell_type": "code",
   "execution_count": 29,
   "id": "unexpected-tobago",
   "metadata": {
    "id": "immune-custom"
   },
   "outputs": [],
   "source": [
    "## 단계적 선택법\n",
    "from pandas import DataFrame\n",
    "import statsmodels.api as sm\n",
    "from itertools import combinations\n",
    "import numpy as np\n",
    "def stepwise_method(X, y, criterion='AIC'): #'BIC', 'CP', 'adj_R2'\n",
    "    result = DataFrame()\n",
    "    feature_combis = [] #변수 조합의 모든 경우의 수\n",
    "    for i in range(1, len(X.columns)+1):\n",
    "        feature_combis += list(combinations(X.columns, i))\n",
    "    feature_combis.reverse() #p개수 내림차순\n",
    "    \n",
    "    for j, feature_combi in enumerate(feature_combis):\n",
    "        X_ = X.filter(feature_combi)\n",
    "        X_ = sm.add_constant(X_) #절편 추가\n",
    "        model = sm.OLS(y, X_)\n",
    "        fitted = model.fit() #모델 적합\n",
    "        n = fitted.nobs #number of observations\n",
    "        p = fitted.df_model #설명변수의 개수\n",
    "        if j==0:\n",
    "            MSE_full = fitted.mse_resid # full모델의 MSE\n",
    "        \n",
    "        #각 기준값 계산\n",
    "        aic = fitted.aic\n",
    "        bic = fitted.bic\n",
    "        cp = sum((fitted.resid)**2)/MSE_full - (n-2*(p+1))\n",
    "        adj_R2 = fitted.rsquared_adj\n",
    "        \n",
    "        #각 기준값 입력\n",
    "        result.loc[j, 'feature_combi'] = \", \".join(list(fitted.params.keys()))\n",
    "        result.loc[j, 'AIC'] = aic\n",
    "        result.loc[j, 'BIC'] = bic\n",
    "        result.loc[j, 'CP'] = cp\n",
    "        result.loc[j, 'adj_R2'] = adj_R2\n",
    "        \n",
    "        if criterion in ['AIC', 'BIC']: #낮을수록 Best\n",
    "            result = result.sort_values(by=criterion, ascending = True)\n",
    "            best = result.iloc[0, 0]\n",
    "        elif criterion in ['adj_R2']: #높을수록 Best\n",
    "            result = result.sort_values(by=criterion, ascending = False)\n",
    "            best = result.iloc[0, 0]\n",
    "        elif criterion in ['CP']: #CP값이 작고, 변수의 개수와 유사할수록 Best\n",
    "            best_idx = np.abs(result['CP']-result['feature_combi'].apply(lambda x: x.count(',')+1)).sort_values(ascending=True).index\n",
    "            result = result.loc[best_idx, :]\n",
    "            best = result.iloc[0, 0]\n",
    "        else:\n",
    "            print(\"criterion options only cover AIC, BIC, CP, adj_R2.\")\n",
    "    return best, result"
   ]
  },
  {
   "cell_type": "code",
   "execution_count": 30,
   "id": "painted-lawsuit",
   "metadata": {
    "id": "indoor-appeal",
    "outputId": "21f0f13c-ab6f-4a37-8f18-1b6058cfc9f6",
    "tags": []
   },
   "outputs": [
    {
     "name": "stdout",
     "output_type": "stream",
     "text": [
      "최적의 변수 조합:  const, bmi, sex, bp\n",
      "전체 결과값: \n",
      "               feature_combi          AIC          BIC          CP    adj_R2\n",
      "2        const, bmi, sex, bp  4876.695411  4893.060650    3.337361  0.395687\n",
      "8             const, bmi, bp  4877.487868  4889.761797    4.109107  0.393242\n",
      "0   const, bmi, age, sex, bp  4878.354321  4898.810871    5.000000  0.394771\n",
      "3        const, bmi, age, bp  4879.321065  4895.686305    5.943049  0.392087\n",
      "10           const, bmi, age  4909.624337  4921.898267   37.300082  0.347484\n",
      "4       const, bmi, age, sex  4911.296550  4927.661789   38.949213  0.346479\n",
      "14                const, bmi  4912.038221  4920.220840   40.050212  0.342433\n",
      "9            const, bmi, sex  4913.987529  4926.261459   41.995389  0.341010\n",
      "5             const, sex, bp  5002.161858  5014.435788  147.526881  0.195519\n",
      "11                 const, bp  5002.506590  5010.689210  148.630613  0.193078\n",
      "1        const, age, sex, bp  5002.827282  5019.192522  147.767635  0.196113\n",
      "6             const, age, bp  5003.525445  5015.799374  149.329863  0.193033\n",
      "13                const, age  5082.445976  5090.628596  264.927447  0.033110\n",
      "7            const, age, sex  5084.394690  5096.668620  266.845890  0.031020\n",
      "12                const, sex  5097.511242  5105.693862  289.299234 -0.000414\n",
      "\n",
      "기준 AIC에 의한 최적의 변수 조합 const, bmi, sex, bp\n",
      "기준 BIC에 의한 최적의 변수 조합 const, bmi, bp\n",
      "기준 CP에 의한 최적의 변수 조합 const, bmi, age, sex, bp\n",
      "기준 adj_R2에 의한 최적의 변수 조합 const, bmi, sex, bp\n"
     ]
    }
   ],
   "source": [
    "# AIC 기준으로 단계적 선택법을 통한 최적의 변수 선택 결과는 다음과 같다.\n",
    "best, result = stepwise_method(X, y, criterion='AIC')\n",
    "print(\"최적의 변수 조합: \", best)\n",
    "print(f\"전체 결과값: \\n{result}\\n\")\n",
    "\n",
    "for c in ['AIC', 'BIC', 'CP', 'adj_R2']:\n",
    "    best, result = stepwise_method(X, y, c)\n",
    "    print(f\"기준 {c}에 의한 최적의 변수 조합 {best}\")"
   ]
  },
  {
   "cell_type": "markdown",
   "id": "chief-charger",
   "metadata": {
    "id": "encouraging-studio"
   },
   "source": [
    "### - 잔차 분석"
   ]
  },
  {
   "cell_type": "code",
   "execution_count": 31,
   "id": "ceramic-hammer",
   "metadata": {
    "id": "ordinary-hebrew",
    "outputId": "8d635a0e-57e7-4d94-f294-c3ab5e3086a4",
    "tags": []
   },
   "outputs": [
    {
     "name": "stdout",
     "output_type": "stream",
     "text": [
      "예측값: \n",
      " [205.82972979 105.33175612 182.53703825 129.17333187 137.56411038]\n",
      "실제값: \n",
      " [151.  75. 141. 206. 135.]\n",
      "잔차: \n",
      " [-54.82972979 -30.33175612 -41.53703825  76.82666813  -2.56411038]\n",
      "표준화 잔차: \n",
      " [-0.91941558 -0.50861985 -0.69651629  1.28827254 -0.04299644]\n"
     ]
    }
   ],
   "source": [
    "from scipy.stats import zscore, probplot\n",
    "import statsmodels.api as sm\n",
    "X_ = sm.add_constant(X)\n",
    "model = sm.OLS(y, X_)\n",
    "fitted = model.fit()\n",
    "resid = fitted.resid # 잔차\n",
    "pred = fitted.fittedvalues #예측값\n",
    "sresid = zscore(resid) #표준화 잔차\n",
    "\n",
    "print(\"예측값: \\n\", pred[:5].values)\n",
    "print(\"실제값: \\n\", y[:5].values.ravel())\n",
    "print(\"잔차: \\n\", resid[:5].values)\n",
    "print(\"표준화 잔차: \\n\", sresid[:5])"
   ]
  },
  {
   "cell_type": "code",
   "execution_count": 32,
   "id": "endless-vienna",
   "metadata": {
    "id": "black-antarctica",
    "outputId": "35de96c2-b1f4-4f3c-8819-ba52af886fa1"
   },
   "outputs": [
    {
     "name": "stdout",
     "output_type": "stream",
     "text": [
      "1. 정규성 가정 확인: \n",
      " Jarque-bera: stats 6.464, p-value 0.039\n",
      " 왜도 0.146, 첨도 2.485\n"
     ]
    },
    {
     "data": {
      "image/png": "[encoded data removed]",
      "text/plain": [
       "<Figure size 720x360 with 2 Axes>"
      ]
     },
     "metadata": {
      "needs_background": "light"
     },
     "output_type": "display_data"
    }
   ],
   "source": [
    "from matplotlib import pyplot as plt\n",
    "from statsmodels.stats.stattools import jarque_bera\n",
    "print(\"1. 정규성 가정 확인: \") #히스토그램, QQ plot, Jarque-Bera\n",
    "stats, p, skew, kurt = jarque_bera(resid)\n",
    "print(\" Jarque-bera: stats {:.3f}, p-value {:.3f}\".format(stats, p))\n",
    "print(\" 왜도 {:.3f}, 첨도 {:.3f}\".format(skew, kurt))\n",
    "## Jarque bera 검정 결과, 유의수준 0.05 기준으로 정규분포와 차이가 있다(H1).\n",
    "## 정규분포는 왜도는 0, 첨도는 3을 따르는데 해당 기준으로는 다소 차이가 있다.\n",
    "\n",
    "fig, ax = plt.subplots(1,2, figsize=(10,5))\n",
    "ax[0].hist(resid)\n",
    "probplot(resid, plot=ax[1])\n",
    "plt.show()\n",
    "## 히스토그램과 QQ plot 상으로는 정규분포와 근접해 보인다."
   ]
  },
  {
   "cell_type": "code",
   "execution_count": 33,
   "id": "wanted-swiss",
   "metadata": {
    "id": "floral-chest",
    "outputId": "1ce6a6dd-9efa-46aa-a9c1-523e1bce9160"
   },
   "outputs": [
    {
     "name": "stdout",
     "output_type": "stream",
     "text": [
      "2. 등분산성 가정 확인: \n"
     ]
    },
    {
     "data": {
      "image/png": "[encoded data removed]",
      "text/plain": [
       "<Figure size 864x216 with 4 Axes>"
      ]
     },
     "metadata": {
      "needs_background": "light"
     },
     "output_type": "display_data"
    }
   ],
   "source": [
    "print(\"2. 등분산성 가정 확인: \")\n",
    "import seaborn as sns\n",
    "fig, ax = plt.subplots(1,4, figsize=(12,3))\n",
    "for feature, ax in zip(X.columns, ax.ravel()):\n",
    "    sns.regplot(x=X[feature], y=sresid, line_kws={'color':'C1'}, ax=ax)\n",
    "plt.show()\n",
    "## 각 독립변수와 잔차의 분산이 일정하면 가운데 회귀선이 수평하게 표시된다. 표준화 잔차의 값이 +/-2를 벗어나면 이상값 또는 특이값을 예상할 수 있다.\n",
    "## 모든 독립변수에서 잔차의 분산이 일정한 것으로 보인다. "
   ]
  },
  {
   "cell_type": "code",
   "execution_count": 34,
   "id": "civil-guatemala",
   "metadata": {
    "id": "exterior-diving",
    "outputId": "4d29e71c-dfd3-4ac0-ff07-627aa7523ecb"
   },
   "outputs": [
    {
     "name": "stdout",
     "output_type": "stream",
     "text": [
      "3. 독립성 가정 확인: \n",
      " Durbin-watson 통계량 1.933\n"
     ]
    }
   ],
   "source": [
    "print(\"3. 독립성 가정 확인: \")\n",
    "from statsmodels.stats.stattools import durbin_watson\n",
    "dw = durbin_watson(resid)\n",
    "print(\" Durbin-watson 통계량 {:.3f}\".format(dw))\n",
    "## dw값이 2에 가까우면 잔차 간 독립이고, 0에 가까우면 양의 상관, 4에 가까우면 음의 상관이 있다고 본다. 따라서 잔차 간 독립인 것으로 보인다."
   ]
  },
  {
   "cell_type": "markdown",
   "id": "knowing-theater",
   "metadata": {
    "id": "impaired-harbor"
   },
   "source": [
    "### 8-1-3. 규제 선형 회귀 "
   ]
  },
  {
   "cell_type": "markdown",
   "id": "static-connectivity",
   "metadata": {
    "id": "reliable-worth"
   },
   "source": [
    "### - 릿지 회귀"
   ]
  },
  {
   "cell_type": "code",
   "execution_count": 35,
   "id": "sufficient-receptor",
   "metadata": {
    "id": "equal-contact"
   },
   "outputs": [],
   "source": [
    "# 앞서 불러온 데이터셋 사용\n",
    "X = diabetes.filter(['bmi', 'age', 'sex', 'bp'])\n",
    "y = diabetes.filter(['target'])\n",
    "\n",
    "# 일반화 성능 확인을 위해 데이터를 train set과 test set으로 나눈다.\n",
    "from sklearn.model_selection import train_test_split\n",
    "X_train, X_test, y_train, y_test = train_test_split(X, y)"
   ]
  },
  {
   "cell_type": "code",
   "execution_count": 36,
   "id": "floral-scotland",
   "metadata": {
    "id": "forward-february",
    "outputId": "a747ff26-a93b-4db5-80d3-f10bf3b60aa6"
   },
   "outputs": [
    {
     "name": "stdout",
     "output_type": "stream",
     "text": [
      "[alpha = 0.9]\n",
      " train set score: 0.332, test set score: 0.263\n",
      " 회귀계수 0: 401.53\n",
      " 회귀계수 1: 93.50\n",
      " 회귀계수 2: -36.41\n",
      " 회귀계수 3: 238.75\n",
      " 절편: 151.53\n"
     ]
    }
   ],
   "source": [
    "from sklearn.linear_model import Ridge\n",
    "# alpha값이 커질수록 규제가 커져 모델의 복잡성이 낮아진다. (일반화 된다.)\n",
    "a = 0.9\n",
    "ridge = Ridge(alpha=a).fit(X_train, y_train)\n",
    "print(f\"[alpha = {a}]\")\n",
    "train_s = ridge.score(X_train, y_train)\n",
    "test_s = ridge.score(X_test, y_test)\n",
    "print(\" train set score: {:.3f}, test set score: {:.3f}\".format(train_s, test_s))\n",
    "for i, coef in enumerate(ridge.coef_.ravel()):\n",
    "    print(\" 회귀계수 {}: {:.2f}\".format(i, coef))\n",
    "print(\" 절편: {:.2f}\".format(ridge.intercept_[0]))"
   ]
  },
  {
   "cell_type": "code",
   "execution_count": 37,
   "id": "mature-campbell",
   "metadata": {
    "id": "devoted-dependence",
    "outputId": "db0a163b-0302-4fe4-abbd-ca845af72f03"
   },
   "outputs": [
    {
     "name": "stdout",
     "output_type": "stream",
     "text": [
      "[alpha = 0.1]\n",
      " train set score: 0.418, test set score: 0.320\n",
      " 회귀계수 0: 725.34\n",
      " 회귀계수 1: 90.48\n",
      " 회귀계수 2: -133.15\n",
      " 회귀계수 3: 355.32\n",
      " 절편: 151.64\n"
     ]
    }
   ],
   "source": [
    "a = 0.1\n",
    "print(f\"[alpha = {a}]\")\n",
    "ridge = Ridge(alpha=a).fit(X_train, y_train)\n",
    "train_s = ridge.score(X_train, y_train)\n",
    "test_s = ridge.score(X_test, y_test)\n",
    "print(\" train set score: {:.3f}, test set score: {:.3f}\".format(train_s, test_s))\n",
    "for i, coef in enumerate(ridge.coef_.ravel()):\n",
    "    print(\" 회귀계수 {}: {:.2f}\".format(i, coef))\n",
    "print(\" 절편: {:.2f}\".format(ridge.intercept_[0]))"
   ]
  },
  {
   "cell_type": "markdown",
   "id": "portable-reaction",
   "metadata": {
    "id": "utility-colony"
   },
   "source": [
    "### - 라쏘 회귀"
   ]
  },
  {
   "cell_type": "code",
   "execution_count": null,
   "id": "appreciated-department",
   "metadata": {
    "id": "lonely-timing",
    "outputId": "7e336779-df3c-4bc3-f152-07fa48841dd5"
   },
   "outputs": [
    {
     "name": "stdout",
     "output_type": "stream",
     "text": [
      "[alpha = 0.9]\n",
      " train set score: 0.299, test set score: 0.319\n",
      " 회귀계수 0: 482.02\n",
      " 회귀계수 1: 0.00\n",
      " 회귀계수 2: 0.00\n",
      " 회귀계수 3: 124.41\n",
      " 절편: 152.60\n"
     ]
    }
   ],
   "source": [
    "from sklearn.linear_model import Lasso\n",
    "# alpha값이 커질수록 규제가 커져 모델의 복잡성이 낮아진다. (일반화 된다.)\n",
    "a = 0.9\n",
    "lasso = Lasso(alpha=a).fit(X_train, y_train)\n",
    "print(f\"[alpha = {a}]\")\n",
    "train_s = lasso.score(X_train, y_train)\n",
    "test_s = lasso.score(X_test, y_test)\n",
    "print(\" train set score: {:.3f}, test set score: {:.3f}\".format(train_s, test_s))\n",
    "for i, coef in enumerate(lasso.coef_.ravel()):\n",
    "    print(\" 회귀계수 {}: {:.2f}\".format(i, coef))\n",
    "print(\" 절편: {:.2f}\".format(lasso.intercept_[0]))"
   ]
  },
  {
   "cell_type": "code",
   "execution_count": null,
   "id": "obvious-environment",
   "metadata": {
    "id": "combined-inquiry",
    "outputId": "73b1f5b9-7372-44e6-c481-b3d5102fcfcb"
   },
   "outputs": [
    {
     "name": "stdout",
     "output_type": "stream",
     "text": [
      "[alpha = 0.1]\n",
      " train set score: 0.387, test set score: 0.417\n",
      " 회귀계수 0: 741.19\n",
      " 회귀계수 1: 4.47\n",
      " 회귀계수 2: -0.00\n",
      " 회귀계수 3: 374.56\n",
      " 절편: 152.09\n"
     ]
    }
   ],
   "source": [
    "a = 0.1\n",
    "print(f\"[alpha = {a}]\")\n",
    "lasso = Lasso(alpha=a).fit(X_train, y_train)\n",
    "train_s = lasso.score(X_train, y_train)\n",
    "test_s = lasso.score(X_test, y_test)\n",
    "print(\" train set score: {:.3f}, test set score: {:.3f}\".format(train_s, test_s))\n",
    "for i, coef in enumerate(lasso.coef_.ravel()):\n",
    "    print(\" 회귀계수 {}: {:.2f}\".format(i, coef))\n",
    "print(\" 절편: {:.2f}\".format(lasso.intercept_[0]))"
   ]
  },
  {
   "cell_type": "markdown",
   "id": "rubber-swaziland",
   "metadata": {
    "id": "narrow-benjamin"
   },
   "source": [
    "### - 엘라스틱넷"
   ]
  },
  {
   "cell_type": "code",
   "execution_count": 52,
   "id": "czech-montgomery",
   "metadata": {
    "id": "nearby-parish",
    "outputId": "d67c1d49-894b-4601-9187-8e8c4cb0938d"
   },
   "outputs": [
    {
     "name": "stdout",
     "output_type": "stream",
     "text": [
      "[alpha = 0.1, l1_ratio = 0.1]\n",
      " train set score: 0.031, test set score: 0.023\n",
      " 회귀계수 0: 25.03\n",
      " 회귀계수 1: 9.17\n",
      " 회귀계수 2: 0.86\n",
      " 회귀계수 3: 17.62\n",
      " 절편: 151.39\n"
     ]
    }
   ],
   "source": [
    "from sklearn.linear_model import ElasticNet\n",
    "# alpha는 패널티 조건을 곱하는 상수로서 0이면 LinearRegression과 동일\n",
    "# l1_ratio는 0~1 사이 값을 가지며, L1과 L2 규제의 조합을 의미함. 값이 0이면, L2 규제를 적용하고, 값이 1이면 L1 규제를 적용\n",
    "a = 0.1\n",
    "l1_ratio = 0.1\n",
    "en = ElasticNet(alpha=a, l1_ratio=l1_ratio).fit(X_train, y_train)\n",
    "print(f\"[alpha = {a}, l1_ratio = {l1_ratio}]\")\n",
    "train_s = en.score(X_train, y_train)\n",
    "test_s = en.score(X_test, y_test)\n",
    "print(\" train set score: {:.3f}, test set score: {:.3f}\".format(train_s, test_s))\n",
    "for i, coef in enumerate(en.coef_.ravel()):\n",
    "    print(\" 회귀계수 {}: {:.2f}\".format(i, coef))\n",
    "print(\" 절편: {:.2f}\".format(en.intercept_[0]))"
   ]
  },
  {
   "cell_type": "code",
   "execution_count": 53,
   "id": "conventional-savings",
   "metadata": {
    "id": "further-employer",
    "outputId": "0be9976f-b6e0-4ca4-9585-c97f8631eb8f"
   },
   "outputs": [
    {
     "name": "stdout",
     "output_type": "stream",
     "text": [
      "[alpha = 0.1, l1_ratio = 0.9]\n",
      " train set score: 0.178, test set score: 0.141\n",
      " 회귀계수 0: 170.46\n",
      " 회귀계수 1: 49.06\n",
      " 회귀계수 2: -0.00\n",
      " 회귀계수 3: 110.82\n",
      " 절편: 151.44\n",
      "\n"
     ]
    }
   ],
   "source": [
    "a = 0.1\n",
    "l1_ratio = 0.9\n",
    "print(f\"[alpha = {a}, l1_ratio = {l1_ratio}]\")\n",
    "en = ElasticNet(alpha=a, l1_ratio=l1_ratio).fit(X_train, y_train)\n",
    "train_s = en.score(X_train, y_train)\n",
    "test_s = en.score(X_test, y_test)\n",
    "print(\" train set score: {:.3f}, test set score: {:.3f}\".format(train_s, test_s))\n",
    "for i, coef in enumerate(en.coef_.ravel()):\n",
    "    print(\" 회귀계수 {}: {:.2f}\".format(i, coef))\n",
    "print(\" 절편: {:.2f}\\n\".format(en.intercept_[0]))"
   ]
  },
  {
   "cell_type": "markdown",
   "id": "structural-casting",
   "metadata": {
    "id": "comprehensive-uncertainty"
   },
   "source": [
    "### 8-1-4. 일반화 선형 회귀"
   ]
  },
  {
   "cell_type": "markdown",
   "id": "compound-turtle",
   "metadata": {
    "id": "current-employment"
   },
   "source": [
    "### - 로지스틱 회귀"
   ]
  },
  {
   "cell_type": "code",
   "execution_count": null,
   "id": "continental-church",
   "metadata": {
    "id": "selected-remark",
    "outputId": "e360cdac-96c9-423d-c77c-35770eb9067d",
    "tags": []
   },
   "outputs": [
    {
     "name": "stdout",
     "output_type": "stream",
     "text": [
      "target class:  Counter({1: 357, 0: 212})\n"
     ]
    }
   ],
   "source": [
    "from sklearn.linear_model import LogisticRegression\n",
    "from sklearn.datasets import load_breast_cancer\n",
    "from sklearn.model_selection import train_test_split\n",
    "from collections import Counter\n",
    "from pandas import DataFrame\n",
    "import numpy as np\n",
    "\n",
    "# 데이터 불러오기\n",
    "cancer = load_breast_cancer()\n",
    "X = cancer.data[:, :4] # 유방암에 영향을 미치는 4개의 feature\n",
    "X_names = cancer.feature_names[:4]\n",
    "y = cancer.target # 유방암 여부\n",
    "X_train, X_test, y_train, y_test = train_test_split(X, y, stratify=y, random_state=0)\n",
    "print(\"target class: \", Counter(y))"
   ]
  },
  {
   "cell_type": "code",
   "execution_count": null,
   "id": "spectacular-gentleman",
   "metadata": {
    "id": "flush-lotus",
    "outputId": "7d69c90f-7450-413d-9ee0-c82df3d343ea"
   },
   "outputs": [
    {
     "name": "stdout",
     "output_type": "stream",
     "text": [
      "train score 0.913, test score 0.874\n",
      "\n",
      "로지스틱 회귀식: \n",
      " y = 0.016*'mean radius' + -0.192*'mean texture' + -0.272*'mean perimeter' + 0.008*'mean area' + 24.001\n"
     ]
    }
   ],
   "source": [
    "# 로지스틱 회귀 적합\n",
    "# 파라미터 C값이 높을수록 규제가 약해지고, 모델 복잡성이 높아진다. \n",
    "LR = LogisticRegression(C=0.01, max_iter=1000)\n",
    "LR.fit(X_train, y_train)\n",
    "train_score = LR.score(X_train, y_train)\n",
    "test_score = LR.score(X_test, y_test)\n",
    "\n",
    "# 회귀식을 반환하는 함수 정의\n",
    "def regression_formula(feature_names, coef, intercept):\n",
    "    msg = \"y = \"\n",
    "    for i, feature in enumerate(feature_names):\n",
    "        coef = coef.ravel()\n",
    "        msg += \"+ {:.3f}*'{}' \".format(coef[i], feature)\n",
    "    if intercept.shape == (1,):\n",
    "        intercept = intercept[0]\n",
    "    else:\n",
    "        intercept = intercept\n",
    "    msg += \"+ {:.3f}\".format(intercept)\n",
    "    msg = msg[:4] + msg[6:]\n",
    "    return msg\n",
    "\n",
    "print(\"train score {:.3f}, test score {:.3f}\\n\".format(train_score, test_score))\n",
    "print(\"로지스틱 회귀식: \\n\", regression_formula(X_names, LR.coef_, LR.intercept_))"
   ]
  },
  {
   "cell_type": "code",
   "execution_count": null,
   "id": "unsigned-bangkok",
   "metadata": {
    "id": "enormous-supplement",
    "outputId": "d94557dd-3c5c-459f-ee4a-5d28ffd2721a"
   },
   "outputs": [
    {
     "name": "stdout",
     "output_type": "stream",
     "text": [
      " 0번 데이터의 features: [  17.99   10.38  122.8  1001.  ]\n",
      " 0번 데이터의 선형 함수 값 (XBeta): -2.932 (=-2.932)\n",
      " 0번 데이터의 시그모이드 함수 값 (mu): 0.051 (=0.051)\n"
     ]
    }
   ],
   "source": [
    "# XBeta값(설명변수의 선형 결합)과 예측확률값(평균함수값) 구하기\n",
    "data_idx = 0 #설명변수 X0의 index\n",
    "XB = (X[data_idx]*LR.coef_).sum()+LR.intercept_[0] #회귀식에 X0값을 대입한 예측값\n",
    "mu = 1/(1+np.exp(-XB)) #XB의 값을 변형하여 0~1 사이의 확률값으로 맵핑\n",
    "\n",
    "# method인 decision_function과 predict_proba로 계산하기\n",
    "XB2 = LR.decision_function(X[data_idx].reshape(-1,len(X[data_idx])))[0]\n",
    "mu2 = LR.predict_proba(X[data_idx].reshape(-1,len(X[data_idx])))[0][1] \n",
    "\n",
    "print(\" {}번 데이터의 features: {}\".format(data_idx, X[data_idx]))\n",
    "print(\" {}번 데이터의 선형 함수 값 (XBeta): {:.3f} (={:.3f})\".format(data_idx, XB, XB2))\n",
    "print(\" {}번 데이터의 시그모이드 함수 값 (mu): {:.3f} (={:.3f})\".format(data_idx, mu, mu2) )"
   ]
  },
  {
   "cell_type": "code",
   "execution_count": null,
   "id": "rising-energy",
   "metadata": {
    "id": "organic-arthur",
    "outputId": "bcde4cbf-a5c7-43cb-cc44-e2d1f2205467"
   },
   "outputs": [
    {
     "name": "stdout",
     "output_type": "stream",
     "text": [
      "각 클래스일 확률에 따른 예측분류값과 실제분류값:\n",
      "           0         1  pred  y\n",
      "0  0.949417  0.050583     0  0\n",
      "1  0.987738  0.012262     0  0\n",
      "2  0.994990  0.005010     0  0\n",
      "3  0.090167  0.909833     1  0\n"
     ]
    }
   ],
   "source": [
    "#기본 cut-off value(임계값)는 0.5: 확률값이 0.5 이상이면 1, 이하이면 0으로 분류\n",
    "prob = LR.predict_proba(X) #각 클래스에 대한 예측확률값\n",
    "## predict_proba: mu 계산, decision_function: XBeta 계산\n",
    "pred = LR.predict(X) # 예측값\n",
    "result = DataFrame(prob)\n",
    "result['pred'] = pred\n",
    "result['y'] = y\n",
    "print(\"각 클래스일 확률에 따른 예측분류값과 실제분류값:\\n\", result.head(4))"
   ]
  },
  {
   "cell_type": "code",
   "execution_count": null,
   "id": "official-stake",
   "metadata": {
    "id": "concrete-irish",
    "outputId": "acbd5521-7159-4e48-d5a7-aad4fa03cbd8"
   },
   "outputs": [
    {
     "name": "stdout",
     "output_type": "stream",
     "text": [
      "feature 'mean perimeter'의 회귀계수 -0.272\n",
      " ==> exp(회귀계수): 0.761\n",
      "\n",
      " (증가 전) 0번 데이터의 features: [  17.99   10.38  122.8  1001.  ]\n",
      " (증가 전)'mean perimeter'의 값이 122.800일 때, y는 0.051, odds(y/(1-y))는 0.053\n",
      "\n",
      " (증가 후) 0번 데이터의 features: [  17.99   10.38  123.8  1001.  ]\n",
      " (증가 후)'mean perimeter'의 값이 123.800일 때, y는 0.039,  odds(y/(1-y))는 0.041(=0.041)\n",
      "\n",
      " ==> x가 한단위 증가하기 후의 오즈는 증가 전 오즈의 0.761배가 된다. (증가 후 오즈/증가 전 오즈 = 오즈비)\n"
     ]
    }
   ],
   "source": [
    "# 회귀계수의 해석\n",
    "feat_idx = 2 #확인할 feature의 index 선택\n",
    "spec_X = X[data_idx]\n",
    "\n",
    "# 회귀계수 확인\n",
    "print(\"feature '{}'의 회귀계수 {:.3f}\".format(X_names[feat_idx], LR.coef_[0][feat_idx]))\n",
    "print(\" ==> exp(회귀계수): {:.3f}\\n\".format(np.exp(LR.coef_[0][feat_idx])))\n",
    "\n",
    "# 특정 feature의 값 한단위 증가 전 데이터와 오즈, 오즈비 확인\n",
    "pred_y = LR.predict_proba(spec_X.reshape(-1,len(spec_X)))[0][1]\n",
    "before_odds = pred_y/(1-pred_y)\n",
    "print(\" (증가 전) {}번 데이터의 features: {}\".format(data_idx, spec_X))\n",
    "print(\" (증가 전)'{}'의 값이 {:.3f}일 때, y는 {:.3f}, odds(y/(1-y))는 {:.3f}\\n\".format(X_names[feat_idx], spec_X[feat_idx], pred_y, before_odds))\n",
    "\n",
    "# 특정 feature의 값 한단위 증가 후 데이터와 오즈, 오즈비 확인\n",
    "spec_X[feat_idx] = spec_X[feat_idx] +1\n",
    "print(\" (증가 후) {}번 데이터의 features: {}\".format(data_idx, spec_X))\n",
    "pred_y2 = LR.predict_proba(spec_X.reshape(-1,len(spec_X)))[0][1]\n",
    "after_odds = pred_y2/(1-pred_y2)\n",
    "print(\" (증가 후)'{}'의 값이 {:.3f}일 때, y는 {:.3f},  odds(y/(1-y))는 {:.3f}(={:.3f})\".format(X_names[feat_idx], spec_X[feat_idx], pred_y2, (pred_y2 / (1-pred_y2)), before_odds*np.exp(LR.coef_[0][feat_idx])))\n",
    "\n",
    "print(\"\\n ==> x가 한단위 증가하기 후의 오즈는 증가 전 오즈의 {:.3f}배가 된다. (증가 후 오즈/증가 전 오즈 = 오즈비)\".format(after_odds/before_odds))\n",
    "\n",
    "## x가 한단위 증가하면, 증가 후 오즈가 증가 전의 0.761배 된다는 의미이다. 이 0.761을 오즈비라고 한다.\n",
    "## 즉, 해당 feature는 값이 증가할수록 반응변수의 확률값이 점점 줄어들게 된다."
   ]
  },
  {
   "cell_type": "code",
   "execution_count": null,
   "id": "assigned-upset",
   "metadata": {
    "id": "macro-router",
    "outputId": "2d0fc13b-73b1-4b8c-adc7-1ab57dbf746c"
   },
   "outputs": [
    {
     "name": "stdout",
     "output_type": "stream",
     "text": [
      "최적의 cut-off value: 0.526\n"
     ]
    }
   ],
   "source": [
    "# 분류 성능 최적화를 위해 cut-off value를 다르게 설정하기도 한다.\n",
    "# Youden Index (Youden's J statistic)는 기본적으로 민감도 + 특이도 - 1이라는 매우 단순한 계산식을 통해 특이도와 민감도의 합이 최대가 되는 점을 구하는 방법이다. 이를 통해 최적의 cut-off value를 찾을 수 있다.\n",
    "from sklearn.metrics import roc_curve\n",
    "fpr, tpr, thresholds = roc_curve(y, prob[:, 1]) #실제값과 예측 확률값으로 fpr, tpr, thresholds를 계산\n",
    "J = tpr - fpr\n",
    "idx= np.argmax(J)\n",
    "best_threshold = thresholds[idx]\n",
    "best_tpr = tpr[idx]\n",
    "best_fpr = fpr[idx]\n",
    "print(\"최적의 cut-off value: {:.3f}\".format(best_threshold))\n",
    "## 해당 모델은 최적의 cut-off value 0.526과 기본 설정값 0.5가 근사하지만, 어떤 경우 최적의 분류 결과를 위한 cut-off value가 0.5에서 많이 벗어난 값이 될 수도 있다. "
   ]
  },
  {
   "cell_type": "code",
   "execution_count": null,
   "id": "simple-collapse",
   "metadata": {
    "id": "skilled-reputation",
    "outputId": "5c86f845-6054-4c0c-f66e-cf27e4ebd928"
   },
   "outputs": [
    {
     "name": "stdout",
     "output_type": "stream",
     "text": [
      "Optimization terminated successfully.\n",
      "         Current function value: 0.169550\n",
      "         Iterations 10\n",
      "\n",
      "Log-Likelihood: -72.229, LL-Null: -281.440\n",
      "LLR: 418.423(= 418.423), critical value(임계값): 9.488\n",
      "LLR p-value: 0.000(= 0.000)\n",
      "R2: 0.743(= 0.743)\n"
     ]
    }
   ],
   "source": [
    "# statsmodels를 통해서도 회귀 적합할 수 있다. 다만, sklearn에서 적합한 회귀식과 다른 결과가 나오게 되는데, 그 이유는 sklearn에서 자동으로 규제(regularization)를 적용하고 있기 때문이다. sklearn의 C를 매우 큰 수로 설정하여 규제가 없다시피 하면, 두 라이브러리의 회귀식이 유사 해진다.\n",
    "import statsmodels.api as sm\n",
    "from scipy.stats import chi2\n",
    "X_train = sm.add_constant(X_train)\n",
    "model = sm.Logit(y_train, X_train)\n",
    "fitted = model.fit()\n",
    "\n",
    "# 로지스틱회귀 모델의 유의성 확인\n",
    "test_a = 0.05 #유의수준\n",
    "LLR = -2*(fitted.llnull - fitted.llf) #LLR (로그우도비)\n",
    "cv = chi2.ppf(1-test_a, fitted.df_model) #LLR이 임계값보다 크면 모형이 유의하다.\n",
    "sp = 1-chi2.cdf(LLR, fitted.df_model) #오른쪽 검정\n",
    "print(\"\\nLog-Likelihood: {:.3f}, LL-Null: {:.3f}\".format(fitted.llf, fitted.llnull))\n",
    "print(\"LLR: {:.3f}(= {:.3f}), critical value(임계값): {:.3f}\".format(fitted.llr, LLR, cv))\n",
    "print(\"LLR p-value: {:.3f}(= {:.3f})\".format(sp, fitted.llr_pvalue))\n",
    "print(\"R2: {:.3f}(= {:.3f})\".format(fitted.prsquared, 1-fitted.llf/fitted.llnull))\n",
    "## 해당 모델은 통계적으로 유의하다고 볼 수 있다."
   ]
  },
  {
   "cell_type": "code",
   "execution_count": null,
   "id": "accurate-greeting",
   "metadata": {
    "id": "viral-cleveland",
    "outputId": "fd7804e7-800f-4e14-85dc-a9eb0a90b613"
   },
   "outputs": [
    {
     "name": "stdout",
     "output_type": "stream",
     "text": [
      "                           Logit Regression Results                           \n",
      "==============================================================================\n",
      "Dep. Variable:                      y   No. Observations:                  426\n",
      "Model:                          Logit   Df Residuals:                      421\n",
      "Method:                           MLE   Df Model:                            4\n",
      "Date:                Thu, 01 Jun 2023   Pseudo R-squ.:                  0.7434\n",
      "Time:                        12:43:03   Log-Likelihood:                -72.229\n",
      "converged:                       True   LL-Null:                       -281.44\n",
      "Covariance Type:            nonrobust   LLR p-value:                 2.906e-89\n",
      "==============================================================================\n",
      "                 coef    std err          z      P>|z|      [0.025      0.975]\n",
      "------------------------------------------------------------------------------\n",
      "const          0.1470      8.502      0.017      0.986     -16.516      16.810\n",
      "x1            10.3953      2.119      4.906      0.000       6.243      14.548\n",
      "x2            -0.2622      0.057     -4.577      0.000      -0.375      -0.150\n",
      "x3            -1.3234      0.217     -6.105      0.000      -1.748      -0.899\n",
      "x4            -0.0317      0.015     -2.150      0.032      -0.061      -0.003\n",
      "==============================================================================\n",
      "\n",
      "Possibly complete quasi-separation: A fraction 0.13 of observations can be\n",
      "perfectly predicted. This might indicate that there is complete\n",
      "quasi-separation. In this case some parameters will not be identified.\n"
     ]
    }
   ],
   "source": [
    "# statsmodels의 요약 결과 확인\n",
    "print(fitted.summary())"
   ]
  },
  {
   "cell_type": "code",
   "execution_count": null,
   "id": "embedded-found",
   "metadata": {
    "id": "solved-settle",
    "outputId": "1ad5927d-88be-4564-bff5-40aa0e2eac75"
   },
   "outputs": [
    {
     "name": "stdout",
     "output_type": "stream",
     "text": [
      "Z 통계량 4.906\n",
      "wald 통계량 24.066, 임곗값: 3.841\n",
      "유의수준 0.050, 해당 통계량의 유의확률 0.000\n"
     ]
    }
   ],
   "source": [
    "# x1의 회귀계수의 유의성 확인하기\n",
    "# 위의 요약 결과에서는 회귀계수의 유의성 확인을 위해 z통계량을 사용하고 있으나, 아래와 같이 z통계량을 제곱한 wald통계량을 통해서도 회귀계수의 유의성을 확인할 수 있다.\n",
    "z = (10.3953/2.119)\n",
    "waldstat = z**2 #위의 report에서 확인한 x1의 회귀계수와 표준오차\n",
    "cv = chi2.ppf(1-test_a, 1)\n",
    "sp = 1-chi2.cdf(waldstat, 1)\n",
    "print(f\"Z 통계량 {z:.3f}\")\n",
    "print(\"wald 통계량 {:.3f}, 임곗값: {:.3f}\".format(waldstat, cv))\n",
    "print(\"유의수준 {:.3f}, 해당 통계량의 유의확률 {:.3f}\".format(test_a, sp))\n",
    "# 따라서 해당 회귀계수는 통계적으로 유의하다"
   ]
  },
  {
   "cell_type": "markdown",
   "id": "industrial-continuity",
   "metadata": {
    "id": "extraordinary-intranet"
   },
   "source": [
    "### - 포아송 회귀"
   ]
  },
  {
   "cell_type": "code",
   "execution_count": 54,
   "id": "enabling-guess",
   "metadata": {
    "id": "imported-pepper",
    "outputId": "b2baab1c-df9a-4779-a0ca-2e7d30103a92",
    "tags": []
   },
   "outputs": [
    {
     "name": "stdout",
     "output_type": "stream",
     "text": [
      "y의 분포: \n"
     ]
    },
    {
     "data": {
      "image/png": "[encoded data removed]",
      "text/plain": [
       "<Figure size 576x576 with 1 Axes>"
      ]
     },
     "metadata": {
      "needs_background": "light"
     },
     "output_type": "display_data"
    }
   ],
   "source": [
    "from sklearn.linear_model import PoissonRegressor\n",
    "from sklearn.model_selection import train_test_split\n",
    "from pandas import DataFrame, read_csv, get_dummies\n",
    "from matplotlib import pyplot as plt\n",
    "# [데이터 출처] https://stats.oarc.ucla.edu/r/dae/poisson-regression/\n",
    "\n",
    "# 데이터 불러오기\n",
    "# 종속변수인 'num_awards'가 정규분포가 아닌 포아송 분포를 따른다고 본다.\n",
    "awards = read_csv('https://raw.githubusercontent.com/algoboni/pythoncodebook1-1/main/8-1-4_awards.csv')\n",
    "X = awards.filter(['prog', 'math']) # 등록한 프로그램 타입, 기말고사 수학 성적\n",
    "# 프로그램 타입: 1. general, 2. academic, 3. vocational\n",
    "X = get_dummies(X, drop_first=True, columns=['prog'])\n",
    "y = awards.filter(['num_awards']) # 한 고등학교에서 학생들이 받은 상의 개수\n",
    "X_train, X_test, y_train, y_test = train_test_split(X, y, random_state=0)\n",
    "\n",
    "print(\"y의 분포: \")\n",
    "y.hist()\n",
    "plt.show()"
   ]
  },
  {
   "cell_type": "code",
   "execution_count": null,
   "id": "modified-webmaster",
   "metadata": {
    "id": "written-event",
    "outputId": "f1b4c24d-f323-4d47-8912-a7dd71bb6ba0"
   },
   "outputs": [
    {
     "name": "stdout",
     "output_type": "stream",
     "text": [
      "train score 0.327, test score 0.301\n",
      "\n",
      "포아송 회귀식: \n",
      " y = 0.078*'math' + 0.311*'prog_2' + -0.119*'prog_3' + -5.053\n"
     ]
    }
   ],
   "source": [
    "# 포아송 회귀 적합\n",
    "# 파라미터 alpha가 커질수록 규제가 커지고, alpha가 0이면 규제가 없는 것과 같다. \n",
    "PR = PoissonRegressor(alpha=0.2)\n",
    "PR.fit(X_train, y_train.values.ravel())\n",
    "train_score = PR.score(X_train, y_train.values.ravel())\n",
    "test_score = PR.score(X_test, y_test.values.ravel())\n",
    "\n",
    "pred = PR.predict(X) # 예측값\n",
    "result = DataFrame()\n",
    "result['pred'] = pred\n",
    "result['y'] = y\n",
    "\n",
    "# 회귀식을 반환하는 함수 정의\n",
    "def regression_formula(feature_names, coef, intercept):\n",
    "    msg = \"y = \"\n",
    "    for i, feature in enumerate(feature_names):\n",
    "        coef = coef.ravel()\n",
    "        msg += \"+ {:.3f}*'{}' \".format(coef[i], feature)\n",
    "    if intercept.shape == (1,):\n",
    "        intercept = intercept[0]\n",
    "    else:\n",
    "        intercept = intercept\n",
    "    msg += \"+ {:.3f}\".format(intercept)\n",
    "    msg = msg[:4] + msg[6:]\n",
    "    return msg\n",
    "\n",
    "print(\"train score {:.3f}, test score {:.3f}\\n\".format(train_score, test_score))\n",
    "print(\"포아송 회귀식: \\n\", regression_formula(X.columns, PR.coef_, PR.intercept_))"
   ]
  },
  {
   "cell_type": "code",
   "execution_count": null,
   "id": "urban-colleague",
   "metadata": {
    "id": "missing-adjustment",
    "outputId": "d10f3782-b138-4831-d3f9-be32b7d43e2c"
   },
   "outputs": [
    {
     "name": "stdout",
     "output_type": "stream",
     "text": [
      " 194번 데이터의 features: [60  1  0]\n",
      " 194번 데이터의 선형 함수 값 (XBeta): -0.052\n",
      " 194번 데이터의 지수 함수 값 (mu): 0.949 (=0.949)\n"
     ]
    }
   ],
   "source": [
    "# XBeta값(설명변수의 선형 결합)과 지수 함수값(평균함수값) 구하기\n",
    "data_idx = 194\n",
    "XB = (X.iloc[data_idx, :]*PR.coef_).sum()+PR.intercept_ #회귀식에 x값을 대입한 값\n",
    "mu = PR.predict(X.iloc[data_idx, :].values.reshape(-1,len(X.columns)))[0]\n",
    "mu2 = np.exp(XB)\n",
    "\n",
    "print(\" {}번 데이터의 features: {}\".format(data_idx, X.iloc[data_idx, :].values))\n",
    "print(\" {}번 데이터의 선형 함수 값 (XBeta): {:.3f}\".format(data_idx, XB))\n",
    "print(\" {}번 데이터의 지수 함수 값 (mu): {:.3f} (={:.3f})\".format(data_idx, mu, mu2) )"
   ]
  },
  {
   "cell_type": "code",
   "execution_count": null,
   "id": "whole-lodging",
   "metadata": {
    "id": "authentic-friendship",
    "outputId": "434f685d-aec7-44bb-8738-2b7df5a7102c"
   },
   "outputs": [
    {
     "name": "stdout",
     "output_type": "stream",
     "text": [
      "예측빈도값과 실제빈도값:\n",
      "          pred     Xbeta  y\n",
      "194  0.949226 -0.052109  1\n",
      "195  2.242673  0.807668  2\n",
      "196  1.995194  0.690741  2\n",
      "197  2.242673  0.807668  1\n",
      "198  2.424996  0.885830  0\n",
      "199  2.622142  0.963992  3\n"
     ]
    }
   ],
   "source": [
    "pred = PR.predict(X)\n",
    "result = DataFrame()\n",
    "result['pred'] = pred\n",
    "result['Xbeta'] = np.log(pred)\n",
    "result['y'] = y\n",
    "print(\"예측빈도값과 실제빈도값:\\n\", result.tail(6))\n",
    "## 모델 자체의 성능이 좋지 못한 상황이지만, 198번 데이터를 제외한 나머지 데이터들은 실제값에 근사하게 예측해냈다."
   ]
  },
  {
   "cell_type": "code",
   "execution_count": null,
   "id": "vulnerable-colonial",
   "metadata": {
    "id": "antique-myanmar",
    "outputId": "43877dbd-ade1-4c0c-c27a-6bd3832b2fb7"
   },
   "outputs": [
    {
     "name": "stdout",
     "output_type": "stream",
     "text": [
      "feature 'math'의 회귀계수 0.078: \n",
      " ==> exp(회귀계수): 1.081\n",
      "\n",
      " (증가 전) 194번 데이터의 features: [60  1  0]\n",
      " (증가 전)'math'의 값이 60.000일 때, y는 0.949\n",
      " (증가 후) 194번 데이터의 features: [61  1  0]\n",
      " (증가 후)'math'의 값이 61.000일 때, y는 1.026\n",
      "\n",
      " ==> x가 한단위 증가한 후의 빈도수는 증가 전 빈도수의 1.081배가 된다. (= 증가 후 빈도수 / 증가 전 빈도수)\n"
     ]
    }
   ],
   "source": [
    "# 회귀계수의 해석\n",
    "feat_idx = 0\n",
    "spec_X = X.iloc[data_idx, :].values\n",
    "\n",
    "# 회귀계수 확인\n",
    "print(\"feature '{}'의 회귀계수 {:.3f}: \".format(X.columns[feat_idx], PR.coef_[feat_idx]))\n",
    "print(\" ==> exp(회귀계수): {:.3f}\\n\".format(np.exp(PR.coef_[feat_idx])))\n",
    "\n",
    "# 특정 feature의 한단위 증가 전 데이터와 예측값 y 확인\n",
    "before_pred = PR.predict(spec_X.reshape(-1, len(spec_X)))[0]\n",
    "print(\" (증가 전) {}번 데이터의 features: {}\".format(data_idx, spec_X))\n",
    "print(\" (증가 전)'{}'의 값이 {:.3f}일 때, y는 {:.3f}\".format(X.columns[feat_idx], spec_X[feat_idx], before_pred))\n",
    "\n",
    "# 특정 feature의 한단위 증가 후 데이터와 예측값 y 확인\n",
    "spec_X[feat_idx] = spec_X[feat_idx] +1\n",
    "after_pred = PR.predict(spec_X.reshape(-1,len(spec_X)))[0]\n",
    "print(\" (증가 후) {}번 데이터의 features: {}\".format(data_idx, spec_X))\n",
    "print(\" (증가 후)'{}'의 값이 {:.3f}일 때, y는 {:.3f}\".format(X.columns[feat_idx], spec_X[feat_idx], after_pred))\n",
    "\n",
    "print(\"\\n ==> x가 한단위 증가한 후의 빈도수는 증가 전 빈도수의 {:.3f}배가 된다. (= 증가 후 빈도수 / 증가 전 빈도수)\".format(after_pred/before_pred))\n",
    "\n",
    "## x가 한단위 증가하면, 증가 후 빈도수가 증가 전의 1.081배 된다는 의미이다.\n",
    "## 즉, 해당 feature는 값이 증가할수록 반응변수의 확률값이 점점 증가하게 된다."
   ]
  },
  {
   "cell_type": "code",
   "execution_count": null,
   "id": "living-accounting",
   "metadata": {
    "id": "organized-colorado",
    "outputId": "be9a607d-05af-4750-b1e4-688fd7b2bb9d"
   },
   "outputs": [
    {
     "name": "stdout",
     "output_type": "stream",
     "text": [
      "critical value: 175.198\n"
     ]
    }
   ],
   "source": [
    "# statsmodels를 통해서도 회귀 적합할 수 있다. 다만, sklearn에서 적합한 회귀식과 다른 결과가 나오게 되는데, sklearn에서 자동으로 규제를 적용하고 있기 때문이다. sklearn의 alpha를 0으로 설정하여 규제가 없다시피 하면, 두 라이브러리의 회귀식이 유사 해진다.\n",
    "import statsmodels.api as sm\n",
    "X_train = sm.add_constant(X_train)\n",
    "model = sm.GLM(y_train, X_train, family=sm.families.Poisson())\n",
    "fitted = model.fit()\n",
    "test_a = 0.05\n",
    "cv = chi2.ppf(1-test_a, fitted.df_resid) #오른쪽 검정\n",
    "print(\"critical value: {:.3f}\".format(cv))"
   ]
  },
  {
   "cell_type": "code",
   "execution_count": null,
   "id": "demanding-extreme",
   "metadata": {
    "id": "helpful-makeup",
    "outputId": "f4781591-7315-4427-ce0b-b1904b62b64a"
   },
   "outputs": [
    {
     "name": "stdout",
     "output_type": "stream",
     "text": [
      "pearson chi2 stats: 163.211(=163.211), p-value: 0.157\n"
     ]
    }
   ],
   "source": [
    "# 포아송회귀 모델의 유의성 확인\n",
    "# Pearson chi2 통계량 계산 (자유도가 n-k-1인 카이제곱분포를 따름)\n",
    "pearson = DataFrame(y_train)\n",
    "pearson['pred'] = fitted.fittedvalues\n",
    "pearson['squared_gap'] = (pearson['num_awards'] - pearson['pred'])**2\n",
    "pearson['squared_gap/pred'] = pearson['squared_gap']/pearson['pred']\n",
    "pstats = pearson['squared_gap/pred'].sum()\n",
    "pval = 1-chi2.cdf(pstats, fitted.df_resid)\n",
    "print(\"pearson chi2 stats: {:.3f}(={:.3f}), p-value: {:.3f}\".format(pstats, fitted.pearson_chi2, pval))"
   ]
  },
  {
   "cell_type": "code",
   "execution_count": null,
   "id": "blond-lender",
   "metadata": {
    "id": "peripheral-journalist",
    "outputId": "8171479f-a353-47da-b79e-0de5cf058944"
   },
   "outputs": [
    {
     "name": "stdout",
     "output_type": "stream",
     "text": [
      "deviance chi2 stats: 140.625, p-value: 0.372\n",
      "R2: 0.224\n"
     ]
    }
   ],
   "source": [
    "# deviance 통계량 계산 (자유도가 n-k-1인 카이제곱분포를 따름)\n",
    "deviance = DataFrame(y_train['num_awards'])\n",
    "deviance['pred'] = fitted.fittedvalues\n",
    "deviance['Log'] = np.log(deviance['num_awards']/deviance['pred'])*deviance['num_awards']\n",
    "deviance['num-pred'] = deviance['num_awards'] - deviance['pred']\n",
    "dstats = deviance['Log'].sum()*2 - deviance['num-pred'].sum()*2\n",
    "pval2 = (1-chi2.cdf(dstats, fitted.df_resid))**2\n",
    "print(\"deviance chi2 stats: {:.3f}, p-value: {:.3f}\".format(dstats, pval2))\n",
    "print(\"R2: {:.3f}\".format(1-fitted.llf/fitted.llnull))\n",
    "## 따라서 해당 모델은 Pearson chi2 및 deviance 검정 결과, 귀무가설을 기각할 수 없으므로 통계적으로 유의하다."
   ]
  },
  {
   "cell_type": "code",
   "execution_count": null,
   "id": "spectacular-omaha",
   "metadata": {
    "id": "suspended-missile",
    "outputId": "04737b5e-1e69-4619-ec34-78bb6a9dcfe7"
   },
   "outputs": [
    {
     "name": "stdout",
     "output_type": "stream",
     "text": [
      "                 Generalized Linear Model Regression Results                  \n",
      "==============================================================================\n",
      "Dep. Variable:             num_awards   No. Observations:                  150\n",
      "Model:                            GLM   Df Residuals:                      146\n",
      "Model Family:                 Poisson   Df Model:                            3\n",
      "Link Function:                    log   Scale:                          1.0000\n",
      "Method:                          IRLS   Log-Likelihood:                -136.21\n",
      "Date:                Thu, 01 Jun 2023   Deviance:                       140.62\n",
      "Time:                        13:23:27   Pearson chi2:                     163.\n",
      "No. Iterations:                     5                                         \n",
      "Covariance Type:            nonrobust                                         \n",
      "==============================================================================\n",
      "                 coef    std err          z      P>|z|      [0.025      0.975]\n",
      "------------------------------------------------------------------------------\n",
      "const         -5.2428      0.777     -6.748      0.000      -6.766      -3.720\n",
      "math           0.0673      0.012      5.610      0.000       0.044       0.091\n",
      "prog_2         1.2926      0.472      2.740      0.006       0.368       2.217\n",
      "prog_3         0.2927      0.570      0.513      0.608      -0.825       1.410\n",
      "==============================================================================\n"
     ]
    }
   ],
   "source": [
    "# statsmodels의 요약 결과 확인\n",
    "print(fitted.summary())"
   ]
  },
  {
   "cell_type": "code",
   "execution_count": null,
   "id": "intelligent-charge",
   "metadata": {
    "id": "dental-yield",
    "outputId": "8d9d2845-8778-4a83-fcd4-6c37318e0971"
   },
   "outputs": [
    {
     "name": "stdout",
     "output_type": "stream",
     "text": [
      "Z 통계량 5.608\n",
      "wald 통계량 31.453, 임곗값: 3.841\n",
      "유의수준 0.050, 해당 통계량의 유의확률 0.000\n"
     ]
    }
   ],
   "source": [
    "# math의 회귀계수의 유의성 확인하기\n",
    "# 위의 요약 결과에서는 회귀계수의 유의성 확인을 위해 z통계량을 사용하고 있으나, 아래와 같이 z통계량을 제곱한 wald통계량을 통해서도 회귀계수의 유의성을 확인할 수 있다.\n",
    "z = (0.0673/0.012)\n",
    "waldstat = z**2 #위의 report에서 확인한 math의 회귀계수와 표준오차\n",
    "cv = chi2.ppf(1-test_a, 1)\n",
    "sp = 1-chi2.cdf(waldstat, 1)\n",
    "print(f\"Z 통계량 {z:.3f}\")\n",
    "print(\"wald 통계량 {:.3f}, 임곗값: {:.3f}\".format(waldstat, cv))\n",
    "print(\"유의수준 {:.3f}, 해당 통계량의 유의확률 {:.3f}\".format(test_a, sp))\n",
    "# 따라서 해당 회귀계수는 통계적으로 유의하다"
   ]
  },
  {
   "cell_type": "markdown",
   "id": "steady-shell",
   "metadata": {
    "id": "sensitive-vegetation"
   },
   "source": [
    "### 8-1-5. 아웃라이어에 강한 선형 회귀"
   ]
  },
  {
   "cell_type": "markdown",
   "id": "single-witch",
   "metadata": {
    "id": "appreciated-healing"
   },
   "source": [
    "### - Robust regression"
   ]
  },
  {
   "cell_type": "code",
   "execution_count": 4,
   "id": "guilty-eagle",
   "metadata": {
    "id": "following-cutting"
   },
   "outputs": [],
   "source": [
    "from sklearn.linear_model import HuberRegressor\n",
    "import numpy as np\n",
    "from sklearn.linear_model import HuberRegressor, LinearRegression\n",
    "from sklearn.datasets import make_regression\n",
    "rng = np.random.RandomState(0)\n",
    "## 이상치 포함하는 데이터 생성하기\n",
    "# 1개의 feature를 가진 사이즈 30의 데이터 생성\n",
    "X, y =  make_regression(n_samples=30, n_features=1, random_state=0, noise=4.0, bias=100.0)\n",
    "\n",
    "# 4개의 outlier를 생성하여 데이터에 추가\n",
    "X_outliers = rng.normal(0, 0.5, size=(4, 1))\n",
    "y_outliers = rng.normal(0, 2.0, size=4)\n",
    "X_outliers[:2, :] += X.max() + X.mean() #outlier의 반은 더 크게\n",
    "X_outliers[2:, :] += X.min() - X.mean() #outlier의 반은 더 작게\n",
    "y_outliers[:2] += y.min() - y.mean()\n",
    "y_outliers[2:] += y.max() + y.mean()\n",
    "X = np.vstack((X, X_outliers))\n",
    "y = np.concatenate((y, y_outliers))"
   ]
  },
  {
   "cell_type": "code",
   "execution_count": 5,
   "id": "contained-substitute",
   "metadata": {
    "colab": {
     "base_uri": "https://localhost:8080/"
    },
    "id": "jewish-strength",
    "outputId": "f70cb752-a209-4037-d25d-aeb7096908e9"
   },
   "outputs": [
    {
     "name": "stdout",
     "output_type": "stream",
     "text": [
      "Huber coefficients [94.20831622], score -0.820\n",
      "Linear coefficients [-10.91352281], score 0.009\n"
     ]
    }
   ],
   "source": [
    "# Robust regression 적합\n",
    "HR = HuberRegressor(epsilon=1).fit(X, y)\n",
    "HR_pred = HR.predict(X)\n",
    "print(\"Huber coefficients {}, score {:.3f}\".format(HR.coef_, HR.score(X, y)))\n",
    "\n",
    "# 선형회귀 적합\n",
    "LR = LinearRegression().fit(X, y)\n",
    "LR_pred = LR.predict(X)\n",
    "print(\"Linear coefficients {}, score {:.3f}\".format(LR.coef_, LR.score(X, y)))"
   ]
  },
  {
   "cell_type": "code",
   "execution_count": 6,
   "id": "dress-depth",
   "metadata": {
    "colab": {
     "base_uri": "https://localhost:8080/",
     "height": 452
    },
    "id": "future-minute",
    "outputId": "61f36e8b-b52f-47be-dbda-f3da5461b39d"
   },
   "outputs": [
    {
     "data": {
      "image/png": "[encoded data removed]",
      "text/plain": [
       "<Figure size 432x288 with 1 Axes>"
      ]
     },
     "metadata": {
      "needs_background": "light"
     },
     "output_type": "display_data"
    }
   ],
   "source": [
    "# 실제값과 두 회귀의 예측값을 비교\n",
    "from matplotlib import pyplot as plt\n",
    "import seaborn as sns\n",
    "fig, ax = plt.subplots(1,1)\n",
    "ax.set_title(\"Robust reg. vs Linear reg.\")\n",
    "ax.scatter(X, y, color = 'black', alpha=0.8, marker='x')\n",
    "ax.scatter(X, HR_pred, color='red', alpha=0.3, marker='o')\n",
    "ax.scatter(X, LR_pred, color='blue', alpha=0.3, marker='<')\n",
    "plt.legend(['original', 'HR_pred', 'LR_pred'])\n",
    "plt.show()\n",
    "\n",
    "## Huber regression(Robust)이 Linear regression보다 이상치에 민감하지 않고 (강건하게) 일반적인 데이터를 잘 설명하도록 적합한 것으로 나타났다."
   ]
  },
  {
   "cell_type": "markdown",
   "id": "subjective-bookmark",
   "metadata": {
    "id": "rental-structure"
   },
   "source": [
    "### - Quantile regression"
   ]
  },
  {
   "cell_type": "code",
   "execution_count": 7,
   "id": "fresh-toner",
   "metadata": {
    "colab": {
     "base_uri": "https://localhost:8080/"
    },
    "id": "southwest-attraction",
    "outputId": "f4b56c53-3ea7-450a-bbe8-91f4f138d1b8"
   },
   "outputs": [
    {
     "name": "stdout",
     "output_type": "stream",
     "text": [
      "Quantile coefficients [94.20835266], score -0.820\n",
      "Linear coefficients [-10.91352281], score 0.009\n"
     ]
    }
   ],
   "source": [
    "from sklearn.linear_model import QuantileRegressor\n",
    "# QuantileRegressor 적합\n",
    "QR = QuantileRegressor(alpha=0).fit(X, y)\n",
    "QR_pred = QR.predict(X)\n",
    "print(\"Quantile coefficients {}, score {:.3f}\".format(QR.coef_, QR.score(X, y)))\n",
    "# 선형회귀 적합\n",
    "LR = LinearRegression().fit(X, y)\n",
    "LR_pred = LR.predict(X)\n",
    "print(\"Linear coefficients {}, score {:.3f}\".format(LR.coef_, LR.score(X, y)))"
   ]
  },
  {
   "cell_type": "code",
   "execution_count": 8,
   "id": "applicable-syracuse",
   "metadata": {
    "colab": {
     "base_uri": "https://localhost:8080/",
     "height": 452
    },
    "id": "advised-logan",
    "outputId": "5fe34035-1269-4543-83cd-ae13215f963f"
   },
   "outputs": [
    {
     "data": {
      "image/png": "[encoded data removed]",
      "text/plain": [
       "<Figure size 432x288 with 1 Axes>"
      ]
     },
     "metadata": {
      "needs_background": "light"
     },
     "output_type": "display_data"
    }
   ],
   "source": [
    "fig, ax = plt.subplots(1,1)\n",
    "ax.set_title(\"Quantile reg. vs Linear reg.\")\n",
    "ax.scatter(X, y, color = 'black', alpha=0.8, marker='x')\n",
    "ax.scatter(X, QR_pred, color='green', alpha=0.3, marker='o')\n",
    "ax.scatter(X, LR_pred, color='blue', alpha=0.3, marker='<')\n",
    "plt.legend(['original', 'QR_pred', 'LR_pred'])\n",
    "plt.show()"
   ]
  },
  {
   "cell_type": "markdown",
   "id": "pending-apartment",
   "metadata": {
    "id": "western-grain"
   },
   "source": [
    "## 8-2. 비선형 회귀"
   ]
  },
  {
   "cell_type": "markdown",
   "id": "mature-check",
   "metadata": {
    "id": "light-scene"
   },
   "source": [
    "### - 다항 회귀"
   ]
  },
  {
   "cell_type": "code",
   "execution_count": 2,
   "id": "irish-plasma",
   "metadata": {
    "colab": {
     "base_uri": "https://localhost:8080/",
     "height": 930
    },
    "id": "fixed-failing",
    "outputId": "2c72c7dd-44f4-4387-c43c-b987559d3170",
    "tags": []
   },
   "outputs": [
    {
     "name": "stdout",
     "output_type": "stream",
     "text": [
      "sklearn R2: 0.906\n"
     ]
    },
    {
     "data": {
      "image/png": "[encoded data removed]",
      "text/plain": [
       "<Figure size 640x480 with 1 Axes>"
      ]
     },
     "metadata": {},
     "output_type": "display_data"
    },
    {
     "name": "stdout",
     "output_type": "stream",
     "text": [
      "                            OLS Regression Results                            \n",
      "==============================================================================\n",
      "Dep. Variable:                      y   R-squared:                       0.906\n",
      "Model:                            OLS   Adj. R-squared:                  0.904\n",
      "Method:                 Least Squares   F-statistic:                     373.5\n",
      "Date:                Fri, 02 Jun 2023   Prob (F-statistic):           2.04e-59\n",
      "Time:                        04:51:06   Log-Likelihood:                -571.53\n",
      "No. Observations:                 120   AIC:                             1151.\n",
      "Df Residuals:                     116   BIC:                             1162.\n",
      "Df Model:                           3                                         \n",
      "Covariance Type:            nonrobust                                         \n",
      "==============================================================================\n",
      "                 coef    std err          t      P>|t|      [0.025      0.975]\n",
      "------------------------------------------------------------------------------\n",
      "const          2.1848      3.946      0.554      0.581      -5.631      10.000\n",
      "x1             1.3180      1.898      0.694      0.489      -2.442       5.078\n",
      "x2             1.7513      0.245      7.137      0.000       1.265       2.237\n",
      "x3             1.0129      0.081     12.571      0.000       0.853       1.173\n",
      "==============================================================================\n",
      "Omnibus:                        0.247   Durbin-Watson:                   2.338\n",
      "Prob(Omnibus):                  0.884   Jarque-Bera (JB):                0.333\n",
      "Skew:                          -0.104   Prob(JB):                        0.847\n",
      "Kurtosis:                       2.846   Cond. No.                         123.\n",
      "==============================================================================\n",
      "\n",
      "Notes:\n",
      "[1] Standard Errors assume that the covariance matrix of the errors is correctly specified.\n"
     ]
    }
   ],
   "source": [
    "# 데이터 생성\n",
    "from pandas import DataFrame\n",
    "import numpy as np\n",
    "x = np.arange(-6.0, 6.0, 0.1)\n",
    "y = 1*(x**3) + 2*(x**2) + 1*x + 3\n",
    "y_noise = 30 * np.random.normal(size=x.size)\n",
    "y = y + y_noise\n",
    "\n",
    "# 다항 회귀 적합 1 (w/ sklearn)\n",
    "from sklearn.preprocessing import PolynomialFeatures\n",
    "from sklearn.linear_model import LinearRegression\n",
    "#degree: 다항식 차수 지정\n",
    "#include_bias: 절편 추가여부\n",
    "\n",
    "poly_features = PolynomialFeatures(degree=3, include_bias=True)\n",
    "px = poly_features.fit_transform(x.reshape(-1,1))\n",
    "\n",
    "LR = LinearRegression()\n",
    "LR.fit(px, y)\n",
    "pred = LR.predict(px)\n",
    "print(\"sklearn R2: {:.3f}\".format(LR.score(px, y)))\n",
    "\n",
    "# 원본 데이터와 예측 데이터 비교\n",
    "from matplotlib import pyplot as plt\n",
    "fig, ax = plt.subplots(1,1)\n",
    "ax.scatter(x, y, alpha=0.5, color='black')\n",
    "ax.scatter(x, pred, alpha=0.5, color='red')\n",
    "ax.legend(['original', 'predicted'])\n",
    "plt.show()\n",
    "\n",
    "# 다항 회귀 적합 2 (w/ statsmodels)\n",
    "import statsmodels.api as sm\n",
    "model = sm.OLS(y, px) #sklearn의 PolynomialFeatures로 변환한 feature를 사용\n",
    "fitted = model.fit()\n",
    "print(fitted.summary())"
   ]
  },
  {
   "cell_type": "markdown",
   "id": "nutritional-dialogue",
   "metadata": {
    "id": "surgical-ultimate"
   },
   "source": [
    "### - 스플라인 회귀"
   ]
  },
  {
   "cell_type": "code",
   "execution_count": 4,
   "id": "similar-franklin",
   "metadata": {
    "colab": {
     "base_uri": "https://localhost:8080/",
     "height": 966
    },
    "id": "joint-american",
    "outputId": "f2cadd7e-4deb-4818-acfd-5d67dac1b445"
   },
   "outputs": [
    {
     "name": "stdout",
     "output_type": "stream",
     "text": [
      "sklearn R2: 0.907\n"
     ]
    },
    {
     "data": {
      "image/png": "[encoded data removed]",
      "text/plain": [
       "<Figure size 640x480 with 1 Axes>"
      ]
     },
     "metadata": {},
     "output_type": "display_data"
    },
    {
     "name": "stdout",
     "output_type": "stream",
     "text": [
      "                            OLS Regression Results                            \n",
      "==============================================================================\n",
      "Dep. Variable:                      y   R-squared:                       0.907\n",
      "Model:                            OLS   Adj. R-squared:                  0.903\n",
      "Method:                 Least Squares   F-statistic:                     222.5\n",
      "Date:                Fri, 02 Jun 2023   Prob (F-statistic):           4.50e-57\n",
      "Time:                        04:52:59   Log-Likelihood:                -570.97\n",
      "No. Observations:                 120   AIC:                             1154.\n",
      "Df Residuals:                     114   BIC:                             1171.\n",
      "Df Model:                           5                                         \n",
      "Covariance Type:            nonrobust                                         \n",
      "==============================================================================\n",
      "                 coef    std err          t      P>|t|      [0.025      0.975]\n",
      "------------------------------------------------------------------------------\n",
      "x1          -664.6339    172.895     -3.844      0.000   -1007.138    -322.130\n",
      "x2           -75.2645     31.586     -2.383      0.019    -137.836     -12.693\n",
      "x3            16.6969     17.387      0.960      0.339     -17.747      51.141\n",
      "x4           -10.3393     17.387     -0.595      0.553     -44.784      24.105\n",
      "x5           148.3420     31.586      4.696      0.000      85.770     210.914\n",
      "x6          1149.1913    172.895      6.647      0.000     806.687    1491.695\n",
      "==============================================================================\n",
      "Omnibus:                        0.149   Durbin-Watson:                   2.358\n",
      "Prob(Omnibus):                  0.928   Jarque-Bera (JB):                0.253\n",
      "Skew:                          -0.078   Prob(JB):                        0.881\n",
      "Kurtosis:                       2.838   Cond. No.                         39.1\n",
      "==============================================================================\n",
      "\n",
      "Notes:\n",
      "[1] Standard Errors assume that the covariance matrix of the errors is correctly specified.\n"
     ]
    }
   ],
   "source": [
    "# 앞선 데이터를 동일하게 사용\n",
    "from sklearn.preprocessing import SplineTransformer\n",
    "from sklearn.linear_model import LinearRegression\n",
    "\n",
    "# 스플라인 회귀 적합 1 (w/ sklearn)\n",
    "spline = SplineTransformer(degree=3, n_knots=4)\n",
    "sx = spline.fit_transform(x.reshape(-1,1))\n",
    "\n",
    "LR = LinearRegression()\n",
    "LR.fit(sx, y)\n",
    "pred = LR.predict(sx)\n",
    "print(\"sklearn R2: {:.3f}\".format(LR.score(sx, y)))\n",
    "\n",
    "# 원본 데이터와 예측 데이터 비교\n",
    "from matplotlib import pyplot as plt\n",
    "fig, ax = plt.subplots(1,1)\n",
    "ax.scatter(x, y, alpha=0.5, color='black')\n",
    "ax.scatter(x, pred, alpha=0.5, color='red')\n",
    "ax.legend(['original', 'predicted'])\n",
    "plt.show()\n",
    "\n",
    "# 스플라인 회귀 적합 2 (w/ statsmodels)\n",
    "import statsmodels.api as sm\n",
    "model = sm.OLS(y, sx) #sklearn의 SplineTransformer로 변환한 feature를 사용\n",
    "fitted = model.fit()\n",
    "print(fitted.summary())"
   ]
  },
  {
   "cell_type": "markdown",
   "id": "tough-workshop",
   "metadata": {},
   "source": [
    "# 연습문제\n",
    "### - 1번 문제 풀이"
   ]
  },
  {
   "cell_type": "code",
   "execution_count": 357,
   "id": "related-discipline",
   "metadata": {},
   "outputs": [
    {
     "name": "stdout",
     "output_type": "stream",
     "text": [
      "     area_type  availability  size  total_sqft  bath  balcony   price\n",
      "0        Super             0     3      1056.0     2        1   39.07\n",
      "1         Plot             1     6      2600.0     5        3  120.00\n",
      "2        Super             1     5      1521.0     3        1   95.00\n",
      "3        Super             1     3      1170.0     2        1   38.00\n",
      "4         Plot             1     6      2785.0     5        3  295.00\n",
      "...        ...           ...   ...         ...   ...      ...     ...\n",
      "7490     Super             1     5      1345.0     2        1   57.00\n",
      "7491     Super             1     5      1715.0     3        3  112.00\n",
      "7492  Built-up             1     8      3453.0     4        0  231.00\n",
      "7493  Built-up             1     3      1141.0     2        1   60.00\n",
      "7494     Super             0     7      4689.0     4        1  488.00\n",
      "\n",
      "[7495 rows x 7 columns]\n"
     ]
    }
   ],
   "source": [
    "from pandas import read_csv, concat, get_dummies\n",
    "realestate = read_csv('https://raw.githubusercontent.com/algoboni/pythoncodebook1-1/main/practice8_BHP2.csv')\n",
    "print(realestate)"
   ]
  },
  {
   "cell_type": "code",
   "execution_count": 311,
   "id": "random-teacher",
   "metadata": {},
   "outputs": [
    {
     "name": "stdout",
     "output_type": "stream",
     "text": [
      "                            OLS Regression Results                            \n",
      "==============================================================================\n",
      "Dep. Variable:                  price   R-squared:                       0.483\n",
      "Model:                            OLS   Adj. R-squared:                  0.483\n",
      "Method:                 Least Squares   F-statistic:                     656.3\n",
      "Date:                Wed, 13 Sep 2023   Prob (F-statistic):               0.00\n",
      "Time:                        12:11:31   Log-Likelihood:                -32305.\n",
      "No. Observations:                5621   AIC:                         6.463e+04\n",
      "Df Residuals:                    5612   BIC:                         6.469e+04\n",
      "Df Model:                           8                                         \n",
      "Covariance Type:            nonrobust                                         \n",
      "====================================================================================\n",
      "                       coef    std err          t      P>|t|      [0.025      0.975]\n",
      "------------------------------------------------------------------------------------\n",
      "const              -62.1571      4.615    -13.469      0.000     -71.204     -53.111\n",
      "availability        -1.1159      2.476     -0.451      0.652      -5.970       3.738\n",
      "size                 0.2321      1.255      0.185      0.853      -2.228       2.692\n",
      "total_sqft           0.0440      0.001     33.933      0.000       0.041       0.047\n",
      "bath                37.0544      2.107     17.582      0.000      32.923      41.186\n",
      "balcony             -0.6359      1.404     -0.453      0.651      -3.389       2.117\n",
      "area_type_Carpet    -2.7221     13.286     -0.205      0.838     -28.768      23.324\n",
      "area_type_Plot      77.1723      6.237     12.373      0.000      64.945      89.400\n",
      "area_type_Super     -0.0796      2.833     -0.028      0.978      -5.634       5.475\n",
      "==============================================================================\n",
      "Omnibus:                     8283.104   Durbin-Watson:                   2.043\n",
      "Prob(Omnibus):                  0.000   Jarque-Bera (JB):         17235471.266\n",
      "Skew:                           8.209   Prob(JB):                         0.00\n",
      "Kurtosis:                     273.778   Cond. No.                     2.38e+04\n",
      "==============================================================================\n",
      "\n",
      "Notes:\n",
      "[1] Standard Errors assume that the covariance matrix of the errors is correctly specified.\n",
      "[2] The condition number is large, 2.38e+04. This might indicate that there are\n",
      "strong multicollinearity or other numerical problems.\n",
      ">>> test score 0.616\n"
     ]
    }
   ],
   "source": [
    "import statsmodels.api as sm\n",
    "from sklearn.model_selection import train_test_split\n",
    "from sklearn.metrics import r2_score\n",
    "# feature에서 범주형 변수를 더미코딩하고, 상수항을 추가한 후, 데이터를 train/test set으로 분할\n",
    "X = get_dummies(realestate.drop('price', axis=1), columns=['area_type'], drop_first=True)\n",
    "X = sm.add_constant(X)\n",
    "y = realestate['price']\n",
    "X_train, X_test, y_train, y_test = train_test_split(X, y, random_state=11)\n",
    "\n",
    "# 현재 데이터로 선형회귀 분석을 수행\n",
    "model1 = sm.OLS(y_train, X_train)\n",
    "fitted1 = model1.fit()\n",
    "print(fitted1.summary()) # 적합한 선형회귀 모델 결과를 확인\n",
    "\n",
    "# 적합한 모델로 test set을 예측하여 결정계수를 확인\n",
    "pred1 = fitted1.predict(X_test)\n",
    "print(\">>> test score {:.3f}\".format(r2_score(y_test, pred1)))"
   ]
  },
  {
   "cell_type": "markdown",
   "id": "adaptive-chaos",
   "metadata": {},
   "source": [
    "### - 2번 문제 풀이"
   ]
  },
  {
   "cell_type": "code",
   "execution_count": 313,
   "id": "thick-square",
   "metadata": {},
   "outputs": [
    {
     "name": "stdout",
     "output_type": "stream",
     "text": [
      "                            OLS Regression Results                            \n",
      "==============================================================================\n",
      "Dep. Variable:                  price   R-squared:                       0.522\n",
      "Model:                            OLS   Adj. R-squared:                  0.521\n",
      "Method:                 Least Squares   F-statistic:                     556.3\n",
      "Date:                Wed, 13 Sep 2023   Prob (F-statistic):               0.00\n",
      "Time:                        12:14:19   Log-Likelihood:                -32088.\n",
      "No. Observations:                5621   AIC:                         6.420e+04\n",
      "Df Residuals:                    5609   BIC:                         6.428e+04\n",
      "Df Model:                          11                                         \n",
      "Covariance Type:            nonrobust                                         \n",
      "========================================================================================\n",
      "                           coef    std err          t      P>|t|      [0.025      0.975]\n",
      "----------------------------------------------------------------------------------------\n",
      "const                  -28.2105      5.374     -5.249      0.000     -38.746     -17.675\n",
      "availability            -2.1238      2.385     -0.891      0.373      -6.799       2.551\n",
      "size                     1.0679      1.213      0.880      0.379      -1.311       3.446\n",
      "total_sqft               0.0219      0.002     11.773      0.000       0.018       0.026\n",
      "bath                    35.8673      2.056     17.445      0.000      31.837      39.898\n",
      "balcony                 -0.7955      1.352     -0.589      0.556      -3.445       1.854\n",
      "area_type_Carpet       -19.5481     24.382     -0.802      0.423     -67.347      28.251\n",
      "area_type_Plot         -94.2974     10.348     -9.112      0.000    -114.584     -74.011\n",
      "area_type_Super        -35.6791      4.440     -8.036      0.000     -44.383     -26.975\n",
      "at_Carpet:total_sqft     0.0086      0.017      0.513      0.608      -0.024       0.041\n",
      "at_Plot:total_sqft       0.0730      0.003     21.134      0.000       0.066       0.080\n",
      "at_Super:total_sqft      0.0236      0.002     10.013      0.000       0.019       0.028\n",
      "==============================================================================\n",
      "Omnibus:                     8912.047   Durbin-Watson:                   2.034\n",
      "Prob(Omnibus):                  0.000   Jarque-Bera (JB):         18400177.906\n",
      "Skew:                           9.634   Prob(JB):                         0.00\n",
      "Kurtosis:                     282.628   Cond. No.                     5.63e+04\n",
      "==============================================================================\n",
      "\n",
      "Notes:\n",
      "[1] Standard Errors assume that the covariance matrix of the errors is correctly specified.\n",
      "[2] The condition number is large, 5.63e+04. This might indicate that there are\n",
      "strong multicollinearity or other numerical problems.\n",
      ">>> test score 0.698\n"
     ]
    }
   ],
   "source": [
    "# area_type과 total_sqft의 교호작용항을 추가한 X_train2, X_test2 생성\n",
    "X_train2, X_test2 = X_train.copy(), X_test.copy()\n",
    "for col in ['area_type_Carpet', 'area_type_Plot', 'area_type_Super']:\n",
    "    X_train2[f\"at_{col[10:]}:total_sqft\"] = X_train[col] * X_train['total_sqft']\n",
    "    X_test2[f\"at_{col[10:]}:total_sqft\"] = X_test[col] * X_test['total_sqft']\n",
    "\n",
    "# 신규 feature를 생성한 데이터로 선형회귀 분석을 수행\n",
    "model2 = sm.OLS(y_train, X_train2)\n",
    "fitted2 = model2.fit()\n",
    "print(fitted2.summary()) # 적합한 선형회귀 모델 결과를 확인\n",
    "\n",
    "# 적합한 모델로 test set을 예측하여 결정계수를 확인\n",
    "pred2 = fitted2.predict(X_test2)\n",
    "print(\">>> test score {:.3f}\".format(r2_score(y_test, pred2)))"
   ]
  },
  {
   "cell_type": "markdown",
   "id": "extreme-exploration",
   "metadata": {},
   "source": [
    "### - 3번 문제 풀이"
   ]
  },
  {
   "cell_type": "code",
   "execution_count": 323,
   "id": "ecological-heritage",
   "metadata": {},
   "outputs": [
    {
     "name": "stdout",
     "output_type": "stream",
     "text": [
      "                            OLS Regression Results                            \n",
      "==============================================================================\n",
      "Dep. Variable:                  price   R-squared:                       0.645\n",
      "Model:                            OLS   Adj. R-squared:                  0.644\n",
      "Method:                 Least Squares   F-statistic:                     847.8\n",
      "Date:                Wed, 13 Sep 2023   Prob (F-statistic):               0.00\n",
      "Time:                        12:22:18   Log-Likelihood:                -31254.\n",
      "No. Observations:                5621   AIC:                         6.253e+04\n",
      "Df Residuals:                    5608   BIC:                         6.262e+04\n",
      "Df Model:                          12                                         \n",
      "Covariance Type:            nonrobust                                         \n",
      "========================================================================================\n",
      "                           coef    std err          t      P>|t|      [0.025      0.975]\n",
      "----------------------------------------------------------------------------------------\n",
      "const                  -40.6111      4.642     -8.749      0.000     -49.710     -31.512\n",
      "availability            -3.9727      2.056     -1.932      0.053      -8.004       0.058\n",
      "size                   -10.3412      1.078     -9.597      0.000     -12.454      -8.229\n",
      "total_sqft               0.1364      0.003     44.648      0.000       0.130       0.142\n",
      "bath                    -3.0871      1.981     -1.558      0.119      -6.970       0.796\n",
      "balcony                 -3.2601      1.167     -2.795      0.005      -5.547      -0.973\n",
      "area_type_Carpet        58.4517     21.094      2.771      0.006      17.099      99.804\n",
      "area_type_Plot          35.2169      9.393      3.749      0.000      16.802      53.631\n",
      "area_type_Super        -24.4567      3.836     -6.375      0.000     -31.977     -16.936\n",
      "at_Carpet:total_sqft    -0.0418      0.014     -2.895      0.004      -0.070      -0.013\n",
      "at_Plot:total_sqft       0.0059      0.003      1.775      0.076      -0.001       0.012\n",
      "at_Super:total_sqft      0.0163      0.002      8.016      0.000       0.012       0.020\n",
      "total_sqft2          -3.704e-06   8.41e-08    -44.039      0.000   -3.87e-06   -3.54e-06\n",
      "==============================================================================\n",
      "Omnibus:                     9937.871   Durbin-Watson:                   2.040\n",
      "Prob(Omnibus):                  0.000   Jarque-Bera (JB):         25007117.674\n",
      "Skew:                          12.206   Prob(JB):                         0.00\n",
      "Kurtosis:                     328.848   Cond. No.                     6.16e+08\n",
      "==============================================================================\n",
      "\n",
      "Notes:\n",
      "[1] Standard Errors assume that the covariance matrix of the errors is correctly specified.\n",
      "[2] The condition number is large, 6.16e+08. This might indicate that there are\n",
      "strong multicollinearity or other numerical problems.\n",
      ">>> test score 0.731\n"
     ]
    }
   ],
   "source": [
    "# total_sqft의 이차항을 추가한 X_train3, X_test3 생성\n",
    "X_train3, X_test3 = X_train2.copy(), X_test2.copy()\n",
    "X_train3[\"total_sqft2\"] = X_train2['total_sqft']**2\n",
    "X_test3[\"total_sqft2\"] = X_test2['total_sqft']**2\n",
    "\n",
    "# 신규 feature를 생성한 데이터로 선형회귀 분석을 수행\n",
    "model3 = sm.OLS(y_train, X_train3)\n",
    "fitted3 = model3.fit()\n",
    "print(fitted3.summary()) # 적합한 선형회귀 모델 결과를 확인\n",
    "\n",
    "# 적합한 모델로 test set을 예측하여 결정계수를 확인\n",
    "pred3 = fitted3.predict(X_test3)\n",
    "print(\">>> test score {:.3f}\".format(r2_score(y_test, pred3)))"
   ]
  },
  {
   "cell_type": "markdown",
   "id": "received-fellowship",
   "metadata": {},
   "source": [
    "### - 4번 문제 풀이"
   ]
  },
  {
   "cell_type": "code",
   "execution_count": 356,
   "id": "bizarre-minute",
   "metadata": {},
   "outputs": [
    {
     "name": "stdout",
     "output_type": "stream",
     "text": [
      "                            OLS Regression Results                            \n",
      "==============================================================================\n",
      "Dep. Variable:                      y   R-squared:                       0.644\n",
      "Model:                            OLS   Adj. R-squared:                  0.643\n",
      "Method:                 Least Squares   F-statistic:                     1128.\n",
      "Date:                Wed, 13 Sep 2023   Prob (F-statistic):               0.00\n",
      "Time:                        12:59:52   Log-Likelihood:                -31259.\n",
      "No. Observations:                5621   AIC:                         6.254e+04\n",
      "Df Residuals:                    5611   BIC:                         6.260e+04\n",
      "Df Model:                           9                                         \n",
      "Covariance Type:            nonrobust                                         \n",
      "========================================================================================\n",
      "                           coef    std err          t      P>|t|      [0.025      0.975]\n",
      "----------------------------------------------------------------------------------------\n",
      "const                   97.2994      0.840    115.807      0.000      95.652      98.947\n",
      "size                   -16.3939      1.269    -12.916      0.000     -18.882     -13.906\n",
      "total_sqft             136.0981      2.145     63.446      0.000     131.893     140.303\n",
      "balcony                 -2.9163      0.889     -3.280      0.001      -4.659      -1.173\n",
      "area_type_Carpet         4.8607      1.627      2.987      0.003       1.671       8.051\n",
      "area_type_Plot           8.7586      0.985      8.889      0.000       6.827      10.690\n",
      "area_type_Super         -8.2256      1.430     -5.753      0.000     -11.028      -5.423\n",
      "at_Carpet:total_sqft    -4.9528      1.620     -3.057      0.002      -8.129      -1.776\n",
      "at_Super:total_sqft     13.1402      1.703      7.717      0.000       9.802      16.478\n",
      "total_sqft2            -90.1175      1.658    -54.352      0.000     -93.368     -86.867\n",
      "==============================================================================\n",
      "Omnibus:                     9975.686   Durbin-Watson:                   2.045\n",
      "Prob(Omnibus):                  0.000   Jarque-Bera (JB):         25428476.394\n",
      "Skew:                          12.307   Prob(JB):                         0.00\n",
      "Kurtosis:                     331.582   Cond. No.                         5.25\n",
      "==============================================================================\n",
      "\n",
      "Notes:\n",
      "[1] Standard Errors assume that the covariance matrix of the errors is correctly specified.\n",
      ">>> test score 0.726\n"
     ]
    }
   ],
   "source": [
    "# Cook's distance, DFBETAS, DFFITS, LeverageH 등 영향치 기준으로 데이터를 판단하여 영향치를 제거하거나, VIF를 통해 다중공선성이 있는 변수를 제거하거나, AIC를 최소로하는 변수의 조합을 찾는 단계적 선택법으로 변수를 선택할 수 있다. 여기에서는 통계적으로 유의하지 않은 변수들을 제거함으로써 최종 변수를 선택하고자 한다.\n",
    "\n",
    "X_train4, X_test4 = X_train3.copy(), X_test3.copy()\n",
    "\n",
    "# 회귀계수 분석을 위해 feature scaling 진행\n",
    "from sklearn.preprocessing import StandardScaler\n",
    "ss = StandardScaler()\n",
    "ss.fit(X_train4)\n",
    "X_train4 = DataFrame(ss.transform(X_train4), columns=X_train4.columns)\n",
    "X_test4 = DataFrame(ss.transform(X_test4), columns=X_test4.columns)\n",
    "X_train4['const'] = 1\n",
    "X_test4['const'] = 1\n",
    "\n",
    "# 통계적으로 유의하지 않은 변수들 제거\n",
    "del_feats = ['bath', 'at_Plot:total_sqft', 'availability']\n",
    "X_train4 = X_train4.drop(del_feats, axis=1)\n",
    "X_test4 = X_test4.drop(del_feats, axis=1)\n",
    "\n",
    "# 신규 feature를 생성한 데이터로 선형회귀 분석을 수행\n",
    "model4 = sm.OLS(y_train.values, X_train4)\n",
    "fitted4 = model4.fit()\n",
    "print(fitted4.summary()) # 적합한 선형회귀 모델 결과를 확인\n",
    "\n",
    "# 적합한 모델로 test set을 예측하여 결정계수를 확인\n",
    "pred4 = fitted4.predict(X_test4)\n",
    "print(\">>> test score {:.3f}\".format(r2_score(y_test, pred4)))\n",
    "\n",
    "# train score(R-squared) 0.644와 test score 0.726에 의하면, 해당 모델은 데이터에 대한 설명력이 있다고 볼 수 있으며, train/test set 성능 차이가 크지 않기 때문에 어느 정도 일반화된 모델이라고 볼 수 있다. \n",
    "# 모델의 통계적 유의성은 F-statistic으로 확인할 수 있는데 해당 통계량의 p-value(Prob)가 유의수준 0.05보다 작기 때문에 모델은 통계적으로 유의하다고 볼 수 있다.\n",
    "# 각 변수에 대한 회귀계수들의 t통계량에 따른 p-value가 모두 유의수준보다 작기 때문에 이 회귀계수들 역시 통계적으로 유의하다고 볼 수 있다.\n",
    "# 또한, 잔차분석을 통해 회귀모형에 대한 가정인 정규성, 등분산성, 독립성을 만족하는지를 확인해야 한다. 아래에서 Durbin-Watson 통계량이 2에 가까움으로써 독립성은 만족하고 있지만, Jarque-Bera 통계량의 p-value를 볼 때 유의수준보다 작기 때문에 정규성에 위배된다. 이처럼 모델이 회귀모형의 가정을 충족하지 못하는 경우, 추가로 자료를 수집하거나 변수 변환의 방법을 통해 가정을 충족하도록 모델을 다시 생성해야 한다."
   ]
  }
 ],
 "metadata": {
  "colab": {
   "provenance": []
  },
  "kernelspec": {
   "display_name": "Python 3",
   "language": "python",
   "name": "python3"
  },
  "language_info": {
   "codemirror_mode": {
    "name": "ipython",
    "version": 3
   },
   "file_extension": ".py",
   "mimetype": "text/x-python",
   "name": "python",
   "nbconvert_exporter": "python",
   "pygments_lexer": "ipython3",
   "version": "3.8.8"
  },
  "toc-showtags": true
 },
 "nbformat": 4,
 "nbformat_minor": 5
}
