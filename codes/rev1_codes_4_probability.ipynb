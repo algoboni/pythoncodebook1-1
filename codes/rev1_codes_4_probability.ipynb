{
 "cells": [
  {
   "cell_type": "markdown",
   "id": "magnetic-organizer",
   "metadata": {
    "id": "suspected-immunology"
   },
   "source": [
    "# **핵심만 요약한 통계와 머신러닝 파이썬 코드북 개정1판**\n",
    "- ⓒ2023 AlgoBoni all rights reserved.\n",
    "- 본 컨텐츠의 저작권은 알고보니에 있습니다. 저작권법에 의해 보호를 받는 저작물이므로 무단 전재와 무단 복제를 금합니다.\n",
    "- 본 컨텐츠의 종이책은 [교보문고](https://product.kyobobook.co.kr/detail/S000209591909), [예스24](https://www.yes24.com/Product/Goods/122661688), [알라딘](https://www.aladin.co.kr/shop/wproduct.aspx?ISBN=K262935029&start=pnaver_02)에서 구매할 수 있습니다. 종이책에서는 아래 개념 및 코드에 대한 설명과 연습문제를 제공합니다."
   ]
  },
  {
   "cell_type": "markdown",
   "id": "compliant-internship",
   "metadata": {
    "id": "mechanical-thanks"
   },
   "source": [
    "# 4. 확률분포"
   ]
  },
  {
   "cell_type": "markdown",
   "id": "weighted-sampling",
   "metadata": {
    "id": "administrative-rental"
   },
   "source": [
    "## 4-1. 특수한 이산형 확률분포들"
   ]
  },
  {
   "cell_type": "markdown",
   "id": "wanted-antibody",
   "metadata": {
    "id": "alternate-silicon"
   },
   "source": [
    "### - 베르누이 분포"
   ]
  },
  {
   "cell_type": "code",
   "execution_count": 443,
   "id": "amended-failure",
   "metadata": {
    "id": "appointed-month",
    "outputId": "21d0ddde-b57f-4588-e9ba-f2376fd68c50"
   },
   "outputs": [
    {
     "name": "stdout",
     "output_type": "stream",
     "text": [
      "[수기] 해당 분포의 기댓값은 0.300, 분산은 0.210\n",
      "[라이브러리] 해당 분포의 기댓값은 0.300, 분산은 0.210\n"
     ]
    }
   ],
   "source": [
    "# 베르누이 분포\n",
    "p = 0.3 #성공할 확률\n",
    "q = 1-p #실패할 확률\n",
    "E = p #기댓값\n",
    "V = p*q #분산\n",
    "print('[수기] 해당 분포의 기댓값은 {:.3f}, 분산은 {:.3f}'.format(E, V))\n",
    "from scipy.stats import bernoulli\n",
    "E2, V2 = bernoulli.stats(p)\n",
    "print('[라이브러리] 해당 분포의 기댓값은 {:.3f}, 분산은 {:.3f}'.format(E2, V2))"
   ]
  },
  {
   "cell_type": "markdown",
   "id": "severe-belgium",
   "metadata": {
    "id": "charged-impression"
   },
   "source": [
    "### - 이항분포"
   ]
  },
  {
   "cell_type": "code",
   "execution_count": null,
   "id": "colored-mining",
   "metadata": {
    "id": "noble-cathedral",
    "outputId": "285479e1-a7c4-4d20-c1cf-ee857ad6d3cf"
   },
   "outputs": [
    {
     "name": "stdout",
     "output_type": "stream",
     "text": [
      "[수기] 해당 분포의 기대값은 0.300, 분산은 0.270\n",
      "[라이브러리] 해당 분포의 기대값은 0.300, 분산은 0.270\n"
     ]
    }
   ],
   "source": [
    "# 이항분포\n",
    "from scipy.stats import binom\n",
    "import numpy as np\n",
    "from numpy import math\n",
    "fac = math.factorial\n",
    "def combi(a, b): #combination 함수 정의\n",
    "    result = fac(a)/fac(b)/fac(a-b)\n",
    "    return result\n",
    "\n",
    "# 근로자가 내년에 회사를 떠날 확률이 0.1이라고 추정한 경우, \n",
    "# 근로자 3명을 무작위로 뽑은 상황\n",
    "n = 3 #근로자 샘플 개수\n",
    "p = 0.1 #떠날 확률\n",
    "\n",
    "# 근로자가 떠날 확률에 대해 기댓값과 분산 계산하기\n",
    "E = n*p\n",
    "V = n*p*(1-p)\n",
    "print(\"[수기] 해당 분포의 기댓값은 {:.3f}, 분산은 {:.3f}\".format(E, V))\n",
    "E2, V2 = binom.stats(n, p)\n",
    "print(\"[라이브러리] 해당 분포의 기댓값은 {:.3f}, 분산은 {:.3f}\".format(E2, V2))"
   ]
  },
  {
   "cell_type": "code",
   "execution_count": null,
   "id": "amended-tooth",
   "metadata": {
    "id": "thousand-former",
    "outputId": "901d833d-9187-408d-9eb9-85a924368324"
   },
   "outputs": [
    {
     "name": "stdout",
     "output_type": "stream",
     "text": [
      "[수기] 해당 분포의 확률질량함수(pmf): 0.243\n",
      "[라이브러리] 해당 분포의 확률질량함수(pmf):  0.243\n"
     ]
    }
   ],
   "source": [
    "# 확률질량함수 계산하기: 1명이 금년에 회사를 떠날 확률은?\n",
    "x = 1 #떠날 샘플 개수 **확률변수 X\n",
    "pmf = combi(n, x) * p**x * (1-p)**(n-x)\n",
    "print(\"[수기] 해당 분포의 확률질량함수(pmf): %.3f\" %(pmf))\n",
    "print(\"[라이브러리] 해당 분포의 확률질량함수(pmf): \", binom.pmf(x, n, p))"
   ]
  },
  {
   "cell_type": "code",
   "execution_count": null,
   "id": "passive-criticism",
   "metadata": {
    "id": "local-philip",
    "outputId": "e37ed810-ce72-4de7-ff3b-3b1dc6e4b305"
   },
   "outputs": [
    {
     "name": "stdout",
     "output_type": "stream",
     "text": [
      "[수기] 해당 분포의 누적확률질량함수(cdf):  0.972\n",
      "[라이브러리] 해당 분포의 누적확률질량함수(cdf):  0.972\n"
     ]
    }
   ],
   "source": [
    "# 누적확률질량함수 계산하기: 1명 이하로 떠날 확률은?\n",
    "cdf = 0\n",
    "for i in range(0,x+1): # 확률변수의 확률값들을 합함 # 0명 떠날 확률 + 1명 떠날 확률\n",
    "    cdf += binom.pmf(i, n, p)\n",
    "print(\"[수기] 해당 분포의 누적확률질량함수(cdf): \", cdf)\n",
    "print(\"[라이브러리] 해당 분포의 누적확률질량함수(cdf): \", binom.cdf(x, n, p))"
   ]
  },
  {
   "cell_type": "code",
   "execution_count": null,
   "id": "arbitrary-syndicate",
   "metadata": {
    "id": "pursuant-strength",
    "outputId": "86159474-62d6-4b27-aebc-a7ee418844d7"
   },
   "outputs": [
    {
     "name": "stdout",
     "output_type": "stream",
     "text": [
      "이항분포로 계산하면 0.028 정규분포로 근사계산하면 0.028\n"
     ]
    }
   ],
   "source": [
    "# 이항분포의 정규분포 근사\n",
    "from scipy.stats import norm\n",
    "x, n, p = 10, 30, 0.5\n",
    "b_result = binom.pmf(x, n, p)\n",
    "E = n*p\n",
    "sigma = np.sqrt(E*(1-p))\n",
    "zstat1 = (x-0.5-E)/sigma #이항분포의 x에서 -0.5\n",
    "zstat2 = (x+0.5-E)/sigma #이항분포의 x에서 +0.5\n",
    "n_result = norm.cdf(zstat2) - norm.cdf(zstat1)\n",
    "\n",
    "print(\"이항분포로 계산하면 {:.3f} 정규분포로 근사계산하면 {:.3f}\".format(b_result, n_result)) # 결과값이 근사한 것을 볼 수 있다."
   ]
  },
  {
   "cell_type": "code",
   "execution_count": null,
   "id": "reverse-johnston",
   "metadata": {
    "id": "metallic-bathroom",
    "outputId": "5eaf0e67-96d0-46ed-cd18-287cefa4f713"
   },
   "outputs": [
    {
     "name": "stdout",
     "output_type": "stream",
     "text": [
      "이항분포로 계산하면 0.017 포아송분포로 근사계산하면 0.018\n"
     ]
    }
   ],
   "source": [
    "# 이항분포의 포아송분포 근사\n",
    "from scipy.stats import poisson\n",
    "x, n, p = 10, 100, 0.05\n",
    "b_result = binom.pmf(x, n, p)\n",
    "E = n*p\n",
    "p_result = poisson.pmf(x, E)\n",
    "print(\"이항분포로 계산하면 {:.3f} 포아송분포로 근사계산하면 {:.3f}\".format(b_result, p_result)) # 결과값이 근사한 것을 볼 수 있다."
   ]
  },
  {
   "cell_type": "markdown",
   "id": "duplicate-angle",
   "metadata": {
    "id": "regular-traveler"
   },
   "source": [
    "### - 음이항분포"
   ]
  },
  {
   "cell_type": "code",
   "execution_count": null,
   "id": "fluid-simple",
   "metadata": {
    "id": "charged-validation",
    "outputId": "dec39535-ca0b-4eb1-b878-3969eb34c2a8"
   },
   "outputs": [
    {
     "name": "stdout",
     "output_type": "stream",
     "text": [
      "[수기] 해당 분포의 기대값은 4.667, 분산은 15.556\n",
      "[라이브러리] 해당 분포의 기대값은 4.667, 분산은 15.556 \n",
      "\n",
      "[수기] 확률질량함수(pmf):  0.12347999999999996\n",
      "[라이브러리] 확률질량함수(pmf):  0.12348000000000002 \n",
      "\n",
      "[수기] 누적확률질량함수(cdf):  0.4717799999999999\n",
      "[라이브러리] 누적확률질량함수(cdf):  0.4717799999999999\n"
     ]
    }
   ],
   "source": [
    "# 음 이항분포\n",
    "# A가 승리할 확률이 0.3일 때, 5번 경기를 치르는 상황\n",
    "from scipy.stats import nbinom\n",
    "from numpy import math\n",
    "fac = math.factorial\n",
    "def combi(a, b):\n",
    "    result = fac(a)/fac(b)/fac(a-b)\n",
    "    return result\n",
    "\n",
    "n = 5 # 총 시행횟수\n",
    "k = 2 # 총 성공횟수\n",
    "p = 0.3 # 성공확률\n",
    "q = 1-p # 실패확률\n",
    "case = 2\n",
    "if case ==1: # 확률변수 X가 k번 성공할 때까지의 시행횟수 x인 경우\n",
    "    x = n # **확률변수\n",
    "    E = k / p\n",
    "    V = k*q / p**2\n",
    "    pmf = combi(x-1, k-1) * p**k * q**(x-k)\n",
    "    E2, V2 = np.nan, np.nan ## 라이브러리 지원 안 함\n",
    "    pkg_pmf, pkg_cdf = np.nan, np.nan ## 라이브러리 지원 안 함\n",
    "    cdf = 0\n",
    "    for i in range(k, x+1): # 확률변수의 확률값들을 합함\n",
    "        cdf += combi(i-1, k-1) * p**k * q**(i-k)\n",
    "        \n",
    "elif case ==2: # 확률변수 X가 k번 성공할 때까지의 실패횟수 x인 경우\n",
    "    x = n - k # **확률변수\n",
    "    E = k*q / p\n",
    "    V = k*q / p**2\n",
    "    pmf = combi(x+k-1, k-1) * p**k * q**(x)\n",
    "    E2, V2 = nbinom.stats(k, p)\n",
    "    pkg_pmf, pkg_cdf = nbinom.pmf(x, k, p), nbinom.cdf(x, k, p)\n",
    "    cdf = 0\n",
    "    for i in range(0, x+1): # 확률변수의 확률값들을 합함\n",
    "        cdf += nbinom.pmf(i, k, p)\n",
    "\n",
    "# 기댓값과 분산 계산하기\n",
    "print(\"[수기] 해당 분포의 기댓값은 {:.3f}, 분산은 {:.3f}\".format(E, V))\n",
    "print(\"[라이브러리] 해당 분포의 기댓값은 {:.3f}, 분산은 {:.3f}\".format(E2, V2), '\\n')\n",
    "\n",
    "# 확률질량함수 계산하기\n",
    "print(\"[수기] 확률질량함수(pmf): \", pmf)\n",
    "print(\"[라이브러리] 확률질량함수(pmf): \", pkg_pmf, '\\n')\n",
    "\n",
    "# 누적확률질량함수 계산하기: 2번째 이하로 이길 확률은?\n",
    "print(\"[수기] 누적확률질량함수(cdf): \", cdf)\n",
    "print(\"[라이브러리] 누적확률질량함수(cdf): \", pkg_cdf)"
   ]
  },
  {
   "cell_type": "markdown",
   "id": "cross-philosophy",
   "metadata": {
    "id": "bronze-interface"
   },
   "source": [
    "### - 기하분포"
   ]
  },
  {
   "cell_type": "code",
   "execution_count": null,
   "id": "posted-series",
   "metadata": {
    "id": "nutritional-reasoning",
    "outputId": "28a05198-9f20-4d7f-8d55-7e8c1ef18ca9"
   },
   "outputs": [
    {
     "name": "stdout",
     "output_type": "stream",
     "text": [
      "[수기] 해당 분포의 기대값은 6.000, 분산은 30.000\n",
      "[라이브러리] 해당 분포의 기대값은 6.000, 분산은 30.000 \n",
      "\n",
      "[수기] 확률질량함수(pmf):  0.11574074074074076\n",
      "[라이브러리] 확률질량함수(pmf):  0.11574074074074076 \n",
      "\n",
      "[수기] 누적확률질량함수(cdf):  0.42129629629629634\n",
      "[라이브러리] 누적확률질량함수(cdf):  0.4212962962962963\n"
     ]
    }
   ],
   "source": [
    "# 기하분포\n",
    "# 하나의 주사위를 세번 던질 때 세번째 시행에서 앞면 숫자가 6이 나올 확률은?\n",
    "from scipy.stats import geom\n",
    "n = 3 # 총 시행횟수\n",
    "p = 1/6 # 성공확률\n",
    "q = 1-p # 실패확률\n",
    "\n",
    "case = 1\n",
    "if case ==1: # 확률변수 X가 처음으로 성공할 때까지의 시행횟수 x인 경우\n",
    "    x = n # **확률변수\n",
    "    E = 1 / p\n",
    "    V = q / p**2\n",
    "    pmf = q**(x-1) * p\n",
    "    E2, V2 = geom.stats(p, moments = 'mv') # mean, variance\n",
    "    pkg_pmf, pkg_cdf = geom.pmf(x, p), geom.cdf(x, p)\n",
    "    cdf = 0\n",
    "    for i in range(1, x+1): # 확률변수의 확률값들을 합함\n",
    "        cdf += q**(i-1) * p\n",
    "        \n",
    "elif case ==2: # 확률변수 X가 처음으로 성공할 때까지의 실패횟수 x인 경우\n",
    "    x = n - 1 # **확률변수\n",
    "    E = q / p\n",
    "    V = q / p**2\n",
    "    pmf = q**x * p\n",
    "    E2, V2 = np.nan, np.nan ## 라이브러리 지원 안 함\n",
    "    pkg_pmf, pkg_cdf = np.nan, np.nan ## 라이브러리 지원 안 함\n",
    "    cdf = 0\n",
    "    for i in range(0, x+1): # 확률변수의 확률값들을 합함\n",
    "        cdf += q**i * p\n",
    "\n",
    "# 기댓값과 분산 계산하기\n",
    "print(\"[수기] 해당 분포의 기댓값은 {:.3f}, 분산은 {:.3f}\".format(E, V))\n",
    "print(\"[라이브러리] 해당 분포의 기댓값은 {:.3f}, 분산은 {:.3f}\".format(E2, V2), '\\n')\n",
    "\n",
    "# 확률질량함수 계산하기\n",
    "print(\"[수기] 확률질량함수(pmf): \", pmf)\n",
    "print(\"[라이브러리] 확률질량함수(pmf): \", pkg_pmf, '\\n')\n",
    "\n",
    "# 누적확률질량함수 계산하기: 2번째 이하로 이길 확률은?\n",
    "print(\"[수기] 누적확률질량함수(cdf): \", cdf)\n",
    "print(\"[라이브러리] 누적확률질량함수(cdf): \", pkg_cdf)"
   ]
  },
  {
   "cell_type": "markdown",
   "id": "ideal-bibliography",
   "metadata": {
    "id": "crucial-fountain"
   },
   "source": [
    "### - 초기하분포"
   ]
  },
  {
   "cell_type": "code",
   "execution_count": null,
   "id": "interested-monkey",
   "metadata": {
    "id": "simplified-teddy",
    "outputId": "eb42b161-d969-4f8b-f38e-a2ee1e1f2e48"
   },
   "outputs": [
    {
     "name": "stdout",
     "output_type": "stream",
     "text": [
      "[수기] 해당 분포의 기대값은 0.200, 분산은 0.178\n",
      "[라이브러리] 해당 분포의 기대값은 0.200, 분산은 0.178 \n",
      "\n",
      "[수기] 해당 분포의 확률질량함수(pmf): 0.182\n",
      "[라이브러리] 해당 분포의 확률질량함수(pmf): 0.182 \n",
      "\n",
      "[수기] 해당 분포의 누적확률질량함수(cdf): 0.991\n",
      "[라이브러리] 해당 분포의 누적확률질량함수(cdf): 0.991\n"
     ]
    }
   ],
   "source": [
    "# 초기하 분포\n",
    "from scipy.stats import hypergeom\n",
    "from numpy import math\n",
    "fac = math.factorial\n",
    "def combi(a, b): #combination 함수 정의\n",
    "    result = fac(a)/fac(b)/fac(a-b)\n",
    "    return result\n",
    "\n",
    "#상자 속에 빨간 공이 90개 파란 공이 10개 들어 있다. 임의로 1개씩 두 번 꺼내고 다시 넣지 않을 때 1개가 파란 공이 될 확률은?\n",
    "N = 100 #모집단 수 (총 공 개수)\n",
    "k = 10 #성공요소 수 (총 파란공 개수)\n",
    "n = 2 #시행횟수 (공 선택 횟수)\n",
    "x = 1 #확인하고자 하는 사건 (1개 파란공) **확률변수\n",
    "P = k/N #모비율\n",
    "\n",
    "# 기댓값과 분산 계산하기\n",
    "E = n*P\n",
    "V = n*P*(1-P)*((N-n)/(N-1))\n",
    "print(\"[수기] 해당 분포의 기댓값은 {:.3f}, 분산은 {:.3f}\".format(E, V))\n",
    "E2, V2 = hypergeom.stats(N, k, n)\n",
    "print(\"[라이브러리] 해당 분포의 기댓값은 {:.3f}, 분산은 {:.3f}\".format(E2, V2), '\\n')\n",
    "\n",
    "# 확률질량함수 계산하기\n",
    "pmf = combi(k,x)*combi(N-k, n-x)/combi(N, n)\n",
    "print(\"[수기] 해당 분포의 확률질량함수(pmf): %.3f\" %(pmf))\n",
    "print(\"[라이브러리] 해당 분포의 확률질량함수(pmf): %.3f\" %(hypergeom.pmf(x, N, k, n)), '\\n')\n",
    "\n",
    "# 누적확률질량함수 계산하기: 파란공을 1개 이하로 선택할 확률은?\n",
    "cdf = 0\n",
    "for i in range(0,x+1): # 확률변수의 확률값들을 합함\n",
    "    cdf += hypergeom.pmf(i, N, k, n)\n",
    "print(\"[수기] 해당 분포의 누적확률질량함수(cdf): %.3f\" %cdf)\n",
    "print(\"[라이브러리] 해당 분포의 누적확률질량함수(cdf): %.3f\" %(hypergeom.cdf(x, N, k, n)))"
   ]
  },
  {
   "cell_type": "code",
   "execution_count": null,
   "id": "ultimate-discipline",
   "metadata": {
    "id": "satisfied-palmer",
    "outputId": "2f5b8fbb-7231-4014-9c27-0f6f99e8ca88"
   },
   "outputs": [
    {
     "name": "stdout",
     "output_type": "stream",
     "text": [
      "초기하분포로 계산하면 0.182 이항분포로 근사계산하면 0.180\n"
     ]
    }
   ],
   "source": [
    "# 초기하 분포의 이항분포 근사\n",
    "from scipy.stats import norm\n",
    "\n",
    "b_result = binom.pmf(x, n, k/N)\n",
    "h_result = hypergeom.pmf(x, N, k, n)\n",
    "print(\"초기하분포로 계산하면 {:.3f} 이항분포로 근사계산하면 {:.3f}\".format(h_result,b_result)) \n",
    "# 결과값이 근사한 것을 볼 수 있다."
   ]
  },
  {
   "cell_type": "markdown",
   "id": "previous-favorite",
   "metadata": {
    "id": "swedish-teach"
   },
   "source": [
    "### - 포아송분포"
   ]
  },
  {
   "cell_type": "code",
   "execution_count": null,
   "id": "grave-turning",
   "metadata": {
    "id": "dependent-morgan",
    "outputId": "8c5bc889-a0d6-4c0e-a24c-f04367b12e89"
   },
   "outputs": [
    {
     "name": "stdout",
     "output_type": "stream",
     "text": [
      "[수기] 해당 분포의 기대값은 3.000, 분산은 3.000\n",
      "[라이브러리] 해당 분포의 기대값은 3.000, 분산은 3.000 \n",
      "\n",
      "[수기] 해당 분포의 확률질량함수(pmf): 0.168\n",
      "[라이브러리] 해당 분포의 확률질량함수(pmf): 0.168 \n",
      "\n",
      "[수기] 해당 분포의 누적확률질량함수(cdf): 0.815\n",
      "[라이브러리] 해당 분포의 누적확률질량함수(cdf): 0.815\n"
     ]
    }
   ],
   "source": [
    "# 포아송 분포\n",
    "from scipy.stats import poisson\n",
    "\n",
    "#주말 저녁 시간 당 평균 6명이 응급실 올 경우, 어떤 주말 저녁 30분 내 4명이 도착할 확률은?\n",
    "x = 4 #구간 내 사건 횟수 **확률변수\n",
    "lam = 3 #구간 내 평균 (=lambda)\n",
    "\n",
    "# 기댓값과 분산 계산하기\n",
    "E = lam\n",
    "V = lam\n",
    "print(\"[수기] 해당 분포의 기댓값은 {:.3f}, 분산은 {:.3f}\".format(E, V))\n",
    "E2, V2 = poisson.stats(lam, moments='mv')\n",
    "print(\"[라이브러리] 해당 분포의 기댓값은 {:.3f}, 분산은 {:.3f}\".format(E2, V2), '\\n')\n",
    "\n",
    "# 확률질량함수 계산하기\n",
    "pmf = lam**x * np.exp(-lam)/np.math.factorial(x)\n",
    "print(\"[수기] 해당 분포의 확률질량함수(pmf): %.3f\" %(pmf))\n",
    "print(\"[라이브러리] 해당 분포의 확률질량함수(pmf): %.3f\" %(poisson.pmf(x, lam)), '\\n')\n",
    "\n",
    "# 누적확률질량함수 계산하기: 4명 이하로 도착할 확률은?\n",
    "cdf = 0\n",
    "for i in range(0,x+1): # 확률변수의 확률값들을 합함\n",
    "    cdf += poisson.pmf(i, lam)\n",
    "print(\"[수기] 해당 분포의 누적확률질량함수(cdf): %.3f\" %cdf)\n",
    "print(\"[라이브러리] 해당 분포의 누적확률질량함수(cdf): %.3f\" %(poisson.cdf(x, lam)))"
   ]
  },
  {
   "cell_type": "code",
   "execution_count": null,
   "id": "friendly-digit",
   "metadata": {
    "id": "separated-brass",
    "outputId": "3587496d-4343-4499-bb12-163e8f87b713"
   },
   "outputs": [
    {
     "name": "stdout",
     "output_type": "stream",
     "text": [
      "포아송 분포로 계산하면 0.006 정규분포로 계산하면 0.007\n"
     ]
    }
   ],
   "source": [
    "# 포아송 분포의 정규분포 근사\n",
    "from scipy.stats import norm\n",
    "import numpy as np\n",
    "x = 10\n",
    "lam = 20\n",
    "E = V = lam\n",
    "sigma = np.sqrt(V) #포아송 분포의 표준편차\n",
    "zstat1 = (x-0.5-lam)/sigma #포아송분포의 x에서 -0.5\n",
    "zstat2 = (x+0.5-lam)/sigma #포아송분포의 x에서 +0.5\n",
    "n_result = norm.cdf(zstat2) - norm.cdf(zstat1)\n",
    "p_result = poisson.pmf(x, lam)\n",
    "\n",
    "print(\"포아송 분포로 계산하면 {:.3f} 정규분포로 계산하면 {:.3f}\".format(p_result, n_result)) # 결과값이 근사한 것을 볼 수 있다."
   ]
  },
  {
   "cell_type": "markdown",
   "id": "equipped-kennedy",
   "metadata": {
    "id": "detailed-reservoir"
   },
   "source": [
    "## 4-2. 특수한 연속형 확률분포들"
   ]
  },
  {
   "cell_type": "markdown",
   "id": "three-nepal",
   "metadata": {
    "id": "southeast-swift"
   },
   "source": [
    "### - 균일 분포"
   ]
  },
  {
   "cell_type": "code",
   "execution_count": null,
   "id": "tight-messaging",
   "metadata": {
    "id": "special-scratch",
    "outputId": "12150cfa-3a0f-4b12-edf7-819ed554782d"
   },
   "outputs": [
    {
     "name": "stdout",
     "output_type": "stream",
     "text": [
      "[수기] 범위 내 누적확률은 0.300\n",
      "[수기] 해당 분포의 기대값은 10.000, 분산은 8.333\n"
     ]
    }
   ],
   "source": [
    "# 균일 분포\n",
    "# 확률변수 X가 (5, 15)에서 균일분포를 따를 때 12와 15 사이의 확률은?\n",
    "a = 5 #확률변수의 범위\n",
    "b = 15 #확률변수의 범위\n",
    "range_ = [(12, 15)]\n",
    "p = 1/(b-a) #확률밀도함수\n",
    "cdf = 0\n",
    "for (x1, x2) in range_:\n",
    "    cdf += (x2-x1) * p #누적분포함수\n",
    "E = (b+a)/2\n",
    "V = (b-a)**2 / 12\n",
    "print(\"[수기] 범위 내 누적확률은 {:.3f}\".format(cdf))\n",
    "print(\"[수기] 해당 분포의 기댓값은 {:.3f}, 분산은 {:.3f}\".format(E, V))"
   ]
  },
  {
   "cell_type": "code",
   "execution_count": null,
   "id": "assured-intermediate",
   "metadata": {
    "id": "expired-trace",
    "outputId": "791011b2-5a6f-491c-9066-aa6726e1dfae"
   },
   "outputs": [
    {
     "name": "stdout",
     "output_type": "stream",
     "text": [
      "[수기] 범위 내 누적확률은 0.333\n",
      "[수기] 해당 분포의 기대값은 15.000, 분산은 75.000\n"
     ]
    }
   ],
   "source": [
    "# 버스가 오전 7시부터 15분 간격으로 정류장을 출발한다. 한 승객이 이 정류장에 도착하는 시간은 7시에서 7시 30분 사이에 균등분포를 따른다고 할 때 이 승객이 버스를 5분 미만 기다릴 확률은?\n",
    "a = 0 #확률변수의 범위\n",
    "b = 30 #확률변수의 범위\n",
    "\n",
    "# 승객이 버스를 5분 미만으로 기다릴 구간: 7시 10분~7시 15분, 7시 25분~ 7시30분\n",
    "range_ = [(10, 15), (25, 30)] #구할 범위\n",
    "p = 1/(b-a) #확률밀도함수\n",
    "cdf = 0\n",
    "for (x1, x2) in range_:\n",
    "    cdf += (x2-x1) * p #누적분포함수\n",
    "\n",
    "E = (b+a)/2\n",
    "V = (b-a)**2 / 12\n",
    "\n",
    "print(\"[수기] 범위 내 누적확률은 {:.3f}\".format(cdf))\n",
    "print(\"[수기] 해당 분포의 기댓값은 {:.3f}, 분산은 {:.3f}\".format(E, V))"
   ]
  },
  {
   "cell_type": "markdown",
   "id": "internal-ensemble",
   "metadata": {
    "id": "noticed-insight"
   },
   "source": [
    "### - 정규분포와 표준정규분포"
   ]
  },
  {
   "cell_type": "code",
   "execution_count": null,
   "id": "seasonal-prairie",
   "metadata": {
    "id": "arranged-quantity",
    "outputId": "d5cf7119-9258-425b-ab68-a37c7ed1926c"
   },
   "outputs": [
    {
     "name": "stdout",
     "output_type": "stream",
     "text": [
      "[수기] 범위 내 누적확률은 0.669\n",
      "[수기] 해당 분포의 기대값은 30.000, 분산은 64.000\n"
     ]
    }
   ],
   "source": [
    "# 정규분포\n",
    "# 확률변수 X가 정규분포 N(30, 64)를 따를 때 26 ~ 46 구간의 확률은?\n",
    "from scipy.stats import norm #표준정규분포\n",
    "import numpy as np\n",
    "E = 30 # 평균\n",
    "V = 64\n",
    "S = np.sqrt(V) # 표준편차\n",
    "x1 = 26\n",
    "x2 = 46\n",
    "zstat1 = (x1-E)/S #표준화\n",
    "zstat2 = (x2-E)/S #표준화\n",
    "cdf = norm.cdf(zstat2) - norm.cdf(zstat1)\n",
    "print(\"[수기] 범위 내 누적확률은 {:.3f}\".format(cdf))\n",
    "print(\"[수기] 해당 분포의 기댓값은 {:.3f}, 분산은 {:.3f}\".format(E, V))"
   ]
  },
  {
   "cell_type": "code",
   "execution_count": null,
   "id": "colonial-yesterday",
   "metadata": {
    "id": "legislative-solution",
    "outputId": "d4d9cbcb-0e40-488b-f091-16fb94c0fafa"
   },
   "outputs": [
    {
     "name": "stdout",
     "output_type": "stream",
     "text": [
      "[수기] 범위 내 누적확률은 0.950\n",
      "[수기] 해당 분포의 기대값은 0.000, 분산은 1.000\n"
     ]
    }
   ],
   "source": [
    "# 표준정규분포\n",
    "# 확률변수 X가 표준정규분포를 따를 때 -1.96 ~ 1.96 구간의 확률은?\n",
    "E = 0 # 평균\n",
    "V = 1\n",
    "S = np.sqrt(V) # 표준편차\n",
    "zstat1 = -1.96\n",
    "zstat2 = 1.96\n",
    "cdf = norm.cdf(zstat2) - norm.cdf(zstat1)\n",
    "print(\"[수기] 범위 내 누적확률은 {:.3f}\".format(cdf))\n",
    "print(\"[수기] 해당 분포의 기댓값은 {:.3f}, 분산은 {:.3f}\".format(E, V))"
   ]
  },
  {
   "cell_type": "markdown",
   "id": "comfortable-marina",
   "metadata": {
    "id": "english-budapest"
   },
   "source": [
    "### - 지수분포"
   ]
  },
  {
   "cell_type": "code",
   "execution_count": null,
   "id": "christian-house",
   "metadata": {
    "id": "false-referral",
    "outputId": "0a77b32f-6090-43a3-8b41-9cd4ca55cc53"
   },
   "outputs": [
    {
     "name": "stdout",
     "output_type": "stream",
     "text": [
      "[수기] 누적확률은 0.487\n",
      "[수기] 해당 분포의 기대값은 3.000, 분산은 9.000\n"
     ]
    }
   ],
   "source": [
    "# 지수분포\n",
    "from scipy.stats import expon\n",
    "\n",
    "# 자동차들 사이 시간 간격이 평균 3분인 지수확률 분포를 따르는 경우, 연속한 두대의 차량이 도착하는 시간이 2분 이내일 확률은?\n",
    "lam = 1/3 # lambda: 단위시간 동안 평균적으로 발생한 사건 = 3분동안 1건, 1분동안 1/3건\n",
    "x = 2 # 사건이 일어날 때까지 걸린 시간\n",
    "\n",
    "E = 1/lam\n",
    "V = 1/(lam**2)\n",
    "# scale에 1/lam을 입력해주어야 함\n",
    "cdf = expon.cdf(x, scale = 1/lam) \n",
    "\n",
    "print(\"[수기] 누적확률은 {:.3f}\".format(cdf))\n",
    "print(\"[수기] 해당 분포의 기댓값은 {:.3f}, 분산은 {:.3f}\".format(E, V))"
   ]
  },
  {
   "cell_type": "markdown",
   "id": "alien-hostel",
   "metadata": {
    "id": "disabled-advisory"
   },
   "source": [
    "### - 감마분포"
   ]
  },
  {
   "cell_type": "code",
   "execution_count": 445,
   "id": "loose-cutting",
   "metadata": {
    "id": "wireless-clark",
    "outputId": "efbccfb7-6605-4e67-c7d1-e5d71f5947d0"
   },
   "outputs": [
    {
     "name": "stdout",
     "output_type": "stream",
     "text": [
      "[수기] 누적확률은 0.706\n",
      "[수기] 해당 분포의 기댓값은 2.000, 분산은 1.000\n"
     ]
    }
   ],
   "source": [
    "# 감마분포\n",
    "from scipy.stats import gamma\n",
    "# 낚시를 하는데 어부가 물고기를 30분에 한 마리씩 잡는다. 어부가 4마리의 물고기를 잡을 때까지 걸리는 시간이 1시간에서 3시간 사이로 소요될 확률은?\n",
    "lam = 2 # lambda: 30분에 한마리 = 1시간에 두마리 잡음\n",
    "beta = 1/lam\n",
    "alpha = 4 # 4마리의 물고기\n",
    "E = alpha * beta\n",
    "V = alpha * beta**2\n",
    "range_ = (1, 3) #1시간~3시간\n",
    "\n",
    "# scale에 beta를 입력해주어야 함\n",
    "cdf = gamma.cdf(range_[1], alpha, scale=beta) - gamma.cdf(range_[0], alpha, scale=beta)\n",
    "\n",
    "print(\"[수기] 누적확률은 {:.3f}\".format(cdf))\n",
    "print(\"[수기] 해당 분포의 기댓값은 {:.3f}, 분산은 {:.3f}\".format(E, V))"
   ]
  },
  {
   "cell_type": "code",
   "execution_count": null,
   "id": "robust-nepal",
   "metadata": {
    "id": "seasonal-employer",
    "outputId": "08d9384c-d131-4748-8f64-87bd4cca6b52"
   },
   "outputs": [
    {
     "name": "stdout",
     "output_type": "stream",
     "text": [
      "[수기] 누적확률은 0.820\n",
      "[수기] 해당 분포의 기대값은 12.500, 분산은 7.812\n"
     ]
    }
   ],
   "source": [
    "# 배송 시간이 alpha = 20, lambda = 1.6인 감마분포를 따를 때,\n",
    "# 20개 철판을 배송할 때 걸리는 시간이 15분 이내일 확률은?\n",
    "lam = 1.6 # lambda\n",
    "beta = 1/lam\n",
    "alpha = 20 \n",
    "E = alpha * beta\n",
    "V = alpha * beta**2\n",
    "range_ = (0, 15)\n",
    "\n",
    "# scale에 beta를 입력해주어야 함\n",
    "cdf = gamma.cdf(range_[1], alpha, scale=beta) - gamma.cdf(range_[0], alpha, scale=beta)\n",
    "\n",
    "print(\"[수기] 누적확률은 {:.3f}\".format(cdf))\n",
    "print(\"[수기] 해당 분포의 기댓값은 {:.3f}, 분산은 {:.3f}\".format(E, V))"
   ]
  },
  {
   "cell_type": "markdown",
   "id": "operational-swing",
   "metadata": {},
   "source": [
    "# 연습문제"
   ]
  },
  {
   "cell_type": "markdown",
   "id": "excellent-neighbor",
   "metadata": {},
   "source": [
    "### - 1번 문제 풀이"
   ]
  },
  {
   "cell_type": "code",
   "execution_count": 82,
   "id": "alive-productivity",
   "metadata": {},
   "outputs": [
    {
     "name": "stdout",
     "output_type": "stream",
     "text": [
      "[라이브러리 계산] 4.00\n",
      "[수기 계산] 4.00\n"
     ]
    }
   ],
   "source": [
    "p = 0.8\n",
    "q = 1-p\n",
    "n = 5\n",
    "\n",
    "from scipy.stats import binom\n",
    "E, V = binom.stats(n, p)\n",
    "print(\"[라이브러리 계산] {:.2f}\".format(E))\n",
    "\n",
    "a = n*p\n",
    "print(\"[수기 계산] {:.2f}\".format(a))\n",
    "\n",
    "# 이항분포 X ~ B(n, p), E(X)=np, V(X)=npq 에서 기댓값을 구하는 문제이다. 정답은 4"
   ]
  },
  {
   "cell_type": "markdown",
   "id": "personalized-checklist",
   "metadata": {},
   "source": [
    "### - 2번 문제 풀이"
   ]
  },
  {
   "cell_type": "code",
   "execution_count": 87,
   "id": "eligible-spare",
   "metadata": {},
   "outputs": [
    {
     "name": "stdout",
     "output_type": "stream",
     "text": [
      "[라이브러리 계산] 0.2150\n",
      "[수기 계산] 0.2150\n"
     ]
    }
   ],
   "source": [
    "p = 0.4\n",
    "q = 1-p\n",
    "n = 10\n",
    "x = 3\n",
    "\n",
    "from scipy.stats import binom\n",
    "print(\"[라이브러리 계산] {:.4f}\".format(binom.pmf(x, n, p)))\n",
    "\n",
    "from numpy import math\n",
    "fac = math.factorial\n",
    "def combi(a, b): #aCb\n",
    "    return fac(a)/fac(b)/fac(a-b)\n",
    "print(\"[수기 계산] {:.4f}\".format(combi(n, x) * p**(x) * (1-p)**(n-x)))\n",
    "\n",
    "# 이항분포의 특정 확률변수 x에 대한 확률질량함수를 구하는 문제이다. 정답은 21.5%"
   ]
  },
  {
   "cell_type": "markdown",
   "id": "medium-subcommittee",
   "metadata": {},
   "source": [
    "### - 3번 문제 풀이"
   ]
  },
  {
   "cell_type": "code",
   "execution_count": 89,
   "id": "occasional-attention",
   "metadata": {},
   "outputs": [
    {
     "name": "stdout",
     "output_type": "stream",
     "text": [
      "0.0337\n",
      "0.0337\n"
     ]
    }
   ],
   "source": [
    "lam = 5\n",
    "x = 1\n",
    "import numpy as np\n",
    "pmf = lam**x * np.exp(-lam)/np.math.factorial(x)\n",
    "print(\"{:.4f}\".format(pmf))\n",
    "\n",
    "from scipy.stats import poisson\n",
    "print(\"{:.4f}\".format(poisson.pmf(x, lam)))\n",
    "# 포아송 분포의 특정 확률변수 x에 대한 확률질량함수를 구하는 문제이다. 정답은 3.37%"
   ]
  },
  {
   "cell_type": "markdown",
   "id": "assisted-script",
   "metadata": {},
   "source": [
    "### - 4번 문제 풀이"
   ]
  },
  {
   "cell_type": "code",
   "execution_count": 108,
   "id": "presidential-mouse",
   "metadata": {},
   "outputs": [
    {
     "data": {
      "text/plain": [
       "80.38"
      ]
     },
     "execution_count": 108,
     "metadata": {},
     "output_type": "execute_result"
    }
   ],
   "source": [
    "mu = 65\n",
    "sigma = 12\n",
    "\n",
    "from scipy.stats import norm\n",
    "z = norm.ppf(1-0.1)\n",
    "x = z * sigma + mu\n",
    "round(x, 2)\n",
    "# 정규분포 X ~ N(mu, sigma^2)를 표준정규분포 Z ~ N(0, 1)로 표준화하여 x를 구하는 문제이다. 표준화 공식은 z = (x - mu) / sigma이다. 정답: 81점"
   ]
  }
 ],
 "metadata": {
  "colab": {
   "provenance": []
  },
  "kernelspec": {
   "display_name": "Python 3",
   "language": "python",
   "name": "python3"
  },
  "language_info": {
   "codemirror_mode": {
    "name": "ipython",
    "version": 3
   },
   "file_extension": ".py",
   "mimetype": "text/x-python",
   "name": "python",
   "nbconvert_exporter": "python",
   "pygments_lexer": "ipython3",
   "version": "3.8.8"
  },
  "toc-showtags": true
 },
 "nbformat": 4,
 "nbformat_minor": 5
}
