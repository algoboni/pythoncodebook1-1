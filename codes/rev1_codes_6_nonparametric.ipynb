{
 "cells": [
  {
   "cell_type": "markdown",
   "id": "structured-chemistry",
   "metadata": {
    "id": "suspected-immunology"
   },
   "source": [
    "# **핵심만 요약한 통계와 머신러닝 파이썬 코드북 개정1판**\n",
    "- ⓒ2023 AlgoBoni all rights reserved.\n",
    "- 본 컨텐츠의 저작권은 알고보니에 있습니다. 저작권법에 의해 보호를 받는 저작물이므로 무단 전재와 무단 복제를 금합니다.\n",
    "- 본 컨텐츠의 종이책은 [교보문고](https://product.kyobobook.co.kr/detail/S000209591909), [예스24](https://www.yes24.com/Product/Goods/122661688), [알라딘](https://www.aladin.co.kr/shop/wproduct.aspx?ISBN=K262935029&start=pnaver_02)에서 구매할 수 있습니다. 종이책에서는 아래 개념 및 코드에 대한 설명과 연습문제를 제공합니다."
   ]
  },
  {
   "cell_type": "markdown",
   "id": "fourth-representative",
   "metadata": {
    "id": "linear-lincoln"
   },
   "source": [
    "# 6. 비모수 검정"
   ]
  },
  {
   "cell_type": "markdown",
   "id": "cubic-serial",
   "metadata": {
    "id": "accurate-emphasis"
   },
   "source": [
    "## 6-1. 카이제곱검정: 카이제곱분포\n",
    "### - 적합성 검정: 다항모집단 비율의 차이"
   ]
  },
  {
   "cell_type": "code",
   "execution_count": null,
   "id": "stupid-honor",
   "metadata": {
    "id": "underlying-technical",
    "outputId": "b7ce0fc2-dbcf-4a99-b9de-7fd8e6147fcd"
   },
   "outputs": [
    {
     "name": "stdout",
     "output_type": "stream",
     "text": [
      "[데이터 확인]\n",
      " [60 50 40]\n"
     ]
    }
   ],
   "source": [
    "# 적합성 검정: 세 후보자의 지지도가 다르다고 할 수 있을까?\n",
    "import numpy as np\n",
    "from scipy.stats import chi2\n",
    "data = np.array([60, 50, 40])\n",
    "print(\"[데이터 확인]\\n\", data)"
   ]
  },
  {
   "cell_type": "code",
   "execution_count": null,
   "id": "bridal-riverside",
   "metadata": {
    "id": "criminal-restriction",
    "outputId": "3948bbe4-d039-4d94-88c6-15d827bfb0b0"
   },
   "outputs": [
    {
     "name": "stdout",
     "output_type": "stream",
     "text": [
      "[수기 검정]\n",
      " 오른쪽 검정의 임계값: 5.991, 검정통계량: 4.000\n",
      " 유의수준: 0.050, 유의확률: 0.135\n"
     ]
    }
   ],
   "source": [
    "# 가설 검정 (우측 검정)\n",
    "# H0: 세 후보자의 지지도는 동일하다, H1: 세 후보자의 지지도는 차이가 있다.\n",
    "m0 = data.mean() #H0\n",
    "test_a = 0.05\n",
    "df = len(data)-1\n",
    "chistat= sum((data - m0)**2 / m0)\n",
    "sp = 1-chi2.cdf(chistat, df) #오른쪽 검정\n",
    "cv = chi2.ppf(1-test_a, df)\n",
    "\n",
    "print(\"[수기 검정]\")\n",
    "print(\" 오른쪽 검정의 임계값: {:.3f}, 검정통계량: {:.3f}\".format(cv, chistat))\n",
    "print(\" 유의수준: {:.3f}, 유의확률: {:.3f}\".format(test_a, sp))"
   ]
  },
  {
   "cell_type": "code",
   "execution_count": null,
   "id": "objective-ebony",
   "metadata": {
    "id": "valid-arena",
    "outputId": "d7cdc5b3-33cf-4653-bcf1-fda2cb7c8efc"
   },
   "outputs": [
    {
     "name": "stdout",
     "output_type": "stream",
     "text": [
      "[라이브러리 검정]\n",
      " 검정통계량 4.000, p-value 0.135\n"
     ]
    }
   ],
   "source": [
    "print(\"[라이브러리 검정]\")\n",
    "from scipy.stats import chisquare, chi2\n",
    "stat, p = chisquare(data, m0)\n",
    "print(\" 검정통계량 {:.3f}, p-value {:.3f}\".format(stat, p))\n",
    "## 검정 결과 귀무가설을 기각할 수 없기 때문에 세 후보자의 지지도는 동일하다."
   ]
  },
  {
   "cell_type": "markdown",
   "id": "handed-stream",
   "metadata": {
    "id": "downtown-brooks"
   },
   "source": [
    "### - 독립성 검정: 한모집단 내 여러 수준의 차이"
   ]
  },
  {
   "cell_type": "code",
   "execution_count": null,
   "id": "visible-england",
   "metadata": {
    "id": "hindu-modification",
    "outputId": "00264043-2277-4b9d-d90a-ac2016bc55e8"
   },
   "outputs": [
    {
     "name": "stdout",
     "output_type": "stream",
     "text": [
      "[데이터 확인]\n",
      "     안경O  안경X\n",
      "성별          \n",
      "남자   10   40\n",
      "여자   30   20\n"
     ]
    }
   ],
   "source": [
    "# 독립성 검정\n",
    "# 성별 변량과 안경 착용여부 변량이 서로 독립인지 관련이 있는지 유의수준 5% 검정\n",
    "import numpy as np\n",
    "from pandas import DataFrame\n",
    "from scipy.stats import chi2_contingency, chi2\n",
    "table = DataFrame({\"성별\":['남자', '여자'], '안경O':[10,30], '안경X':[40, 20]}).set_index('성별')\n",
    "test_a = 0.05\n",
    "print(\"[데이터 확인]\\n\", table)"
   ]
  },
  {
   "cell_type": "code",
   "execution_count": null,
   "id": "shaped-latin",
   "metadata": {
    "id": "wrapped-silence",
    "outputId": "8d3f4084-cb91-4351-d8a4-88c966fa1523"
   },
   "outputs": [
    {
     "name": "stdout",
     "output_type": "stream",
     "text": [
      "[수기 검정]\n",
      " 기대값\n",
      " [[20. 30.]\n",
      " [20. 30.]]\n",
      " 관찰값\n",
      " [[10 40]\n",
      " [30 20]]\n"
     ]
    }
   ],
   "source": [
    "print(\"[수기 검정]\") # H0: 성별과 안경 착용여부는 서로 독립이다, H1: 독립이 아니다\n",
    "ttl = table.sum().sum()\n",
    "exp = []\n",
    "r = table.sum(axis=1).values\n",
    "c = table.sum(axis=0).values\n",
    "for R in r:\n",
    "    for C in c:\n",
    "        exp.append(R*C/ttl)\n",
    "print(\" 기댓값\\n\", np.array(exp).reshape(table.shape))\n",
    "obs = table.values.ravel()\n",
    "print(\" 관찰값\\n\", np.array(obs).reshape(table.shape))"
   ]
  },
  {
   "cell_type": "code",
   "execution_count": null,
   "id": "temporal-operations",
   "metadata": {
    "id": "simple-samuel",
    "outputId": "eba17223-180f-410d-da77-ab3cd60fffcb"
   },
   "outputs": [
    {
     "name": "stdout",
     "output_type": "stream",
     "text": [
      " 오른쪽 검정의 임계값: 3.841, 검정통계량: 16.667\n",
      " 유의수준: 0.050, 유의확률: 0.000\n"
     ]
    }
   ],
   "source": [
    "chistat = np.sum((obs - exp)**2 / exp)\n",
    "df = (table.shape[0]-1)*(table.shape[1]-1)\n",
    "sp = 1-chi2.cdf(chistat, df)\n",
    "cv = chi2.ppf(1-test_a, df)\n",
    "print(\" 오른쪽 검정의 임계값: {:.3f}, 검정통계량: {:.3f}\".format(cv, chistat))\n",
    "print(\" 유의수준: {:.3f}, 유의확률: {:.3f}\".format(test_a, sp))"
   ]
  },
  {
   "cell_type": "code",
   "execution_count": null,
   "id": "confused-access",
   "metadata": {
    "id": "pleased-angel",
    "outputId": "813d90f6-6ce5-44a5-ba81-7f55bd445dea"
   },
   "outputs": [
    {
     "name": "stdout",
     "output_type": "stream",
     "text": [
      "[라이브러리 검정]\n",
      " 검정통계량 16.667, p-value 0.000 \n",
      " 기대값:\n",
      "[[20. 30.]\n",
      " [20. 30.]]\n"
     ]
    }
   ],
   "source": [
    "print(\"[라이브러리 검정]\")\n",
    "chi2, p, df, expec = chi2_contingency(table, correction=False)\n",
    "print(\" 검정통계량 {:.3f}, p-value {:.3f} \\n 기댓값:\\n{}\".format(chi2, p, expec)) \n",
    "## 검정 결과 대립가설을 채택하며 성별과 안경 사용 여부는 연관이 있다"
   ]
  },
  {
   "cell_type": "code",
   "execution_count": null,
   "id": "severe-arbitration",
   "metadata": {
    "id": "universal-scientist",
    "outputId": "a44a93d9-c2fa-4e9c-e50b-effe8c5be411"
   },
   "outputs": [
    {
     "name": "stdout",
     "output_type": "stream",
     "text": [
      "[데이터 확인]\n",
      "     승  패\n",
      "A  10  2\n",
      "B   3  5\n",
      "[라이브러리 검정]\n",
      "검정통계량 8.333, p-value 0.052\n",
      "\n"
     ]
    }
   ],
   "source": [
    "# [참고] Fisher's exact test\n",
    "table = DataFrame([[10, 2], [3, 5]], index=['A', 'B'], columns=['승', '패'])\n",
    "print(\"[데이터 확인]\\n\", table)\n",
    "# H0: A와 B의 실력은 차이가 없다, H1: A의 실력이 더 좋다.\n",
    "print(\"[라이브러리 검정]\")\n",
    "from scipy.stats import fisher_exact\n",
    "stats, p = fisher_exact(table, alternative='greater') #greater\n",
    "print(\"검정통계량 {:.3f}, p-value {:.3f}\\n\".format(stats, p))\n",
    "## 검정 결과, 귀무가설을 기각할 수 없으며 A와 B의 실력은 차이가 없다는 결론을 얻었다."
   ]
  },
  {
   "cell_type": "markdown",
   "id": "charming-capture",
   "metadata": {
    "id": "ecological-afternoon"
   },
   "source": [
    "### - 동질성 검정: 여러 (부)모집단 간 여러 수준에 대한 차이"
   ]
  },
  {
   "cell_type": "code",
   "execution_count": null,
   "id": "medical-affair",
   "metadata": {
    "id": "valued-bread",
    "outputId": "dcc2fa11-f327-4dd7-9c4f-db61c951fc1d"
   },
   "outputs": [
    {
     "name": "stdout",
     "output_type": "stream",
     "text": [
      "[데이터 확인]\n",
      "      청년  중년  장년\n",
      "TV             \n",
      "A   120  10  10\n",
      "B    30  75  30\n",
      "C    50  15  60\n"
     ]
    }
   ],
   "source": [
    "# 동질성 검정: \n",
    "# 프로그램 A, B, C에 대해 연령층별 시청자들의 선호가 다른지 유의수준 5%로 검정\n",
    "table = DataFrame({\"TV\":['A', 'B', 'C'], '청년':[120, 30, 50], '중년':[10, 75, 15], '장년':[10,30,60]}).set_index('TV')\n",
    "test_a = 0.05\n",
    "print(\"[데이터 확인]\\n\", table)"
   ]
  },
  {
   "cell_type": "code",
   "execution_count": null,
   "id": "otherwise-profession",
   "metadata": {
    "id": "ordinary-basic",
    "outputId": "7cdcf2b0-cc37-40d4-c1f3-1de20e4c1f2f"
   },
   "outputs": [
    {
     "name": "stdout",
     "output_type": "stream",
     "text": [
      "[수기 검정]\n",
      " 기대값\n",
      " [[70.   35.   35.  ]\n",
      " [67.5  33.75 33.75]\n",
      " [62.5  31.25 31.25]]\n",
      " 관찰값\n",
      " [[120  10  10]\n",
      " [ 30  75  30]\n",
      " [ 50  15  60]]\n"
     ]
    }
   ],
   "source": [
    "# H0: 프로그램에 대한 연령 별 선호에 차이가 없다.\n",
    "# H1: 적어도 한 집단은 차이가 있다.\n",
    "print(\"[수기 검정]\")\n",
    "ttl = table.sum().sum()\n",
    "exp = []\n",
    "r = table.sum(axis=1).values\n",
    "c = table.sum(axis=0).values\n",
    "for R in r:\n",
    "    for C in c:\n",
    "        exp.append(R*C/ttl)\n",
    "print(\" 기댓값\\n\", np.array(exp).reshape(table.shape))\n",
    "obs = table.values.ravel()\n",
    "print(\" 관찰값\\n\", np.array(obs).reshape(table.shape))"
   ]
  },
  {
   "cell_type": "code",
   "execution_count": null,
   "id": "mental-gauge",
   "metadata": {
    "id": "prime-cruise",
    "outputId": "7c99bfd5-a165-4fb4-894b-32f1738cc942"
   },
   "outputs": [
    {
     "name": "stdout",
     "output_type": "stream",
     "text": [
      " 오른쪽 검정의 임계값: 9.488, 검정통계량: 180.495\n",
      " 유의수준: 0.050, 유의확률: 0.000\n"
     ]
    }
   ],
   "source": [
    "from scipy.stats import chi2\n",
    "chistat = np.sum((obs - exp)**2 / exp)\n",
    "df = (table.shape[0]-1)*(table.shape[1]-1)\n",
    "sp = 1 - chi2.cdf(chistat, df)\n",
    "cv = chi2.ppf(1-test_a, df)\n",
    "print(\" 오른쪽 검정의 임계값: {:.3f}, 검정통계량: {:.3f}\".format(cv, chistat))\n",
    "print(\" 유의수준: {:.3f}, 유의확률: {:.3f}\".format(test_a, sp))"
   ]
  },
  {
   "cell_type": "code",
   "execution_count": null,
   "id": "warming-sullivan",
   "metadata": {
    "id": "liquid-diabetes",
    "outputId": "ba7ba7e5-0833-43d9-ba78-a761e4e45fed"
   },
   "outputs": [
    {
     "name": "stdout",
     "output_type": "stream",
     "text": [
      "[라이브러리 검정]\n",
      " 검정통계량 180.495, p-value 0.000 \n",
      " 기대값:\n",
      "[[70.   35.   35.  ]\n",
      " [67.5  33.75 33.75]\n",
      " [62.5  31.25 31.25]]\n"
     ]
    }
   ],
   "source": [
    "print(\"[라이브러리 검정]\")\n",
    "from scipy.stats import chi2_contingency\n",
    "chi2, p, df, expec = chi2_contingency(table, correction=False)\n",
    "print(\" 검정통계량 {:.3f}, p-value {:.3f} \\n 기댓값:\\n{}\".format(chi2, p, expec)) \n",
    "## 검정 결과, 대립가설을 채택하며 적어도 한 집단은 프로그램에 대한 선호가 다르다."
   ]
  },
  {
   "cell_type": "markdown",
   "id": "private-parker",
   "metadata": {
    "id": "hawaiian-generator"
   },
   "source": [
    "## 6-2. Run 검정: run 검정표, Z분포"
   ]
  },
  {
   "cell_type": "markdown",
   "id": "incomplete-gamma",
   "metadata": {
    "id": "architectural-melbourne"
   },
   "source": [
    "### - 일표본 Run 검정"
   ]
  },
  {
   "cell_type": "code",
   "execution_count": null,
   "id": "valid-wales",
   "metadata": {
    "id": "inappropriate-skating",
    "outputId": "f597504b-183b-42d7-e952-5c17444d8ac5"
   },
   "outputs": [
    {
     "name": "stdout",
     "output_type": "stream",
     "text": [
      "[데이터 확인]\n",
      "Counter({1: 15, 0: 14})\n"
     ]
    }
   ],
   "source": [
    "## 범주형 데이터의 경우\n",
    "from collections import Counter\n",
    "import numpy as np\n",
    "from scipy.stats import norm\n",
    "# run을 세는 함수 정의\n",
    "def count_run(data):\n",
    "    count_run = 1\n",
    "    for i, element in enumerate(data[:-1]):\n",
    "        if element == data[i+1]:\n",
    "            continue\n",
    "        else:\n",
    "            count_run += 1\n",
    "    return count_run\n",
    "data = ['a', 'a', 'b', 'b', 'a', 'a', 'a', 'a', 'b', 'b', 'b', 'b', 'a', 'b', 'a', 'a', 'b', 'b', 'a', 'a', 'b', 'b', 'b', 'a', 'a', 'b', 'b', 'a', 'b']\n",
    "data2 = list(map(lambda x: 0 if x == 'a' else 1, data))\n",
    "a, b = Counter(data2)[0], Counter(data2)[1]\n",
    "print(f\"[데이터 확인]\\n{Counter(data2)}\")"
   ]
  },
  {
   "cell_type": "code",
   "execution_count": null,
   "id": "hungarian-hybrid",
   "metadata": {
    "id": "swedish-fourth",
    "outputId": "6c32833b-8195-49e2-e75c-ae1edd203ae2"
   },
   "outputs": [
    {
     "name": "stdout",
     "output_type": "stream",
     "text": [
      "[수기 검정]\n",
      " 기대값: 15.483, 분산: 6.974, Z검정통계량: -0.372, p-value: 0.710\n"
     ]
    }
   ],
   "source": [
    "print(\"[수기 검정]\")\n",
    "n1, n2 = a, b\n",
    "#n1, n2이 충분히 클 때 평균이 avg, 분산이 var인 점근적 정규분포를 따른다\n",
    "run = count_run(data2) #Run의 개수\n",
    "avg = 2*n1*n2/(n1+n2)+1\n",
    "var = 2*n1*n2*(2*n1*n2-n1-n2)/((n1+n2)**2)/(n1+n2-1)\n",
    "#런의 총개수에 따라서 h의 값을 정함\n",
    "if run < 2*n1*n2/(n1+n2)+0.5:\n",
    "    h = 0.5\n",
    "else:\n",
    "    h = -0.5\n",
    "#n1, n2의 크기에 따라서 Z통계량 공식을 정함\n",
    "if n1 <= 20 or n2 <= 20:\n",
    "    Z = (run-avg+h) / np.sqrt(var) #소표본인 경우\n",
    "else:\n",
    "    Z = (run-avg) / np.sqrt(var) #대표본인 경우\n",
    "sp = (1-norm.cdf(np.abs(Z)))*2\n",
    "print(\" 기댓값: {:.3f}, 분산: {:.3f}, Z검정통계량: {:.3f}, p-value: {:.3f}\".format(avg, var, Z, sp))"
   ]
  },
  {
   "cell_type": "code",
   "execution_count": null,
   "id": "nasty-specification",
   "metadata": {
    "id": "gothic-qualification",
    "outputId": "08b6a87a-c819-407f-e951-6e3601f3592b"
   },
   "outputs": [
    {
     "name": "stdout",
     "output_type": "stream",
     "text": [
      "[라이브러리 검정]\n",
      " 검정통계량 -0.372, p-value 0.710\n"
     ]
    }
   ],
   "source": [
    "print(\"[라이브러리 검정]\")#라이브러리 검정을 위해 데이터를 숫자로 변환해야 한다.\n",
    "from statsmodels.sandbox.stats.runs import runstest_1samp\n",
    "zstat, pval = runstest_1samp(data2)\n",
    "print(\" 검정통계량 {:.3f}, p-value {:.3f}\".format(zstat, pval))\n",
    "## 검정 결과, 귀무가설을 기각할 수 없으며 샘플이 무작위로 추출되었다는 결론을 얻었다."
   ]
  },
  {
   "cell_type": "code",
   "execution_count": null,
   "id": "metallic-israel",
   "metadata": {
    "id": "korean-respect",
    "outputId": "831a87bb-483a-4fce-e452-83707c3c2f80"
   },
   "outputs": [
    {
     "name": "stdout",
     "output_type": "stream",
     "text": [
      "[데이터 확인]\n",
      "Counter({0: 5, 1: 5})\n"
     ]
    }
   ],
   "source": [
    "## 수치형 데이터의 경우\n",
    "from collections import Counter\n",
    "# run을 세는 함수 정의\n",
    "def count_run(data):\n",
    "    count_run = 1\n",
    "    for i, element in enumerate(data[:-1]):\n",
    "        if element == data[i+1]:\n",
    "            continue\n",
    "        else:\n",
    "            count_run += 1\n",
    "    return count_run\n",
    "data = [50, 60, 70, 40, 30, 20, 10, 70, 80, 100]\n",
    "median = np.median(data)\n",
    "data2 = []\n",
    "for sample in data: #값을 중앙값을 기준으로 이진화 함\n",
    "    if sample >= median:\n",
    "        data2.append(1)\n",
    "    else:\n",
    "        data2.append(0)\n",
    "print(f\"[데이터 확인]\\n{Counter(data2)}\")"
   ]
  },
  {
   "cell_type": "code",
   "execution_count": null,
   "id": "systematic-psychology",
   "metadata": {
    "id": "printable-bangkok",
    "outputId": "e1dd2bab-5b4b-4d5d-db44-bd8d6ae90093"
   },
   "outputs": [
    {
     "name": "stdout",
     "output_type": "stream",
     "text": [
      "[수기 검정]\n",
      " 기대값: 6.000, 분산: 2.222, Z검정통계량: -1.006, p-value: 0.314\n"
     ]
    }
   ],
   "source": [
    "print(\"[수기 검정]\")\n",
    "n1 = Counter(data2)[0]\n",
    "n2 = Counter(data2)[1]\n",
    "run = count_run(data2) #Run의 총 개수\n",
    "avg = 2*n1*n2/(n1+n2)+1\n",
    "var = 2*n1*n2*(2*n1*n2-n1-n2)/((n1+n2)**2)/(n1+n2-1)\n",
    "#런의 총개수에 따라서 h의 값을 정함\n",
    "if run < 2*n1*n2/(n1+n2)+0.5:\n",
    "    h = 0.5\n",
    "else:\n",
    "    h = -0.5\n",
    "#n1, n2의 크기에 따라서 Z통계량 공식을 정함\n",
    "if n1 <= 20 or n2 <= 20:\n",
    "    Z = (run-avg+h) / np.sqrt(var) #소표본인 경우\n",
    "else:\n",
    "    Z = (run-avg) / np.sqrt(var) #대표본인 경우\n",
    "sp = (1-norm.cdf(np.abs(Z)))*2\n",
    "print(\" 기댓값: {:.3f}, 분산: {:.3f}, Z검정통계량: {:.3f}, p-value: {:.3f}\".format(avg, var, Z, sp))"
   ]
  },
  {
   "cell_type": "code",
   "execution_count": null,
   "id": "palestinian-barrier",
   "metadata": {
    "id": "occupational-hazard",
    "outputId": "2ce3a830-3bc4-4ef1-fdab-baa53e84ddda"
   },
   "outputs": [
    {
     "name": "stdout",
     "output_type": "stream",
     "text": [
      "[라이브러리 검정]\n",
      " 검정통계량 -1.006, p-value 0.314\n"
     ]
    }
   ],
   "source": [
    "print(\"[라이브러리 검정]\")\n",
    "from statsmodels.sandbox.stats.runs import runstest_1samp\n",
    "zstat, pval = runstest_1samp(data2, cutoff='median')\n",
    "print(\" 검정통계량 {:.3f}, p-value {:.3f}\".format(zstat, pval))\n",
    "## 검정 결과, 귀무가설을 기각할 수 없으며 샘플이 무작위로 추출되었다는 결론을 얻었다."
   ]
  },
  {
   "cell_type": "markdown",
   "id": "outer-hypothetical",
   "metadata": {
    "id": "catholic-fetish"
   },
   "source": [
    "### - 이표본 Run 검정"
   ]
  },
  {
   "cell_type": "code",
   "execution_count": null,
   "id": "comparable-bikini",
   "metadata": {
    "id": "northern-aircraft",
    "outputId": "a7bbb413-6c04-494a-a2dd-7ca1250c4580"
   },
   "outputs": [
    {
     "name": "stdout",
     "output_type": "stream",
     "text": [
      "[데이터 확인]\n",
      "Counter({23.0: 1, 42.0: 1, 36.0: 1, 27.0: 1, 48.0: 1, 52.0: 1, 35.0: 1, 31.0: 1}) \n",
      " Counter({43.0: 1, 56.0: 1, 38.0: 1, 20.0: 1, 46.0: 1, 51.0: 1, 36.0: 1})\n"
     ]
    }
   ],
   "source": [
    "# 수치형 데이터의 경우\n",
    "# run을 세는 함수 정의\n",
    "def count_run(data):\n",
    "    count_run = 1\n",
    "    for i, element in enumerate(data[:-1]):\n",
    "        if element == data[i+1]:\n",
    "            continue\n",
    "        else:\n",
    "            count_run += 1\n",
    "    return count_run\n",
    "\n",
    "data1 = [23, 42, 36, 27, 48, 52, 35, 31]\n",
    "data2 = [43, 56, 38, 20, 46, 51, 36]\n",
    "\n",
    "# 라이브러리 검정을 위해 데이터 타입을 float으로 변환시켜 주어야 한다.\n",
    "data1 = list(map(lambda x: float(x), data1))\n",
    "data2 = list(map(lambda x: float(x), data2))\n",
    "print(f\"[데이터 확인]\\n{Counter(data1)} \\n {Counter(data2)}\")"
   ]
  },
  {
   "cell_type": "code",
   "execution_count": null,
   "id": "framed-sudan",
   "metadata": {
    "id": "false-attention",
    "outputId": "b936817a-aa72-4ac0-df09-2cc13c9d13f0"
   },
   "outputs": [
    {
     "name": "stdout",
     "output_type": "stream",
     "text": [
      "[데이터 확인]\n",
      "Counter({1: 8, 0: 7})\n"
     ]
    }
   ],
   "source": [
    "data = data1 + data2\n",
    "median = np.median(data)\n",
    "data3 = [1 if i >= median else 0 for i in data] # 중앙값을 기준으로 이진화 함\n",
    "print(f\"[데이터 확인]\\n{Counter(data3)}\")"
   ]
  },
  {
   "cell_type": "code",
   "execution_count": null,
   "id": "surgical-heath",
   "metadata": {
    "id": "dress-supervision",
    "outputId": "dc3337a7-02ce-4f3a-f7e4-9f857c478650"
   },
   "outputs": [
    {
     "name": "stdout",
     "output_type": "stream",
     "text": [
      "[수기 검정]\n",
      " 기대값: 8.467, 분산: 3.449, Z검정통계량: 0.018, p-value: 0.986\n"
     ]
    }
   ],
   "source": [
    "print(\"[수기 검정]\") \n",
    "n1 = Counter(data3)[0]\n",
    "n2 = Counter(data3)[1]\n",
    "run = count_run(data3) #Run의 총 개수\n",
    "\n",
    "avg = 2*n1*n2/(n1+n2)+1\n",
    "var = 2*n1*n2*(2*n1*n2-n1-n2)/((n1+n2)**2)/(n1+n2-1)\n",
    "\n",
    "#런의 총개수에 따라서 h의 값을 정함\n",
    "if run < 2*n1*n2/(n1+n2)+0.5:\n",
    "    h = 0.5\n",
    "else:\n",
    "    h = -0.5\n",
    "\n",
    "#n1, n2의 크기에 따라서 Z통계량 공식을 정함\n",
    "if n1 <= 20 or n2 <= 20:\n",
    "    Z = (run-avg+h) / np.sqrt(var) #소표본인 경우\n",
    "else:\n",
    "    Z = (run-avg) / np.sqrt(var) #대표본인 경우\n",
    "sp = (1-norm.cdf(np.abs(Z)))*2\n",
    "\n",
    "print(\" 기댓값: {:.3f}, 분산: {:.3f}, Z검정통계량: {:.3f}, p-value: {:.3f}\".format(avg, var, Z, sp))"
   ]
  },
  {
   "cell_type": "code",
   "execution_count": null,
   "id": "shared-hundred",
   "metadata": {
    "id": "composed-cyprus",
    "outputId": "52bbc573-f0cc-46e0-820c-bfb9b8c9c769"
   },
   "outputs": [
    {
     "name": "stdout",
     "output_type": "stream",
     "text": [
      "[라이브러리 검정]\n",
      "ties detected\n",
      " 검정통계량 0.018, p-value 0.986\n",
      "\n"
     ]
    }
   ],
   "source": [
    "print(\"[라이브러리 검정]\")\n",
    "from statsmodels.sandbox.stats.runs import runstest_2samp\n",
    "zstat, pval = runstest_2samp(data1, data2)\n",
    "print(\" 검정통계량 {:.3f}, p-value {:.3f}\\n\".format(zstat, pval))\n",
    "## 검정 결과, 두 데이터가 같은 분포에서 왔다는 결론을 얻었다."
   ]
  },
  {
   "cell_type": "markdown",
   "id": "enabling-storm",
   "metadata": {
    "id": "serial-background"
   },
   "source": [
    "## 6-3. 이항변수 데이터 검정: 카이제곱분포"
   ]
  },
  {
   "cell_type": "markdown",
   "id": "convinced-binding",
   "metadata": {
    "id": "insured-attitude"
   },
   "source": [
    "### - 맥니머 검정"
   ]
  },
  {
   "cell_type": "code",
   "execution_count": null,
   "id": "solar-webcam",
   "metadata": {
    "id": "entire-boring",
    "outputId": "68ee7c2b-efdf-403c-9bae-eebf24bab601"
   },
   "outputs": [
    {
     "name": "stdout",
     "output_type": "stream",
     "text": [
      "[데이터 확인]\n",
      "      후_있음  후_없음\n",
      "전_있음     9    12\n",
      "전_없음    24    35\n"
     ]
    }
   ],
   "source": [
    "# 프로모션 행사 전후로 상품에 대한 흥미 유무 데이터\n",
    "from pandas import DataFrame\n",
    "table = DataFrame([[9, 12], [24, 35]], index=['전_있음', '전_없음'], columns=['후_있음', '후_없음'])\n",
    "print(f\"[데이터 확인]\\n{table}\")"
   ]
  },
  {
   "cell_type": "code",
   "execution_count": null,
   "id": "seasonal-anniversary",
   "metadata": {
    "id": "charming-tunnel",
    "outputId": "efe7458e-930f-4486-a733-500c9fb64a39"
   },
   "outputs": [
    {
     "name": "stdout",
     "output_type": "stream",
     "text": [
      "[수기 검정]\n",
      " 검정통계량 4.000, p-value 0.046\n"
     ]
    }
   ],
   "source": [
    "# H0: 흥미가 없다가 있게 된 경우와 있다가 없게 된 경우의 분포가 동일하다 \n",
    "# H1: 두 경우의 분포가 다르다\n",
    "print(\"[수기 검정]\") #변화가 있는 b와 c에 주목하고 변화가 없는 대각선 값은 무시\n",
    "from scipy.stats import chi2\n",
    "b = table.values[0][1]\n",
    "c = table.values[1][0]\n",
    "stat = (b-c)**2 / (b+c)\n",
    "alpha = 0.05\n",
    "df = 1\n",
    "pval = 1 - chi2.cdf(stat, df)\n",
    "print(\" 검정통계량 {:.3f}, p-value {:.3f}\".format(stat, pval))"
   ]
  },
  {
   "cell_type": "code",
   "execution_count": null,
   "id": "nearby-electric",
   "metadata": {
    "id": "vietnamese-character",
    "outputId": "cc5f37ac-39f1-4985-94cd-303f99a0c072"
   },
   "outputs": [
    {
     "name": "stdout",
     "output_type": "stream",
     "text": [
      "[라이브러리 검정]\n",
      " 검정통계량 4.000, p-value 0.046\n"
     ]
    }
   ],
   "source": [
    "from statsmodels.stats.contingency_tables import mcnemar\n",
    "# 파라미터 exact 값이 True이면 이항분포, False이면 카이제곱분포를 사용한다.\n",
    "print(\"[라이브러리 검정]\")\n",
    "mc = mcnemar(table.values, exact=False, correction = False)\n",
    "print(\" 검정통계량 {:.3f}, p-value {:.3f}\".format(mc.statistic, mc.pvalue))\n",
    "## 검정 결과, 대립가설을 채택하며 이벤트의 효과가 있었다는 결론을 얻었다."
   ]
  },
  {
   "cell_type": "markdown",
   "id": "divided-bhutan",
   "metadata": {
    "id": "united-young"
   },
   "source": [
    "### - 코크란Q 검정"
   ]
  },
  {
   "cell_type": "code",
   "execution_count": null,
   "id": "temporal-crest",
   "metadata": {
    "id": "configured-antibody",
    "outputId": "37e1922e-0d2d-439b-b078-c71d40cfd7b7"
   },
   "outputs": [
    {
     "name": "stdout",
     "output_type": "stream",
     "text": [
      "[데이터 확인]\n",
      "   가수1  가수2  가수3\n",
      "1    0    1    0\n",
      "2    1    1    1\n",
      "3    0    0    1\n",
      "4    1    1    1\n",
      "5    0    0    1\n",
      "6    0    0    1\n",
      "7    0    1    1\n",
      "8    0    1    1\n"
     ]
    }
   ],
   "source": [
    "# 연예인 3명에 대한 호감도 데이터를 얻기 위해 8명에게 설문조사를 실시했다. 연예인에 대한 호감도 비율에 차이가 있는가?\n",
    "from pandas import DataFrame\n",
    "import numpy as np\n",
    "from scipy.stats import chi2\n",
    "table = DataFrame([[0,1,0,1,0,0,0,0], [1,1,0,1,0,0,1,1], [0,1,1,1,1,1,1,1]], index=['가수1', '가수2', '가수3'], columns=[1,2,3,4,5,6,7,8]).T #범주를 columns으로 해야 함\n",
    "print(f\"[데이터 확인]\\n{table}\")"
   ]
  },
  {
   "cell_type": "code",
   "execution_count": null,
   "id": "potential-phoenix",
   "metadata": {
    "id": "cross-advance",
    "outputId": "c48fca4c-792b-48a4-e5f4-a48a60b39144"
   },
   "outputs": [
    {
     "name": "stdout",
     "output_type": "stream",
     "text": [
      "[수기 검정]\n",
      " 검정통계량 6.333, p-value 0.042\n"
     ]
    }
   ],
   "source": [
    "# H0: 모든 연예인에 대한 호감도 비율이 차이가 없다 (모든 연예인의 호감도가 같다)\n",
    "# H1: 적어도 한 쌍의 연예인은 호감도 비율이 차이가 있다 (적어도 한 쌍은 다르다)\n",
    "print(\"[수기 검정]\")\n",
    "n = table.shape[0] #표본 개수\n",
    "k = table.shape[1] #범주 개수\n",
    "df = k-1\n",
    "k_sums= np.array(table.sum())\n",
    "n_sums = np.array(table.sum(axis=1))\n",
    "Q1 = k * sum(k_sums**2) - sum(k_sums)**2\n",
    "Q2 = k * sum(n_sums) - sum(n_sums**2)\n",
    "stat = df * Q1 / Q2\n",
    "pval = 1- chi2.cdf(stat, df)\n",
    "print(\" 검정통계량 {:.3f}, p-value {:.3f}\".format(stat, pval))"
   ]
  },
  {
   "cell_type": "code",
   "execution_count": null,
   "id": "informative-couple",
   "metadata": {
    "id": "standard-palmer",
    "outputId": "1e27ef39-1310-4192-aa0c-b93d5b0b12f3"
   },
   "outputs": [
    {
     "name": "stdout",
     "output_type": "stream",
     "text": [
      "[라이브러리 검정]\n",
      " 검정통계량 6.333, p-value 0.042\n"
     ]
    }
   ],
   "source": [
    "print(\"[라이브러리 검정]\")\n",
    "from statsmodels.stats.contingency_tables import cochrans_q\n",
    "ccq = cochrans_q(table)\n",
    "print(\" 검정통계량 {:.3f}, p-value {:.3f}\".format(ccq.statistic, ccq.pvalue))\n",
    "## 검정 결과, 대립가설을 채택하며 적어도 한 쌍의 연예인의 호감도는 다르다는 결론"
   ]
  },
  {
   "cell_type": "code",
   "execution_count": null,
   "id": "environmental-season",
   "metadata": {
    "id": "exciting-processing",
    "outputId": "b62057af-38d2-493f-f7f8-4e2460683d99"
   },
   "outputs": [
    {
     "name": "stdout",
     "output_type": "stream",
     "text": [
      "가수1-가수2: 검정통계량 3.000, p-value 0.083\n",
      "가수1-가수3: 검정통계량 5.000, p-value 0.025***\n",
      "가수2-가수3: 검정통계량 1.000, p-value 0.317\n"
     ]
    }
   ],
   "source": [
    "# 연예인 모든 쌍의 맥니머 검정을 통해 가수1-가수3의 호감도에 차이가 있음을 확인\n",
    "from itertools import combinations\n",
    "col_comp= list(combinations(table.columns, 2))\n",
    "\n",
    "from pandas import crosstab\n",
    "from statsmodels.stats.contingency_tables import mcnemar\n",
    "for s1, s2 in col_comp:\n",
    "    ct = crosstab(table.loc[:, s1], table.loc[:, s2])\n",
    "    mc = mcnemar(ct.values, exact=False, correction = False)\n",
    "    stat, p = mc.statistic, mc.pvalue\n",
    "    msg = \"{}-{}: 검정통계량 {:.3f}, p-value {:.3f}\".format(s1, s2, stat, p)\n",
    "    if p < 0.05:\n",
    "        print(msg + \"***\")\n",
    "    else:\n",
    "        print(msg)"
   ]
  },
  {
   "cell_type": "markdown",
   "id": "related-toolbox",
   "metadata": {
    "id": "criminal-injury"
   },
   "source": [
    "## 6-4. 부호, 순위 데이터 검정\n",
    "### - 일표본 부호 검정: 이항분포, Z분포"
   ]
  },
  {
   "cell_type": "code",
   "execution_count": null,
   "id": "included-pulse",
   "metadata": {
    "id": "right-influence",
    "outputId": "85b84809-6f8b-4e27-8cbe-02f6973d4423"
   },
   "outputs": [
    {
     "name": "stdout",
     "output_type": "stream",
     "text": [
      "[수기 검정]\n",
      " 유효한 데이터 개수: 10, plus 개수(=검정통계량): 5\n"
     ]
    }
   ],
   "source": [
    "# 데이터의 중앙값으로 알려진 M0 = 200 일 때 가설 검정\n",
    "# H0: 데이터의 중앙값은 200과 차이가 없다, H1: 데이터의 중앙값은 200과 차이가 있다\n",
    "\n",
    "print(\"[수기 검정]\")\n",
    "import numpy as np\n",
    "data = np.array([203,204,197,195,201,205,198,199,194,207]) #데이터\n",
    "M0 = 200 #귀무가설의 중앙값\n",
    "\n",
    "# 검정통계량 계산하기\n",
    "from pandas import DataFrame\n",
    "df = DataFrame(data-M0, columns=['d'])\n",
    "df = df.query(\"d !=0\") # 중앙값과의 차이가 0이 아닌 데이터만 유효하다고 본다.\n",
    "plus = len(df.query(\"d > 0\")) #통계량\n",
    "minus = len(df.query(\"d < 0\"))\n",
    "n = len(df) #유효데이터 개수\n",
    "print(\" 유효한 데이터 개수: {}, plus 개수(=검정통계량): {}\".format(n, plus))"
   ]
  },
  {
   "cell_type": "code",
   "execution_count": null,
   "id": "appreciated-rally",
   "metadata": {
    "id": "aging-festival",
    "outputId": "d5bc156a-6096-48a4-d1f1-530096945f42"
   },
   "outputs": [
    {
     "name": "stdout",
     "output_type": "stream",
     "text": [
      "[이항분포 기반] 확률분포표:\n",
      "        X      prob     value\n",
      "0    0.0  0.000977  0.000000\n",
      "1    1.0  0.009766  0.009766\n",
      "2    2.0  0.043945  0.087891\n",
      "3    3.0  0.117188  0.351563\n",
      "4    4.0  0.205078  0.820313\n",
      "5    5.0  0.246094  1.230469\n",
      "6    6.0  0.205078  1.230469\n",
      "7    7.0  0.117188  0.820313\n",
      "8    8.0  0.043945  0.351562\n",
      "9    9.0  0.009766  0.087891\n",
      "10  10.0  0.000977  0.009766\n"
     ]
    }
   ],
   "source": [
    "# plus 부호의 개수, 즉 검정통계량 B는 B(n, p=0.5)인 이항분포를 따른다.\n",
    "from scipy.stats import binom\n",
    "p = 0.5\n",
    "result = DataFrame()\n",
    "for i in range(0,n+1):\n",
    "    result.loc[i, 'X'] = i\n",
    "    result.loc[i, 'prob'] = binom.pmf(i, n, p)\n",
    "result['value'] = result['X'] * result['prob']\n",
    "print(\"[이항분포 기반] 확률분포표:\\n\", result)"
   ]
  },
  {
   "cell_type": "code",
   "execution_count": null,
   "id": "developed-market",
   "metadata": {
    "id": "organizational-intensity",
    "outputId": "3b1c3e49-fe59-41b8-f15d-dc45cb655d75"
   },
   "outputs": [
    {
     "name": "stdout",
     "output_type": "stream",
     "text": [
      " 기대값: 5.000, 분산:2.500 (= 5.000, 2.500)\n"
     ]
    }
   ],
   "source": [
    "# 기댓값과 분산\n",
    "mean = result.sum()['value']\n",
    "var = sum((result['X']-mean)**2 *result['prob'])\n",
    "print(\" 기댓값: {:.3f}, 분산:{:.3f} (= {:.3f}, {:.3f})\"\n",
    "      .format(mean, var, n*p, n*p*(1-p)))"
   ]
  },
  {
   "cell_type": "code",
   "execution_count": null,
   "id": "egyptian-packet",
   "metadata": {
    "id": "julian-overall",
    "outputId": "2e6e2af5-7f80-4e14-eab1-0b606507efba"
   },
   "outputs": [
    {
     "name": "stdout",
     "output_type": "stream",
     "text": [
      " 검정통계량: 5, 임계치: 2, 8\n"
     ]
    }
   ],
   "source": [
    "# 검정통계량과 임계치\n",
    "test_a = 0.05 #유의수준 5%, 양측검정\n",
    "start = int(binom.ppf(test_a/2, n, p))\n",
    "end = int(binom.ppf(1-test_a/2, n, p))\n",
    "print(\" 검정통계량: {}, 임계치: {}, {}\".format(plus, start, end))"
   ]
  },
  {
   "cell_type": "code",
   "execution_count": null,
   "id": "aboriginal-usage",
   "metadata": {
    "id": "quality-anger",
    "outputId": "79410a02-509a-49e5-b36c-abf0f47680a1"
   },
   "outputs": [
    {
     "name": "stdout",
     "output_type": "stream",
     "text": [
      "[정규분포 기반] 기대값: 5.000, 분산: 2.500\n",
      " 검정통계량: 0.000, 임계치: +/-1.960\n",
      " 유의수준: 0.050, 유의확률: 1.000\n"
     ]
    }
   ],
   "source": [
    "# 정규분포 근사\n",
    "from scipy.stats import norm\n",
    "mean2 = n/2\n",
    "var2 = n/4\n",
    "s = np.sqrt(var2)\n",
    "zstat = (plus-mean2)/s #plus를 대입\n",
    "ways = 'two' #'two', 'one-right', 'one-left' #대립가설기준\n",
    "if ways == 'two': \n",
    "    sp = (1-norm.cdf(np.abs(zstat)))*2 #significance probability\n",
    "    cv = norm.ppf(1-test_a/2) #critical value\n",
    "    cv = \"+/-{:.3f}\".format(cv)\n",
    "elif ways == 'one-right':\n",
    "    sp = 1-norm.cdf(zstat)\n",
    "    cv = norm.ppf(1-test_a)\n",
    "    cv = \"{:.3f}\".format(cv)\n",
    "elif ways == 'one-left':\n",
    "    sp = norm.cdf(zstat)\n",
    "    cv = norm.ppf(test_a)\n",
    "    cv = \"{:.3f}\".format(cv)\n",
    "print(\"[정규분포 기반] 기댓값: {:.3f}, 분산: {:.3f}\".format(mean2, var2))\n",
    "print(\" 검정통계량: {:.3f}, 임계치: {}\".format(zstat, cv))\n",
    "print(\" 유의수준: {:.3f}, 유의확률: {:.3f}\".format(test_a, sp))\n",
    "## 검정 결과, 데이터의 중앙값은 200과 차이가 없다는 결론을 얻었다."
   ]
  },
  {
   "cell_type": "markdown",
   "id": "average-yacht",
   "metadata": {
    "id": "inside-ballot"
   },
   "source": [
    "### - 이표본 부호 검정: 이항분포, Z분포"
   ]
  },
  {
   "cell_type": "code",
   "execution_count": null,
   "id": "dental-occurrence",
   "metadata": {
    "id": "exterior-trinity",
    "outputId": "2de2ede8-11de-46a5-f960-78dac0f1588f"
   },
   "outputs": [
    {
     "name": "stdout",
     "output_type": "stream",
     "text": [
      "[수기 검정]\n",
      " 유효한 데이터 개수: 8, plus 개수(=검정통계량): 7\n"
     ]
    }
   ],
   "source": [
    "# A, B의 5점 척도 만족도 설문조사로부터 A의 만족도가 더 높다고 할 수 있는지 검정\n",
    "# H0: A와 B의 만족도는 차이가 없다, H1: A의 만족도가 더 높다\n",
    "\n",
    "print(\"[수기 검정]\")\n",
    "data1 = np.array([4,3,5,2,1,3,4,3]) #A\n",
    "data2 = np.array([3,2,3,1,2,2,2,2]) #B\n",
    "M0 = 0\n",
    "df = DataFrame(data1-data2, columns=['d'])\n",
    "df = df.query(\"d !=0\")\n",
    "plus = len(df.query(\"d > 0\"))\n",
    "minus = len(df.query(\"d < 0\"))\n",
    "n = len(df)\n",
    "print(\" 유효한 데이터 개수: {}, plus 개수(=검정통계량): {}\".format(n, plus))"
   ]
  },
  {
   "cell_type": "code",
   "execution_count": null,
   "id": "cosmetic-membership",
   "metadata": {
    "id": "owned-anaheim",
    "outputId": "ef077181-6d94-460c-aeed-71d1c119f39e"
   },
   "outputs": [
    {
     "name": "stdout",
     "output_type": "stream",
     "text": [
      "[이항분포 기반] 확률분포표:\n",
      "      X      prob    value\n",
      "0  0.0  0.003906  0.00000\n",
      "1  1.0  0.031250  0.03125\n",
      "2  2.0  0.109375  0.21875\n",
      "3  3.0  0.218750  0.65625\n",
      "4  4.0  0.273438  1.09375\n",
      "5  5.0  0.218750  1.09375\n",
      "6  6.0  0.109375  0.65625\n",
      "7  7.0  0.031250  0.21875\n",
      "8  8.0  0.003906  0.03125\n"
     ]
    }
   ],
   "source": [
    "#plus 부호의 개수 X는 (n, p=0.5)인 이항분포를 따른다.\n",
    "from scipy.stats import binom\n",
    "p = 0.5\n",
    "result = DataFrame()\n",
    "for i in range(0,n+1):\n",
    "    result.loc[i, 'X'] = i\n",
    "    result.loc[i, 'prob'] = binom.pmf(i, n, p)\n",
    "result['value'] = result['X'] * result['prob']\n",
    "print(\"[이항분포 기반] 확률분포표:\\n\", result)"
   ]
  },
  {
   "cell_type": "code",
   "execution_count": null,
   "id": "broadband-background",
   "metadata": {
    "id": "velvet-reunion",
    "outputId": "a6489304-55c3-4758-b683-62fdca0529b2"
   },
   "outputs": [
    {
     "name": "stdout",
     "output_type": "stream",
     "text": [
      " 기대값: 4.000, 분산:2.000 (= 4.000, 2.000)\n"
     ]
    }
   ],
   "source": [
    "# 기댓값과 분산\n",
    "mean = result.sum()['value']\n",
    "var = sum((result['X']-mean)**2 *result['prob'])\n",
    "print(\" 기댓값: {:.3f}, 분산:{:.3f} (= {:.3f}, {:.3f})\"\n",
    "      .format(mean, var, n*p, n*p*(1-p)))"
   ]
  },
  {
   "cell_type": "code",
   "execution_count": null,
   "id": "looking-target",
   "metadata": {
    "id": "governing-lexington",
    "outputId": "53cebba0-900d-42fa-a5d1-c5a7fa793f35"
   },
   "outputs": [
    {
     "name": "stdout",
     "output_type": "stream",
     "text": [
      " 검정통계량: 7, 임계치: 1, 7\n"
     ]
    }
   ],
   "source": [
    "# 검정통계량과 임계치\n",
    "test_a = 0.05 #유의수준 5%, 양측검정\n",
    "start = int(binom.ppf(test_a/2, n, p))\n",
    "end = int(binom.ppf(1-test_a/2, n, p))\n",
    "print(\" 검정통계량: {}, 임계치: {}, {}\".format(plus, start, end))"
   ]
  },
  {
   "cell_type": "code",
   "execution_count": null,
   "id": "excited-uzbekistan",
   "metadata": {
    "id": "floating-spotlight",
    "outputId": "25af5e45-73c6-4258-8642-bc4ce8c94b47"
   },
   "outputs": [
    {
     "name": "stdout",
     "output_type": "stream",
     "text": [
      "[정규분포 기반] 기댓값: 4.000, 분산: 2.000\n",
      " 검정통계량: 2.121, 임계치: 1.645\n",
      " 유의수준: 0.050, 유의확률: 0.017\n"
     ]
    }
   ],
   "source": [
    "# 정규분포 근사\n",
    "from scipy.stats import norm\n",
    "mean2 = n/2\n",
    "var2 = n/4\n",
    "s = np.sqrt(var2)\n",
    "zstat = (plus-mean2)/s \n",
    "ways = 'one-right' #'two', 'one-right', 'one-left' #대립가설기준\n",
    "if ways == 'two': \n",
    "    sp = (1-norm.cdf(np.abs(zstat)))*2 #significance probability\n",
    "    cv = norm.ppf(1-test_a/2) #critical value\n",
    "    cv = \"+/-{:.3f}\".format(cv)\n",
    "elif ways == 'one-right':\n",
    "    sp = 1-norm.cdf(zstat)\n",
    "    cv = norm.ppf(1-test_a)\n",
    "    cv = \"{:.3f}\".format(cv)\n",
    "elif ways == 'one-left':\n",
    "    sp = norm.cdf(zstat)\n",
    "    cv = norm.ppf(test_a)\n",
    "    cv = \"{:.3f}\".format(cv)\n",
    "\n",
    "print(\"[정규분포 기반] 기댓값: {:.3f}, 분산: {:.3f}\".format(mean2, var2))\n",
    "print(\" 검정통계량: {:.3f}, 임계치: {}\".format(zstat, cv))\n",
    "print(\" 유의수준: {:.3f}, 유의확률: {:.3f}\".format(test_a, sp))\n",
    "\n",
    "## 검정 결과, 대립가설을 채택하며 A의 만족도가 더 높다고 할 수 있다."
   ]
  },
  {
   "cell_type": "markdown",
   "id": "adaptive-opera",
   "metadata": {
    "id": "universal-facial"
   },
   "source": [
    "### - 일표본 윌콕슨 부호순위 검정: 윌콕슨 부호순위 검정표, Z분포"
   ]
  },
  {
   "cell_type": "code",
   "execution_count": null,
   "id": "compound-substance",
   "metadata": {
    "id": "recorded-scanner",
    "outputId": "fe185668-425d-43e5-c628-ed31549e875c"
   },
   "outputs": [
    {
     "name": "stdout",
     "output_type": "stream",
     "text": [
      "[수기 검정]\n",
      " 부호순위 계산표:\n",
      "   d  sign  abs_d  rank\n",
      "0  3     1      3   4.5\n",
      "1  4     1      4   6.0\n",
      "2 -3    -1      3   4.5\n",
      "3 -5    -1      5   7.5\n",
      "4  1     1      1   1.5\n",
      "5  5     1      5   7.5\n",
      "6 -2    -1      2   3.0\n",
      "7 -1    -1      1   1.5\n",
      "8 -6    -1      6   9.0\n",
      "9  7     1      7  10.0\n"
     ]
    }
   ],
   "source": [
    "# 데이터의 중앙값으로 알려진 M0 = 200 일 때 가설 검정\n",
    "# H0: 데이터의 중앙값은 200과 차이가 없다, H1: 데이터의 중앙값은 200과 차이가 있다\n",
    "print(\"[수기 검정]\")\n",
    "data = np.array([203,204,197,195,201,205,198,199,194,207]) #데이터\n",
    "M0 = 200 #중앙값\n",
    "d = data-M0\n",
    "table = DataFrame(d, columns=['d'])\n",
    "table = table.query(\"d !=0\") #d=0인 데이터 제외\n",
    "n = len(table)\n",
    "table['sign'] = np.sign(table['d'])\n",
    "table['abs_d'] = table['d'].abs()\n",
    "table['rank'] = table['abs_d'].rank(method='average')\n",
    "print(\" 부호순위 계산표:\\n{}\".format(table))"
   ]
  },
  {
   "cell_type": "code",
   "execution_count": null,
   "id": "casual-death",
   "metadata": {
    "id": "oriented-olive",
    "outputId": "1545e357-36db-4c8f-d0ac-ca421e1bf6bf"
   },
   "outputs": [
    {
     "name": "stdout",
     "output_type": "stream",
     "text": [
      "[윌콕슨 부호순위 분포 기반]\n",
      " 유효한 데이터 개수: 10, 검정통계량: 25.5\n"
     ]
    }
   ],
   "source": [
    "plus = table.query(\"sign==1\")['rank'].sum()\n",
    "minus = table.query(\"sign==-1\")['rank'].sum()\n",
    "stat = np.minimum(plus, minus) #부호의 개수가 더 적은 것을 검정통계량으로 사용\n",
    "print(\"[윌콕슨 부호순위 분포 기반]\")\n",
    "print(\" 유효한 데이터 개수: {}, 검정통계량: {}\".format(n, stat))"
   ]
  },
  {
   "cell_type": "code",
   "execution_count": null,
   "id": "starting-cheat",
   "metadata": {
    "id": "pressing-holly",
    "outputId": "9a1879a4-669c-4c9a-bae6-dd5a3222a426"
   },
   "outputs": [
    {
     "name": "stdout",
     "output_type": "stream",
     "text": [
      "[라이브러리 검정]\n",
      " 검정통계량 25.500, p-value 0.846\n"
     ]
    }
   ],
   "source": [
    "print(\"[라이브러리 검정]\")\n",
    "from scipy.stats import wilcoxon\n",
    "stat, p = wilcoxon([M0 for i in range(len(data))], data)\n",
    "print(\" 검정통계량 {:.3f}, p-value {:.3f}\".format(stat, p))"
   ]
  },
  {
   "cell_type": "code",
   "execution_count": null,
   "id": "common-antique",
   "metadata": {
    "id": "superior-radical",
    "outputId": "9e5a5d1b-fe56-461a-96e8-f85db50f96ce"
   },
   "outputs": [
    {
     "name": "stdout",
     "output_type": "stream",
     "text": [
      "[정규분포 기반] 기댓값: 27.500, 분산: 96.250\n",
      " 검정통계량: -0.204, 임계치: +/-1.960\n",
      " 유의수준: 0.050, 유의확률: 0.838\n"
     ]
    }
   ],
   "source": [
    "# 정규 근사\n",
    "wstat = np.minimum(plus, minus) #작은쪽을 검정통계량으로 삼음\n",
    "mean = n*(n+1)/4\n",
    "var = n*(n+1)*(2*n+1)/24\n",
    "s = np.sqrt(var)\n",
    "zstat = (wstat - mean)/s\n",
    "ways = 'two' #'two', 'one-right', 'one-left' #대립가설기준\n",
    "if ways == 'two': \n",
    "    sp = (1-norm.cdf(np.abs(zstat)))*2 #significance probability\n",
    "    cv = norm.ppf(1-test_a/2) #critical value\n",
    "    cv = \"+/-{:.3f}\".format(cv)\n",
    "elif ways == 'one-right':\n",
    "    sp = 1-norm.cdf(zstat)\n",
    "    cv = norm.ppf(1-test_a)\n",
    "    cv = \"{:.3f}\".format(cv)\n",
    "elif ways == 'one-left':\n",
    "    sp = norm.cdf(zstat)\n",
    "    cv = norm.ppf(test_a)\n",
    "    cv = \"{:.3f}\".format(cv)\n",
    "\n",
    "print(\"[정규분포 기반] 기댓값: {:.3f}, 분산: {:.3f}\".format(mean, var))\n",
    "print(\" 검정통계량: {:.3f}, 임계치: {}\".format(zstat, cv))\n",
    "print(\" 유의수준: {:.3f}, 유의확률: {:.3f}\".format(test_a, sp))\n",
    "\n",
    "## 검정 결과, 데이터의 중앙값은 200과 차이가 없다는 결론을 얻었다."
   ]
  },
  {
   "cell_type": "markdown",
   "id": "joint-scholarship",
   "metadata": {
    "id": "martial-forest"
   },
   "source": [
    "### - 이표본 윌콕슨 부호순위 검정: 윌콕슨 부호순위 검정표, Z분포"
   ]
  },
  {
   "cell_type": "code",
   "execution_count": null,
   "id": "handled-impossible",
   "metadata": {
    "id": "weekly-adobe",
    "outputId": "26a74c8a-a531-47b3-9e0f-a1c4c92dbf1f"
   },
   "outputs": [
    {
     "name": "stdout",
     "output_type": "stream",
     "text": [
      "[수기 검정]\n",
      " 부호순위 계산표:\n",
      "    d  sign  abs_d  rank\n",
      "0   9     1      9   6.0\n",
      "1   8     1      8   5.0\n",
      "2  12     1     12   7.0\n",
      "3  -5    -1      5   2.0\n",
      "4  13     1     13   8.0\n",
      "5  -4    -1      4   1.0\n",
      "6   6     1      6   3.0\n",
      "7   7     1      7   4.0\n"
     ]
    }
   ],
   "source": [
    "# 동일한 피험자 8명에게 맥박을 2번 측정하였을 때,\n",
    "# H0: 1번째 측정값과 2번째 측정값은 차이가 없다, H1: 차이가 있다\n",
    "print(\"[수기 검정]\")\n",
    "data1 = np.array([79, 96, 85, 69, 88, 75, 83, 88])\n",
    "data2 = np.array([70, 88, 73, 74, 75, 79, 77, 81])\n",
    "d = data1 - data2\n",
    "table = DataFrame(d, columns=['d'])\n",
    "table = table.query(\"d !=0\") #d=0인 데이터 제외\n",
    "n = len(table)\n",
    "table['sign'] = np.sign(table['d'])\n",
    "table['abs_d'] = table['d'].abs()\n",
    "table['rank'] = table['abs_d'].rank(method='average')\n",
    "print(\" 부호순위 계산표:\\n{}\".format(table))"
   ]
  },
  {
   "cell_type": "code",
   "execution_count": null,
   "id": "handed-outreach",
   "metadata": {
    "id": "fifteen-subdivision",
    "outputId": "fcbe338b-05fd-4929-fe06-a33521527dd3"
   },
   "outputs": [
    {
     "name": "stdout",
     "output_type": "stream",
     "text": [
      "[윌콕슨 부호순위 분포 기반]\n",
      " 유효한 데이터 개수: 8, 검정통계량: 3.0\n"
     ]
    }
   ],
   "source": [
    "plus = table.query(\"sign==1\")['rank'].sum()\n",
    "minus = table.query(\"sign==-1\")['rank'].sum()\n",
    "stat = np.minimum(plus, minus) #부호의 개수가 더 적은 것을 검정통계량으로 사용\n",
    "print(\"[윌콕슨 부호순위 분포 기반]\")\n",
    "print(\" 유효한 데이터 개수: {}, 검정통계량: {}\".format(n, stat))"
   ]
  },
  {
   "cell_type": "code",
   "execution_count": null,
   "id": "inside-choice",
   "metadata": {
    "id": "seventh-montana",
    "outputId": "9a463866-2d91-4370-8a26-7628bac58503"
   },
   "outputs": [
    {
     "name": "stdout",
     "output_type": "stream",
     "text": [
      "[라이브러리 검정]\n",
      " 검정통계량 3.000, p-value 0.039\n"
     ]
    }
   ],
   "source": [
    "print(\"[라이브러리 검정]\")\n",
    "from scipy.stats import wilcoxon\n",
    "stat, p = wilcoxon(data1, data2, zero_method='wilcox')\n",
    "print(\" 검정통계량 {:.3f}, p-value {:.3f}\".format(stat, p))"
   ]
  },
  {
   "cell_type": "code",
   "execution_count": null,
   "id": "impressed-electronics",
   "metadata": {
    "id": "latter-collect",
    "outputId": "a4edc7ee-a3c6-4620-db1d-b26aee074fb2"
   },
   "outputs": [
    {
     "name": "stdout",
     "output_type": "stream",
     "text": [
      "[정규분포 기반] 기댓값: 18.000, 분산: 51.000\n",
      " 검정통계량: -2.100, 임계치: +/-1.960\n",
      " 유의수준: 0.050, 유의확률: 0.036\n"
     ]
    }
   ],
   "source": [
    "# 정규 근사\n",
    "wstat = np.minimum(plus, minus) #작은쪽을 검정통계량으로 삼음\n",
    "mean = n*(n+1)/4\n",
    "var = n*(n+1)*(2*n+1)/24\n",
    "s = np.sqrt(var)\n",
    "zstat = (wstat - mean)/s\n",
    "ways = 'two' #'two', 'one-right', 'one-left' #대립가설기준\n",
    "if ways == 'two': \n",
    "    sp = (1-norm.cdf(np.abs(zstat)))*2 #significance probability\n",
    "    cv = norm.ppf(1-test_a/2) #critical value\n",
    "    cv = \"+/-{:.3f}\".format(cv)\n",
    "elif ways == 'one-right':\n",
    "    sp = 1-norm.cdf(zstat)\n",
    "    cv = norm.ppf(1-test_a)\n",
    "    cv = \"{:.3f}\".format(cv)\n",
    "elif ways == 'one-left':\n",
    "    sp = norm.cdf(zstat)\n",
    "    cv = norm.ppf(test_a)\n",
    "    cv = \"{:.3f}\".format(cv)\n",
    "print(\"[정규분포 기반] 기댓값: {:.3f}, 분산: {:.3f}\".format(mean, var))\n",
    "print(\" 검정통계량: {:.3f}, 임계치: {}\".format(zstat, cv))\n",
    "print(\" 유의수준: {:.3f}, 유의확률: {:.3f}\".format(test_a, sp))\n",
    "## 검정 결과, 대립가설을 채택하여 1번째 측정값과 2번째 측정값은 차이가 있다는 결론"
   ]
  },
  {
   "cell_type": "markdown",
   "id": "exceptional-breath",
   "metadata": {
    "id": "approved-yesterday"
   },
   "source": [
    "### - 윌콕슨 순위합 검정(만 위트니 U검정): 윌콕슨 순위합 검정표, Z분포"
   ]
  },
  {
   "cell_type": "code",
   "execution_count": null,
   "id": "other-senate",
   "metadata": {
    "id": "understanding-extreme",
    "outputId": "a11eb5b1-ce28-4a9e-abce-7ad7219e2b6e"
   },
   "outputs": [
    {
     "name": "stdout",
     "output_type": "stream",
     "text": [
      "[수기 검정]\n",
      " 순위합 계산표:\n",
      "   data     M  rank\n",
      "0    87  87.0   8.5\n",
      "1    75  87.0   4.0\n",
      "2    65  87.0   2.0\n",
      "3    95  87.0  13.0\n",
      "4    90  87.0  10.5\n",
      "5    81  87.0   5.0\n",
      "6    93  87.0  12.0\n",
      "0    57  84.0   1.0\n",
      "1    85  84.0   7.0\n",
      "2    90  84.0  10.5\n",
      "3    83  84.0   6.0\n",
      "4    87  84.0   8.5\n",
      "5    71  84.0   3.0\n"
     ]
    }
   ],
   "source": [
    "# 팀 별 영업 성적이 차이가 있는지 검정\n",
    "# H0: 성적 차이가 없다. 두 A, B 중앙값의 차이는 0이다\n",
    "# H1: 성적 차이가 있다. 두 A, B 중앙값의 차이는 0이 아니다.\n",
    "\n",
    "data1 = [87,75,65,95,90,81,93]\n",
    "data2 = [57,85,90,83,87,71]\n",
    "n1 = len(data1)\n",
    "n2 = len(data2)\n",
    "M1 = np.median(data1) #각 데이터의 중앙값\n",
    "M2 = np.median(data2)\n",
    "\n",
    "print(\"[수기 검정]\")\n",
    "from pandas import DataFrame, concat\n",
    "table1 = DataFrame(data1, columns=['data'])\n",
    "table1['M'] = M1 \n",
    "table2 = DataFrame(data2, columns=['data'])\n",
    "table2['M'] = M2\n",
    "table = concat([table1, table2])\n",
    "table['rank'] = table['data'].rank(method='average')\n",
    "print(\" 순위합 계산표:\\n{}\".format(table))"
   ]
  },
  {
   "cell_type": "code",
   "execution_count": null,
   "id": "french-trout",
   "metadata": {
    "id": "buried-token",
    "outputId": "013da997-2522-4d19-b82d-9172784cdff1"
   },
   "outputs": [
    {
     "name": "stdout",
     "output_type": "stream",
     "text": [
      " 자료의 개수: 7, 6\n",
      " 순위합 검정통계량: 55.0 or 36.0\n",
      " 만위트니 검정통계량 27.0 or 15.0\n"
     ]
    }
   ],
   "source": [
    "W1 = table.query(\"M==@M1\")['rank'].sum() #순위합 검정통계량1\n",
    "W2 = table.query(\"M==@M2\")['rank'].sum() #순위합 검정통계량2\n",
    "U1 = W1 - n1*(n1+1)/2 #만위트니 검정통계량\n",
    "U2 = W2 - n2*(n2+1)/2 #만위트니 검정통계량\n",
    "print(\" 자료의 개수: {}, {}\".format(n1, n2))\n",
    "print(\" 순위합 검정통계량: {} or {}\".format(W1, W2))\n",
    "print(\" 만위트니 검정통계량 {} or {}\".format(U1, U2))"
   ]
  },
  {
   "cell_type": "code",
   "execution_count": null,
   "id": "broke-herald",
   "metadata": {
    "id": "beneficial-anger",
    "outputId": "16f4132f-5896-4aaf-d55c-3b25ae9b0f68"
   },
   "outputs": [
    {
     "name": "stdout",
     "output_type": "stream",
     "text": [
      "[라이브러리 검정]\n",
      " 순위합 정규근사 검정통계량: 0.857, p-value: 0.391\n",
      " 만위트니 검정통계량: 27.000, p-value: 0.431\n"
     ]
    }
   ],
   "source": [
    "print(\"[라이브러리 검정]\")\n",
    "from scipy.stats import ranksums, mannwhitneyu\n",
    "zstats, p = ranksums(data1, data2) #default: alternative='two-sided'\n",
    "print(\" 순위합 정규근사 검정통계량: {:.3f}, p-value: {:.3f}\".format(zstats, p))\n",
    "mstat, p = mannwhitneyu(data1, data2, alternative='two-sided')\n",
    "print(\" 만위트니 검정통계량: {:.3f}, p-value: {:.3f}\".format(mstat, p))"
   ]
  },
  {
   "cell_type": "code",
   "execution_count": null,
   "id": "single-supervisor",
   "metadata": {
    "id": "express-claim",
    "outputId": "1981748f-b16d-4cc9-b3fb-783e999c8af7"
   },
   "outputs": [
    {
     "name": "stdout",
     "output_type": "stream",
     "text": [
      "[정규분포 기반] 기댓값: 21.000, 분산: 49.000\n",
      " 검정통계량: 0.857, 임계치: +/-1.960\n",
      " 유의수준: 0.050, 유의확률: 0.391\n"
     ]
    }
   ],
   "source": [
    "# 정규 근사\n",
    "mean = n1*n2/2 \n",
    "var = n1*n2*(n1+n2+1)/12\n",
    "s = np.sqrt(var)\n",
    "Z1 = (U1 - mean)/s #만위트니 검정통계량으로 정규화된 검정통계량\n",
    "Z2 = (U2 - mean)/s #만위트니 검정통계량으로 정규화된 검정통계량\n",
    "test_a = 0.05\n",
    "zstat = Z1 #Z1과 Z2는 부호만 다르고 같은 값임\n",
    "ways = 'two' #'two', 'one-right', 'one-left' #대립가설기준\n",
    "if ways == 'two': \n",
    "    sp = (1-norm.cdf(np.abs(zstat)))*2 #significance probability\n",
    "    cv = norm.ppf(1-test_a/2) #critical value\n",
    "    cv = \"+/-{:.3f}\".format(cv)\n",
    "elif ways == 'one-right':\n",
    "    sp = 1-norm.cdf(zstat)\n",
    "    cv = norm.ppf(1-test_a)\n",
    "    cv = \"{:.3f}\".format(cv)\n",
    "elif ways == 'one-left':\n",
    "    sp = norm.cdf(zstat)\n",
    "    cv = norm.ppf(test_a)\n",
    "    cv = \"{:.3f}\".format(cv)\n",
    "\n",
    "print(\"[정규분포 기반] 기댓값: {:.3f}, 분산: {:.3f}\".format(mean, var))\n",
    "print(\" 검정통계량: {:.3f}, 임계치: {}\".format(zstat, cv))\n",
    "print(\" 유의수준: {:.3f}, 유의확률: {:.3f}\".format(test_a, sp))\n",
    "\n",
    "## 검정 결과, 팀별 영업 성적이 차이가 없다는 결론을 얻었다."
   ]
  },
  {
   "cell_type": "markdown",
   "id": "tutorial-evidence",
   "metadata": {
    "id": "narrow-update"
   },
   "source": [
    "## 6-5. k표본 순위 데이터 검정\n",
    "### - 크러스컬 월리스 검정: 크러스컬 월리스 검정표, 카이제곱분포"
   ]
  },
  {
   "cell_type": "code",
   "execution_count": null,
   "id": "floppy-lesbian",
   "metadata": {
    "id": "psychological-philadelphia",
    "outputId": "3b75ee7f-f3be-4273-a65d-a754b27a637c"
   },
   "outputs": [
    {
     "name": "stdout",
     "output_type": "stream",
     "text": [
      "[데이터 확인]\n",
      "    0   1   2   3     4\n",
      "A  69  67  65  59  66.0\n",
      "B  56  63  55  40   NaN\n",
      "C  71  72  70  75   NaN\n"
     ]
    }
   ],
   "source": [
    "# A, B, C 세 사람의 모의고사 성적을 통해 성취도의 차이가 있는지 검정\n",
    "# H0: 세 사람의 성취도는 차이가 없다, H1: 적어도 한 쌍의 성취도는 차이가 있다.\n",
    "table = DataFrame([[69,67,65,59,66], [56,63,55,40], [71,72,70,75]], \n",
    "                  index=['A','B','C'])\n",
    "print(f\"[데이터 확인]\\n{table}\")"
   ]
  },
  {
   "cell_type": "code",
   "execution_count": null,
   "id": "refined-rough",
   "metadata": {
    "id": "retired-tunnel",
    "outputId": "15c999a6-0abc-40d7-eb83-68d271a53f06"
   },
   "outputs": [
    {
     "name": "stdout",
     "output_type": "stream",
     "text": [
      "[수기 검정]\n",
      " 순위 계산표:\n",
      "[[ 5.  6.  8. 10.  7.]\n",
      " [11.  9. 12. 13. nan]\n",
      " [ 3.  2.  4.  1. nan]]\n"
     ]
    }
   ],
   "source": [
    "print(\"[수기 검정]\")\n",
    "ranktable = DataFrame(table.values.ravel()).rank(ascending=False).values.reshape(table.shape)\n",
    "print(f\" 순위 계산표:\\n{ranktable}\")"
   ]
  },
  {
   "cell_type": "code",
   "execution_count": null,
   "id": "computational-conviction",
   "metadata": {
    "id": "continental-spoke",
    "outputId": "05677f56-d59d-4239-b155-9e11fca78e69"
   },
   "outputs": [
    {
     "name": "stdout",
     "output_type": "stream",
     "text": [
      " 검정통계량: 10.118, p-value: 0.006\n"
     ]
    }
   ],
   "source": [
    "N = [] #범주별 데이터 개수\n",
    "R = [] #범주별 순위합\n",
    "for i in range(len(table)):\n",
    "    row = table.iloc[i, :] #데이터프레임일 때 행 추출\n",
    "    rank = ranktable[i, :] #배열일때 행 추출\n",
    "    ni = 0\n",
    "    ri = 0\n",
    "    for d, r in zip(row, rank):\n",
    "        if np.isnan(d) == False: #nan값을 제외한 범주별 데이터 개수\n",
    "            ni += 1\n",
    "            ri += r #범주별 순위합 구하기\n",
    "    N.append(ni)\n",
    "    R.append(ri)\n",
    "\n",
    "# 리스트를 array로 변환\n",
    "N = np.array(N)\n",
    "R = np.array(R)\n",
    "df = len(N) -1 #자유도, 범주의 개수-1\n",
    "    \n",
    "# 가설 검정 (우측 검정)\n",
    "n = sum(N)\n",
    "H = 12/(n*(n+1)) * sum(R**2/N) -3*(n+1) # 검정통계량 H\n",
    "pval = 1-chi2.cdf(H, df)\n",
    "print(' 검정통계량: {:.3f}, p-value: {:.3f}'.format(H, pval))"
   ]
  },
  {
   "cell_type": "code",
   "execution_count": null,
   "id": "certified-parking",
   "metadata": {
    "id": "upset-return",
    "outputId": "412fb2a1-35b4-44ff-c970-39379f0af69a"
   },
   "outputs": [
    {
     "name": "stdout",
     "output_type": "stream",
     "text": [
      "[라이브러리 검정]\n",
      " 검정통계량 10.118, p-value 0.006\n"
     ]
    }
   ],
   "source": [
    "from scipy.stats import kruskal\n",
    "print(\"[라이브러리 검정]\")\n",
    "# nan_policy='omit'으로 설정하면 nan값은 제거하고 자동 계산\n",
    "stat, p = kruskal(table.values[0], table.values[1], table.values[2], nan_policy='omit')\n",
    "# 아래 방식으로도 적용 가능\n",
    "# stat, p = kruskal([v for v in table.values[0] if str(v) != 'nan'], \n",
    "#                  [v for v in table.values[1] if str(v) != 'nan'], \n",
    "#                  [v for v in table.values[2] if str(v) != 'nan'])\n",
    "print(\" 검정통계량 {:.3f}, p-value {:.3f}\".format(stat, p))\n",
    "\n",
    "## 검정 결과, 대립가설을 채택하며 적어도 한 쌍의 사람들의 성취도는 차이가 있다는 결론을 얻었다."
   ]
  },
  {
   "cell_type": "code",
   "execution_count": null,
   "id": "usual-norwegian",
   "metadata": {
    "id": "american-termination",
    "outputId": "a26dacfd-c27d-473d-be5f-98c6d67e4583"
   },
   "outputs": [
    {
     "name": "stdout",
     "output_type": "stream",
     "text": [
      "A-B: 검정통계량 1.358, p-value 0.175\n",
      "A-C: 검정통계량 -2.611, p-value 0.009***\n",
      "B-C: 검정통계량 -1.776, p-value 0.076\n"
     ]
    }
   ],
   "source": [
    "# [사후 검정] 모든 조합 별 윌콕슨 순위합 검정에서는 A-C의 조합에서 유의한 차이가 있는 것으로 나타났다.\n",
    "from itertools import combinations\n",
    "col_comp= list(combinations(table.index, 2))\n",
    "\n",
    "from pandas import crosstab\n",
    "from scipy.stats import ranksums\n",
    "for s1, s2 in col_comp:\n",
    "    stat, p = ranksums(table.loc[s1, :], table.loc[s2, :])\n",
    "    msg = \"{}-{}: 검정통계량 {:.3f}, p-value {:.3f}\".format(s1, s2, stat, p)\n",
    "    if p < 0.05:\n",
    "        print(msg + \"***\")\n",
    "    else:\n",
    "        print(msg)"
   ]
  },
  {
   "cell_type": "markdown",
   "id": "spread-third",
   "metadata": {
    "id": "handed-compensation"
   },
   "source": [
    "### - 프리드먼 검정: 프리드먼 검정표, 카이제곱분포"
   ]
  },
  {
   "cell_type": "code",
   "execution_count": null,
   "id": "caroline-apparel",
   "metadata": {
    "id": "urban-pharmaceutical",
    "outputId": "171e2562-1ed6-40e7-f373-e3833fda6b5a"
   },
   "outputs": [
    {
     "name": "stdout",
     "output_type": "stream",
     "text": [
      "[데이터 확인]\n",
      "   0  1  2\n",
      "A  4  2  5\n",
      "B  3  5  2\n",
      "C  5  4  4\n",
      "D  1  1  3\n"
     ]
    }
   ],
   "source": [
    "# 운전자 A, B, C, D의 운전 점수에 차이가 있는지 검정\n",
    "# H0: 네 운전자의 운전 점수는 차이가 없다.\n",
    "# H1: 적어도 한 쌍의 운전자의 운전 점수는 차이가 있다.\n",
    "from scipy.stats import friedmanchisquare\n",
    "table = DataFrame([[4,2,5], [3,5,2], [5,4,4], [1,1,3]], index=['A', 'B', 'C', 'D']) \n",
    "print(f\"[데이터 확인]\\n{table}\")"
   ]
  },
  {
   "cell_type": "code",
   "execution_count": null,
   "id": "excess-jacket",
   "metadata": {
    "id": "velvet-convertible",
    "outputId": "5def1c47-2d18-4f77-ea53-182d177ebf83"
   },
   "outputs": [
    {
     "name": "stdout",
     "output_type": "stream",
     "text": [
      "[수기 검정]\n",
      " 순위 계산표:\n",
      "     0    1    2\n",
      "A  2.0  3.0  1.0\n",
      "B  3.0  1.0  4.0\n",
      "C  1.0  2.0  2.0\n",
      "D  4.0  4.0  3.0\n"
     ]
    }
   ],
   "source": [
    "print(\"[수기 검정]\")\n",
    "srtable = table.rank(ascending=False)\n",
    "print(f\" 순위 계산표:\\n{srtable}\")"
   ]
  },
  {
   "cell_type": "code",
   "execution_count": null,
   "id": "bearing-buyer",
   "metadata": {
    "id": "under-stocks",
    "outputId": "a9eb81e6-eb65-42a7-a562-97b93b6ca380"
   },
   "outputs": [
    {
     "name": "stdout",
     "output_type": "stream",
     "text": [
      " 검정통계량: 4.200, p-value: 0.241\n"
     ]
    }
   ],
   "source": [
    "R = srtable.sum(axis=1).values #행 범주별 순위합\n",
    "n = table.shape[1] #열 범주별 데이터 개수: n이 3으로 소표본!\n",
    "k = table.shape[0] #행 범주 개수\n",
    "df = k-1 #행 범주 개수가 자유도\n",
    "\n",
    "# 가설 검정 (우측 검정)\n",
    "Q = 12/(n*k*(k+1)) * sum(R**2) -3*n*(k+1) #검정통계량 Q\n",
    "pval = 1-chi2.cdf(Q, df)\n",
    "print(' 검정통계량: {:.3f}, p-value: {:.3f}'.format(Q, pval))"
   ]
  },
  {
   "cell_type": "code",
   "execution_count": null,
   "id": "essential-highlight",
   "metadata": {
    "id": "personalized-great",
    "outputId": "c4bf0b76-e996-414f-d017-327f33d99404"
   },
   "outputs": [
    {
     "name": "stdout",
     "output_type": "stream",
     "text": [
      "[라이브러리 검정]\n",
      " 검정통계량 4.200, p-value 0.241\n"
     ]
    }
   ],
   "source": [
    "print(\"[라이브러리 검정]\")\n",
    "stat, p = friedmanchisquare(table.values[0], table.values[1], table.values[2], table.values[3])\n",
    "print(\" 검정통계량 {:.3f}, p-value {:.3f}\".format(stat, p))\n",
    "\n",
    "## 검정결과, 모든 운전자의 운전 점수는 차이가 없다는 결론을 얻었다."
   ]
  },
  {
   "cell_type": "code",
   "execution_count": null,
   "id": "indonesian-marshall",
   "metadata": {
    "id": "greenhouse-windows",
    "outputId": "2328cf0b-64f1-4bbf-e293-8b0890bea296"
   },
   "outputs": [
    {
     "name": "stdout",
     "output_type": "stream",
     "text": [
      "A-B: 검정통계량 2.500, p-value 1.000\n",
      "A-C: 검정통계량 1.500, p-value 0.500\n",
      "A-D: 검정통계량 0.000, p-value 0.250\n",
      "B-C: 검정통계량 1.000, p-value 0.500\n",
      "B-D: 검정통계량 1.000, p-value 0.500\n",
      "C-D: 검정통계량 0.000, p-value 0.250\n"
     ]
    }
   ],
   "source": [
    "# [사후 검정] 모든 조합 별 윌콕슨 부호순위 검정에서도 모든 쌍에서 유의한 차이가 없는 것으로 나타났다.\n",
    "from itertools import combinations\n",
    "col_comp= list(combinations(table.index, 2))\n",
    "\n",
    "from pandas import crosstab\n",
    "from scipy.stats import wilcoxon\n",
    "for s1, s2 in col_comp:\n",
    "    stat, p = wilcoxon(table.loc[s1, :], table.loc[s2, :], zero_method='wilcox')\n",
    "    msg = \"{}-{}: 검정통계량 {:.3f}, p-value {:.3f}\".format(s1, s2, stat, p)\n",
    "    if p < 0.05:\n",
    "        print(msg + \"***\")\n",
    "    else:\n",
    "        print(msg)"
   ]
  },
  {
   "cell_type": "markdown",
   "id": "united-nicholas",
   "metadata": {},
   "source": [
    "# 연습문제"
   ]
  },
  {
   "cell_type": "markdown",
   "id": "acoustic-major",
   "metadata": {},
   "source": [
    "### - 1번 문제 풀이"
   ]
  },
  {
   "cell_type": "code",
   "execution_count": 61,
   "id": "hazardous-lafayette",
   "metadata": {},
   "outputs": [
    {
     "name": "stdout",
     "output_type": "stream",
     "text": [
      "     A   B   C\n",
      "구분            \n",
      "찬성  50  60  65\n",
      "반대  45  32  55\n",
      "검정통계량 3.667, p-value 0.160\n"
     ]
    }
   ],
   "source": [
    "## 동질성 검정\n",
    "# 귀무가설: 동별 찬반 비율은 차이가 없다\n",
    "# 대립가설: 적어도 한쌍의 동의 찬반 비율은 차이가 있다\n",
    "from pandas import DataFrame\n",
    "table = DataFrame({\"구분\":['찬성', '반대'], 'A':[50, 45], 'B':[60, 32], 'C':[65, 55]}).set_index('구분')\n",
    "print(table)\n",
    "\n",
    "from scipy.stats import chi2_contingency\n",
    "chistat, p, df, expec = chi2_contingency(table, correction=False)\n",
    "print(\"검정통계량 {:.3f}, p-value {:.3f}\".format(chistat, p))\n",
    "# 유의확률이 유의수준 0.05보다 크기 때문에 귀무가설을 기각할 수 없다.\n",
    "# 즉, 동별 찬반 비율은 차이가 없다"
   ]
  },
  {
   "cell_type": "markdown",
   "id": "african-bernard",
   "metadata": {},
   "source": [
    "### - 2번 문제 풀이"
   ]
  },
  {
   "cell_type": "code",
   "execution_count": 70,
   "id": "induced-diamond",
   "metadata": {
    "tags": []
   },
   "outputs": [
    {
     "name": "stdout",
     "output_type": "stream",
     "text": [
      "        0  1  2  3  4\n",
      "before  1  1  1  0  1\n",
      "after   0  1  1  1  0\n"
     ]
    }
   ],
   "source": [
    "from pandas import read_csv\n",
    "data = read_csv('https://raw.githubusercontent.com/algoboni/pythoncodebook1-1/main/practice6_ba.csv', index_col=0)\n",
    "print(data.head(5).T)"
   ]
  },
  {
   "cell_type": "code",
   "execution_count": 71,
   "id": "premium-reach",
   "metadata": {},
   "outputs": [
    {
     "name": "stdout",
     "output_type": "stream",
     "text": [
      "after   0   1\n",
      "before       \n",
      "0       4  12\n",
      "1       9   6\n",
      "검정통계량 0.429, p-value 0.513\n"
     ]
    }
   ],
   "source": [
    "## 맥니마르 검정\n",
    "# 귀무가설: 캠페인 전후 지지 비율은 차이가 없다.\n",
    "# 대립가설: 캠페인 전후 지지지 비율은 차이가 있다.\n",
    "from pandas import read_csv, crosstab\n",
    "table = crosstab(data['before'], data['after'])\n",
    "print(table)\n",
    "from statsmodels.stats.contingency_tables import mcnemar\n",
    "mc = mcnemar(table, exact=False, correction=False) #correction=False: 카이제곱분포 사용\n",
    "print(\"검정통계량 {:.3f}, p-value {:.3f}\".format(mc.statistic, mc.pvalue))\n",
    "## 유의확률이 유의수준 0.05보다 크기 때문에 귀무가설을 기각할 수 없다.\n",
    "# 즉, 캠페인 전후 지지 비율은 차이가 없다."
   ]
  },
  {
   "cell_type": "markdown",
   "id": "continuous-atlantic",
   "metadata": {},
   "source": [
    "### - 3번 문제 풀이"
   ]
  },
  {
   "cell_type": "code",
   "execution_count": 72,
   "id": "stainless-collector",
   "metadata": {},
   "outputs": [
    {
     "name": "stdout",
     "output_type": "stream",
     "text": [
      "검정통계량 2.187, p-value 0.029\n"
     ]
    }
   ],
   "source": [
    "## 런검정\n",
    "# 귀무가설: T와 F는 무작위로 나열되었다.\n",
    "# 연구가설: T와 F는 무작위로 나열되지 않았다.\n",
    "TFlist = ['T','F','F','T','F','T','F','T','T','F','F','T','F','T','F','T','F','T']\n",
    "from statsmodels.sandbox.stats.runs import runstest_1samp\n",
    "data = list(map(lambda x: 0 if x =='F' else 1, TFlist))\n",
    "zstat, p = runstest_1samp(data)\n",
    "print(\"검정통계량 {:.3f}, p-value {:.3f}\".format(zstat, p))\n",
    "## 유의확률이 유의수준 0.05보다 작기 때문에 귀무가설을 기각할 수 있다.\n",
    "# 즉, T와 F는 무작위로 나열되지 않았다."
   ]
  },
  {
   "cell_type": "markdown",
   "id": "acoustic-oriental",
   "metadata": {},
   "source": [
    "### - 4번 문제 풀이"
   ]
  },
  {
   "cell_type": "code",
   "execution_count": 75,
   "id": "arranged-anxiety",
   "metadata": {},
   "outputs": [
    {
     "name": "stdout",
     "output_type": "stream",
     "text": [
      "순위합 검정통계량 69.5 or 101.5\n",
      "만위트니 검정통계량 14.5 or 65.5\n",
      "검정통계량 14.5, p-value 0.013\n"
     ]
    }
   ],
   "source": [
    "## 윌콕슨 순위합 검정 (만위트니 검정)\n",
    "# 귀무가설: 20대와 30대가 기대하는 연봉상승률은 차이가 없다.\n",
    "# 대립가설: 20대가 기대하는 연봉상승률은 30대가 기대하는 연봉상승률보다 더 낮다.\n",
    "A = [3.0, 3.5, 2.0, 2.8, 5.0, 0, 2.3, 2.8, 3.3, 3.5] #20대\n",
    "B = [3.5, 5.5, 5.0, 5.0, 10.0, 8.0, 2.5, 3.0 ] #30대\n",
    "import numpy as np\n",
    "n1, n2 = len(A), len(B)\n",
    "M1, M2 = np.median(A), np.median(B)\n",
    "from pandas import DataFrame, concat\n",
    "table1 = DataFrame(A, columns = ['data'])\n",
    "table1['M'] = M1\n",
    "table2 = DataFrame(B, columns = ['data'])\n",
    "table2['M'] = M2\n",
    "table = concat([table1, table2])\n",
    "table['rank'] = table['data'].rank(method='average') # 순위합 계산표\n",
    "W1 = table.query(\"M==@M1\")['rank'].sum()\n",
    "W2 = table.query(\"M==@M2\")['rank'].sum()\n",
    "U1 = W1 - n1*(n1+1)/2\n",
    "U2 = W2 - n2*(n2+1)/2\n",
    "print(\"순위합 검정통계량 {} or {}\".format(W1, W2))\n",
    "print(\"만위트니 검정통계량 {} or {}\".format(U1, U2))\n",
    "\n",
    "from scipy.stats import mannwhitneyu\n",
    "mstat, p = mannwhitneyu(A, B, alternative='less')\n",
    "print(\"검정통계량 {:.1f}, p-value {:.3f}\".format(mstat, p))\n",
    "## 유의확률이 유의수준보다 작으므로 귀무가설을 기각할 수 있다.\n",
    "# 20대가 기대하는 연봉상승률은 30대가 기대하는 연봉상승률보다 더 낮다."
   ]
  },
  {
   "cell_type": "markdown",
   "id": "identical-prefix",
   "metadata": {},
   "source": [
    "### - 5번 문제 풀이"
   ]
  },
  {
   "cell_type": "code",
   "execution_count": 30,
   "id": "acceptable-birth",
   "metadata": {},
   "outputs": [
    {
     "name": "stdout",
     "output_type": "stream",
     "text": [
      "검정통계량 2.667, p-value 0.264\n"
     ]
    }
   ],
   "source": [
    "## 프리드먼 검정\n",
    "# 귀무가설: 음식 종류에 대한 선호도는 차이가 없다.\n",
    "# 연구가설: 적어도 한쌍의 음식 종류에 대한 선호도는 차이가 있다.\n",
    "\n",
    "W = [1,3,1,3,1]\n",
    "K = [1,3,3,1,1]\n",
    "C = [2,3,3,3,1]\n",
    "\n",
    "from scipy.stats import friedmanchisquare\n",
    "fstat, p = friedmanchisquare(W, K, C)\n",
    "print(\"검정통계량 {:.3f}, p-value {:.3f}\".format(fstat, p))\n",
    "## 유의확률이 유의수준 0.05보다 크기 때문에 귀무가설을 기각할 수 없다.\n",
    "# 즉, 음식 종류에 대한 선호도는 차이가 없다."
   ]
  },
  {
   "cell_type": "markdown",
   "id": "color-worst",
   "metadata": {},
   "source": [
    "### - 6번 문제 풀이"
   ]
  },
  {
   "cell_type": "code",
   "execution_count": 47,
   "id": "municipal-checklist",
   "metadata": {},
   "outputs": [
    {
     "name": "stdout",
     "output_type": "stream",
     "text": [
      "검정통계량 1.331, p-value 0.514\n"
     ]
    }
   ],
   "source": [
    "## 크루스컬 월리스 검정\n",
    "# 귀무가설: 세 지역 학생들의 키는 차이가 없다.\n",
    "# 대립가설: 적어도 한쌍의 지역 학생들의 키는 차이가 있다.\n",
    "\n",
    "A = [177, 167, 188, 189, 152, 159, 184, 175]\n",
    "B = [151, 177, 150, 187, 167, 166, 179, 161, 174]\n",
    "C = [173, 151, 156, 182, 188, 175, 150, 165, 176, 183]\n",
    "\n",
    "from scipy.stats import kruskal\n",
    "kstat, p = kruskal(A, B, C)\n",
    "print(\"검정통계량 {:.3f}, p-value {:.3f}\".format(kstat, p))\n",
    "# 유의확률이 유의수준보다 높으므로 귀무가설을 기각할 수 없다.\n",
    "# 즉, 세 지역 학생들의 키는 차이가 없다."
   ]
  }
 ],
 "metadata": {
  "colab": {
   "provenance": []
  },
  "kernelspec": {
   "display_name": "Python 3",
   "language": "python",
   "name": "python3"
  },
  "language_info": {
   "codemirror_mode": {
    "name": "ipython",
    "version": 3
   },
   "file_extension": ".py",
   "mimetype": "text/x-python",
   "name": "python",
   "nbconvert_exporter": "python",
   "pygments_lexer": "ipython3",
   "version": "3.8.8"
  },
  "toc-showtags": true
 },
 "nbformat": 4,
 "nbformat_minor": 5
}
